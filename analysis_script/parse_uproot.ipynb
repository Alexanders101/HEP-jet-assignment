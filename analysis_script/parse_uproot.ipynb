{
 "cells": [
  {
   "cell_type": "code",
   "execution_count": 2,
   "metadata": {},
   "outputs": [],
   "source": [
    "import uproot\n",
    "import pandas as pd \n",
    "import numpy as np \n",
    "from particle_properties import particle_properties\n",
    "from jet_properties import jet_properties\n"
   ]
  },
  {
   "cell_type": "code",
   "execution_count": 4,
   "metadata": {
    "tags": [
     "outputPrepend",
     "outputPrepend"
    ]
   },
   "outputs": [
    {
     "output_type": "stream",
     "name": "stdout",
     "text": "treamerBasicType         asjagged(asdtype('>u4'))\nTower.fBits                TStreamerBasicType         asjagged(asdtype('>u4'))\nTower.ET                   TStreamerBasicType         asjagged(asdtype('>f4'))\nTower.Eta                  TStreamerBasicType         asjagged(asdtype('>f4'))\nTower.Phi                  TStreamerBasicType         asjagged(asdtype('>f4'))\nTower.E                    TStreamerBasicType         asjagged(asdtype('>f4'))\nTower.T                    TStreamerBasicType         asjagged(asdtype('>f4'))\nTower.NTimeHits            TStreamerBasicType         asjagged(asdtype('>i4'))\nTower.Eem                  TStreamerBasicType         asjagged(asdtype('>f4'))\nTower.Ehad                 TStreamerBasicType         asjagged(asdtype('>f4'))\nTower.Edges[4]             TStreamerBasicType         asjagged(asdtype(\"('>f4', (4,))\"))\nTower.Particles            TStreamerInfo              asgenobj(SimpleArray(TRefArray))\n\nTower_size                 (no streamer)              asdtype('>i4')\nEFlowTrack                 TStreamerInfo              asdtype('>i4')\nEFlowTrack.fUniqueID       TStreamerBasicType         asjagged(asdtype('>u4'))\nEFlowTrack.fBits           TStreamerBasicType         asjagged(asdtype('>u4'))\nEFlowTrack.PID             TStreamerBasicType         asjagged(asdtype('>i4'))\nEFlowTrack.Charge          TStreamerBasicType         asjagged(asdtype('>i4'))\nEFlowTrack.P               TStreamerBasicType         asjagged(asdtype('>f4'))\nEFlowTrack.PT              TStreamerBasicType         asjagged(asdtype('>f4'))\nEFlowTrack.Eta             TStreamerBasicType         asjagged(asdtype('>f4'))\nEFlowTrack.Phi             TStreamerBasicType         asjagged(asdtype('>f4'))\nEFlowTrack.CtgTheta        TStreamerBasicType         asjagged(asdtype('>f4'))\nEFlowTrack.EtaOuter        TStreamerBasicType         asjagged(asdtype('>f4'))\nEFlowTrack.PhiOuter        TStreamerBasicType         asjagged(asdtype('>f4'))\nEFlowTrack.T               TStreamerBasicType         asjagged(asdtype('>f4'))\nEFlowTrack.X               TStreamerBasicType         asjagged(asdtype('>f4'))\nEFlowTrack.Y               TStreamerBasicType         asjagged(asdtype('>f4'))\nEFlowTrack.Z               TStreamerBasicType         asjagged(asdtype('>f4'))\nEFlowTrack.TOuter          TStreamerBasicType         asjagged(asdtype('>f4'))\nEFlowTrack.XOuter          TStreamerBasicType         asjagged(asdtype('>f4'))\nEFlowTrack.YOuter          TStreamerBasicType         asjagged(asdtype('>f4'))\nEFlowTrack.ZOuter          TStreamerBasicType         asjagged(asdtype('>f4'))\nEFlowTrack.Xd              TStreamerBasicType         asjagged(asdtype('>f4'))\nEFlowTrack.Yd              TStreamerBasicType         asjagged(asdtype('>f4'))\nEFlowTrack.Zd              TStreamerBasicType         asjagged(asdtype('>f4'))\nEFlowTrack.L               TStreamerBasicType         asjagged(asdtype('>f4'))\nEFlowTrack.D0              TStreamerBasicType         asjagged(asdtype('>f4'))\nEFlowTrack.DZ              TStreamerBasicType         asjagged(asdtype('>f4'))\nEFlowTrack.ErrorP          TStreamerBasicType         asjagged(asdtype('>f4'))\nEFlowTrack.ErrorPT         TStreamerBasicType         asjagged(asdtype('>f4'))\nEFlowTrack.ErrorPhi        TStreamerBasicType         asjagged(asdtype('>f4'))\nEFlowTrack.ErrorCtgTheta   TStreamerBasicType         asjagged(asdtype('>f4'))\nEFlowTrack.ErrorT          TStreamerBasicType         asjagged(asdtype('>f4'))\nEFlowTrack.ErrorD0         TStreamerBasicType         asjagged(asdtype('>f4'))\nEFlowTrack.ErrorDZ         TStreamerBasicType         asjagged(asdtype('>f4'))\nEFlowTrack.Particle        TStreamerInfo              asjagged(asobj(<uproot.rootio.TRef>))\nEFlowTrack.VertexIndex     TStreamerBasicType         asjagged(asdtype('>i4'))\n\nEFlowTrack_size            (no streamer)              asdtype('>i4')\nEFlowPhoton                TStreamerInfo              asdtype('>i4')\nEFlowPhoton.fUniqueID      TStreamerBasicType         asjagged(asdtype('>u4'))\nEFlowPhoton.fBits          TStreamerBasicType         asjagged(asdtype('>u4'))\nEFlowPhoton.ET             TStreamerBasicType         asjagged(asdtype('>f4'))\nEFlowPhoton.Eta            TStreamerBasicType         asjagged(asdtype('>f4'))\nEFlowPhoton.Phi            TStreamerBasicType         asjagged(asdtype('>f4'))\nEFlowPhoton.E              TStreamerBasicType         asjagged(asdtype('>f4'))\nEFlowPhoton.T              TStreamerBasicType         asjagged(asdtype('>f4'))\nEFlowPhoton.NTimeHits      TStreamerBasicType         asjagged(asdtype('>i4'))\nEFlowPhoton.Eem            TStreamerBasicType         asjagged(asdtype('>f4'))\nEFlowPhoton.Ehad           TStreamerBasicType         asjagged(asdtype('>f4'))\nEFlowPhoton.Edges[4]       TStreamerBasicType         asjagged(asdtype(\"('>f4', (4,))\"))\nEFlowPhoton.Particles      TStreamerInfo              asgenobj(SimpleArray(TRefArray))\n\nEFlowPhoton_size           (no streamer)              asdtype('>i4')\nEFlowNeutralHadron         TStreamerInfo              asdtype('>i4')\nEFlowNeutralHadron.fUniqueID\n                           TStreamerBasicType         asjagged(asdtype('>u4'))\nEFlowNeutralHadron.fBits   TStreamerBasicType         asjagged(asdtype('>u4'))\nEFlowNeutralHadron.ET      TStreamerBasicType         asjagged(asdtype('>f4'))\nEFlowNeutralHadron.Eta     TStreamerBasicType         asjagged(asdtype('>f4'))\nEFlowNeutralHadron.Phi     TStreamerBasicType         asjagged(asdtype('>f4'))\nEFlowNeutralHadron.E       TStreamerBasicType         asjagged(asdtype('>f4'))\nEFlowNeutralHadron.T       TStreamerBasicType         asjagged(asdtype('>f4'))\nEFlowNeutralHadron.NTimeHits\n                           TStreamerBasicType         asjagged(asdtype('>i4'))\nEFlowNeutralHadron.Eem     TStreamerBasicType         asjagged(asdtype('>f4'))\nEFlowNeutralHadron.Ehad    TStreamerBasicType         asjagged(asdtype('>f4'))\nEFlowNeutralHadron.Edges[4]\n                           TStreamerBasicType         asjagged(asdtype(\"('>f4', (4,))\"))\nEFlowNeutralHadron.Particles\n                           TStreamerInfo              asgenobj(SimpleArray(TRefArray))\n\nEFlowNeutralHadron_size    (no streamer)              asdtype('>i4')\nGenJet                     TStreamerInfo              asdtype('>i4')\nGenJet.fUniqueID           TStreamerBasicType         asjagged(asdtype('>u4'))\nGenJet.fBits               TStreamerBasicType         asjagged(asdtype('>u4'))\nGenJet.PT                  TStreamerBasicType         asjagged(asdtype('>f4'))\nGenJet.Eta                 TStreamerBasicType         asjagged(asdtype('>f4'))\nGenJet.Phi                 TStreamerBasicType         asjagged(asdtype('>f4'))\nGenJet.T                   TStreamerBasicType         asjagged(asdtype('>f4'))\nGenJet.Mass                TStreamerBasicType         asjagged(asdtype('>f4'))\nGenJet.DeltaEta            TStreamerBasicType         asjagged(asdtype('>f4'))\nGenJet.DeltaPhi            TStreamerBasicType         asjagged(asdtype('>f4'))\nGenJet.Flavor              TStreamerBasicType         asjagged(asdtype('>u4'))\nGenJet.FlavorAlgo          TStreamerBasicType         asjagged(asdtype('>u4'))\nGenJet.FlavorPhys          TStreamerBasicType         asjagged(asdtype('>u4'))\nGenJet.BTag                TStreamerBasicType         asjagged(asdtype('>u4'))\nGenJet.BTagAlgo            TStreamerBasicType         asjagged(asdtype('>u4'))\nGenJet.BTagPhys            TStreamerBasicType         asjagged(asdtype('>u4'))\nGenJet.TauTag              TStreamerBasicType         asjagged(asdtype('>u4'))\nGenJet.TauWeight           TStreamerBasicType         asjagged(asdtype('>f4'))\nGenJet.Charge              TStreamerBasicType         asjagged(asdtype('>i4'))\nGenJet.EhadOverEem         TStreamerBasicType         asjagged(asdtype('>f4'))\nGenJet.NCharged            TStreamerBasicType         asjagged(asdtype('>i4'))\nGenJet.NNeutrals           TStreamerBasicType         asjagged(asdtype('>i4'))\nGenJet.Beta                TStreamerBasicType         asjagged(asdtype('>f4'))\nGenJet.BetaStar            TStreamerBasicType         asjagged(asdtype('>f4'))\nGenJet.MeanSqDeltaR        TStreamerBasicType         asjagged(asdtype('>f4'))\nGenJet.PTD                 TStreamerBasicType         asjagged(asdtype('>f4'))\nGenJet.FracPt[5]           TStreamerBasicType         asjagged(asdtype(\"('>f4', (5,))\"))\nGenJet.Tau[5]              TStreamerBasicType         asjagged(asdtype(\"('>f4', (5,))\"))\nGenJet.SoftDroppedJet      TStreamerInfo              asjagged(asobj(<uproot_methods.classes.TLorentzVector.Methods>))\nGenJet.SoftDroppedSubJet1  TStreamerInfo              asjagged(asobj(<uproot_methods.classes.TLorentzVector.Methods>))\nGenJet.SoftDroppedSubJet2  TStreamerInfo              asjagged(asobj(<uproot_methods.classes.TLorentzVector.Methods>))\nGenJet.TrimmedP4[5]        TStreamerInfo              asjagged(asobj(<uproot_methods.classes.TLorentzVector.Methods>))\nGenJet.PrunedP4[5]         TStreamerInfo              asjagged(asobj(<uproot_methods.classes.TLorentzVector.Methods>))\nGenJet.SoftDroppedP4[5]    TStreamerInfo              asjagged(asobj(<uproot_methods.classes.TLorentzVector.Methods>))\nGenJet.NSubJetsTrimmed     TStreamerBasicType         asjagged(asdtype('>i4'))\nGenJet.NSubJetsPruned      TStreamerBasicType         asjagged(asdtype('>i4'))\nGenJet.NSubJetsSoftDropped TStreamerBasicType         asjagged(asdtype('>i4'))\nGenJet.ExclYmerge23        TStreamerBasicType         asjagged(asdtype('>f8'))\nGenJet.ExclYmerge34        TStreamerBasicType         asjagged(asdtype('>f8'))\nGenJet.ExclYmerge45        TStreamerBasicType         asjagged(asdtype('>f8'))\nGenJet.ExclYmerge56        TStreamerBasicType         asjagged(asdtype('>f8'))\nGenJet.Constituents        TStreamerInfo              asgenobj(SimpleArray(TRefArray))\nGenJet.Particles           TStreamerInfo              asgenobj(SimpleArray(TRefArray))\nGenJet.Area                TStreamerInfo              asjagged(asobj(<uproot_methods.classes.TLorentzVector.Methods>))\n\nGenJet_size                (no streamer)              asdtype('>i4')\nGenMissingET               TStreamerInfo              asdtype('>i4')\nGenMissingET.fUniqueID     TStreamerBasicType         asjagged(asdtype('>u4'))\nGenMissingET.fBits         TStreamerBasicType         asjagged(asdtype('>u4'))\nGenMissingET.MET           TStreamerBasicType         asjagged(asdtype('>f4'))\nGenMissingET.Eta           TStreamerBasicType         asjagged(asdtype('>f4'))\nGenMissingET.Phi           TStreamerBasicType         asjagged(asdtype('>f4'))\n\nGenMissingET_size          (no streamer)              asdtype('>i4')\nJet                        TStreamerInfo              asdtype('>i4')\nJet.fUniqueID              TStreamerBasicType         asjagged(asdtype('>u4'))\nJet.fBits                  TStreamerBasicType         asjagged(asdtype('>u4'))\nJet.PT                     TStreamerBasicType         asjagged(asdtype('>f4'))\nJet.Eta                    TStreamerBasicType         asjagged(asdtype('>f4'))\nJet.Phi                    TStreamerBasicType         asjagged(asdtype('>f4'))\nJet.T                      TStreamerBasicType         asjagged(asdtype('>f4'))\nJet.Mass                   TStreamerBasicType         asjagged(asdtype('>f4'))\nJet.DeltaEta               TStreamerBasicType         asjagged(asdtype('>f4'))\nJet.DeltaPhi               TStreamerBasicType         asjagged(asdtype('>f4'))\nJet.Flavor                 TStreamerBasicType         asjagged(asdtype('>u4'))\nJet.FlavorAlgo             TStreamerBasicType         asjagged(asdtype('>u4'))\nJet.FlavorPhys             TStreamerBasicType         asjagged(asdtype('>u4'))\nJet.BTag                   TStreamerBasicType         asjagged(asdtype('>u4'))\nJet.BTagAlgo               TStreamerBasicType         asjagged(asdtype('>u4'))\nJet.BTagPhys               TStreamerBasicType         asjagged(asdtype('>u4'))\nJet.TauTag                 TStreamerBasicType         asjagged(asdtype('>u4'))\nJet.TauWeight              TStreamerBasicType         asjagged(asdtype('>f4'))\nJet.Charge                 TStreamerBasicType         asjagged(asdtype('>i4'))\nJet.EhadOverEem            TStreamerBasicType         asjagged(asdtype('>f4'))\nJet.NCharged               TStreamerBasicType         asjagged(asdtype('>i4'))\nJet.NNeutrals              TStreamerBasicType         asjagged(asdtype('>i4'))\nJet.Beta                   TStreamerBasicType         asjagged(asdtype('>f4'))\nJet.BetaStar               TStreamerBasicType         asjagged(asdtype('>f4'))\nJet.MeanSqDeltaR           TStreamerBasicType         asjagged(asdtype('>f4'))\nJet.PTD                    TStreamerBasicType         asjagged(asdtype('>f4'))\nJet.FracPt[5]              TStreamerBasicType         asjagged(asdtype(\"('>f4', (5,))\"))\nJet.Tau[5]                 TStreamerBasicType         asjagged(asdtype(\"('>f4', (5,))\"))\nJet.SoftDroppedJet         TStreamerInfo              asjagged(asobj(<uproot_methods.classes.TLorentzVector.Methods>))\nJet.SoftDroppedSubJet1     TStreamerInfo              asjagged(asobj(<uproot_methods.classes.TLorentzVector.Methods>))\nJet.SoftDroppedSubJet2     TStreamerInfo              asjagged(asobj(<uproot_methods.classes.TLorentzVector.Methods>))\nJet.TrimmedP4[5]           TStreamerInfo              asjagged(asobj(<uproot_methods.classes.TLorentzVector.Methods>))\nJet.PrunedP4[5]            TStreamerInfo              asjagged(asobj(<uproot_methods.classes.TLorentzVector.Methods>))\nJet.SoftDroppedP4[5]       TStreamerInfo              asjagged(asobj(<uproot_methods.classes.TLorentzVector.Methods>))\nJet.NSubJetsTrimmed        TStreamerBasicType         asjagged(asdtype('>i4'))\nJet.NSubJetsPruned         TStreamerBasicType         asjagged(asdtype('>i4'))\nJet.NSubJetsSoftDropped    TStreamerBasicType         asjagged(asdtype('>i4'))\nJet.ExclYmerge23           TStreamerBasicType         asjagged(asdtype('>f8'))\nJet.ExclYmerge34           TStreamerBasicType         asjagged(asdtype('>f8'))\nJet.ExclYmerge45           TStreamerBasicType         asjagged(asdtype('>f8'))\nJet.ExclYmerge56           TStreamerBasicType         asjagged(asdtype('>f8'))\nJet.Constituents           TStreamerInfo              asgenobj(SimpleArray(TRefArray))\nJet.Particles              TStreamerInfo              asgenobj(SimpleArray(TRefArray))\nJet.Area                   TStreamerInfo              asjagged(asobj(<uproot_methods.classes.TLorentzVector.Methods>))\n\nJet_size                   (no streamer)              asdtype('>i4')\nElectron                   TStreamerInfo              asdtype('>i4')\nElectron.fUniqueID         TStreamerBasicType         asjagged(asdtype('>u4'))\nElectron.fBits             TStreamerBasicType         asjagged(asdtype('>u4'))\nElectron.PT                TStreamerBasicType         asjagged(asdtype('>f4'))\nElectron.Eta               TStreamerBasicType         asjagged(asdtype('>f4'))\nElectron.Phi               TStreamerBasicType         asjagged(asdtype('>f4'))\nElectron.T                 TStreamerBasicType         asjagged(asdtype('>f4'))\nElectron.Charge            TStreamerBasicType         asjagged(asdtype('>i4'))\nElectron.EhadOverEem       TStreamerBasicType         asjagged(asdtype('>f4'))\nElectron.Particle          TStreamerInfo              asjagged(asobj(<uproot.rootio.TRef>))\nElectron.IsolationVar      TStreamerBasicType         asjagged(asdtype('>f4'))\nElectron.IsolationVarRhoCorr\n                           TStreamerBasicType         asjagged(asdtype('>f4'))\nElectron.SumPtCharged      TStreamerBasicType         asjagged(asdtype('>f4'))\nElectron.SumPtNeutral      TStreamerBasicType         asjagged(asdtype('>f4'))\nElectron.SumPtChargedPU    TStreamerBasicType         asjagged(asdtype('>f4'))\nElectron.SumPt             TStreamerBasicType         asjagged(asdtype('>f4'))\nElectron.D0                TStreamerBasicType         asjagged(asdtype('>f4'))\nElectron.DZ                TStreamerBasicType         asjagged(asdtype('>f4'))\nElectron.ErrorD0           TStreamerBasicType         asjagged(asdtype('>f4'))\nElectron.ErrorDZ           TStreamerBasicType         asjagged(asdtype('>f4'))\n\nElectron_size              (no streamer)              asdtype('>i4')\nPhoton                     TStreamerInfo              asdtype('>i4')\nPhoton.fUniqueID           TStreamerBasicType         asjagged(asdtype('>u4'))\nPhoton.fBits               TStreamerBasicType         asjagged(asdtype('>u4'))\nPhoton.PT                  TStreamerBasicType         asjagged(asdtype('>f4'))\nPhoton.Eta                 TStreamerBasicType         asjagged(asdtype('>f4'))\nPhoton.Phi                 TStreamerBasicType         asjagged(asdtype('>f4'))\nPhoton.E                   TStreamerBasicType         asjagged(asdtype('>f4'))\nPhoton.T                   TStreamerBasicType         asjagged(asdtype('>f4'))\nPhoton.EhadOverEem         TStreamerBasicType         asjagged(asdtype('>f4'))\nPhoton.Particles           TStreamerInfo              asgenobj(SimpleArray(TRefArray))\nPhoton.IsolationVar        TStreamerBasicType         asjagged(asdtype('>f4'))\nPhoton.IsolationVarRhoCorr TStreamerBasicType         asjagged(asdtype('>f4'))\nPhoton.SumPtCharged        TStreamerBasicType         asjagged(asdtype('>f4'))\nPhoton.SumPtNeutral        TStreamerBasicType         asjagged(asdtype('>f4'))\nPhoton.SumPtChargedPU      TStreamerBasicType         asjagged(asdtype('>f4'))\nPhoton.SumPt               TStreamerBasicType         asjagged(asdtype('>f4'))\nPhoton.Status              TStreamerBasicType         asjagged(asdtype('>i4'))\n\nPhoton_size                (no streamer)              asdtype('>i4')\nMuon                       TStreamerInfo              asdtype('>i4')\nMuon.fUniqueID             TStreamerBasicType         asjagged(asdtype('>u4'))\nMuon.fBits                 TStreamerBasicType         asjagged(asdtype('>u4'))\nMuon.PT                    TStreamerBasicType         asjagged(asdtype('>f4'))\nMuon.Eta                   TStreamerBasicType         asjagged(asdtype('>f4'))\nMuon.Phi                   TStreamerBasicType         asjagged(asdtype('>f4'))\nMuon.T                     TStreamerBasicType         asjagged(asdtype('>f4'))\nMuon.Charge                TStreamerBasicType         asjagged(asdtype('>i4'))\nMuon.Particle              TStreamerInfo              asjagged(asobj(<uproot.rootio.TRef>))\nMuon.IsolationVar          TStreamerBasicType         asjagged(asdtype('>f4'))\nMuon.IsolationVarRhoCorr   TStreamerBasicType         asjagged(asdtype('>f4'))\nMuon.SumPtCharged          TStreamerBasicType         asjagged(asdtype('>f4'))\nMuon.SumPtNeutral          TStreamerBasicType         asjagged(asdtype('>f4'))\nMuon.SumPtChargedPU        TStreamerBasicType         asjagged(asdtype('>f4'))\nMuon.SumPt                 TStreamerBasicType         asjagged(asdtype('>f4'))\nMuon.D0                    TStreamerBasicType         asjagged(asdtype('>f4'))\nMuon.DZ                    TStreamerBasicType         asjagged(asdtype('>f4'))\nMuon.ErrorD0               TStreamerBasicType         asjagged(asdtype('>f4'))\nMuon.ErrorDZ               TStreamerBasicType         asjagged(asdtype('>f4'))\n\nMuon_size                  (no streamer)              asdtype('>i4')\nMissingET                  TStreamerInfo              asdtype('>i4')\nMissingET.fUniqueID        TStreamerBasicType         asjagged(asdtype('>u4'))\nMissingET.fBits            TStreamerBasicType         asjagged(asdtype('>u4'))\nMissingET.MET              TStreamerBasicType         asjagged(asdtype('>f4'))\nMissingET.Eta              TStreamerBasicType         asjagged(asdtype('>f4'))\nMissingET.Phi              TStreamerBasicType         asjagged(asdtype('>f4'))\n\nMissingET_size             (no streamer)              asdtype('>i4')\nScalarHT                   TStreamerInfo              asdtype('>i4')\nScalarHT.fUniqueID         TStreamerBasicType         asjagged(asdtype('>u4'))\nScalarHT.fBits             TStreamerBasicType         asjagged(asdtype('>u4'))\nScalarHT.HT                TStreamerBasicType         asjagged(asdtype('>f4'))\n\nScalarHT_size              (no streamer)              asdtype('>i4')\n1008 1008 1008\n"
    }
   ],
   "source": [
    "data  = uproot.open('./tag_1_delphes_events.root')['Delphes']\n",
    "data.show()\n",
    "\n",
    "particle = particle_properties(data)\n",
    "\n",
    "Length = len(particle.event)\n",
    "test_length = 10\n",
    "\n",
    "PID_W_plus = 24 \n",
    "PID_W_minus = -24\n",
    "PID_DOWN = 1\n",
    "PID_DOWN_VAR = -1\n",
    "PID_UP = 2\n",
    "PID_UP_BAR = -2\n",
    "PID_STRANGE = 3\n",
    "PID_STRANGE_BAR = -3\n",
    "PID_CHARM = 4\n",
    "PID_CHARM_BAR = -4\n",
    "PID_BOTTOM = 5\n",
    "PID_BOTTOM_BAR = -5\n",
    "PID_TOP = 6\n",
    "PID_TOP_BAR = -6\n",
    "\n",
    "top_idx = np.zeros(len(particle.event))\n",
    "top_daughter_idx_1 = np.zeros(len(particle.event))\n",
    "top_daughter_pid_1 = np.zeros(len(particle.event))\n",
    "top_daughter_idx_2 = np.zeros(len(particle.event))\n",
    "top_daughter_pid_2 = np.zeros(len(particle.event))\n",
    "\n",
    "top_bar_idx = np.zeros(len(particle.event))\n",
    "top_bar_daughter_idx_1 = np.zeros(len(particle.event))\n",
    "top_bar_daughter_pid_1 = np.zeros(len(particle.event))\n",
    "top_bar_daughter_idx_2 = np.zeros(len(particle.event))\n",
    "top_bar_daughter_pid_2 = np.zeros(len(particle.event))\n",
    "\n",
    "W_plus_idx = np.zeros(len(particle.event))\n",
    "W_minus_idx = np.zeros(len(particle.event))\n",
    "\n",
    "b_quark = np.zeros(len(particle.event))\n",
    "b_bar_quark = np.zeros(len(particle.event))\n",
    "\n",
    "quark_idx_1 = np.zeros(len(particle.event))\n",
    "quark_idx_2 = np.zeros(len(particle.event))\n",
    "quark_idx_3 = np.zeros(len(particle.event))\n",
    "quark_idx_4 = np.zeros(len(particle.event))"
   ]
  },
  {
   "cell_type": "code",
   "execution_count": null,
   "metadata": {},
   "outputs": [],
   "source": [
    "for i in range(0,10):\n",
    "    top_idx[i], top_daughter_idx_1[i], top_daughter_pid_1[i], top_daughter_idx_2[i], top_daughter_pid_2[i] = particle_tracing(particle.dataframelize(i), PID_TOP, 22)\n",
    "    top_bar_idx[i], top_bar_daughter_idx_1[i], top_bar_daughter_pid_1[i], top_bar_daughter_idx_2[i], top_bar_daughter_pid_2[i] = particle_tracing(particle.dataframelize(i), PID_TOP_BAR, 22)\n"
   ]
  },
  {
   "cell_type": "code",
   "execution_count": null,
   "metadata": {},
   "outputs": [],
   "source": [
    "#Input two daughter of top/top_bar and find their daughter\n",
    "def quark_finder(dataset, mother_idx_1, mother_idx_2):\n",
    "    \n",
    "    #Specific two daughter of top\n",
    "    def W_b_specifier(dataset, input_1_idx, input_2_idx):\n",
    "        if dataset.iloc[int(input_1_idx),6] == PID_W_plus or dataset.iloc[int(input_1_idx),6] == PID_W_minus :\n",
    "            return int(input_1_idx), int(dataset.iloc[int(input_1_idx),6]), int(input_2_idx)\n",
    "        elif dataset.iloc[int(input_1_idx),6] == PID_BOTTOM or dataset.iloc[int(input_1_idx),6] == PID_BOTTOM_BAR :\n",
    "            return  int(input_2_idx), int(dataset.iloc[int(input_1_idx),6]), int(input_1_idx)\n",
    "        else :\n",
    "            print(\"Please check your data.\")\n",
    "    \n",
    "    W_boson_idx, mother_pid, b_quark_idx = W_b_specifier(dataset, mother_idx_1, mother_idx_2)\n",
    "    \n",
    "    #Find the two daughters of boson\n",
    "    \n",
    "    daughter_1_idx = dataset.iloc[W_boson_idx, 4]\n",
    "    daughter_1_pid = dataset.iloc[daughter_1_idx, 6]\n",
    "    daughter_2_idx = dataset.iloc[W_boson_idx, 5]\n",
    "    daughter_2_pid = dataset.iloc[daughter_2_idx, 6]\n",
    "\n",
    "    \n",
    "    if daughter_1_pid == mother_pid and daughter_2_pid == mother_pid:\n",
    "        init_idx = W_boson_idx\n",
    "        while daughter_1_pid == mother_pid:\n",
    "            daughter_1_idx = dataset.iloc[int(init_idx), 4]\n",
    "            daughter_1_pid = dataset.iloc[int(daughter_1_idx), 6]\n",
    "            init_idx = daughter_1_idx\n",
    "            print(\"Temporary daughter 1 indxe: {0}, PID: {1}\".format(daughter_1_idx, daughter_1_pid))\n",
    "        init_idx = W_boson_idx\n",
    "        while daughter_2_pid == mother_pid:\n",
    "            daughter_2_idx = dataset.iloc[int(init_idx), 5]\n",
    "            daughter_2_pid = dataset.iloc[int(daughter_2_idx), 6]\n",
    "            init_idx = daughter_2_idx\n",
    "            print(\"Temporary daughter 2 indxe: {0}, PID: {1}\".format(daughter_2_idx, daughter_2_pid))\n",
    "    \n",
    "    print(\"Found daughter 1 index: {0}, PID: {1}.\\nFound daughter 2 index: {2}, PID: {3}\".format(daughter_1_idx, daughter_1_pid, daughter_2_idx, daughter_2_pid))\n",
    "    return W_boson_idx, b_quark_idx, daughter_1_idx, daughter_2_idx"
   ]
  },
  {
   "cell_type": "code",
   "execution_count": null,
   "metadata": {},
   "outputs": [],
   "source": [
    "#df0 = particle.dataframelize(0)\n",
    "#df1 = particle.dataframelize(1)\n",
    "#df2 = particle.dataframelize(2)"
   ]
  },
  {
   "cell_type": "code",
   "execution_count": null,
   "metadata": {},
   "outputs": [],
   "source": [
    "def shift_particle_tracing(dataset, PID_d, idx):\n",
    "    if (dataset.iloc[idx,6] == PID_d):\n",
    "        return dataset.iloc[idx,4]\n",
    "\n",
    "def particle_tracing(dataset, PID, STATUS):\n",
    "\n",
    "    for i in range(len(dataset)):\n",
    "        if(dataset.iloc[i,1] == STATUS and dataset.iloc[i,6] == PID ): \n",
    "            daughter_index = int(dataset.iloc[i,0])\n",
    "    if( dataset.iloc[daughter_index,6] == PID ):\n",
    "        shifted_particle_index = dataset.iloc[daughter_index, 4]\n",
    "\n",
    "\n",
    "    while dataset.iloc[shifted_particle_index,6] == PID:\n",
    "            init_shifted_particle_index = shifted_particle_index\n",
    "            shifted_particle_index = shift_particle_tracing(dataset, PID, init_shifted_particle_index)       \n",
    "\n",
    "    dauthter_idx_1 = dataset.iloc[init_shifted_particle_index, 4]\n",
    "    daughter_pid_1 = dataset.iloc[dauthter_idx_1, 6]\n",
    "\n",
    "    dauthter_idx_2 = dataset.iloc[init_shifted_particle_index, 5]\n",
    "    daughter_pid_2 = dataset.iloc[dauthter_idx_2, 6]\n",
    "\n",
    "    return init_shifted_particle_index, dauthter_idx_1, daughter_pid_1, dauthter_idx_2, daughter_pid_2\n",
    "\n",
    "\n"
   ]
  },
  {
   "cell_type": "code",
   "execution_count": 54,
   "metadata": {},
   "outputs": [
    {
     "name": "stdout",
     "output_type": "stream",
     "text": [
      "+-----------------------------------------------------------------------------------------------------+\n",
      "Start parsing event : {0}\n",
      "Start to find top quark's daughters.\n",
      "Temporary daughter 1 indxe: 274, PID: 24\n",
      "Temporary daughter 1 indxe: 301, PID: 2\n",
      "Temporary daughter 2 indxe: 274, PID: 24\n",
      "Temporary daughter 2 indxe: 302, PID: -1\n",
      "Found daughter 1 index: 301, PID: 2.\n",
      "Found daughter 2 index: 302, PID: -1\n",
      "+-----------------------------------------------------------------------------------------------------+\n",
      "Start to find top_bar quark's daughters.\n",
      "Temporary daughter 1 indxe: 254, PID: -24\n",
      "Temporary daughter 1 indxe: 278, PID: 3\n",
      "Temporary daughter 2 indxe: 254, PID: -24\n",
      "Temporary daughter 2 indxe: 279, PID: -4\n",
      "Found daughter 1 index: 278, PID: 3.\n",
      "Found daughter 2 index: 279, PID: -4\n",
      "+-----------------------------------------------------------------------------------------------------+\n",
      "+-----------------------------------------------------------------------------------------------------+\n",
      "Start parsing event : {0}\n",
      "Start to find top quark's daughters.\n",
      "Temporary daughter 1 indxe: 362, PID: 24\n",
      "Temporary daughter 1 indxe: 395, PID: 2\n",
      "Temporary daughter 2 indxe: 362, PID: 24\n",
      "Temporary daughter 2 indxe: 396, PID: -1\n",
      "Found daughter 1 index: 395, PID: 2.\n",
      "Found daughter 2 index: 396, PID: -1\n",
      "+-----------------------------------------------------------------------------------------------------+\n",
      "Start to find top_bar quark's daughters.\n",
      "Temporary daughter 1 indxe: 391, PID: -24\n",
      "Temporary daughter 1 indxe: 421, PID: 1\n",
      "Temporary daughter 2 indxe: 391, PID: -24\n",
      "Temporary daughter 2 indxe: 422, PID: -2\n",
      "Found daughter 1 index: 421, PID: 1.\n",
      "Found daughter 2 index: 422, PID: -2\n",
      "+-----------------------------------------------------------------------------------------------------+\n",
      "+-----------------------------------------------------------------------------------------------------+\n",
      "Start parsing event : {0}\n",
      "Start to find top quark's daughters.\n",
      "Temporary daughter 1 indxe: 676, PID: 24\n",
      "Temporary daughter 1 indxe: 685, PID: 4\n",
      "Temporary daughter 2 indxe: 676, PID: 24\n",
      "Temporary daughter 2 indxe: 686, PID: -3\n",
      "Found daughter 1 index: 685, PID: 4.\n",
      "Found daughter 2 index: 686, PID: -3\n",
      "+-----------------------------------------------------------------------------------------------------+\n",
      "Start to find top_bar quark's daughters.\n",
      "Found daughter 1 index: 717, PID: 3.\n",
      "Found daughter 2 index: 718, PID: -4\n",
      "+-----------------------------------------------------------------------------------------------------+\n",
      "+-----------------------------------------------------------------------------------------------------+\n",
      "Start parsing event : {0}\n",
      "Start to find top quark's daughters.\n",
      "Temporary daughter 1 indxe: 1093, PID: 24\n",
      "Temporary daughter 1 indxe: 1135, PID: 4\n",
      "Temporary daughter 2 indxe: 1093, PID: 24\n",
      "Temporary daughter 2 indxe: 1136, PID: -3\n",
      "Found daughter 1 index: 1135, PID: 4.\n",
      "Found daughter 2 index: 1136, PID: -3\n",
      "+-----------------------------------------------------------------------------------------------------+\n",
      "Start to find top_bar quark's daughters.\n",
      "Temporary daughter 1 indxe: 1079, PID: -24\n",
      "Temporary daughter 1 indxe: 1103, PID: 1\n",
      "Temporary daughter 2 indxe: 1079, PID: -24\n",
      "Temporary daughter 2 indxe: 1104, PID: -2\n",
      "Found daughter 1 index: 1103, PID: 1.\n",
      "Found daughter 2 index: 1104, PID: -2\n",
      "+-----------------------------------------------------------------------------------------------------+\n",
      "+-----------------------------------------------------------------------------------------------------+\n",
      "Start parsing event : {0}\n",
      "Start to find top quark's daughters.\n",
      "Temporary daughter 1 indxe: 467, PID: 24\n",
      "Temporary daughter 1 indxe: 509, PID: 2\n",
      "Temporary daughter 2 indxe: 467, PID: 24\n",
      "Temporary daughter 2 indxe: 510, PID: -1\n",
      "Found daughter 1 index: 509, PID: 2.\n",
      "Found daughter 2 index: 510, PID: -1\n",
      "+-----------------------------------------------------------------------------------------------------+\n",
      "Start to find top_bar quark's daughters.\n",
      "Temporary daughter 1 indxe: 496, PID: -24\n",
      "Temporary daughter 1 indxe: 526, PID: 1\n",
      "Temporary daughter 2 indxe: 496, PID: -24\n",
      "Temporary daughter 2 indxe: 527, PID: -2\n",
      "Found daughter 1 index: 526, PID: 1.\n",
      "Found daughter 2 index: 527, PID: -2\n",
      "+-----------------------------------------------------------------------------------------------------+\n",
      "+-----------------------------------------------------------------------------------------------------+\n",
      "Start parsing event : {0}\n",
      "Start to find top quark's daughters.\n",
      "Temporary daughter 1 indxe: 1091, PID: 24\n",
      "Temporary daughter 1 indxe: 1115, PID: 4\n",
      "Temporary daughter 2 indxe: 1091, PID: 24\n",
      "Temporary daughter 2 indxe: 1116, PID: -3\n",
      "Found daughter 1 index: 1115, PID: 4.\n",
      "Found daughter 2 index: 1116, PID: -3\n",
      "+-----------------------------------------------------------------------------------------------------+\n",
      "Start to find top_bar quark's daughters.\n",
      "Temporary daughter 1 indxe: 1074, PID: -24\n",
      "Temporary daughter 1 indxe: 1095, PID: 3\n",
      "Temporary daughter 2 indxe: 1074, PID: -24\n",
      "Temporary daughter 2 indxe: 1096, PID: -4\n",
      "Found daughter 1 index: 1095, PID: 3.\n",
      "Found daughter 2 index: 1096, PID: -4\n",
      "+-----------------------------------------------------------------------------------------------------+\n",
      "+-----------------------------------------------------------------------------------------------------+\n",
      "Start parsing event : {0}\n",
      "Start to find top quark's daughters.\n",
      "Temporary daughter 1 indxe: 308, PID: 24\n",
      "Temporary daughter 1 indxe: 359, PID: 4\n",
      "Temporary daughter 2 indxe: 308, PID: 24\n",
      "Temporary daughter 2 indxe: 360, PID: -3\n",
      "Found daughter 1 index: 359, PID: 4.\n",
      "Found daughter 2 index: 360, PID: -3\n",
      "+-----------------------------------------------------------------------------------------------------+\n",
      "Start to find top_bar quark's daughters.\n",
      "Temporary daughter 1 indxe: 297, PID: -24\n",
      "Temporary daughter 1 indxe: 321, PID: 3\n",
      "Temporary daughter 2 indxe: 297, PID: -24\n",
      "Temporary daughter 2 indxe: 322, PID: -4\n",
      "Found daughter 1 index: 321, PID: 3.\n",
      "Found daughter 2 index: 322, PID: -4\n",
      "+-----------------------------------------------------------------------------------------------------+\n",
      "+-----------------------------------------------------------------------------------------------------+\n",
      "Start parsing event : {0}\n",
      "Start to find top quark's daughters.\n",
      "Temporary daughter 1 indxe: 352, PID: 24\n",
      "Temporary daughter 1 indxe: 370, PID: 4\n",
      "Temporary daughter 2 indxe: 352, PID: 24\n",
      "Temporary daughter 2 indxe: 371, PID: -3\n",
      "Found daughter 1 index: 370, PID: 4.\n",
      "Found daughter 2 index: 371, PID: -3\n",
      "+-----------------------------------------------------------------------------------------------------+\n",
      "Start to find top_bar quark's daughters.\n",
      "Temporary daughter 1 indxe: 363, PID: -24\n",
      "Temporary daughter 1 indxe: 367, PID: -24\n",
      "Temporary daughter 1 indxe: 399, PID: 3\n",
      "Temporary daughter 2 indxe: 363, PID: -24\n",
      "Temporary daughter 2 indxe: 368, PID: 22\n",
      "Found daughter 1 index: 399, PID: 3.\n",
      "Found daughter 2 index: 368, PID: 22\n",
      "+-----------------------------------------------------------------------------------------------------+\n",
      "+-----------------------------------------------------------------------------------------------------+\n",
      "Start parsing event : {0}\n",
      "Start to find top quark's daughters.\n",
      "Temporary daughter 1 indxe: 407, PID: 24\n",
      "Temporary daughter 1 indxe: 446, PID: 4\n",
      "Temporary daughter 2 indxe: 407, PID: 24\n",
      "Temporary daughter 2 indxe: 447, PID: -3\n",
      "Found daughter 1 index: 446, PID: 4.\n",
      "Found daughter 2 index: 447, PID: -3\n",
      "+-----------------------------------------------------------------------------------------------------+\n",
      "Start to find top_bar quark's daughters.\n",
      "Temporary daughter 1 indxe: 360, PID: -24\n",
      "Temporary daughter 1 indxe: 400, PID: -24\n",
      "Temporary daughter 1 indxe: 414, PID: 1\n",
      "Temporary daughter 2 indxe: 360, PID: -24\n",
      "Temporary daughter 2 indxe: 401, PID: 22\n",
      "Found daughter 1 index: 414, PID: 1.\n",
      "Found daughter 2 index: 401, PID: 22\n",
      "+-----------------------------------------------------------------------------------------------------+\n",
      "+-----------------------------------------------------------------------------------------------------+\n",
      "Start parsing event : {0}\n",
      "Start to find top quark's daughters.\n",
      "Temporary daughter 1 indxe: 847, PID: 24\n",
      "Temporary daughter 1 indxe: 874, PID: 4\n",
      "Temporary daughter 2 indxe: 847, PID: 24\n",
      "Temporary daughter 2 indxe: 875, PID: -3\n",
      "Found daughter 1 index: 874, PID: 4.\n",
      "Found daughter 2 index: 875, PID: -3\n",
      "+-----------------------------------------------------------------------------------------------------+\n",
      "Start to find top_bar quark's daughters.\n",
      "Found daughter 1 index: 854, PID: 3.\n",
      "Found daughter 2 index: 855, PID: -4\n",
      "+-----------------------------------------------------------------------------------------------------+\n"
     ]
    }
   ],
   "source": [
    "for i in range(0,10):\n",
    "    print(\"+-----------------------------------------------------------------------------------------------------+\")\n",
    "    print(\"Start parsing event : {0}\\nStart to find top quark's daughters.\")\n",
    "    W_plus_idx[i], b_quark[i], quark_idx_1[i], quark_idx_2[i] = quark_finder(particle.dataframelize(i), top_daughter_idx_1[i], top_daughter_idx_2[i])\n",
    "    print(\"+-----------------------------------------------------------------------------------------------------+\")\n",
    "    print(\"Start to find top_bar quark's daughters.\")\n",
    "    W_minus_idx[i], b_bar_quark[i], quark_idx_3[i], quark_idx_4[i] = quark_finder(particle.dataframelize(i), top_bar_daughter_idx_1[i], top_bar_daughter_idx_2[i])\n",
    "    print(\"+-----------------------------------------------------------------------------------------------------+\")"
   ]
  },
  {
   "cell_type": "code",
   "execution_count": null,
   "metadata": {},
   "outputs": [],
   "source": [
    "df9 = particle.dataframelize(9)\n",
    "df9.iloc[841,:]"
   ]
  },
  {
   "cell_type": "code",
   "execution_count": 6,
   "metadata": {},
   "outputs": [
    {
     "data": {
      "text/plain": [
       "Index         855.000000\n",
       "Status         23.000000\n",
       "Mother_1      841.000000\n",
       "Mother_2       -1.000000\n",
       "Daughter_1    858.000000\n",
       "Daughter_2    858.000000\n",
       "PID            -4.000000\n",
       "PT             10.439919\n",
       "Eta            -1.188499\n",
       "Phi             1.433495\n",
       "Mass            1.500000\n",
       "Name: 855, dtype: float64"
      ]
     },
     "execution_count": 6,
     "metadata": {},
     "output_type": "execute_result"
    }
   ],
   "source": [
    "df9.iloc[855,:]"
   ]
  },
  {
   "cell_type": "code",
   "execution_count": 34,
   "metadata": {},
   "outputs": [
    {
     "data": {
      "text/plain": [
       "Index         854.000000\n",
       "Status         23.000000\n",
       "Mother_1      841.000000\n",
       "Mother_2       -1.000000\n",
       "Daughter_1    856.000000\n",
       "Daughter_2    857.000000\n",
       "PID             3.000000\n",
       "PT            148.473068\n",
       "Eta            -0.016396\n",
       "Phi            -0.437556\n",
       "Mass            0.000000\n",
       "Name: 854, dtype: float64"
      ]
     },
     "execution_count": 34,
     "metadata": {},
     "output_type": "execute_result"
    }
   ],
   "source": [
    "df9.iloc[854,:]"
   ]
  },
  {
   "cell_type": "code",
   "execution_count": 19,
   "metadata": {},
   "outputs": [
    {
     "data": {
      "text/plain": [
       "Index         856.000000\n",
       "Status         51.000000\n",
       "Mother_1      854.000000\n",
       "Mother_2       -1.000000\n",
       "Daughter_1    966.000000\n",
       "Daughter_2    966.000000\n",
       "PID             3.000000\n",
       "PT             43.345860\n",
       "Eta            -0.065489\n",
       "Phi            -0.440145\n",
       "Mass            0.000000\n",
       "Name: 856, dtype: float64"
      ]
     },
     "execution_count": 19,
     "metadata": {},
     "output_type": "execute_result"
    }
   ],
   "source": [
    "df9.iloc[856,:]"
   ]
  },
  {
   "cell_type": "code",
   "execution_count": 32,
   "metadata": {},
   "outputs": [
    {
     "data": {
      "text/plain": [
       "Index         857.000000\n",
       "Status         51.000000\n",
       "Mother_1      854.000000\n",
       "Mother_2       -1.000000\n",
       "Daughter_1    859.000000\n",
       "Daughter_2    860.000000\n",
       "PID            21.000000\n",
       "PT            105.116669\n",
       "Eta             0.003365\n",
       "Phi            -0.436168\n",
       "Mass            0.000000\n",
       "Name: 857, dtype: float64"
      ]
     },
     "execution_count": 32,
     "metadata": {},
     "output_type": "execute_result"
    }
   ],
   "source": [
    "df9.iloc[857,:]"
   ]
  },
  {
   "cell_type": "code",
   "execution_count": null,
   "metadata": {},
   "outputs": [],
   "source": []
  }
 ],
 "metadata": {
  "kernelspec": {
   "display_name": "Python 3.6.8 64-bit",
   "language": "python",
   "name": "python36864bitc564df92afbc45168f62068bf4eb9104"
  },
  "language_info": {
   "codemirror_mode": {
    "name": "ipython",
    "version": 3
   },
   "file_extension": ".py",
   "mimetype": "text/x-python",
   "name": "python",
   "nbconvert_exporter": "python",
   "pygments_lexer": "ipython3",
   "version": "3.6.8-final"
  }
 },
 "nbformat": 4,
 "nbformat_minor": 4
}