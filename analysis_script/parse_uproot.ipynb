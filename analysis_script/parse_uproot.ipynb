{
 "cells": [
  {
   "cell_type": "code",
   "execution_count": 9,
   "metadata": {},
   "outputs": [],
   "source": [
    "import uproot\n",
    "import pandas as pd \n",
    "import numpy as np "
   ]
  },
  {
   "cell_type": "code",
   "execution_count": 10,
   "metadata": {
    "tags": [
     "outputPrepend"
    ]
   },
   "outputs": [
    {
     "output_type": "stream",
     "name": "stdout",
     "text": "Event                      TStreamerInfo              asdtype('>i4')\nEvent.fUniqueID            TStreamerBasicType         asjagged(asdtype('>u4'))\nEvent.fBits                TStreamerBasicType         asjagged(asdtype('>u4'))\nEvent.Number               TStreamerBasicType         asjagged(asdtype('>i8'))\nEvent.ReadTime             TStreamerBasicType         asjagged(asdtype('>f4'))\nEvent.ProcTime             TStreamerBasicType         asjagged(asdtype('>f4'))\nEvent.ProcessID            TStreamerBasicType         asjagged(asdtype('>i4'))\nEvent.MPI                  TStreamerBasicType         asjagged(asdtype('>i4'))\nEvent.Weight               TStreamerBasicType         asjagged(asdtype('>f4'))\nEvent.CrossSection         TStreamerBasicType         asjagged(asdtype('>f4'))\nEvent.CrossSectionError    TStreamerBasicType         asjagged(asdtype('>f4'))\nEvent.Scale                TStreamerBasicType         asjagged(asdtype('>f4'))\nEvent.AlphaQED             TStreamerBasicType         asjagged(asdtype('>f4'))\nEvent.AlphaQCD             TStreamerBasicType         asjagged(asdtype('>f4'))\nEvent.ID1                  TStreamerBasicType         asjagged(asdtype('>i4'))\nEvent.ID2                  TStreamerBasicType         asjagged(asdtype('>i4'))\nEvent.X1                   TStreamerBasicType         asjagged(asdtype('>f4'))\nEvent.X2                   TStreamerBasicType         asjagged(asdtype('>f4'))\nEvent.ScalePDF             TStreamerBasicType         asjagged(asdtype('>f4'))\nEvent.PDF1                 TStreamerBasicType         asjagged(asdtype('>f4'))\nEvent.PDF2                 TStreamerBasicType         asjagged(asdtype('>f4'))\n\nEvent_size                 (no streamer)              asdtype('>i4')\nWeight                     TStreamerInfo              asdtype('>i4')\nWeight.fUniqueID           TStreamerBasicType         asjagged(asdtype('>u4'))\nWeight.fBits               TStreamerBasicType         asjagged(asdtype('>u4'))\nWeight.Weight              TStreamerBasicType         asjagged(asdtype('>f4'))\n\nWeight_size                (no streamer)              asdtype('>i4')\nParticle                   TStreamerInfo              asdtype('>i4')\nParticle.fUniqueID         TStreamerBasicType         asjagged(asdtype('>u4'))\nParticle.fBits             TStreamerBasicType         asjagged(asdtype('>u4'))\nParticle.PID               TStreamerBasicType         asjagged(asdtype('>i4'))\nParticle.Status            TStreamerBasicType         asjagged(asdtype('>i4'))\nParticle.IsPU              TStreamerBasicType         asjagged(asdtype('>i4'))\nParticle.M1                TStreamerBasicType         asjagged(asdtype('>i4'))\nParticle.M2                TStreamerBasicType         asjagged(asdtype('>i4'))\nParticle.D1                TStreamerBasicType         asjagged(asdtype('>i4'))\nParticle.D2                TStreamerBasicType         asjagged(asdtype('>i4'))\nParticle.Charge            TStreamerBasicType         asjagged(asdtype('>i4'))\nParticle.Mass              TStreamerBasicType         asjagged(asdtype('>f4'))\nParticle.E                 TStreamerBasicType         asjagged(asdtype('>f4'))\nParticle.Px                TStreamerBasicType         asjagged(asdtype('>f4'))\nParticle.Py                TStreamerBasicType         asjagged(asdtype('>f4'))\nParticle.Pz                TStreamerBasicType         asjagged(asdtype('>f4'))\nParticle.P                 TStreamerBasicType         asjagged(asdtype('>f4'))\nParticle.PT                TStreamerBasicType         asjagged(asdtype('>f4'))\nParticle.Eta               TStreamerBasicType         asjagged(asdtype('>f4'))\nParticle.Phi               TStreamerBasicType         asjagged(asdtype('>f4'))\nParticle.Rapidity          TStreamerBasicType         asjagged(asdtype('>f4'))\nParticle.CtgTheta          TStreamerBasicType         asjagged(asdtype('>f4'))\nParticle.D0                TStreamerBasicType         asjagged(asdtype('>f4'))\nParticle.DZ                TStreamerBasicType         asjagged(asdtype('>f4'))\nParticle.T                 TStreamerBasicType         asjagged(asdtype('>f4'))\nParticle.X                 TStreamerBasicType         asjagged(asdtype('>f4'))\nParticle.Y                 TStreamerBasicType         asjagged(asdtype('>f4'))\nParticle.Z                 TStreamerBasicType         asjagged(asdtype('>f4'))\n\nParticle_size              (no streamer)              asdtype('>i4')\nTrack                      TStreamerInfo              asdtype('>i4')\nTrack.fUniqueID            TStreamerBasicType         asjagged(asdtype('>u4'))\nTrack.fBits                TStreamerBasicType         asjagged(asdtype('>u4'))\nTrack.PID                  TStreamerBasicType         asjagged(asdtype('>i4'))\nTrack.Charge               TStreamerBasicType         asjagged(asdtype('>i4'))\nTrack.P                    TStreamerBasicType         asjagged(asdtype('>f4'))\nTrack.PT                   TStreamerBasicType         asjagged(asdtype('>f4'))\nTrack.Eta                  TStreamerBasicType         asjagged(asdtype('>f4'))\nTrack.Phi                  TStreamerBasicType         asjagged(asdtype('>f4'))\nTrack.CtgTheta             TStreamerBasicType         asjagged(asdtype('>f4'))\nTrack.EtaOuter             TStreamerBasicType         asjagged(asdtype('>f4'))\nTrack.PhiOuter             TStreamerBasicType         asjagged(asdtype('>f4'))\nTrack.T                    TStreamerBasicType         asjagged(asdtype('>f4'))\nTrack.X                    TStreamerBasicType         asjagged(asdtype('>f4'))\nTrack.Y                    TStreamerBasicType         asjagged(asdtype('>f4'))\nTrack.Z                    TStreamerBasicType         asjagged(asdtype('>f4'))\nTrack.TOuter               TStreamerBasicType         asjagged(asdtype('>f4'))\nTrack.XOuter               TStreamerBasicType         asjagged(asdtype('>f4'))\nTrack.YOuter               TStreamerBasicType         asjagged(asdtype('>f4'))\nTrack.ZOuter               TStreamerBasicType         asjagged(asdtype('>f4'))\nTrack.Xd                   TStreamerBasicType         asjagged(asdtype('>f4'))\nTrack.Yd                   TStreamerBasicType         asjagged(asdtype('>f4'))\nTrack.Zd                   TStreamerBasicType         asjagged(asdtype('>f4'))\nTrack.L                    TStreamerBasicType         asjagged(asdtype('>f4'))\nTrack.D0                   TStreamerBasicType         asjagged(asdtype('>f4'))\nTrack.DZ                   TStreamerBasicType         asjagged(asdtype('>f4'))\nTrack.ErrorP               TStreamerBasicType         asjagged(asdtype('>f4'))\nTrack.ErrorPT              TStreamerBasicType         asjagged(asdtype('>f4'))\nTrack.ErrorPhi             TStreamerBasicType         asjagged(asdtype('>f4'))\nTrack.ErrorCtgTheta        TStreamerBasicType         asjagged(asdtype('>f4'))\nTrack.ErrorT               TStreamerBasicType         asjagged(asdtype('>f4'))\nTrack.ErrorD0              TStreamerBasicType         asjagged(asdtype('>f4'))\nTrack.ErrorDZ              TStreamerBasicType         asjagged(asdtype('>f4'))\nTrack.Particle             TStreamerInfo              asjagged(asobj(<uproot.rootio.TRef>))\nTrack.VertexIndex          TStreamerBasicType         asjagged(asdtype('>i4'))\n\nTrack_size                 (no streamer)              asdtype('>i4')\nTower                      TStreamerInfo              asdtype('>i4')\nTower.fUniqueID            TStreamerBasicType         asjagged(asdtype('>u4'))\nTower.fBits                TStreamerBasicType         asjagged(asdtype('>u4'))\nTower.ET                   TStreamerBasicType         asjagged(asdtype('>f4'))\nTower.Eta                  TStreamerBasicType         asjagged(asdtype('>f4'))\nTower.Phi                  TStreamerBasicType         asjagged(asdtype('>f4'))\nTower.E                    TStreamerBasicType         asjagged(asdtype('>f4'))\nTower.T                    TStreamerBasicType         asjagged(asdtype('>f4'))\nTower.NTimeHits            TStreamerBasicType         asjagged(asdtype('>i4'))\nTower.Eem                  TStreamerBasicType         asjagged(asdtype('>f4'))\nTower.Ehad                 TStreamerBasicType         asjagged(asdtype('>f4'))\nTower.Edges[4]             TStreamerBasicType         asjagged(asdtype(\"('>f4', (4,))\"))\nTower.Particles            TStreamerInfo              asgenobj(SimpleArray(TRefArray))\n\nTower_size                 (no streamer)              asdtype('>i4')\nEFlowTrack                 TStreamerInfo              asdtype('>i4')\nEFlowTrack.fUniqueID       TStreamerBasicType         asjagged(asdtype('>u4'))\nEFlowTrack.fBits           TStreamerBasicType         asjagged(asdtype('>u4'))\nEFlowTrack.PID             TStreamerBasicType         asjagged(asdtype('>i4'))\nEFlowTrack.Charge          TStreamerBasicType         asjagged(asdtype('>i4'))\nEFlowTrack.P               TStreamerBasicType         asjagged(asdtype('>f4'))\nEFlowTrack.PT              TStreamerBasicType         asjagged(asdtype('>f4'))\nEFlowTrack.Eta             TStreamerBasicType         asjagged(asdtype('>f4'))\nEFlowTrack.Phi             TStreamerBasicType         asjagged(asdtype('>f4'))\nEFlowTrack.CtgTheta        TStreamerBasicType         asjagged(asdtype('>f4'))\nEFlowTrack.EtaOuter        TStreamerBasicType         asjagged(asdtype('>f4'))\nEFlowTrack.PhiOuter        TStreamerBasicType         asjagged(asdtype('>f4'))\nEFlowTrack.T               TStreamerBasicType         asjagged(asdtype('>f4'))\nEFlowTrack.X               TStreamerBasicType         asjagged(asdtype('>f4'))\nEFlowTrack.Y               TStreamerBasicType         asjagged(asdtype('>f4'))\nEFlowTrack.Z               TStreamerBasicType         asjagged(asdtype('>f4'))\nEFlowTrack.TOuter          TStreamerBasicType         asjagged(asdtype('>f4'))\nEFlowTrack.XOuter          TStreamerBasicType         asjagged(asdtype('>f4'))\nEFlowTrack.YOuter          TStreamerBasicType         asjagged(asdtype('>f4'))\nEFlowTrack.ZOuter          TStreamerBasicType         asjagged(asdtype('>f4'))\nEFlowTrack.Xd              TStreamerBasicType         asjagged(asdtype('>f4'))\nEFlowTrack.Yd              TStreamerBasicType         asjagged(asdtype('>f4'))\nEFlowTrack.Zd              TStreamerBasicType         asjagged(asdtype('>f4'))\nEFlowTrack.L               TStreamerBasicType         asjagged(asdtype('>f4'))\nEFlowTrack.D0              TStreamerBasicType         asjagged(asdtype('>f4'))\nEFlowTrack.DZ              TStreamerBasicType         asjagged(asdtype('>f4'))\nEFlowTrack.ErrorP          TStreamerBasicType         asjagged(asdtype('>f4'))\nEFlowTrack.ErrorPT         TStreamerBasicType         asjagged(asdtype('>f4'))\nEFlowTrack.ErrorPhi        TStreamerBasicType         asjagged(asdtype('>f4'))\nEFlowTrack.ErrorCtgTheta   TStreamerBasicType         asjagged(asdtype('>f4'))\nEFlowTrack.ErrorT          TStreamerBasicType         asjagged(asdtype('>f4'))\nEFlowTrack.ErrorD0         TStreamerBasicType         asjagged(asdtype('>f4'))\nEFlowTrack.ErrorDZ         TStreamerBasicType         asjagged(asdtype('>f4'))\nEFlowTrack.Particle        TStreamerInfo              asjagged(asobj(<uproot.rootio.TRef>))\nEFlowTrack.VertexIndex     TStreamerBasicType         asjagged(asdtype('>i4'))\n\nEFlowTrack_size            (no streamer)              asdtype('>i4')\nEFlowPhoton                TStreamerInfo              asdtype('>i4')\nEFlowPhoton.fUniqueID      TStreamerBasicType         asjagged(asdtype('>u4'))\nEFlowPhoton.fBits          TStreamerBasicType         asjagged(asdtype('>u4'))\nEFlowPhoton.ET             TStreamerBasicType         asjagged(asdtype('>f4'))\nEFlowPhoton.Eta            TStreamerBasicType         asjagged(asdtype('>f4'))\nEFlowPhoton.Phi            TStreamerBasicType         asjagged(asdtype('>f4'))\nEFlowPhoton.E              TStreamerBasicType         asjagged(asdtype('>f4'))\nEFlowPhoton.T              TStreamerBasicType         asjagged(asdtype('>f4'))\nEFlowPhoton.NTimeHits      TStreamerBasicType         asjagged(asdtype('>i4'))\nEFlowPhoton.Eem            TStreamerBasicType         asjagged(asdtype('>f4'))\nEFlowPhoton.Ehad           TStreamerBasicType         asjagged(asdtype('>f4'))\nEFlowPhoton.Edges[4]       TStreamerBasicType         asjagged(asdtype(\"('>f4', (4,))\"))\nEFlowPhoton.Particles      TStreamerInfo              asgenobj(SimpleArray(TRefArray))\n\nEFlowPhoton_size           (no streamer)              asdtype('>i4')\nEFlowNeutralHadron         TStreamerInfo              asdtype('>i4')\nEFlowNeutralHadron.fUniqueID\n                           TStreamerBasicType         asjagged(asdtype('>u4'))\nEFlowNeutralHadron.fBits   TStreamerBasicType         asjagged(asdtype('>u4'))\nEFlowNeutralHadron.ET      TStreamerBasicType         asjagged(asdtype('>f4'))\nEFlowNeutralHadron.Eta     TStreamerBasicType         asjagged(asdtype('>f4'))\nEFlowNeutralHadron.Phi     TStreamerBasicType         asjagged(asdtype('>f4'))\nEFlowNeutralHadron.E       TStreamerBasicType         asjagged(asdtype('>f4'))\nEFlowNeutralHadron.T       TStreamerBasicType         asjagged(asdtype('>f4'))\nEFlowNeutralHadron.NTimeHits\n                           TStreamerBasicType         asjagged(asdtype('>i4'))\nEFlowNeutralHadron.Eem     TStreamerBasicType         asjagged(asdtype('>f4'))\nEFlowNeutralHadron.Ehad    TStreamerBasicType         asjagged(asdtype('>f4'))\nEFlowNeutralHadron.Edges[4]\n                           TStreamerBasicType         asjagged(asdtype(\"('>f4', (4,))\"))\nEFlowNeutralHadron.Particles\n                           TStreamerInfo              asgenobj(SimpleArray(TRefArray))\n\nEFlowNeutralHadron_size    (no streamer)              asdtype('>i4')\nGenJet                     TStreamerInfo              asdtype('>i4')\nGenJet.fUniqueID           TStreamerBasicType         asjagged(asdtype('>u4'))\nGenJet.fBits               TStreamerBasicType         asjagged(asdtype('>u4'))\nGenJet.PT                  TStreamerBasicType         asjagged(asdtype('>f4'))\nGenJet.Eta                 TStreamerBasicType         asjagged(asdtype('>f4'))\nGenJet.Phi                 TStreamerBasicType         asjagged(asdtype('>f4'))\nGenJet.T                   TStreamerBasicType         asjagged(asdtype('>f4'))\nGenJet.Mass                TStreamerBasicType         asjagged(asdtype('>f4'))\nGenJet.DeltaEta            TStreamerBasicType         asjagged(asdtype('>f4'))\nGenJet.DeltaPhi            TStreamerBasicType         asjagged(asdtype('>f4'))\nGenJet.Flavor              TStreamerBasicType         asjagged(asdtype('>u4'))\nGenJet.FlavorAlgo          TStreamerBasicType         asjagged(asdtype('>u4'))\nGenJet.FlavorPhys          TStreamerBasicType         asjagged(asdtype('>u4'))\nGenJet.BTag                TStreamerBasicType         asjagged(asdtype('>u4'))\nGenJet.BTagAlgo            TStreamerBasicType         asjagged(asdtype('>u4'))\nGenJet.BTagPhys            TStreamerBasicType         asjagged(asdtype('>u4'))\nGenJet.TauTag              TStreamerBasicType         asjagged(asdtype('>u4'))\nGenJet.TauWeight           TStreamerBasicType         asjagged(asdtype('>f4'))\nGenJet.Charge              TStreamerBasicType         asjagged(asdtype('>i4'))\nGenJet.EhadOverEem         TStreamerBasicType         asjagged(asdtype('>f4'))\nGenJet.NCharged            TStreamerBasicType         asjagged(asdtype('>i4'))\nGenJet.NNeutrals           TStreamerBasicType         asjagged(asdtype('>i4'))\nGenJet.Beta                TStreamerBasicType         asjagged(asdtype('>f4'))\nGenJet.BetaStar            TStreamerBasicType         asjagged(asdtype('>f4'))\nGenJet.MeanSqDeltaR        TStreamerBasicType         asjagged(asdtype('>f4'))\nGenJet.PTD                 TStreamerBasicType         asjagged(asdtype('>f4'))\nGenJet.FracPt[5]           TStreamerBasicType         asjagged(asdtype(\"('>f4', (5,))\"))\nGenJet.Tau[5]              TStreamerBasicType         asjagged(asdtype(\"('>f4', (5,))\"))\nGenJet.SoftDroppedJet      TStreamerInfo              asjagged(asobj(<uproot_methods.classes.TLorentzVector.Methods>))\nGenJet.SoftDroppedSubJet1  TStreamerInfo              asjagged(asobj(<uproot_methods.classes.TLorentzVector.Methods>))\nGenJet.SoftDroppedSubJet2  TStreamerInfo              asjagged(asobj(<uproot_methods.classes.TLorentzVector.Methods>))\nGenJet.TrimmedP4[5]        TStreamerInfo              asjagged(asobj(<uproot_methods.classes.TLorentzVector.Methods>))\nGenJet.PrunedP4[5]         TStreamerInfo              asjagged(asobj(<uproot_methods.classes.TLorentzVector.Methods>))\nGenJet.SoftDroppedP4[5]    TStreamerInfo              asjagged(asobj(<uproot_methods.classes.TLorentzVector.Methods>))\nGenJet.NSubJetsTrimmed     TStreamerBasicType         asjagged(asdtype('>i4'))\nGenJet.NSubJetsPruned      TStreamerBasicType         asjagged(asdtype('>i4'))\nGenJet.NSubJetsSoftDropped TStreamerBasicType         asjagged(asdtype('>i4'))\nGenJet.ExclYmerge23        TStreamerBasicType         asjagged(asdtype('>f8'))\nGenJet.ExclYmerge34        TStreamerBasicType         asjagged(asdtype('>f8'))\nGenJet.ExclYmerge45        TStreamerBasicType         asjagged(asdtype('>f8'))\nGenJet.ExclYmerge56        TStreamerBasicType         asjagged(asdtype('>f8'))\nGenJet.Constituents        TStreamerInfo              asgenobj(SimpleArray(TRefArray))\nGenJet.Particles           TStreamerInfo              asgenobj(SimpleArray(TRefArray))\nGenJet.Area                TStreamerInfo              asjagged(asobj(<uproot_methods.classes.TLorentzVector.Methods>))\n\nGenJet_size                (no streamer)              asdtype('>i4')\nGenMissingET               TStreamerInfo              asdtype('>i4')\nGenMissingET.fUniqueID     TStreamerBasicType         asjagged(asdtype('>u4'))\nGenMissingET.fBits         TStreamerBasicType         asjagged(asdtype('>u4'))\nGenMissingET.MET           TStreamerBasicType         asjagged(asdtype('>f4'))\nGenMissingET.Eta           TStreamerBasicType         asjagged(asdtype('>f4'))\nGenMissingET.Phi           TStreamerBasicType         asjagged(asdtype('>f4'))\n\nGenMissingET_size          (no streamer)              asdtype('>i4')\nJet                        TStreamerInfo              asdtype('>i4')\nJet.fUniqueID              TStreamerBasicType         asjagged(asdtype('>u4'))\nJet.fBits                  TStreamerBasicType         asjagged(asdtype('>u4'))\nJet.PT                     TStreamerBasicType         asjagged(asdtype('>f4'))\nJet.Eta                    TStreamerBasicType         asjagged(asdtype('>f4'))\nJet.Phi                    TStreamerBasicType         asjagged(asdtype('>f4'))\nJet.T                      TStreamerBasicType         asjagged(asdtype('>f4'))\nJet.Mass                   TStreamerBasicType         asjagged(asdtype('>f4'))\nJet.DeltaEta               TStreamerBasicType         asjagged(asdtype('>f4'))\nJet.DeltaPhi               TStreamerBasicType         asjagged(asdtype('>f4'))\nJet.Flavor                 TStreamerBasicType         asjagged(asdtype('>u4'))\nJet.FlavorAlgo             TStreamerBasicType         asjagged(asdtype('>u4'))\nJet.FlavorPhys             TStreamerBasicType         asjagged(asdtype('>u4'))\nJet.BTag                   TStreamerBasicType         asjagged(asdtype('>u4'))\nJet.BTagAlgo               TStreamerBasicType         asjagged(asdtype('>u4'))\nJet.BTagPhys               TStreamerBasicType         asjagged(asdtype('>u4'))\nJet.TauTag                 TStreamerBasicType         asjagged(asdtype('>u4'))\nJet.TauWeight              TStreamerBasicType         asjagged(asdtype('>f4'))\nJet.Charge                 TStreamerBasicType         asjagged(asdtype('>i4'))\nJet.EhadOverEem            TStreamerBasicType         asjagged(asdtype('>f4'))\nJet.NCharged               TStreamerBasicType         asjagged(asdtype('>i4'))\nJet.NNeutrals              TStreamerBasicType         asjagged(asdtype('>i4'))\nJet.Beta                   TStreamerBasicType         asjagged(asdtype('>f4'))\nJet.BetaStar               TStreamerBasicType         asjagged(asdtype('>f4'))\nJet.MeanSqDeltaR           TStreamerBasicType         asjagged(asdtype('>f4'))\nJet.PTD                    TStreamerBasicType         asjagged(asdtype('>f4'))\nJet.FracPt[5]              TStreamerBasicType         asjagged(asdtype(\"('>f4', (5,))\"))\nJet.Tau[5]                 TStreamerBasicType         asjagged(asdtype(\"('>f4', (5,))\"))\nJet.SoftDroppedJet         TStreamerInfo              asjagged(asobj(<uproot_methods.classes.TLorentzVector.Methods>))\nJet.SoftDroppedSubJet1     TStreamerInfo              asjagged(asobj(<uproot_methods.classes.TLorentzVector.Methods>))\nJet.SoftDroppedSubJet2     TStreamerInfo              asjagged(asobj(<uproot_methods.classes.TLorentzVector.Methods>))\nJet.TrimmedP4[5]           TStreamerInfo              asjagged(asobj(<uproot_methods.classes.TLorentzVector.Methods>))\nJet.PrunedP4[5]            TStreamerInfo              asjagged(asobj(<uproot_methods.classes.TLorentzVector.Methods>))\nJet.SoftDroppedP4[5]       TStreamerInfo              asjagged(asobj(<uproot_methods.classes.TLorentzVector.Methods>))\nJet.NSubJetsTrimmed        TStreamerBasicType         asjagged(asdtype('>i4'))\nJet.NSubJetsPruned         TStreamerBasicType         asjagged(asdtype('>i4'))\nJet.NSubJetsSoftDropped    TStreamerBasicType         asjagged(asdtype('>i4'))\nJet.ExclYmerge23           TStreamerBasicType         asjagged(asdtype('>f8'))\nJet.ExclYmerge34           TStreamerBasicType         asjagged(asdtype('>f8'))\nJet.ExclYmerge45           TStreamerBasicType         asjagged(asdtype('>f8'))\nJet.ExclYmerge56           TStreamerBasicType         asjagged(asdtype('>f8'))\nJet.Constituents           TStreamerInfo              asgenobj(SimpleArray(TRefArray))\nJet.Particles              TStreamerInfo              asgenobj(SimpleArray(TRefArray))\nJet.Area                   TStreamerInfo              asjagged(asobj(<uproot_methods.classes.TLorentzVector.Methods>))\n\nJet_size                   (no streamer)              asdtype('>i4')\nElectron                   TStreamerInfo              asdtype('>i4')\nElectron.fUniqueID         TStreamerBasicType         asjagged(asdtype('>u4'))\nElectron.fBits             TStreamerBasicType         asjagged(asdtype('>u4'))\nElectron.PT                TStreamerBasicType         asjagged(asdtype('>f4'))\nElectron.Eta               TStreamerBasicType         asjagged(asdtype('>f4'))\nElectron.Phi               TStreamerBasicType         asjagged(asdtype('>f4'))\nElectron.T                 TStreamerBasicType         asjagged(asdtype('>f4'))\nElectron.Charge            TStreamerBasicType         asjagged(asdtype('>i4'))\nElectron.EhadOverEem       TStreamerBasicType         asjagged(asdtype('>f4'))\nElectron.Particle          TStreamerInfo              asjagged(asobj(<uproot.rootio.TRef>))\nElectron.IsolationVar      TStreamerBasicType         asjagged(asdtype('>f4'))\nElectron.IsolationVarRhoCorr\n                           TStreamerBasicType         asjagged(asdtype('>f4'))\nElectron.SumPtCharged      TStreamerBasicType         asjagged(asdtype('>f4'))\nElectron.SumPtNeutral      TStreamerBasicType         asjagged(asdtype('>f4'))\nElectron.SumPtChargedPU    TStreamerBasicType         asjagged(asdtype('>f4'))\nElectron.SumPt             TStreamerBasicType         asjagged(asdtype('>f4'))\nElectron.D0                TStreamerBasicType         asjagged(asdtype('>f4'))\nElectron.DZ                TStreamerBasicType         asjagged(asdtype('>f4'))\nElectron.ErrorD0           TStreamerBasicType         asjagged(asdtype('>f4'))\nElectron.ErrorDZ           TStreamerBasicType         asjagged(asdtype('>f4'))\n\nElectron_size              (no streamer)              asdtype('>i4')\nPhoton                     TStreamerInfo              asdtype('>i4')\nPhoton.fUniqueID           TStreamerBasicType         asjagged(asdtype('>u4'))\nPhoton.fBits               TStreamerBasicType         asjagged(asdtype('>u4'))\nPhoton.PT                  TStreamerBasicType         asjagged(asdtype('>f4'))\nPhoton.Eta                 TStreamerBasicType         asjagged(asdtype('>f4'))\nPhoton.Phi                 TStreamerBasicType         asjagged(asdtype('>f4'))\nPhoton.E                   TStreamerBasicType         asjagged(asdtype('>f4'))\nPhoton.T                   TStreamerBasicType         asjagged(asdtype('>f4'))\nPhoton.EhadOverEem         TStreamerBasicType         asjagged(asdtype('>f4'))\nPhoton.Particles           TStreamerInfo              asgenobj(SimpleArray(TRefArray))\nPhoton.IsolationVar        TStreamerBasicType         asjagged(asdtype('>f4'))\nPhoton.IsolationVarRhoCorr TStreamerBasicType         asjagged(asdtype('>f4'))\nPhoton.SumPtCharged        TStreamerBasicType         asjagged(asdtype('>f4'))\nPhoton.SumPtNeutral        TStreamerBasicType         asjagged(asdtype('>f4'))\nPhoton.SumPtChargedPU      TStreamerBasicType         asjagged(asdtype('>f4'))\nPhoton.SumPt               TStreamerBasicType         asjagged(asdtype('>f4'))\nPhoton.Status              TStreamerBasicType         asjagged(asdtype('>i4'))\n\nPhoton_size                (no streamer)              asdtype('>i4')\nMuon                       TStreamerInfo              asdtype('>i4')\nMuon.fUniqueID             TStreamerBasicType         asjagged(asdtype('>u4'))\nMuon.fBits                 TStreamerBasicType         asjagged(asdtype('>u4'))\nMuon.PT                    TStreamerBasicType         asjagged(asdtype('>f4'))\nMuon.Eta                   TStreamerBasicType         asjagged(asdtype('>f4'))\nMuon.Phi                   TStreamerBasicType         asjagged(asdtype('>f4'))\nMuon.T                     TStreamerBasicType         asjagged(asdtype('>f4'))\nMuon.Charge                TStreamerBasicType         asjagged(asdtype('>i4'))\nMuon.Particle              TStreamerInfo              asjagged(asobj(<uproot.rootio.TRef>))\nMuon.IsolationVar          TStreamerBasicType         asjagged(asdtype('>f4'))\nMuon.IsolationVarRhoCorr   TStreamerBasicType         asjagged(asdtype('>f4'))\nMuon.SumPtCharged          TStreamerBasicType         asjagged(asdtype('>f4'))\nMuon.SumPtNeutral          TStreamerBasicType         asjagged(asdtype('>f4'))\nMuon.SumPtChargedPU        TStreamerBasicType         asjagged(asdtype('>f4'))\nMuon.SumPt                 TStreamerBasicType         asjagged(asdtype('>f4'))\nMuon.D0                    TStreamerBasicType         asjagged(asdtype('>f4'))\nMuon.DZ                    TStreamerBasicType         asjagged(asdtype('>f4'))\nMuon.ErrorD0               TStreamerBasicType         asjagged(asdtype('>f4'))\nMuon.ErrorDZ               TStreamerBasicType         asjagged(asdtype('>f4'))\n\nMuon_size                  (no streamer)              asdtype('>i4')\nMissingET                  TStreamerInfo              asdtype('>i4')\nMissingET.fUniqueID        TStreamerBasicType         asjagged(asdtype('>u4'))\nMissingET.fBits            TStreamerBasicType         asjagged(asdtype('>u4'))\nMissingET.MET              TStreamerBasicType         asjagged(asdtype('>f4'))\nMissingET.Eta              TStreamerBasicType         asjagged(asdtype('>f4'))\nMissingET.Phi              TStreamerBasicType         asjagged(asdtype('>f4'))\n\nMissingET_size             (no streamer)              asdtype('>i4')\nScalarHT                   TStreamerInfo              asdtype('>i4')\nScalarHT.fUniqueID         TStreamerBasicType         asjagged(asdtype('>u4'))\nScalarHT.fBits             TStreamerBasicType         asjagged(asdtype('>u4'))\nScalarHT.HT                TStreamerBasicType         asjagged(asdtype('>f4'))\n\nScalarHT_size              (no streamer)              asdtype('>i4')\n"
    }
   ],
   "source": [
    "data  = uproot.open('./tag_1_delphes_events.root')['Delphes']\n",
    "data.show()"
   ]
  },
  {
   "cell_type": "code",
   "execution_count": 11,
   "metadata": {},
   "outputs": [
    {
     "output_type": "stream",
     "name": "stdout",
     "text": "1008 1008 1008\n"
    }
   ],
   "source": [
    "class particle_properties():\n",
    "    def __init__(self, data):\n",
    "        self.event = data.array('Event')\n",
    "        self.pt = data.array('Particle.PT')\n",
    "        self.eta = data.array('Particle.Eta')\n",
    "        self.phi = data.array('Particle.Phi')\n",
    "        self.pid = data.array('Particle.PID')\n",
    "        self.M1 = data.array('Particle.M1')\n",
    "        self.M2 = data.array('Particle.M2')\n",
    "        self.D1 = data.array('Particle.D1')\n",
    "        self.D2 = data.array('Particle.D2')\n",
    "        self.status = data.array('Particle.Status')\n",
    "        self.rapidity = data.array('Particle.Rapidity')\n",
    "        self.mass = data.array('Particle.Mass')\n",
    "        self.charge = data.array('Particle.Charge')\n",
    "        print(len(self.pt[0]), len(self.eta[0]), len(self.M1[0]))\n",
    "    def dataframelize(self, index):\n",
    "        \n",
    "        idx = np.linspace(0, len( self.pt[index])-1, num = len( self.pt[index]) )\n",
    "\n",
    "        patron_dict = {\n",
    "                \"Index\": idx,\n",
    "                \"Status\":  self.status[index],\n",
    "                \"Mother_1\":  self.M1[index],\n",
    "                \"Mother_2\":  self.M2[index],\n",
    "                \"Daughter_1\":  self.D1[index],\n",
    "                \"Daughter_2\":  self.D2[index],\n",
    "                \"PID\":  self.pid[index],\n",
    "                \"PT\":  self.pt[index],\n",
    "                \"Eta\":  self.eta[index],\n",
    "                \"Phi\":  self.phi[index],\n",
    "                \"Mass\":  self.mass[index]\n",
    "            }\n",
    "        patron_df = pd.DataFrame(patron_dict)\n",
    "        return patron_df\n",
    "\n",
    "particle = particle_properties(data)\n",
    "\n",
    "df0 = particle.dataframelize(0)\n",
    "df1 = particle.dataframelize(1)\n",
    "df2 = particle.dataframelize(2)\n",
    "\n",
    "\n",
    "\n",
    "\n"
   ]
  },
  {
   "cell_type": "code",
   "execution_count": 12,
   "metadata": {},
   "outputs": [
    {
     "output_type": "stream",
     "name": "stdout",
     "text": "10000 10000 6\n"
    }
   ],
   "source": [
    "class jet_properties():\n",
    "    def __init__(self, data):\n",
    "        self.event = data.array('Event')\n",
    "        self.pt = data.array('Jet.PT')\n",
    "        self.eta = data.array('Jet.Eta')\n",
    "        self.phi = data.array('Jet.Phi')\n",
    "        self.btag = data.array('Jet.BTag')\n",
    "        self.area = data.array('Jet.Area')\n",
    "        self.mass = data.array('Jet.Mass')\n",
    "        self.charge = data.array('Jet.Charge')\n",
    "jet = jet_properties(data)\n",
    "\n",
    "print(len(jet.event), len(jet.pt), len(jet.pt[0]))"
   ]
  },
  {
   "cell_type": "code",
   "execution_count": 13,
   "metadata": {},
   "outputs": [],
   "source": [
    "def shift_particle_tracing(dataset, PID_d, idx):\n",
    "    if (dataset.iloc[idx,6] == PID_d):\n",
    "        return dataset.iloc[idx,4]\n",
    "\n",
    "def particle_tracing(dataset, PID, STATUS):\n",
    "\n",
    "    for i in range(len(dataset)):\n",
    "        if(dataset.iloc[i,1] == STATUS and dataset.iloc[i,6] == PID ): \n",
    "            daughter_index = int(dataset.iloc[i,0])\n",
    "    if( dataset.iloc[daughter_index,6] == PID ):\n",
    "        shifted_particle_index = dataset.iloc[daughter_index, 4]\n",
    "\n",
    "\n",
    "    while dataset.iloc[shifted_particle_index,6] == PID:\n",
    "            init_shifted_particle_index = shifted_particle_index\n",
    "            shifted_particle_index = shift_particle_tracing(dataset, PID, init_shifted_particle_index)       \n",
    "\n",
    "    dauthter_idx_1 = dataset.iloc[init_shifted_particle_index, 4]\n",
    "    daughter_pid_1 = dataset.iloc[dauthter_idx_1, 6]\n",
    "\n",
    "    dauthter_idx_2 = dataset.iloc[init_shifted_particle_index, 5]\n",
    "    daughter_pid_2 = dataset.iloc[dauthter_idx_2, 6]\n",
    "\n",
    "    return init_shifted_particle_index, dauthter_idx_1, daughter_pid_1, dauthter_idx_2, daughter_pid_2\n",
    "\n",
    "PID_W_plus = 24 \n",
    "PID_W_minus = -24\n",
    "PID_DOWN = 1\n",
    "PID_DOWN_VAR = -1\n",
    "PID_UP = 2\n",
    "PID_UP_BAR = -2\n",
    "PID_STRANGE = 3\n",
    "PID_STRANGE_BAR = -3\n",
    "PID_CHARM = 4\n",
    "PID_CHARM_BAR = -4\n",
    "PID_BOTTOM = 5\n",
    "PID_BOTTOM_BAR = -5\n",
    "PID_TOP = 6\n",
    "PID_TOP_BAR = -6\n",
    "\n",
    "top_idx = np.zeros(len(particle.event))\n",
    "top_daughter_idx_1 = np.zeros(len(particle.event))\n",
    "top_daughter_pid_1 = np.zeros(len(particle.event))\n",
    "top_daughter_idx_2 = np.zeros(len(particle.event))\n",
    "top_daughter_pid_2 = np.zeros(len(particle.event))\n",
    "\n",
    "top_bar_idx = np.zeros(len(particle.event))\n",
    "top_bar_daughter_idx_1 = np.zeros(len(particle.event))\n",
    "top_bar_daughter_pid_1 = np.zeros(len(particle.event))\n",
    "top_bar_daughter_idx_2 = np.zeros(len(particle.event))\n",
    "top_bar_daughter_pid_2 = np.zeros(len(particle.event))\n"
   ]
  },
  {
   "cell_type": "code",
   "execution_count": 14,
   "metadata": {},
   "outputs": [],
   "source": [
    "for i in range(len(particle.event)):\n",
    "    top_idx[i], top_daughter_idx_1[i], top_daughter_pid_1[i], top_daughter_idx_2[i], top_daughter_pid_2[i] = particle_tracing(particle.dataframelize(i), PID_TOP, 22)\n",
    "    top_bar_idx[i], top_bar_daughter_idx_1[i], top_bar_daughter_pid_1[i], top_bar_daughter_idx_2[i], top_bar_daughter_pid_2[i] = particle_tracing(particle.dataframelize(i), PID_TOP_BAR, 22)"
   ]
  },
  {
   "cell_type": "code",
   "execution_count": 7,
   "metadata": {},
   "outputs": [
    {
     "output_type": "error",
     "ename": "NameError",
     "evalue": "name 'particle' is not defined",
     "traceback": [
      "\u001b[0;31m---------------------------------------------------------------------------\u001b[0m",
      "\u001b[0;31mNameError\u001b[0m                                 Traceback (most recent call last)",
      "\u001b[0;32m<ipython-input-7-d8fe221faef1>\u001b[0m in \u001b[0;36m<module>\u001b[0;34m\u001b[0m\n\u001b[0;32m----> 1\u001b[0;31m \u001b[0mquark_idx_1\u001b[0m \u001b[0;34m=\u001b[0m \u001b[0mnp\u001b[0m\u001b[0;34m.\u001b[0m\u001b[0mzeros\u001b[0m\u001b[0;34m(\u001b[0m\u001b[0mlen\u001b[0m\u001b[0;34m(\u001b[0m\u001b[0mparticle\u001b[0m\u001b[0;34m.\u001b[0m\u001b[0mevent\u001b[0m\u001b[0;34m)\u001b[0m\u001b[0;34m)\u001b[0m\u001b[0;34m\u001b[0m\u001b[0;34m\u001b[0m\u001b[0m\n\u001b[0m\u001b[1;32m      2\u001b[0m \u001b[0;34m\u001b[0m\u001b[0m\n\u001b[1;32m      3\u001b[0m \u001b[0mquark_idx_2\u001b[0m \u001b[0;34m=\u001b[0m \u001b[0mnp\u001b[0m\u001b[0;34m.\u001b[0m\u001b[0mzeros\u001b[0m\u001b[0;34m(\u001b[0m\u001b[0mlen\u001b[0m\u001b[0;34m(\u001b[0m\u001b[0mparticle\u001b[0m\u001b[0;34m.\u001b[0m\u001b[0mevent\u001b[0m\u001b[0;34m)\u001b[0m\u001b[0;34m)\u001b[0m\u001b[0;34m\u001b[0m\u001b[0;34m\u001b[0m\u001b[0m\n\u001b[1;32m      4\u001b[0m \u001b[0;34m\u001b[0m\u001b[0m\n\u001b[1;32m      5\u001b[0m \u001b[0mquark_idx_3\u001b[0m \u001b[0;34m=\u001b[0m \u001b[0mnp\u001b[0m\u001b[0;34m.\u001b[0m\u001b[0mzeros\u001b[0m\u001b[0;34m(\u001b[0m\u001b[0mlen\u001b[0m\u001b[0;34m(\u001b[0m\u001b[0mparticle\u001b[0m\u001b[0;34m.\u001b[0m\u001b[0mevent\u001b[0m\u001b[0;34m)\u001b[0m\u001b[0;34m)\u001b[0m\u001b[0;34m\u001b[0m\u001b[0;34m\u001b[0m\u001b[0m\n",
      "\u001b[0;31mNameError\u001b[0m: name 'particle' is not defined"
     ]
    }
   ],
   "source": [
    "quark_idx_1 = np.zeros(len(particle.event))\n",
    "\n",
    "quark_idx_2 = np.zeros(len(particle.event))\n",
    "\n",
    "quark_idx_3 = np.zeros(len(particle.event))\n",
    "\n",
    "quark_idx_4 = np.zeros(len(particle.event))\n",
    "\n",
    "def quark_finder(dataset, mother_idx):\n",
    "\n",
    "    print(\"Mother index: {0}\".format(mother_idx))\n",
    "    \n",
    "    \n",
    "\n",
    "    daughter_idx_1 = dataset.iloc[int(mother_idx), 4]\n",
    "    daughter_idx_2 = dataset.iloc[int(mother_idx), 5]\n",
    "\n",
    "    status = dataset.iloc[int(daughter_idx_1),1]\n",
    "    print(\"Daughter's of t/t~'s status code: {0}\".format(status))\n",
    "\n",
    "    while status != 23 :\n",
    "        mother_idx = daughter_idx_1\n",
    "        daughter_idx_1 = dataset.iloc[int(mother_idx), 4]\n",
    "        daughter_idx_2 = dataset.iloc[int(mother_idx), 5]\n",
    "        status = dataset.iloc[int(daughter_idx_1), 1]\n",
    "        #print(\"2nd stage daughter status code: {0}\".format(status))\n",
    "\n",
    "    \n",
    "    daughter_pid_1 = dataset.iloc[daughter_idx_1, 6]\n",
    "    daughter_pid_2 = dataset.iloc[daughter_idx_2, 6]\n",
    "    \n",
    "    print(\"Daughter 1 index: {0}, daughter 2 index: {1}\".format(daughter_idx_1, daughter_idx_2))\n",
    "    print(\"Daughter 1 PID: {0}, daughter 2 PID: {1}\".format(daughter_pid_1, daughter_pid_2))\n",
    "    \n",
    "    return int(daughter_idx_1), int(daughter_idx_2)\n",
    "\n",
    "for i in range(len(particle.event)):\n",
    "    quark_idx_1[i], quark_idx_2[i] = quark_finder(particle.dataframelize(i), top_daughter_idx_1[i])\n",
    "    quark_idx_3[i], quark_idx_4[i] = quark_finder(particle.dataframelize(i), top_bar_daughter_idx_1[i])"
   ]
  },
  {
   "cell_type": "code",
   "execution_count": 8,
   "metadata": {},
   "outputs": [
    {
     "output_type": "error",
     "ename": "NameError",
     "evalue": "name 'particle' is not defined",
     "traceback": [
      "\u001b[0;31m---------------------------------------------------------------------------\u001b[0m",
      "\u001b[0;31mNameError\u001b[0m                                 Traceback (most recent call last)",
      "\u001b[0;32m<ipython-input-8-cc9c8839dcd7>\u001b[0m in \u001b[0;36m<module>\u001b[0;34m\u001b[0m\n\u001b[1;32m     32\u001b[0m \u001b[0mquarks_in_each_event\u001b[0m \u001b[0;34m=\u001b[0m \u001b[0;34m[\u001b[0m\u001b[0;34m]\u001b[0m\u001b[0;34m\u001b[0m\u001b[0;34m\u001b[0m\u001b[0m\n\u001b[1;32m     33\u001b[0m \u001b[0;34m\u001b[0m\u001b[0m\n\u001b[0;32m---> 34\u001b[0;31m \u001b[0;32mfor\u001b[0m \u001b[0mi\u001b[0m \u001b[0;32min\u001b[0m \u001b[0mrange\u001b[0m\u001b[0;34m(\u001b[0m\u001b[0mlen\u001b[0m\u001b[0;34m(\u001b[0m\u001b[0mparticle\u001b[0m\u001b[0;34m.\u001b[0m\u001b[0mevent\u001b[0m\u001b[0;34m)\u001b[0m\u001b[0;34m)\u001b[0m\u001b[0;34m:\u001b[0m\u001b[0;34m\u001b[0m\u001b[0;34m\u001b[0m\u001b[0m\n\u001b[0m\u001b[1;32m     35\u001b[0m     \u001b[0mprint\u001b[0m\u001b[0;34m(\u001b[0m\u001b[0mi\u001b[0m\u001b[0;34m,\u001b[0m \u001b[0mparticle\u001b[0m\u001b[0;34m.\u001b[0m\u001b[0mdataframelize\u001b[0m\u001b[0;34m(\u001b[0m\u001b[0mi\u001b[0m\u001b[0;34m)\u001b[0m\u001b[0;34m,\u001b[0m \u001b[0mquark_idx_1\u001b[0m\u001b[0;34m[\u001b[0m\u001b[0mi\u001b[0m\u001b[0;34m]\u001b[0m\u001b[0;34m,\u001b[0m \u001b[0mquark_idx_2\u001b[0m\u001b[0;34m[\u001b[0m\u001b[0mi\u001b[0m\u001b[0;34m]\u001b[0m\u001b[0;34m,\u001b[0m \u001b[0mquark_idx_3\u001b[0m\u001b[0;34m[\u001b[0m\u001b[0mi\u001b[0m\u001b[0;34m]\u001b[0m\u001b[0;34m,\u001b[0m \u001b[0mquark_idx_4\u001b[0m\u001b[0;34m[\u001b[0m\u001b[0mi\u001b[0m\u001b[0;34m]\u001b[0m\u001b[0;34m)\u001b[0m\u001b[0;34m\u001b[0m\u001b[0;34m\u001b[0m\u001b[0m\n\u001b[1;32m     36\u001b[0m     \u001b[0;31m#quarks_in_each_event.append( quark(i, particle.dataframelize(i), quark_idx_1[i], quark_idx_2[i], quark_idx_3[i], quark_idx_4[i]))\u001b[0m\u001b[0;34m\u001b[0m\u001b[0;34m\u001b[0m\u001b[0;34m\u001b[0m\u001b[0m\n",
      "\u001b[0;31mNameError\u001b[0m: name 'particle' is not defined"
     ]
    }
   ],
   "source": [
    "class quark():\n",
    "    def __init__(self, event_id, dataset, idx1, idx2, idx3, idx4):\n",
    "        self.event =  event_id\n",
    "        self.q_1_idx = dataset.iloc[idx1, 0]\n",
    "        self.q_1_pid = dataset.iloc[idx1, 6]\n",
    "        self.q_1_pt = dataset.iloc[idx1, 7]\n",
    "        self.q_1_eta = dataset.iloc[idx1, 8]\n",
    "        self.q_1_phi = dataset.iloc[idx1, 9]\n",
    "        self.q_1_mass = dataset.iloc[idx1, 10]\n",
    "\n",
    "        self.q_1_idx = dataset.iloc[idx2, 0]\n",
    "        self.q_1_pid = dataset.iloc[idx2, 6]\n",
    "        self.q_1_pt = dataset.iloc[idx2, 7]\n",
    "        self.q_1_eta = dataset.iloc[idx2, 8]\n",
    "        self.q_1_phi = dataset.iloc[idx2, 9]\n",
    "        self.q_1_mass = dataset.iloc[idx2, 10]\n",
    "\n",
    "        self.q_1_idx = dataset.iloc[idx3, 0]\n",
    "        self.q_1_pid = dataset.iloc[idx3, 6]\n",
    "        self.q_1_pt = dataset.iloc[idx3, 7]\n",
    "        self.q_1_eta = dataset.iloc[idx3, 8]\n",
    "        self.q_1_phi = dataset.iloc[idx3, 9]\n",
    "        self.q_1_mass = dataset.iloc[idx3, 10]\n",
    "\n",
    "        self.q_1_idx = dataset.iloc[idx4, 0]\n",
    "        self.q_1_pid = dataset.iloc[idx4, 6]\n",
    "        self.q_1_pt = dataset.iloc[idx4, 7]\n",
    "        self.q_1_eta = dataset.iloc[idx4, 8]\n",
    "        self.q_1_phi = dataset.iloc[idx4, 9]\n",
    "        self.q_1_mass = dataset.iloc[idx4, 10]\n",
    "\n",
    "quarks_in_each_event = []\n",
    "\n",
    "for i in range(len(particle.event)):\n",
    "    print(i, particle.dataframelize(i), quark_idx_1[i], quark_idx_2[i], quark_idx_3[i], quark_idx_4[i])\n",
    "    #quarks_in_each_event.append( quark(i, particle.dataframelize(i), quark_idx_1[i], quark_idx_2[i], quark_idx_3[i], quark_idx_4[i]))"
   ]
  },
  {
   "cell_type": "code",
   "execution_count": null,
   "metadata": {},
   "outputs": [],
   "source": []
  }
 ],
 "metadata": {
  "language_info": {
   "codemirror_mode": {
    "name": "ipython",
    "version": 3
   },
   "file_extension": ".py",
   "mimetype": "text/x-python",
   "name": "python",
   "nbconvert_exporter": "python",
   "pygments_lexer": "ipython3",
   "version": "3.6.8-final"
  },
  "orig_nbformat": 2,
  "kernelspec": {
   "name": "python36864bit977419ca29e34d3eb6a966b0be7b24a5",
   "display_name": "Python 3.6.8 64-bit"
  }
 },
 "nbformat": 4,
 "nbformat_minor": 2
}