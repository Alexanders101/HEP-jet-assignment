{
 "cells": [
  {
   "source": [
    "# HEP Jet assignment project - Data analysis and particle finding script"
   ],
   "cell_type": "markdown",
   "metadata": {}
  },
  {
   "source": [
    "## Import essential packages.\n",
    "---\n",
    "* We will use [uproot](https://github.com/scikit-hep/uproot) packages to parse our .root file.\n",
    "* The content of function `particle properties` and `jet properties` is defined in `particle_properties.py` and `jet_properties.py`."
   ],
   "cell_type": "markdown",
   "metadata": {}
  },
  {
   "cell_type": "code",
   "execution_count": 2,
   "metadata": {},
   "outputs": [],
   "source": [
    "import uproot\n",
    "import pandas as pd \n",
    "import numpy as np \n",
    "from particle_properties_uproot import particle_properties  #import particle properties helper function from particle_properties.py\n",
    "from jet_properties_uproot import jet_properties  #import jet properties helper function from jet_properties.py\n",
    "import h5py"
   ]
  },
  {
   "source": [
    "## Loading data, determine parameters, and assign variable\n",
    "---"
   ],
   "cell_type": "markdown",
   "metadata": {}
  },
  {
   "cell_type": "code",
   "execution_count": 3,
   "metadata": {
    "tags": [
     "outputPrepend",
     "outputPrepend"
    ]
   },
   "outputs": [],
   "source": [
    "data  = uproot.open('./tag_1_delphes_events.root')['Delphes']\n",
    "#data.show()\n",
    "\n",
    "particle = particle_properties(data)\n",
    "jet = jet_properties(data)\n",
    "\n",
    "Length = len(particle.event)\n",
    "test_length = 10\n",
    "\n",
    "PID_W_plus = 24 \n",
    "PID_W_minus = -24\n",
    "PID_DOWN = 1\n",
    "PID_DOWN_VAR = -1\n",
    "PID_UP = 2\n",
    "PID_UP_BAR = -2\n",
    "PID_STRANGE = 3\n",
    "PID_STRANGE_BAR = -3\n",
    "PID_CHARM = 4\n",
    "PID_CHARM_BAR = -4\n",
    "PID_BOTTOM = 5\n",
    "PID_BOTTOM_BAR = -5\n",
    "PID_TOP = 6\n",
    "PID_TOP_BAR = -6\n",
    "\n",
    "top_idx = np.zeros(len(particle.event))\n",
    "top_daughter_idx_1 = np.zeros(len(particle.event))\n",
    "top_daughter_pid_1 = np.zeros(len(particle.event))\n",
    "top_daughter_idx_2 = np.zeros(len(particle.event))\n",
    "top_daughter_pid_2 = np.zeros(len(particle.event))\n",
    "\n",
    "top_bar_idx = np.zeros(len(particle.event))\n",
    "top_bar_daughter_idx_1 = np.zeros(len(particle.event))\n",
    "top_bar_daughter_pid_1 = np.zeros(len(particle.event))\n",
    "top_bar_daughter_idx_2 = np.zeros(len(particle.event))\n",
    "top_bar_daughter_pid_2 = np.zeros(len(particle.event))\n",
    "\n",
    "W_plus_idx = np.zeros(len(particle.event))\n",
    "W_minus_idx = np.zeros(len(particle.event))\n",
    "\n",
    "b_quark = np.zeros(len(particle.event))\n",
    "b_bar_quark = np.zeros(len(particle.event))\n",
    "\n",
    "quark_idx_1 = np.zeros(len(particle.event))\n",
    "quark_idx_2 = np.zeros(len(particle.event))\n",
    "quark_idx_3 = np.zeros(len(particle.event))\n",
    "quark_idx_4 = np.zeros(len(particle.event))"
   ]
  },
  {
   "cell_type": "code",
   "execution_count": 3,
   "metadata": {},
   "outputs": [],
   "source": [
    "# frame = np.zeros((1, 60, 80))\n",
    "# with h5py.File('mytestfile.hdf5','w') as f:\n",
    "#     dset = f.create_dataset('video', data=frame, maxshape=(None, 60, 80), chunks=True)\n",
    "# with h5py.File(\"mytestfile.hdf5\", \"r\") as f:\n",
    "#     print(f.keys())"
   ]
  },
  {
   "source": [
    "## Event selection \n",
    "---\n",
    "1. Must contain:\n",
    "    * At least 2 b tagged jet.\n",
    "    * At least 6 jet exists.\n",
    "    * For each jet, require |$\\eta$| < 2.4 and $P_{T}$ > 20GeV. "
   ],
   "cell_type": "markdown",
   "metadata": {}
  },
  {
   "cell_type": "code",
   "execution_count": 7,
   "metadata": {
    "tags": [
     "outputPrepend",
     "outputPrepend",
     "outputPrepend",
     "outputPrepend",
     "outputPrepend"
    ]
   },
   "outputs": [
    {
     "output_type": "stream",
     "name": "stderr",
     "text": "/usr/local/lib64/python3.6/site-packages/numpy/core/_asarray.py:136: VisibleDeprecationWarning: Creating an ndarray from ragged nested sequences (which is a list-or-tuple of lists-or-tuples-or ndarrays with different lengths or shapes) is deprecated. If you meant to do this, you must specify 'dtype=object' when creating the ndarray\n  return array(a, dtype, copy=False, order=order, subok=True)\n"
    }
   ],
   "source": [
    "#Generate maker for each stage(event selection and jet selection.)\n",
    "marker_event = []\n",
    "marker_jet = []\n",
    "\n",
    "for i in range(len(jet.event)):\n",
    "    marker_event.append(0)\n",
    "    marker_jet.append(np.zeros([len(jet.pt[i])]))\n",
    "\n",
    "\n",
    "marker_event = np.asanyarray(marker_event)\n",
    "marker_jet = np.asanyarray(marker_jet)\n",
    "\n",
    "#print(type(marker_1), type(marker_2), type(marker_merge))\n",
    "#print(marker_1[4].shape, marker_2.shape, marker_merge.shape)"
   ]
  },
  {
   "cell_type": "code",
   "execution_count": 10,
   "metadata": {},
   "outputs": [
    {
     "output_type": "stream",
     "name": "stdout",
     "text": "+-----------------------------------------------------------------------------------------------------+\nStart event selection.\nEvent selection doen.\n+-----------------------------------------------------------------------------------------------------+\n+-----------------------------------------------------------------------------------------------------+\nStart jet selection.\nJet selection doen.\n+-----------------------------------------------------------------------------------------------------+\n"
    }
   ],
   "source": [
    "#Mark which event pass the selection\n",
    "print(\"+-----------------------------------------------------------------------------------------------------+\")\n",
    "print(\"Start event selection.\")\n",
    "for i in range(len(jet.event)):\n",
    "    min_pt = np.min(jet.pt[i])\n",
    "    num_of_eta_in_range = np.sum(jet.eta[i] < 2.4 ) \n",
    "    num_of_jet = len(jet.pt[i])\n",
    "    num_of_btagged = np.sum(jet.btag[i] == 1)\n",
    "    if min_pt > 20 and num_of_eta_in_range >= 6 and num_of_jet >=6 and num_of_btagged >= 2: \n",
    "        marker_event[i] = 1\n",
    "    else :\n",
    "        pass\n",
    "print(\"Event selection doen.\")\n",
    "print(\"+-----------------------------------------------------------------------------------------------------+\")\n",
    "\n",
    "#Mark which jet in each event pass the selection.\n",
    "print(\"+-----------------------------------------------------------------------------------------------------+\")\n",
    "print(\"Start jet selection.\")\n",
    "for i in range(len(jet.event)):\n",
    "    for j in range(len(jet.pt[i])):\n",
    "        if marker_event[i] == 1:\n",
    "            if jet.btag[i][j] == 1 and jet.pt[i][j] > 20 and jet.eta[i][j] <= 2.4:\n",
    "                marker_jet[i] == 1\n",
    "                marker_jet[i][j] == 1 \n",
    "            else :\n",
    "                pass\n",
    "        else :\n",
    "            pass \n",
    "print(\"Jet selection doen.\")\n",
    "print(\"+-----------------------------------------------------------------------------------------------------+\")"
   ]
  },
  {
   "cell_type": "code",
   "execution_count": 11,
   "metadata": {},
   "outputs": [],
   "source": [
    "#df0 = particle.dataframelize(0)\n",
    "#df1 = particle.dataframelize(1)\n",
    "#df2 = particle.dataframelize(2)"
   ]
  },
  {
   "source": [
    "## Particle tracing and daughter finding section\n",
    "---"
   ],
   "cell_type": "markdown",
   "metadata": {}
  },
  {
   "cell_type": "code",
   "execution_count": 8,
   "metadata": {},
   "outputs": [],
   "source": [
    "def shift_particle_tracing(dataset, PID_d, idx):\n",
    "    if (dataset.iloc[idx,6] == PID_d):\n",
    "        return dataset.iloc[idx,4]\n",
    "\n",
    "def particle_tracing(dataset, PID, STATUS):\n",
    "\n",
    "    for i in range(len(dataset)):\n",
    "        if(dataset.iloc[i,1] == STATUS and dataset.iloc[i,6] == PID ): \n",
    "            daughter_index = int(dataset.iloc[i,0])\n",
    "    if( dataset.iloc[daughter_index,6] == PID ):\n",
    "        shifted_particle_index = dataset.iloc[daughter_index, 4]\n",
    "\n",
    "\n",
    "    while dataset.iloc[shifted_particle_index,6] == PID:\n",
    "            init_shifted_particle_index = shifted_particle_index\n",
    "            shifted_particle_index = shift_particle_tracing(dataset, PID, init_shifted_particle_index)       \n",
    "\n",
    "    dauthter_idx_1 = dataset.iloc[init_shifted_particle_index, 4]\n",
    "    daughter_pid_1 = dataset.iloc[dauthter_idx_1, 6]\n",
    "\n",
    "    dauthter_idx_2 = dataset.iloc[init_shifted_particle_index, 5]\n",
    "    daughter_pid_2 = dataset.iloc[dauthter_idx_2, 6]\n",
    "\n",
    "    return init_shifted_particle_index, dauthter_idx_1, daughter_pid_1, dauthter_idx_2, daughter_pid_2\n"
   ]
  },
  {
   "cell_type": "code",
   "execution_count": 9,
   "metadata": {},
   "outputs": [],
   "source": [
    "for i in range(0,10):\n",
    "    top_idx[i], top_daughter_idx_1[i], top_daughter_pid_1[i], top_daughter_idx_2[i], top_daughter_pid_2[i] = particle_tracing(particle.dataframelize(i), PID_TOP, 22)\n",
    "    top_bar_idx[i], top_bar_daughter_idx_1[i], top_bar_daughter_pid_1[i], top_bar_daughter_idx_2[i], top_bar_daughter_pid_2[i] = particle_tracing(particle.dataframelize(i), PID_TOP_BAR, 22)\n"
   ]
  },
  {
   "cell_type": "code",
   "execution_count": 10,
   "metadata": {},
   "outputs": [],
   "source": [
    "#Input two daughter of top/top_bar and find their daughter\n",
    "def quark_finder(dataset, mother_idx_1, mother_idx_2):\n",
    "    \n",
    "    #Specific two daughter of top\n",
    "    def W_b_specifier(dataset, input_1_idx, input_2_idx):\n",
    "        if dataset.iloc[int(input_1_idx),6] == PID_W_plus or dataset.iloc[int(input_1_idx),6] == PID_W_minus :\n",
    "            return int(input_1_idx), int(dataset.iloc[int(input_1_idx),6]), int(input_2_idx)\n",
    "        elif dataset.iloc[int(input_1_idx),6] == PID_BOTTOM or dataset.iloc[int(input_1_idx),6] == PID_BOTTOM_BAR :\n",
    "            return  int(input_2_idx), int(dataset.iloc[int(input_1_idx),6]), int(input_1_idx)\n",
    "        else :\n",
    "            print(\"Please check your data.\")\n",
    "    \n",
    "    W_boson_idx, mother_pid, b_quark_idx = W_b_specifier(dataset, mother_idx_1, mother_idx_2)\n",
    "    \n",
    "    #Find the two daughters of boson\n",
    "    \n",
    "    daughter_1_idx = dataset.iloc[W_boson_idx, 4]\n",
    "    daughter_1_pid = dataset.iloc[daughter_1_idx, 6]\n",
    "    daughter_2_idx = dataset.iloc[W_boson_idx, 5]\n",
    "    daughter_2_pid = dataset.iloc[daughter_2_idx, 6]\n",
    "\n",
    "    \n",
    "    if daughter_1_pid == mother_pid and daughter_2_pid == mother_pid:\n",
    "        init_idx = W_boson_idx\n",
    "        while daughter_1_pid == mother_pid:\n",
    "            daughter_1_idx = dataset.iloc[int(init_idx), 4]\n",
    "            daughter_1_pid = dataset.iloc[int(daughter_1_idx), 6]\n",
    "            init_idx = daughter_1_idx\n",
    "            print(\"Temporary daughter 1 indxe: {0}, PID: {1}\".format(daughter_1_idx, daughter_1_pid))\n",
    "        init_idx = W_boson_idx\n",
    "        while daughter_2_pid == mother_pid:\n",
    "            daughter_2_idx = dataset.iloc[int(init_idx), 5]\n",
    "            daughter_2_pid = dataset.iloc[int(daughter_2_idx), 6]\n",
    "            init_idx = daughter_2_idx\n",
    "            print(\"Temporary daughter 2 indxe: {0}, PID: {1}\".format(daughter_2_idx, daughter_2_pid))\n",
    "    \n",
    "    print(\"Found daughter 1 index: {0}, PID: {1}.\\nFound daughter 2 index: {2}, PID: {3}\".format(daughter_1_idx, daughter_1_pid, daughter_2_idx, daughter_2_pid))\n",
    "    return W_boson_idx, b_quark_idx, daughter_1_idx, daughter_2_idx"
   ]
  },
  {
   "cell_type": "code",
   "execution_count": 12,
   "metadata": {},
   "outputs": [
    {
     "output_type": "stream",
     "name": "stdout",
     "text": "+-----------------------------------------------------------------------------------------------------+\nStart parsing event : {0}\nStart to find top quark's daughters.\nTemporary daughter 1 indxe: 274, PID: 24\nTemporary daughter 1 indxe: 301, PID: 2\nTemporary daughter 2 indxe: 274, PID: 24\nTemporary daughter 2 indxe: 302, PID: -1\nFound daughter 1 index: 301, PID: 2.\nFound daughter 2 index: 302, PID: -1\n+-----------------------------------------------------------------------------------------------------+\nStart to find top_bar quark's daughters.\nTemporary daughter 1 indxe: 254, PID: -24\nTemporary daughter 1 indxe: 278, PID: 3\nTemporary daughter 2 indxe: 254, PID: -24\nTemporary daughter 2 indxe: 279, PID: -4\nFound daughter 1 index: 278, PID: 3.\nFound daughter 2 index: 279, PID: -4\n+-----------------------------------------------------------------------------------------------------+\n+-----------------------------------------------------------------------------------------------------+\nStart parsing event : {0}\nStart to find top quark's daughters.\nTemporary daughter 1 indxe: 362, PID: 24\nTemporary daughter 1 indxe: 395, PID: 2\nTemporary daughter 2 indxe: 362, PID: 24\nTemporary daughter 2 indxe: 396, PID: -1\nFound daughter 1 index: 395, PID: 2.\nFound daughter 2 index: 396, PID: -1\n+-----------------------------------------------------------------------------------------------------+\nStart to find top_bar quark's daughters.\nTemporary daughter 1 indxe: 391, PID: -24\nTemporary daughter 1 indxe: 421, PID: 1\nTemporary daughter 2 indxe: 391, PID: -24\nTemporary daughter 2 indxe: 422, PID: -2\nFound daughter 1 index: 421, PID: 1.\nFound daughter 2 index: 422, PID: -2\n+-----------------------------------------------------------------------------------------------------+\n+-----------------------------------------------------------------------------------------------------+\nStart parsing event : {0}\nStart to find top quark's daughters.\nTemporary daughter 1 indxe: 676, PID: 24\nTemporary daughter 1 indxe: 685, PID: 4\nTemporary daughter 2 indxe: 676, PID: 24\nTemporary daughter 2 indxe: 686, PID: -3\nFound daughter 1 index: 685, PID: 4.\nFound daughter 2 index: 686, PID: -3\n+-----------------------------------------------------------------------------------------------------+\nStart to find top_bar quark's daughters.\nFound daughter 1 index: 717, PID: 3.\nFound daughter 2 index: 718, PID: -4\n+-----------------------------------------------------------------------------------------------------+\n+-----------------------------------------------------------------------------------------------------+\nStart parsing event : {0}\nStart to find top quark's daughters.\nTemporary daughter 1 indxe: 1093, PID: 24\nTemporary daughter 1 indxe: 1135, PID: 4\nTemporary daughter 2 indxe: 1093, PID: 24\nTemporary daughter 2 indxe: 1136, PID: -3\nFound daughter 1 index: 1135, PID: 4.\nFound daughter 2 index: 1136, PID: -3\n+-----------------------------------------------------------------------------------------------------+\nStart to find top_bar quark's daughters.\nTemporary daughter 1 indxe: 1079, PID: -24\nTemporary daughter 1 indxe: 1103, PID: 1\nTemporary daughter 2 indxe: 1079, PID: -24\nTemporary daughter 2 indxe: 1104, PID: -2\nFound daughter 1 index: 1103, PID: 1.\nFound daughter 2 index: 1104, PID: -2\n+-----------------------------------------------------------------------------------------------------+\n+-----------------------------------------------------------------------------------------------------+\nStart parsing event : {0}\nStart to find top quark's daughters.\nTemporary daughter 1 indxe: 467, PID: 24\nTemporary daughter 1 indxe: 509, PID: 2\nTemporary daughter 2 indxe: 467, PID: 24\nTemporary daughter 2 indxe: 510, PID: -1\nFound daughter 1 index: 509, PID: 2.\nFound daughter 2 index: 510, PID: -1\n+-----------------------------------------------------------------------------------------------------+\nStart to find top_bar quark's daughters.\nTemporary daughter 1 indxe: 496, PID: -24\nTemporary daughter 1 indxe: 526, PID: 1\nTemporary daughter 2 indxe: 496, PID: -24\nTemporary daughter 2 indxe: 527, PID: -2\nFound daughter 1 index: 526, PID: 1.\nFound daughter 2 index: 527, PID: -2\n+-----------------------------------------------------------------------------------------------------+\n+-----------------------------------------------------------------------------------------------------+\nStart parsing event : {0}\nStart to find top quark's daughters.\nTemporary daughter 1 indxe: 1091, PID: 24\nTemporary daughter 1 indxe: 1115, PID: 4\nTemporary daughter 2 indxe: 1091, PID: 24\nTemporary daughter 2 indxe: 1116, PID: -3\nFound daughter 1 index: 1115, PID: 4.\nFound daughter 2 index: 1116, PID: -3\n+-----------------------------------------------------------------------------------------------------+\nStart to find top_bar quark's daughters.\nTemporary daughter 1 indxe: 1074, PID: -24\nTemporary daughter 1 indxe: 1095, PID: 3\nTemporary daughter 2 indxe: 1074, PID: -24\nTemporary daughter 2 indxe: 1096, PID: -4\nFound daughter 1 index: 1095, PID: 3.\nFound daughter 2 index: 1096, PID: -4\n+-----------------------------------------------------------------------------------------------------+\n+-----------------------------------------------------------------------------------------------------+\nStart parsing event : {0}\nStart to find top quark's daughters.\nTemporary daughter 1 indxe: 308, PID: 24\nTemporary daughter 1 indxe: 359, PID: 4\nTemporary daughter 2 indxe: 308, PID: 24\nTemporary daughter 2 indxe: 360, PID: -3\nFound daughter 1 index: 359, PID: 4.\nFound daughter 2 index: 360, PID: -3\n+-----------------------------------------------------------------------------------------------------+\nStart to find top_bar quark's daughters.\nTemporary daughter 1 indxe: 297, PID: -24\nTemporary daughter 1 indxe: 321, PID: 3\nTemporary daughter 2 indxe: 297, PID: -24\nTemporary daughter 2 indxe: 322, PID: -4\nFound daughter 1 index: 321, PID: 3.\nFound daughter 2 index: 322, PID: -4\n+-----------------------------------------------------------------------------------------------------+\n+-----------------------------------------------------------------------------------------------------+\nStart parsing event : {0}\nStart to find top quark's daughters.\nTemporary daughter 1 indxe: 352, PID: 24\nTemporary daughter 1 indxe: 370, PID: 4\nTemporary daughter 2 indxe: 352, PID: 24\nTemporary daughter 2 indxe: 371, PID: -3\nFound daughter 1 index: 370, PID: 4.\nFound daughter 2 index: 371, PID: -3\n+-----------------------------------------------------------------------------------------------------+\nStart to find top_bar quark's daughters.\nTemporary daughter 1 indxe: 363, PID: -24\nTemporary daughter 1 indxe: 367, PID: -24\nTemporary daughter 1 indxe: 399, PID: 3\nTemporary daughter 2 indxe: 363, PID: -24\nTemporary daughter 2 indxe: 368, PID: 22\nFound daughter 1 index: 399, PID: 3.\nFound daughter 2 index: 368, PID: 22\n+-----------------------------------------------------------------------------------------------------+\n+-----------------------------------------------------------------------------------------------------+\nStart parsing event : {0}\nStart to find top quark's daughters.\nTemporary daughter 1 indxe: 407, PID: 24\nTemporary daughter 1 indxe: 446, PID: 4\nTemporary daughter 2 indxe: 407, PID: 24\nTemporary daughter 2 indxe: 447, PID: -3\nFound daughter 1 index: 446, PID: 4.\nFound daughter 2 index: 447, PID: -3\n+-----------------------------------------------------------------------------------------------------+\nStart to find top_bar quark's daughters.\nTemporary daughter 1 indxe: 360, PID: -24\nTemporary daughter 1 indxe: 400, PID: -24\nTemporary daughter 1 indxe: 414, PID: 1\nTemporary daughter 2 indxe: 360, PID: -24\nTemporary daughter 2 indxe: 401, PID: 22\nFound daughter 1 index: 414, PID: 1.\nFound daughter 2 index: 401, PID: 22\n+-----------------------------------------------------------------------------------------------------+\n+-----------------------------------------------------------------------------------------------------+\nStart parsing event : {0}\nStart to find top quark's daughters.\nTemporary daughter 1 indxe: 847, PID: 24\nTemporary daughter 1 indxe: 874, PID: 4\nTemporary daughter 2 indxe: 847, PID: 24\nTemporary daughter 2 indxe: 875, PID: -3\nFound daughter 1 index: 874, PID: 4.\nFound daughter 2 index: 875, PID: -3\n+-----------------------------------------------------------------------------------------------------+\nStart to find top_bar quark's daughters.\nFound daughter 1 index: 854, PID: 3.\nFound daughter 2 index: 855, PID: -4\n+-----------------------------------------------------------------------------------------------------+\n"
    }
   ],
   "source": [
    "for i in range(0,10):\n",
    "    print(\"+-----------------------------------------------------------------------------------------------------+\")\n",
    "    print(\"Start parsing event : {0}\\nStart to find top quark's daughters.\")\n",
    "    W_plus_idx[i], b_quark[i], quark_idx_1[i], quark_idx_2[i] = quark_finder(particle.dataframelize(i), top_daughter_idx_1[i], top_daughter_idx_2[i])\n",
    "    print(\"+------------------------------------------------------~-----------------------------------------------+\")\n",
    "    print(\"Start to find top_bar quark's daughters.\")\n",
    "    W_minus_idx[i], b_bar_quark[i], quark_idx_3[i], quark_idx_4[i] = quark_finder(particle.dataframelize(i), top_bar_daughter_idx_1[i], top_bar_daughter_idx_2[i])\n",
    "    print(\"+-----------------------------------------------------------------------------------------------------+\")"
   ]
  },
  {
   "source": [
    "## Patron-jet matching section\n",
    "---"
   ],
   "cell_type": "markdown",
   "metadata": {}
  },
  {
   "cell_type": "code",
   "execution_count": 14,
   "metadata": {},
   "outputs": [],
   "source": [
    "new_jet_idx = []\n",
    "new_jet_pt = []\n",
    "new_jet_eta = []\n",
    "new_jet_phi = []\n",
    "new_jet_Btag = []\n",
    "new_jet_Area = []\n",
    "new_jet_mass = []\n",
    "\n",
    "# new_patron_idx = []\n",
    "# new_partron_index = []\n",
    "# new_partron_status = []\n",
    "# new_partron_PID = []\n",
    "# new_partron_pt = []\n",
    "# new_partron_eta = []\n",
    "# new_partron_phi = []\n",
    "# new_partron_mass = []\n",
    "\n",
    "idx = np.linspace(0, len( jet.pt[0])-1, num = len( jet.pt[0]) )\n",
    "\n",
    "b_quark_4_vector = np.zeros([len(new_jet_idx), 4])\n",
    "b_bar_quark_4_vector = np.zeros([len(new_jet_idx), 4])\n",
    "\n",
    "patron_1_4_vector = np.zeros([len(new_jet_idx), 4])\n",
    "patron_2_4_vector = np.zeros([len(new_jet_idx), 4])\n",
    "patron_3_4_vector = np.zeros([len(new_jet_idx), 4])\n",
    "patron_4_4_vector = np.zeros([len(new_jet_idx), 4])\n",
    "PDGID = np.zeros([len(new_jet_idx), 6])\n"
   ]
  },
  {
   "cell_type": "code",
   "execution_count": 15,
   "metadata": {},
   "outputs": [],
   "source": [
    "for i in range(len(jet.event)):\n",
    "    if marker[i] == 1:\n",
    "        new_jet_idx.append(idx)\n",
    "        new_jet_pt.append(jet.pt[i])\n",
    "        new_jet_eta.append(jet.eta[i])\n",
    "        new_jet_phi.append(jet.phi[i])\n",
    "        new_jet_Btag.append(jet.btag[i])\n",
    "        new_jet_mass.append(jet.mass[i])\n",
    "\n",
    "        b_quark_4_vector\n",
    "        patron_1_4_vector\n",
    "        patron_2_4_vector\n",
    "        b_bar_quark_4_vector\n",
    "        patron_3_4_vector\n",
    "        patron_4_4_vector\n",
    "        PDGID"
   ]
  },
  {
   "cell_type": "code",
   "execution_count": 10,
   "metadata": {},
   "outputs": [],
   "source": [
    "def deltaPhi(phi1,phi2):\n",
    "    phi = phi1-phi2\n",
    "    while phi >= np.pi: phi -= np.pi*2.\n",
    "    while phi < -np.pi: phi += np.pi*2.\n",
    "    return phi\n",
    "\n",
    "def delta_R(eta1, phi1, eta2, phi2):\n",
    "    return np.sqrt(deltaPhi(phi1,phi2)**2+(eta1-eta2)**2)\n",
    "\n",
    "def min_delta_R(target_1, target_2):\n",
    "    pass\n",
    "\n",
    "quark_in_each_event = np.zeros([len(particle.event), 4, 6])\n",
    "\n",
    "dR_patron_jet = np.zeros([len(particle.event), 4])\n",
    "dR_patron_patron = np.zeros([len(particle.event), 6])"
   ]
  },
  {
   "source": [
    "## Saved selected events\n",
    "---"
   ],
   "cell_type": "markdown",
   "metadata": {}
  },
  {
   "cell_type": "code",
   "execution_count": null,
   "metadata": {},
   "outputs": [],
   "source": [
    "#Save the event which pass the selection\n",
    "with h5py.File(\"event_record.h5\",'r') as f:\n",
    "    group_jet = f.create_group('jet')\n",
    "    group_jet['Patron_Index'] = \n",
    "    group_jet['Pt'] = new_jet_pt\n",
    "    group_jet['Eta'] = new_jet_eta\n",
    "    group_jet['Phi'] = new_jet_phi\n",
    "    group_jet['BTag'] = new_jet_Btag\n",
    "    group_jet['Mass'] = new_jet_mass\n",
    "\n",
    "    group_patron = f.create_group('patron')\n",
    "    group_patron['Jet_Index'] = new_jet_idx\n",
    "    group_patron['Pt'] = new_jet_pt\n",
    "    group_patron['Eta'] = new_jet_eta\n",
    "    group_patron['Phi'] = new_jet_phi\n",
    "    group_patron['Mass'] = new_jet_mass"
   ]
  },
  {
   "cell_type": "code",
   "execution_count": null,
   "metadata": {},
   "outputs": [],
   "source": []
  }
 ],
 "metadata": {
  "kernelspec": {
   "display_name": "Python 3.6.8 64-bit",
   "language": "python",
   "name": "python36864bitc564df92afbc45168f62068bf4eb9104"
  },
  "language_info": {
   "codemirror_mode": {
    "name": "ipython",
    "version": 3
   },
   "file_extension": ".py",
   "mimetype": "text/x-python",
   "name": "python",
   "nbconvert_exporter": "python",
   "pygments_lexer": "ipython3",
   "version": "3.6.8-final"
  }
 },
 "nbformat": 4,
 "nbformat_minor": 4
}