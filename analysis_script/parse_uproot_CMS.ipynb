{
 "cells": [
  {
   "source": [
    "# HEP Jet assignment project - Data analysis and particle finding script"
   ],
   "cell_type": "markdown",
   "metadata": {}
  },
  {
   "source": [
    "## Import essential packages.\n",
    "---\n",
    "* We will use [uproot](https://github.com/scikit-hep/uproot) packages to parse our .root file.\n",
    "* The content of function `particle properties` and `jet properties` is defined in `particle_properties.py` and `jet_properties.py`."
   ],
   "cell_type": "markdown",
   "metadata": {}
  },
  {
   "cell_type": "code",
   "execution_count": 32,
   "metadata": {},
   "outputs": [],
   "source": [
    "import uproot\n",
    "import pandas as pd \n",
    "import numpy as np \n",
    "from particle_properties_uproot import particle_properties  #import particle properties helper function from particle_properties.py\n",
    "from jet_properties_uproot import jet_properties  #import jet properties helper function from jet_properties.py\n",
    "import h5py"
   ]
  },
  {
   "source": [
    "## Loading data, determine parameters, and assign variable\n",
    "---"
   ],
   "cell_type": "markdown",
   "metadata": {}
  },
  {
   "cell_type": "code",
   "execution_count": 33,
   "metadata": {
    "tags": [
     "outputPrepend",
     "outputPrepend"
    ]
   },
   "outputs": [],
   "source": [
    "data  = uproot.open('./data/10K_event/tag_1_delphes_events.root')['Delphes']\n",
    "#data.show()\n",
    "\n",
    "particle = particle_properties(data)\n",
    "jet = jet_properties(data)\n",
    "\n",
    "Length = len(particle.event)\n",
    "test_length = 10\n",
    "\n",
    "PID_W_plus = 24 \n",
    "PID_W_minus = -24\n",
    "PID_DOWN = 1\n",
    "PID_DOWN_VAR = -1\n",
    "PID_UP = 2\n",
    "PID_UP_BAR = -2\n",
    "PID_STRANGE = 3\n",
    "PID_STRANGE_BAR = -3\n",
    "PID_CHARM = 4\n",
    "PID_CHARM_BAR = -4\n",
    "PID_BOTTOM = 5\n",
    "PID_BOTTOM_BAR = -5\n",
    "PID_TOP = 6\n",
    "PID_TOP_BAR = -6\n",
    "\n",
    "top_idx = np.zeros(len(particle.event))\n",
    "top_daughter_idx_1 = np.zeros(len(particle.event))\n",
    "top_daughter_pid_1 = np.zeros(len(particle.event))\n",
    "top_daughter_idx_2 = np.zeros(len(particle.event))\n",
    "top_daughter_pid_2 = np.zeros(len(particle.event))\n",
    "\n",
    "top_bar_idx = np.zeros(len(particle.event))\n",
    "top_bar_daughter_idx_1 = np.zeros(len(particle.event))\n",
    "top_bar_daughter_pid_1 = np.zeros(len(particle.event))\n",
    "top_bar_daughter_idx_2 = np.zeros(len(particle.event))\n",
    "top_bar_daughter_pid_2 = np.zeros(len(particle.event))\n",
    "\n",
    "parton_array = np.zeros([ len(particle.event) , 6, 7])\n"
   ]
  },
  {
   "source": [
    "## Event selection \n",
    "---\n",
    "1. Must contain:\n",
    "    * At least 2 b tagged jet.\n",
    "    * At least 6 jet exists.\n",
    "    * For each jet, require |$\\eta$| < 2.5 and $P_{T}$ > 25GeV. "
   ],
   "cell_type": "markdown",
   "metadata": {}
  },
  {
   "cell_type": "code",
   "execution_count": 34,
   "metadata": {
    "tags": [
     "outputPrepend",
     "outputPrepend",
     "outputPrepend",
     "outputPrepend",
     "outputPrepend"
    ]
   },
   "outputs": [
    {
     "output_type": "stream",
     "name": "stderr",
     "text": "/usr/local/lib64/python3.6/site-packages/numpy/core/_asarray.py:136: VisibleDeprecationWarning: Creating an ndarray from ragged nested sequences (which is a list-or-tuple of lists-or-tuples-or ndarrays with different lengths or shapes) is deprecated. If you meant to do this, you must specify 'dtype=object' when creating the ndarray\n  return array(a, dtype, copy=False, order=order, subok=True)\n"
    }
   ],
   "source": [
    "#Generate maker for each stage(event selection and jet selection.)\n",
    "marker_event = []\n",
    "marker_jet = []\n",
    "marker_bjet = []\n",
    "\n",
    "for i in range(len(particle.event)):\n",
    "    marker_event.append(0)\n",
    "    marker_jet.append(np.zeros([len(jet.pt[i])]))\n",
    "    marker_bjet.append(np.zeros([len(jet.pt[i])]))\n",
    "\n",
    "\n",
    "marker_event = np.asanyarray(marker_event)\n",
    "marker_jet = np.asanyarray(marker_jet)\n",
    "marker_bjet = np.asanyarray(marker_bjet)\n",
    "\n",
    "#print(type(marker_event), type(marker_jet))\n",
    "#print(marker_event.shape, marker_jet.shape)"
   ]
  },
  {
   "cell_type": "code",
   "execution_count": 35,
   "metadata": {},
   "outputs": [
    {
     "output_type": "stream",
     "name": "stdout",
     "text": "+-----------------------------------------------------------------------------------------------------+\nStart jet selection.\nJet selection doen.\n+-----------------------------------------------------------------------------------------------------+\n"
    }
   ],
   "source": [
    "#Mark which event pass the selection\n",
    "# print(\"+-----------------------------------------------------------------------------------------------------+\")\n",
    "# print(\"Start event selection.\")\n",
    "# for i in range(len(particle.event)):\n",
    "#     num_of_eta_in_range = np.sum(jet.eta[i] < 2.4 ) \n",
    "#     num_of_jet = len(jet.pt[i])\n",
    "#     num_of_btagged = np.sum(jet.btag[i] == 1)\n",
    "#     if num_of_eta_in_range >= 6 and num_of_jet >=6 and num_of_btagged >= 2: \n",
    "#         marker_event[i] = 1\n",
    "#     else :\n",
    "#         pass\n",
    "# print(\"Event selection doen.\")\n",
    "# print(\"+-----------------------------------------------------------------------------------------------------+\")\n",
    "\n",
    "#Mark which jet in each event pass the selection.\n",
    "print(\"+-----------------------------------------------------------------------------------------------------+\")\n",
    "print(\"Start jet selection.\")\n",
    "for i in range(len(particle.event)):\n",
    "    for j in range(len(jet.pt[i])):\n",
    "        if jet.btag[i][j] == 1 and jet.pt[i][j] > 25 and np.abs(jet.eta[i][j]) < 2.5:\n",
    "            marker_bjet[i][j] = 1 \n",
    "        elif jet.pt[i][j] > 25 and np.abs(jet.eta[i][j]) < 2.5:\n",
    "            marker_jet[i][j] = 1\n",
    "\n",
    "for i in range(len(particle.event)):\n",
    "    if np.sum(marker_jet[i] == 1) >= 6 and np.sum(marker_bjet[i] == 1) >= 2 :\n",
    "        marker_event[i] = 1 \n",
    "print(\"Jet selection doen.\")\n",
    "print(\"+-----------------------------------------------------------------------------------------------------+\")"
   ]
  },
  {
   "cell_type": "code",
   "execution_count": 36,
   "metadata": {},
   "outputs": [
    {
     "output_type": "stream",
     "name": "stdout",
     "text": "7 1\n6 1\n7 1\n6 1\n6 1\n4 1\n7 2\n8 2\n6 1\n10 2\n3 0\n8 3\n3 0\n6 1\n9 2\n6 1\n7 0\n7 0\n4 1\n6 1\n6 2\n7 2\n4 0\n5 1\n7 1\n8 2\n8 2\n5 1\n6 2\n5 0\n9 1\n6 1\n6 1\n9 2\n6 0\n5 2\n4 2\n4 0\n7 3\n8 0\n7 1\n7 0\n7 2\n4 2\n5 0\n5 1\n5 2\n7 2\n6 2\n8 3\n5 2\n6 0\n5 2\n6 2\n5 2\n5 1\n7 1\n7 2\n4 2\n8 1\n7 1\n6 1\n7 0\n6 1\n5 3\n7 2\n6 1\n9 0\n9 1\n5 1\n5 1\n5 0\n4 1\n5 2\n5 2\n6 2\n7 1\n7 2\n4 0\n4 2\n6 2\n5 1\n6 3\n8 2\n4 1\n7 1\n4 1\n4 1\n8 1\n5 1\n5 1\n5 2\n5 1\n6 1\n6 1\n8 2\n5 1\n8 1\n2 0\n7 0\n4 2\n4 1\n3 1\n5 2\n4 1\n6 1\n6 0\n6 2\n8 0\n5 1\n6 0\n7 2\n5 1\n7 2\n6 0\n6 0\n3 1\n3 1\n3 1\n7 1\n8 2\n6 1\n6 3\n5 1\n5 2\n6 1\n5 0\n5 1\n5 2\n4 2\n7 0\n7 1\n5 0\n8 2\n7 0\n5 2\n5 2\n5 0\n5 2\n7 1\n5 2\n7 0\n5 2\n6 1\n6 3\n6 2\n7 3\n6 3\n7 1\n4 1\n7 2\n5 1\n5 3\n7 1\n9 1\n7 1\n7 2\n6 1\n6 0\n7 2\n4 2\n7 0\n7 2\n5 2\n4 0\n8 1\n5 2\n6 1\n9 1\n6 3\n4 0\n4 2\n7 2\n4 1\n5 1\n7 1\n5 1\n9 2\n5 1\n4 1\n6 1\n8 2\n8 0\n5 0\n5 2\n6 1\n7 0\n6 1\n7 2\n4 2\n6 1\n5 2\n4 1\n6 1\n5 1\n5 1\n6 1\n7 1\n5 2\n8 1\n5 2\n5 1\n8 1\n7 2\n5 1\n3 1\n6 0\n7 2\n5 2\n5 3\n5 1\n9 1\n6 3\n8 0\n5 1\n3 0\n4 0\n4 1\n7 2\n5 1\n7 1\n4 1\n7 1\n7 3\n6 0\n4 1\n8 4\n6 2\n8 3\n5 2\n9 1\n6 1\n6 0\n5 0\n6 2\n6 3\n4 1\n5 1\n5 2\n6 1\n5 1\n6 1\n7 1\n6 3\n7 1\n7 1\n5 1\n8 2\n7 2\n6 1\n5 2\n5 2\n5 2\n4 1\n5 2\n6 2\n3 1\n8 0\n6 2\n5 1\n5 2\n4 1\n5 1\n4 1\n8 0\n5 0\n7 0\n5 2\n6 0\n7 2\n5 1\n6 2\n7 1\n6 2\n10 2\n5 2\n6 1\n6 0\n8 0\n5 1\n3 1\n5 1\n5 1\n8 0\n4 1\n6 1\n6 1\n5 0\n9 3\n4 1\n6 2\n5 0\n8 1\n4 0\n8 1\n8 1\n3 1\n10 2\n6 2\n8 2\n6 2\n8 2\n9 1\n4 2\n5 1\n5 1\n5 1\n2 0\n4 2\n7 0\n6 1\n6 1\n5 0\n6 2\n5 1\n6 3\n5 2\n5 1\n8 0\n4 1\n7 2\n6 2\n6 0\n7 2\n7 3\n7 1\n5 2\n6 2\n6 0\n6 1\n6 1\n6 2\n4 1\n6 2\n6 2\n6 1\n8 4\n6 2\n5 0\n4 0\n7 1\n8 2\n7 2\n8 2\n6 0\n4 1\n6 2\n7 0\n5 1\n3 1\n8 1\n6 2\n4 1\n8 2\n5 2\n5 1\n3 1\n5 1\n7 2\n8 1\n8 1\n5 1\n6 1\n4 1\n6 0\n6 1\n8 1\n6 2\n5 1\n7 1\n5 1\n7 0\n4 2\n10 0\n3 2\n4 0\n5 2\n6 2\n6 1\n10 1\n6 1\n5 2\n5 1\n6 2\n4 0\n7 1\n4 2\n5 2\n7 0\n8 0\n6 1\n6 1\n7 3\n6 1\n5 1\n9 2\n7 1\n10 1\n6 2\n9 2\n5 1\n5 3\n4 0\n6 1\n5 1\n5 1\n7 1\n5 2\n6 0\n7 2\n5 1\n6 1\n6 2\n8 1\n5 1\n6 3\n6 2\n10 2\n7 1\n1 0\n5 1\n6 2\n7 1\n5 2\n7 0\n7 0\n6 2\n7 1\n5 1\n5 0\n6 1\n6 3\n4 0\n9 1\n6 4\n6 3\n3 0\n5 1\n8 1\n5 2\n7 1\n7 2\n4 2\n10 2\n4 2\n10 1\n5 1\n6 2\n8 3\n5 2\n5 0\n5 1\n6 1\n8 2\n6 1\n6 1\n5 0\n6 1\n8 2\n7 1\n3 1\n6 2\n7 1\n5 0\n7 1\n6 0\n8 0\n5 2\n4 2\n3 0\n6 1\n8 0\n6 2\n5 1\n5 2\n6 2\n6 2\n6 2\n6 2\n5 0\n7 2\n5 2\n5 2\n8 2\n7 1\n6 2\n6 2\n8 2\n7 1\n7 1\n5 1\n5 1\n9 2\n8 1\n8 1\n4 2\n4 1\n4 2\n5 3\n5 1\n8 4\n7 1\n5 1\n6 1\n5 2\n5 2\n7 2\n4 1\n8 2\n5 2\n5 0\n5 2\n7 2\n9 2\n7 0\n5 2\n6 1\n3 1\n7 1\n4 1\n10 4\n5 1\n3 1\n7 1\n10 1\n4 1\n3 1\n7 1\n6 1\n7 1\n6 0\n6 1\n7 1\n6 0\n5 0\n4 1\n8 1\n3 1\n8 1\n5 0\n5 1\n5 2\n7 1\n8 2\n5 1\n5 1\n5 2\n4 2\n6 1\n6 2\n8 0\n8 3\n6 2\n4 1\n5 0\n5 2\n5 2\n6 1\n4 0\n7 1\n5 2\n7 1\n8 2\n5 1\n6 2\n8 3\n4 1\n6 1\n7 2\n10 2\n7 0\n5 0\n5 1\n9 2\n7 1\n6 2\n5 0\n8 0\n4 1\n7 1\n7 2\n6 1\n6 1\n6 2\n5 1\n7 2\n7 1\n3 1\n8 0\n6 1\n6 0\n8 2\n9 2\n6 1\n6 2\n8 1\n9 2\n6 0\n4 1\n9 1\n6 0\n6 2\n6 2\n6 0\n5 1\n10 1\n3 0\n3 0\n5 1\n6 2\n4 1\n5 0\n7 1\n8 2\n6 2\n5 0\n6 2\n3 0\n7 1\n5 2\n8 2\n9 1\n5 1\n5 1\n7 1\n6 1\n6 1\n6 1\n7 2\n5 1\n6 1\n4 1\n7 2\n5 1\n7 0\n6 3\n6 0\n4 3\n7 2\n6 1\n6 2\n5 1\n7 2\n4 1\n5 2\n5 2\n4 0\n4 1\n5 1\n7 3\n10 3\n9 2\n7 0\n5 1\n7 1\n4 2\n5 1\n4 2\n6 1\n5 1\n6 2\n4 1\n7 1\n6 0\n6 1\n6 0\n6 2\n7 0\n6 1\n9 2\n6 2\n8 2\n5 2\n6 1\n2 1\n6 2\n5 2\n5 1\n4 3\n10 3\n6 0\n4 2\n6 1\n6 2\n6 1\n7 1\n5 0\n4 1\n7 1\n4 2\n5 1\n5 1\n7 2\n7 2\n6 2\n6 1\n4 0\n3 1\n6 2\n5 0\n6 0\n5 2\n6 1\n3 1\n5 1\n6 3\n7 2\n8 2\n5 2\n6 1\n9 2\n4 3\n6 1\n5 2\n7 2\n5 1\n2 1\n9 3\n7 1\n6 2\n4 1\n5 1\n6 0\n5 1\n5 0\n9 1\n6 1\n9 2\n4 2\n7 1\n7 2\n6 1\n7 4\n7 1\n4 0\n11 1\n6 1\n7 1\n6 2\n7 3\n5 1\n5 1\n7 2\n4 1\n3 0\n4 1\n6 0\n6 1\n3 1\n7 1\n5 1\n6 1\n7 0\n7 2\n7 2\n6 1\n5 1\n4 0\n4 2\n5 1\n4 1\n8 1\n6 2\n4 1\n6 0\n4 1\n3 1\n6 0\n5 0\n6 1\n5 0\n9 1\n5 0\n5 2\n7 1\n7 2\n3 2\n4 1\n7 2\n6 2\n8 2\n4 1\n5 1\n7 0\n5 0\n6 2\n8 2\n8 2\n4 1\n8 2\n5 1\n5 0\n6 2\n7 0\n5 2\n6 1\n7 0\n5 1\n4 2\n6 1\n4 0\n5 1\n4 0\n7 2\n8 1\n3 0\n4 1\n8 2\n6 2\n7 3\n4 2\n5 2\n3 1\n8 1\n9 1\n6 2\n6 1\n6 1\n12 1\n7 1\n5 2\n5 2\n8 0\n4 0\n5 1\n8 1\n5 3\n6 1\n6 1\n6 0\n4 1\n4 1\n5 1\n10 2\n5 2\n5 1\n7 1\n9 2\n4 2\n6 2\n4 1\n6 1\n5 1\n5 2\n7 0\n6 0\n6 3\n6 1\n6 3\n7 2\n6 1\n7 2\n5 2\n7 0\n6 1\n5 1\n6 0\n8 1\n5 0\n4 1\n3 2\n6 0\n6 2\n7 1\n6 0\n4 1\n8 2\n5 2\n10 2\n5 1\n7 3\n6 1\n8 2\n6 0\n8 0\n7 0\n5 1\n8 0\n4 1\n4 1\n5 1\n5 1\n7 2\n9 3\n6 1\n3 2\n7 0\n8 1\n9 3\n6 2\n8 2\n6 2\n6 1\n8 2\n6 2\n5 0\n4 1\n10 3\n11 2\n5 2\n8 1\n9 1\n4 1\n4 0\n8 0\n6 1\n8 1\n5 1\n5 1\n6 1\n6 0\n9 2\n8 2\n4 2\n8 2\n6 2\n6 1\n5 2\n6 2\n6 1\n5 2\n5 1\n6 2\n5 1\n6 0\n7 2\n7 0\n5 1\n6 2\n8 2\n8 0\n5 0\n7 2\n6 2\n4 2\n6 1\n5 1\n6 1\n5 1\n9 4\n6 2\n4 1\n5 1\n6 0\n6 1\n9 2\n7 1\n5 2\n6 3\n7 1\n5 0\n6 2\n6 2\n6 1\n6 1\n6 1\n7 1\n8 1\n6 3\n6 2\n5 1\n10 1\n5 0\n7 2\n7 1\n7 3\n5 2\n7 1\n6 1\n6 1\n3 0\n6 1\n6 2\n6 2\n2 0\n7 1\n7 3\n6 1\n7 1\n6 1\n5 2\n6 2\n5 2\n7 1\n6 1\n3 1\n8 1\n7 1\n5 1\n5 2\n7 4\n8 1\n7 2\n6 1\n8 2\n8 1\n4 2\n6 2\n5 1\n4 1\n4 1\n6 0\n6 1\n3 1\n4 2\n8 1\n5 2\n4 1\n5 1\n4 0\n6 0\n6 1\n6 1\n7 1\n6 2\n8 2\n7 1\n5 2\n5 1\n11 1\n9 2\n3 0\n7 1\n5 0\n6 1\n6 2\n5 2\n5 1\n6 2\n13 2\n5 0\n5 3\n7 2\n8 2\n6 1\n6 0\n6 2\n8 2\n4 1\n7 2\n5 2\n6 2\n7 1\n7 2\n4 1\n6 0\n5 1\n6 1\n3 1\n5 1\n5 2\n3 0\n4 2\n7 2\n5 1\n4 0\n8 1\n5 1\n7 3\n4 2\n6 2\n6 2\n5 1\n8 0\n6 1\n6 1\n6 3\n7 2\n7 1\n7 2\n5 2\n7 1\n8 2\n9 2\n8 0\n4 1\n5 1\n6 2\n5 1\n7 0\n5 0\n8 1\n5 1\n6 2\n11 1\n5 1\n4 1\n6 1\n6 3\n8 1\n6 1\n5 1\n6 1\n5 4\n6 1\n6 2\n7 0\n6 2\n5 0\n5 2\n10 0\n4 1\n5 1\n4 2\n6 1\n6 0\n4 2\n6 3\n5 0\n5 0\n6 1\n5 1\n7 0\n7 1\n7 0\n5 1\n4 2\n6 1\n5 2\n6 0\n6 1\n5 2\n6 1\n7 2\n5 1\n9 2\n7 2\n8 1\n6 0\n6 0\n5 1\n5 2\n6 2\n5 2\n5 3\n6 1\n4 2\n4 1\n3 2\n5 0\n6 2\n8 2\n4 2\n5 2\n5 0\n6 3\n5 1\n7 0\n8 2\n6 1\n6 0\n7 1\n6 1\n4 1\n6 2\n7 1\n5 1\n7 1\n8 1\n5 1\n7 1\n6 1\n7 1\n8 1\n8 1\n5 1\n9 2\n6 2\n8 1\n7 1\n4 0\n5 0\n8 3\n9 2\n7 2\n7 2\n5 1\n6 1\n5 1\n8 2\n7 2\n7 1\n5 1\n5 0\n8 1\n5 1\n10 3\n6 1\n5 3\n5 3\n2 0\n3 1\n6 1\n5 1\n5 1\n6 1\n6 2\n5 1\n4 2\n7 1\n6 2\n5 2\n5 2\n7 1\n7 1\n5 2\n5 2\n4 2\n8 2\n5 0\n5 1\n8 2\n6 1\n7 1\n4 0\n7 1\n5 0\n7 2\n7 2\n5 1\n5 1\n8 3\n8 2\n4 1\n6 2\n7 1\n6 2\n5 1\n5 3\n6 1\n6 1\n4 0\n4 0\n6 2\n5 1\n4 2\n5 1\n7 1\n5 1\n5 1\n7 0\n5 2\n8 2\n5 2\n6 1\n6 3\n6 1\n4 2\n6 1\n6 2\n5 0\n6 1\n9 1\n8 1\n6 2\n6 0\n7 0\n6 0\n7 2\n5 1\n6 0\n7 1\n6 1\n9 1\n11 3\n5 2\n4 1\n4 1\n7 1\n8 1\n3 0\n7 3\n6 2\n4 2\n5 0\n8 2\n4 0\n4 1\n6 3\n5 1\n7 2\n5 1\n8 2\n6 2\n6 1\n7 1\n7 2\n5 0\n7 2\n7 2\n4 2\n3 1\n7 3\n5 0\n3 0\n6 2\n5 0\n6 2\n3 0\n12 3\n7 1\n8 3\n8 0\n4 0\n6 3\n5 2\n4 1\n5 1\n7 1\n8 1\n5 2\n5 2\n6 4\n5 2\n7 1\n4 2\n6 1\n7 3\n6 1\n6 1\n5 1\n5 1\n6 2\n6 1\n6 1\n6 2\n4 0\n7 1\n5 1\n5 1\n5 0\n6 2\n7 0\n8 0\n9 1\n5 1\n7 2\n6 0\n6 0\n6 2\n5 1\n4 1\n6 1\n7 2\n6 1\n5 1\n7 1\n4 1\n9 2\n5 1\n4 1\n5 1\n7 1\n7 3\n6 2\n5 3\n4 1\n8 2\n5 2\n6 2\n5 2\n7 3\n7 2\n7 1\n6 1\n4 1\n2 0\n7 2\n8 0\n6 1\n7 3\n5 3\n7 3\n5 2\n4 2\n5 3\n5 2\n7 0\n5 2\n3 2\n7 1\n5 2\n3 1\n4 1\n7 1\n5 1\n6 1\n6 1\n4 2\n5 2\n3 1\n4 0\n5 2\n6 1\n6 0\n8 1\n6 1\n5 4\n5 2\n8 2\n6 1\n7 2\n8 1\n5 1\n5 1\n5 1\n6 2\n6 1\n6 1\n6 1\n8 3\n4 0\n6 0\n5 2\n8 2\n7 1\n6 0\n5 1\n5 1\n7 1\n6 2\n9 1\n4 0\n7 1\n6 1\n5 1\n8 2\n7 2\n7 1\n6 2\n10 1\n5 2\n6 1\n6 1\n7 2\n7 0\n7 2\n6 2\n6 1\n7 1\n3 0\n7 0\n6 1\n7 2\n6 2\n4 1\n4 0\n4 2\n5 1\n5 0\n5 0\n4 2\n6 2\n12 1\n6 1\n7 1\n4 1\n8 1\n7 1\n6 1\n5 2\n4 1\n6 3\n4 1\n5 2\n4 1\n5 2\n7 2\n6 2\n7 2\n5 2\n6 0\n8 2\n5 1\n6 1\n7 0\n7 1\n6 2\n3 0\n6 1\n7 1\n5 1\n10 2\n10 1\n5 2\n6 2\n8 2\n7 0\n4 1\n6 1\n6 1\n6 1\n4 0\n4 1\n8 0\n5 0\n5 2\n7 1\n3 2\n3 1\n3 0\n7 3\n6 0\n4 0\n4 2\n6 0\n4 1\n6 0\n6 1\n4 1\n4 1\n7 2\n6 2\n6 2\n9 1\n3 1\n5 1\n4 2\n6 2\n7 2\n5 2\n6 2\n6 0\n6 0\n5 1\n4 2\n6 0\n5 0\n4 0\n5 2\n4 1\n6 3\n7 2\n5 2\n7 3\n6 2\n7 2\n5 1\n5 0\n6 2\n7 3\n9 2\n4 2\n7 2\n4 0\n7 0\n6 2\n6 1\n7 1\n7 0\n6 2\n9 2\n5 1\n5 1\n6 2\n6 0\n7 2\n8 2\n6 1\n4 1\n6 1\n6 1\n6 1\n10 1\n5 0\n3 1\n5 2\n6 0\n4 2\n5 2\n6 2\n6 2\n5 1\n5 1\n7 2\n5 1\n4 0\n4 0\n5 1\n7 1\n4 2\n7 1\n4 1\n5 1\n7 2\n5 0\n5 3\n7 2\n7 1\n4 1\n4 1\n7 2\n6 2\n5 2\n7 2\n6 2\n7 2\n6 2\n8 4\n5 2\n5 2\n6 2\n6 2\n6 1\n6 1\n6 2\n4 0\n6 0\n6 1\n5 2\n4 1\n3 1\n5 1\n6 1\n6 1\n5 1\n9 1\n5 1\n5 2\n4 1\n6 0\n8 2\n5 2\n7 1\n8 2\n7 1\n5 1\n6 0\n4 1\n5 0\n7 1\n6 0\n7 2\n7 0\n5 1\n6 1\n8 1\n5 0\n5 1\n6 1\n5 1\n6 0\n7 2\n6 1\n7 0\n9 2\n7 3\n5 1\n6 2\n5 1\n5 2\n7 1\n5 0\n7 1\n8 1\n6 1\n7 1\n3 1\n7 1\n7 1\n6 0\n5 0\n8 0\n7 1\n6 2\n7 2\n4 1\n4 0\n9 2\n5 2\n7 1\n5 0\n7 1\n6 1\n5 2\n6 1\n7 1\n7 2\n7 0\n5 2\n6 2\n7 1\n4 1\n5 1\n3 1\n5 0\n3 1\n6 1\n5 0\n7 1\n6 2\n6 1\n4 2\n2 1\n7 2\n7 2\n8 1\n4 2\n6 2\n6 1\n5 2\n6 2\n7 1\n6 2\n7 1\n7 1\n8 1\n8 1\n6 3\n7 1\n5 3\n5 2\n5 2\n4 2\n5 2\n7 1\n4 1\n5 2\n2 0\n5 1\n6 2\n6 2\n6 1\n5 1\n7 1\n5 1\n5 2\n6 2\n4 0\n8 2\n6 2\n8 3\n4 1\n3 0\n6 1\n8 0\n5 1\n6 1\n5 2\n6 2\n6 1\n5 2\n4 2\n5 1\n7 1\n6 1\n6 2\n6 2\n6 1\n4 0\n7 2\n5 1\n5 1\n5 2\n9 2\n7 3\n8 1\n5 0\n6 1\n5 2\n4 2\n5 1\n9 2\n5 0\n4 1\n3 2\n6 1\n6 1\n3 0\n4 1\n6 2\n9 1\n7 2\n6 1\n3 1\n10 2\n9 2\n4 1\n5 2\n6 2\n6 1\n4 1\n4 0\n5 1\n6 1\n4 0\n5 2\n6 0\n3 0\n7 2\n6 1\n8 1\n4 1\n9 2\n8 1\n5 1\n4 2\n6 1\n4 2\n5 2\n6 1\n4 0\n7 1\n5 2\n6 3\n6 1\n7 2\n8 2\n6 2\n8 1\n7 0\n6 2\n6 0\n6 2\n5 3\n5 2\n5 1\n5 0\n7 2\n6 1\n8 3\n8 2\n10 1\n12 1\n5 3\n5 1\n6 1\n4 1\n7 2\n3 0\n5 1\n4 1\n6 3\n6 2\n6 2\n4 0\n7 1\n5 2\n5 1\n6 0\n5 1\n7 1\n7 2\n9 1\n8 2\n6 0\n5 2\n6 1\n6 2\n5 2\n3 0\n6 2\n5 1\n7 2\n3 1\n8 1\n5 2\n4 1\n5 1\n5 0\n4 2\n6 1\n7 1\n6 2\n5 1\n5 1\n5 1\n5 3\n5 0\n5 0\n7 2\n6 2\n7 2\n5 1\n4 2\n9 3\n4 0\n6 0\n7 3\n6 1\n6 1\n7 2\n4 3\n5 1\n8 1\n8 1\n4 2\n7 1\n6 1\n3 1\n5 0\n4 1\n4 1\n6 1\n9 2\n6 1\n7 1\n6 2\n7 0\n9 2\n9 2\n6 1\n6 1\n9 1\n7 1\n3 0\n5 2\n5 1\n4 0\n5 1\n6 0\n8 2\n5 0\n6 2\n7 4\n7 1\n6 1\n6 0\n4 1\n5 2\n6 0\n3 1\n9 1\n7 1\n5 1\n7 2\n6 1\n6 0\n6 1\n6 2\n9 2\n5 0\n8 2\n6 2\n5 1\n6 2\n8 1\n7 3\n7 1\n7 1\n6 2\n8 2\n4 1\n7 2\n6 1\n5 0\n5 1\n6 1\n10 1\n9 2\n7 1\n8 1\n5 2\n7 1\n7 1\n6 2\n4 1\n7 2\n4 0\n5 0\n6 1\n7 1\n5 2\n6 1\n8 1\n4 2\n5 1\n5 2\n6 0\n8 2\n8 2\n5 2\n6 1\n5 3\n7 2\n4 2\n6 2\n7 2\n7 2\n10 1\n11 2\n6 0\n7 1\n4 1\n5 2\n5 2\n6 2\n7 1\n5 1\n4 1\n8 2\n8 2\n5 1\n4 1\n6 2\n6 0\n8 1\n5 0\n7 1\n8 2\n7 1\n5 1\n8 1\n6 3\n6 1\n6 2\n9 1\n5 0\n6 2\n5 1\n7 1\n6 0\n5 1\n6 1\n9 3\n8 2\n7 0\n5 1\n5 1\n4 0\n8 2\n6 1\n6 3\n8 1\n7 0\n5 2\n9 2\n7 2\n5 1\n6 1\n6 2\n6 2\n6 1\n5 0\n6 2\n5 2\n5 1\n4 1\n5 1\n6 2\n7 1\n6 2\n4 2\n5 0\n3 2\n7 1\n6 2\n5 1\n5 3\n7 2\n6 2\n5 2\n5 1\n6 2\n5 1\n6 1\n6 1\n9 1\n5 0\n5 2\n5 1\n4 1\n6 2\n6 1\n5 1\n6 4\n3 1\n4 2\n6 3\n7 0\n5 2\n5 1\n9 2\n8 2\n5 0\n5 1\n5 1\n7 1\n6 2\n8 2\n4 0\n7 1\n6 3\n5 1\n4 0\n6 1\n5 1\n6 0\n7 2\n6 1\n6 2\n6 2\n7 2\n7 1\n6 3\n8 0\n8 0\n8 0\n5 1\n5 2\n4 0\n4 1\n5 1\n6 1\n4 2\n6 1\n5 1\n3 0\n8 0\n9 2\n5 1\n6 1\n8 0\n8 0\n5 1\n6 1\n6 2\n7 2\n6 0\n6 2\n5 1\n5 2\n7 2\n4 3\n8 1\n8 1\n8 1\n5 1\n6 1\n7 2\n4 1\n4 2\n5 2\n5 1\n10 4\n6 1\n5 1\n3 0\n6 1\n4 1\n5 2\n8 1\n5 1\n9 1\n6 1\n3 1\n5 2\n6 1\n6 1\n5 3\n8 1\n5 0\n6 1\n6 1\n7 2\n8 0\n4 1\n5 2\n7 0\n8 1\n7 1\n7 0\n7 1\n5 2\n6 2\n7 1\n6 2\n6 1\n5 2\n7 2\n7 0\n8 2\n6 3\n4 1\n8 4\n6 1\n4 2\n5 1\n3 1\n7 0\n4 1\n8 1\n4 2\n7 1\n7 0\n6 2\n6 3\n6 1\n6 1\n8 2\n6 2\n4 2\n5 2\n8 2\n6 2\n7 0\n6 1\n6 1\n6 1\n7 1\n5 2\n5 2\n3 1\n7 2\n6 1\n7 2\n6 0\n7 1\n4 1\n5 3\n6 0\n6 2\n5 0\n7 2\n5 0\n6 1\n6 0\n5 2\n6 2\n7 1\n6 2\n8 0\n6 2\n7 1\n6 2\n5 2\n7 2\n6 2\n7 1\n5 1\n5 2\n5 2\n7 2\n8 0\n5 0\n4 1\n4 1\n7 1\n4 1\n7 2\n5 3\n6 1\n7 0\n6 1\n6 1\n7 1\n5 1\n7 1\n9 2\n6 3\n11 1\n10 0\n4 1\n6 1\n5 2\n4 1\n4 1\n7 2\n4 0\n4 1\n7 1\n5 0\n4 1\n5 1\n7 0\n8 2\n5 2\n6 2\n5 1\n8 1\n9 2\n7 2\n6 0\n4 1\n6 2\n5 0\n7 1\n5 1\n7 3\n5 1\n5 1\n6 0\n9 2\n7 3\n5 2\n2 1\n7 0\n4 2\n5 2\n7 2\n5 0\n9 1\n5 1\n7 1\n7 1\n7 2\n4 0\n6 2\n4 1\n5 1\n5 1\n6 1\n5 1\n6 2\n6 2\n8 2\n8 1\n5 2\n6 0\n6 0\n6 1\n5 1\n4 1\n7 1\n8 3\n6 1\n5 1\n5 1\n5 0\n6 1\n7 3\n5 2\n5 2\n7 1\n7 1\n3 0\n7 2\n5 1\n7 2\n7 0\n3 0\n7 2\n5 1\n5 0\n6 1\n5 0\n5 0\n5 2\n4 0\n6 2\n6 1\n4 1\n4 0\n5 0\n6 1\n6 1\n7 2\n8 1\n9 1\n4 1\n6 1\n6 2\n6 1\n6 0\n4 2\n5 2\n6 1\n4 0\n6 3\n5 1\n5 0\n4 0\n4 1\n6 2\n7 2\n7 2\n7 0\n8 1\n7 2\n6 1\n5 2\n5 1\n3 0\n4 1\n3 2\n5 2\n3 0\n4 1\n5 0\n8 1\n6 3\n6 0\n8 3\n6 1\n7 1\n8 0\n4 0\n5 1\n8 2\n4 2\n6 1\n7 2\n10 3\n4 0\n7 1\n4 2\n5 2\n5 1\n7 1\n5 2\n3 1\n5 1\n5 1\n5 1\n6 2\n6 2\n8 2\n6 1\n5 2\n8 2\n5 1\n7 3\n8 1\n6 1\n6 1\n5 0\n8 1\n6 1\n6 1\n6 2\n5 2\n8 2\n7 2\n4 1\n5 2\n4 2\n8 1\n6 1\n10 2\n5 0\n4 1\n5 1\n7 3\n7 2\n7 1\n6 1\n7 1\n5 0\n7 1\n4 2\n7 2\n6 0\n6 2\n5 3\n5 1\n5 2\n5 0\n5 2\n5 1\n5 2\n6 1\n4 2\n8 1\n5 2\n9 0\n4 2\n6 3\n4 0\n2 0\n6 1\n9 1\n6 1\n3 2\n8 1\n8 2\n8 4\n4 1\n6 2\n9 1\n5 1\n8 1\n5 2\n7 3\n9 2\n6 3\n5 2\n7 1\n6 0\n11 0\n3 0\n6 0\n8 3\n8 0\n6 0\n5 1\n6 1\n7 3\n4 0\n5 2\n5 1\n9 1\n2 0\n8 2\n6 0\n7 1\n3 1\n4 1\n3 1\n5 0\n7 2\n7 1\n7 1\n5 2\n8 0\n7 1\n4 0\n7 2\n5 1\n6 2\n7 2\n5 1\n6 0\n5 1\n5 2\n4 1\n5 1\n6 3\n6 1\n8 1\n6 1\n5 1\n7 1\n4 1\n6 1\n7 1\n5 2\n7 1\n6 1\n7 0\n5 1\n5 1\n6 0\n6 1\n6 1\n7 1\n5 2\n6 0\n9 0\n9 1\n4 2\n5 0\n8 1\n5 1\n4 2\n6 0\n7 3\n8 2\n8 0\n6 1\n5 1\n6 1\n5 1\n5 2\n7 2\n5 0\n5 0\n6 3\n5 0\n5 2\n7 0\n5 0\n5 0\n5 3\n6 2\n8 0\n7 1\n4 2\n7 2\n8 2\n7 1\n6 2\n6 1\n7 2\n6 2\n8 3\n6 1\n7 1\n8 1\n7 2\n6 0\n7 1\n7 2\n5 0\n5 1\n7 0\n8 2\n6 3\n6 3\n6 2\n8 1\n5 1\n5 1\n8 1\n5 2\n7 3\n5 1\n6 2\n7 1\n6 0\n6 2\n4 0\n8 0\n6 3\n5 1\n4 2\n6 1\n3 1\n5 1\n7 2\n4 1\n8 1\n7 3\n10 1\n7 2\n6 1\n4 1\n7 1\n6 3\n5 2\n5 1\n7 2\n5 2\n6 1\n7 1\n5 2\n6 1\n6 1\n8 2\n7 0\n3 1\n8 1\n7 2\n5 1\n4 0\n5 1\n5 2\n5 2\n5 1\n10 4\n8 1\n7 1\n4 0\n5 2\n4 0\n10 2\n6 0\n4 2\n7 1\n8 1\n6 1\n6 3\n2 1\n4 0\n5 1\n6 3\n4 0\n7 0\n6 2\n3 1\n6 2\n5 1\n5 1\n7 1\n4 1\n8 0\n5 1\n8 2\n7 1\n7 0\n7 2\n5 1\n5 2\n4 1\n8 2\n5 2\n6 1\n7 2\n7 1\n7 1\n5 1\n5 1\n5 2\n5 0\n6 1\n5 1\n10 1\n5 1\n5 1\n7 1\n5 1\n4 1\n8 1\n6 1\n5 2\n6 0\n7 1\n7 0\n6 1\n7 1\n4 0\n5 1\n8 1\n7 1\n5 2\n5 1\n5 2\n6 2\n4 2\n6 0\n6 1\n4 2\n4 1\n5 2\n5 1\n5 1\n4 0\n5 2\n6 2\n5 0\n4 1\n9 1\n9 1\n9 2\n5 0\n4 1\n7 2\n4 2\n5 0\n5 0\n5 0\n6 1\n9 0\n6 0\n7 2\n4 2\n8 2\n6 2\n5 1\n7 3\n4 2\n7 1\n6 1\n10 1\n3 1\n6 2\n5 3\n8 1\n7 1\n8 0\n5 2\n6 2\n7 1\n6 1\n10 3\n7 2\n6 3\n4 2\n5 0\n5 2\n3 1\n6 1\n5 1\n8 1\n6 1\n8 0\n10 1\n5 2\n6 1\n7 3\n6 2\n5 1\n6 2\n5 2\n7 1\n7 2\n5 0\n5 1\n8 1\n5 2\n10 1\n3 0\n5 1\n6 0\n6 2\n5 1\n6 1\n8 2\n4 1\n6 0\n6 2\n7 2\n5 1\n6 2\n9 0\n4 1\n7 1\n5 1\n7 3\n6 1\n7 1\n6 1\n5 2\n6 2\n5 0\n6 1\n5 1\n5 2\n7 1\n4 1\n4 2\n4 2\n7 1\n8 1\n4 1\n5 1\n4 2\n7 2\n6 1\n7 2\n7 2\n6 0\n6 0\n3 1\n4 0\n8 0\n5 3\n3 0\n4 1\n7 1\n4 1\n6 1\n6 1\n12 3\n6 1\n6 3\n3 0\n9 3\n5 0\n6 2\n8 2\n4 0\n5 0\n4 1\n7 1\n7 2\n5 3\n11 1\n6 2\n4 1\n8 1\n6 1\n6 1\n5 1\n8 1\n8 1\n4 1\n6 2\n5 0\n9 0\n6 1\n6 1\n5 1\n7 1\n7 1\n4 1\n7 2\n6 0\n6 2\n7 0\n5 1\n7 2\n5 1\n7 1\n8 2\n6 1\n4 1\n6 1\n6 0\n6 3\n6 2\n7 1\n6 3\n9 2\n4 1\n4 0\n5 0\n8 1\n4 1\n8 1\n7 2\n6 2\n4 1\n7 1\n5 1\n4 1\n8 1\n7 1\n7 1\n4 1\n5 1\n6 0\n3 1\n6 0\n8 3\n3 1\n6 0\n8 1\n6 2\n5 0\n4 0\n5 3\n4 1\n5 1\n9 2\n6 3\n7 1\n4 0\n3 0\n5 1\n7 3\n5 1\n8 1\n8 2\n5 1\n5 1\n8 2\n6 1\n8 1\n9 1\n5 1\n8 1\n11 2\n6 1\n4 1\n10 2\n5 1\n7 2\n5 2\n7 1\n7 0\n5 1\n5 2\n5 1\n6 3\n62\n8 2\n5 1\n7 2\n7 0\n6 1\n7 0\n10 0\n6 1\n3 2\n7 2\n5 1\n8 0\n12 2\n9 1\n7 3\n7 2\n9 1\n5 0\n5 2\n6 3\n5 1\n6 0\n6 1\n5 1\n4 1\n5 1\n5 1\n10 2\n5 2\n7 2\n7 1\n7 2\n4 1\n5 2\n9 2\n5 1\n5 1\n5 2\n9 1\n7 2\n4 1\n4 0\n6 1\n8 2\n4 0\n4 1\n5 1\n8 2\n6 0\n4 2\n6 3\n6 0\n7 1\n6 1\n4 1\n6 1\n6 0\n7 2\n6 0\n7 1\n5 2\n4 2\n5 1\n7 3\n8 2\n4 0\n4 1\n7 2\n7 2\n6 3\n7 2\n9 1\n4 1\n7 1\n9 2\n5 0\n9 2\n8 2\n9 3\n6 2\n6 2\n7 2\n6 1\n9 1\n6 2\n8 2\n6 1\n7 2\n6 1\n7 0\n5 1\n4 1\n6 1\n6 0\n4 1\n5 0\n6 1\n3 0\n4 1\n5 1\n4 1\n4 1\n12 2\n6 2\n9 1\n4 0\n5 1\n6 2\n9 1\n4 1\n8 1\n6 2\n3 0\n4 1\n8 0\n7 0\n7 1\n6 3\n7 2\n6 2\n7 2\n4 1\n8 2\n4 0\n5 1\n7 1\n8 2\n6 2\n7 1\n5 0\n3 0\n5 2\n4 0\n7 2\n8 0\n4 2\n7 2\n6 2\n9 2\n6 2\n5 1\n6 2\n5 2\n8 3\n6 2\n6 1\n4 0\n5 2\n7 2\n6 1\n4 1\n6 1\n4 0\n9 2\n5 1\n6 1\n5 1\n5 2\n4 2\n7 0\n5 1\n6 3\n6 1\n6 2\n4 1\n6 1\n5 1\n7 2\n6 2\n6 0\n5 1\n6 2\n7 0\n7 1\n6 1\n5 1\n51\n6 1\n5 0\n5 1\n6 1\n7 1\n4 1\n6 1\n4 2\n7 1\n8 1\n6 0\n5 1\n7 0\n7 1\n6 2\n6 2\n6 2\n6 0\n6 1\n7 1\n5 2\n5 0\n3 1\n5 1\n5 1\n6 1\n5 1\n6 2\n7 2\n7 1\n7 2\n6 2\n5 1\n7 1\n3 1\n6 0\n5 2\n5 1\n4 2\n5 2\n5 0\n7 2\n5 0\n4 1\n7 1\n7 2\n4 0\n5 1\n6 1\n5 2\n5 1\n8 1\n7 1\n6 2\n8 2\n8 0\n8 2\n3 0\n5 2\n8 1\n6 0\n6 3\n7 1\n6 1\n5 1\n6 3\n4 0\n8 2\n5 2\n7 2\n4 2\n4 2\n6 2\n5 1\n4 1\n6 0\n5 1\n7 1\n8 2\n6 1\n6 2\n8 1\n9 2\n6 0\n4 2\n5 0\n5 1\n6 2\n6 2\n7 1\n4 1\n7 1\n6 2\n6 1\n5 1\n4 1\n6 1\n5 1\n6 1\n6 2\n5 0\n3 2\n5 1\n5 1\n6 1\n4 2\n6 2\n6 1\n6 1\n5 2\n5 1\n6 1\n6 0\n5 2\n8 0\n4 2\n5 1\n6 1\n5 2\n5 0\n4 1\n3 1\n3 1\n6 1\n5 1\n5 1\n4 1\n11 1\n6 0\n5 1\n7 3\n10 2\n8 0\n7 2\n5 2\n5 0\n6 2\n7 2\n5 0\n9 2\n5 1\n7 1\n4 2\n5 2\n6 0\n8 1\n4 2\n9 1\n9 3\n7 2\n8 0\n6 2\n7 2\n4 1\n7 1\n7 3\n5 2\n7 2\n6 2\n5 1\n6 3\n9 3\n7 0\n5 0\n6 2\n8 2\n6 2\n8 1\n7 3\n7 2\n8 0\n3 1\n4 0\n6 1\n7 2\n6 1\n6 3\n7 2\n10 1\n5 1\n7 1\n4 1\n6 0\n5 2\n6 2\n8 1\n6 2\n7 2\n5 1\n6 1\n6 1\n9 0\n8 2\n8 0\n4 1\n8 1\n6 1\n7 1\n7 1\n5 1\n6 1\n5 1\n6 1\n7 2\n8 1\n4 2\n4 0\n6 2\n5 3\n6 1\n6 2\n3 1\n7 2\n6 1\n3 0\n8 2\n5 1\n6 2\n6 0\n5 1\n8 3\n7 3\n8 0\n6 1\n7 1\n4 1\n9 1\n6 1\n6 2\n8 1\n5 1\n4 1\n6 1\n5 1\n7 2\n7 1\n7 1\n6 3\n6 2\n3 0\n6 2\n5 2\n9 3\n10 2\n2 0\n6 1\n6 0\n3 0\n4 1\n7 1\n4 0\n7 1\n8 1\n6 3\n6 1\n7 1\n6 1\n7 2\n6 1\n5 1\n6 1\n6 2\n7 2\n6 2\n6 2\n7 1\n4 0\n10 2\n6 2\n5 1\n6 1\n6 0\n4 1\n7 2\n4 1\n7 2\n6 1\n7 2\n7 1\n4 1\n4 1\n6 3\n5 1\n5 2\n6 2\n4 1\n7 2\n5 2\n6 1\n4 2\n8 2\n7 1\n6 1\n5 1\n6 3\n6 0\n9 3\n8 2\n4 0\n5 2\n6 1\n9 1\n5 1\n6 1\n5 2\n7 3\n5 2\n6 4\n4 1\n7 1\n7 1\n6 1\n6 2\n6 0\n5 1\n5 4\n6 1\n3 1\n4 1\n6 0\n7 2\n6 1\n6 1\n5 2\n6 3\n6 2\n4 0\n9 2\n3 0\n8 2\n8 1\n5 1\n9 1\n5 1\n7 2\n7 1\n6 0\n7 1\n7 2\n6 1\n9 4\n6 1\n8 1\n9 2\n8 1\n6 0\n4 1\n5 1\n6 1\n5 1\n6 1\n7 0\n8 1\n8 1\n9 1\n7 1\n7 1\n4 2\n7 2\n5 2\n8 2\n3 2\n8 2\n7 1\n6 2\n6 1\n8 0\n5 1\n4 1\n7 2\n4 1\n6 2\n4 0\n4 0\n5 0\n5 2\n7 0\n7 2\n5 0\n6 1\n7 1\n5 0\n6 2\n7 1\n6 0\n6 2\n4 2\n4 2\n7 1\n5 1\n4 2\n7 1\n6 0\n8 2\n5 2\n5 1\n6 1\n5 2\n6 3\n4 1\n6 2\n5 1\n5 1\n7 1\n7 1\n5 0\n8 2\n6 0\n7 2\n3 1\n2 0\n5 1\n6 1\n9 0\n7 1\n7 1\n2 0\n5 0\n6 2\n8 2\n7 1\n6 1\n6 1\n6 1\n6 2\n4 1\n6 2\n5 0\n4 0\n6 2\n7 1\n8 2\n6 1\n9 2\n6 2\n5 1\n6 2\n5 1\n5 1\n5 2\n8 1\n6 0\n6 2\n5 2\n7 1\n4 2\n7 1\n5 0\n7 2\n7 3\n5 3\n6 2\n5 1\n5 2\n7 1\n6 1\n7 0\n3 1\n5 0\n10 3\n6 3\n5 1\n5 1\n6 2\n6 0\n6 1\n5 1\n6 0\n7 1\n3 2\n6 2\n11 1\n4 2\n5 1\n7 1\n5 2\n4 1\n5 1\n6 2\n5 3\n7 2\n10 0\n8 2\n5 1\n8 1\n5 1\n5 0\n6 0\n7 3\n5 0\n4 0\n7 1\n8 1\n8 3\n4 2\n5 1\n4 0\n5 1\n6 1\n8 1\n8 2\n7 1\n7 2\n7 1\n12 0\n4 0\n4 2\n10 1\n4 0\n4 1\n6 0\n8 2\n6 2\n7 2\n7 2\n5 1\n4 0\n6 1\n7 2\n5 1\n5 2\n6 2\n7 1\n4 2\n7 3\n7 2\n3 0\n5 1\n4 2\n7 4\n4 1\n6 2\n9 2\n2 0\n12 2\n8 0\n5 1\n3 0\n4 1\n5 1\n6 0\n7 2\n4 2\n6 2\n6 2\n6 1\n5 1\n7 1\n6 2\n10 3\n5 0\n5 2\n8 1\n5 0\n5 1\n7 0\n5 0\n6 1\n5 3\n7 2\n5 1\n5 0\n10 2\n6 1\n8 2\n6 2\n6 1\n5 1\n6 1\n7 1\n5 2\n6 1\n5 1\n7 2\n6 1\n5 0\n5 1\n4 2\n5 1\n6 2\n5 0\n5 1\n5 1\n6 3\n5 2\n6 1\n5 2\n4 0\n3 1\n7 0\n5 0\n11 3\n6 2\n5 1\n4 2\n7 1\n9 2\n5 3\n7 1\n6 0\n4 1\n6 0\n5 3\n7 1\n4 0\n7 1\n5 1\n5 2\n5 2\n7 2\n5 0\n7 1\n10 2\n5 1\n4 1\n4 1\n5 1\n5 2\n5 1\n6 1\n5 2\n6 1\n6 2\n7 0\n4 0\n8 3\n5 3\n6 1\n4 1\n4 1\n6 1\n6 0\n8 2\n7 0\n9 0\n6 0\n5 1\n7 2\n7 2\n7 2\n5 1\n7 2\n5 0\n3 1\n5 2\n5 1\n6 1\n7 1\n4 1\n7 1\n9 1\n5 2\n7 1\n6 2\n8 1\n6 3\n6 1\n5 2\n5 1\n3 1\n6 2\n7 2\n4 1\n4 2\n6 2\n7 1\n5 2\n8 1\n4 0\n12 2\n7 1\n6 2\n7 3\n6 0\n8 1\n4 2\n4 0\n6 1\n5 0\n6 2\n7 2\n5 2\n7 2\n9 3\n5 1\n7 1\n7 2\n5 1\n5 2\n7 4\n5 2\n6 1\n4 1\n5 1\n6 2\n9 2\n5 1\n4 1\n5 1\n8 1\n7 2\n6 1\n6 1\n6 3\n5 2\n6 2\n6 1\n5 2\n5 0\n4 1\n4 2\n6 0\n8 1\n6 1\n4 1\n5 2\n4 1\n6 3\n6 0\n4 1\n8 2\n7 2\n5 0\n8 1\n5 1\n7 2\n6 2\n6 2\n5 1\n5 1\n5 1\n4 2\n3 0\n6 1\n5 2\n7 1\n8 2\n8 1\n7 1\n4 1\n5 1\n8 3\n9 1\n4 1\n5 2\n9 1\n6 3\n6 1\n8 2\n6 1\n5 1\n7 1\n4 0\n4 1\n8 1\n9 1\n7 1\n7 3\n6 1\n8 1\n7 0\n9 2\n6 1\n5 1\n4 1\n9 2\n5 0\n5 3\n6 1\n4 1\n5 1\n5 0\n4 0\n3 1\n8 0\n5 2\n8 2\n6 2\n7 2\n8 2\n4 1\n7 2\n4 1\n7 1\n7 2\n5 1\n10 1\n4 0\n5 0\n7 2\n4 1\n5 1\n5 1\n6 3\n6 1\n8 2\n5 2\n5 2\n6 0\n5 1\n7 1\n6 0\n6 0\n5 1\n5 1\n5 1\n5 2\n6 1\n4 1\n5 4\n9 3\n7 1\n4 1\n6 1\n8 0\n4 2\n5 0\n8 1\n8 2\n6 0\n7 0\n8 2\n5 2\n8 1\n5 1\n6 1\n5 1\n8 2\n6 0\n6 1\n4 1\n5 3\n5 1\n5 1\n3 1\n5 0\n6 0\n7 1\n6 0\n5 1\n8 1\n6 1\n6 2\n7 1\n5 1\n7 2\n6 1\n4 0\n6 2\n4 1\n6 1\n5 0\n6 2\n5 1\n5 2\n6 2\n5 2\n7 2\n4 0\n6 1\n7 1\n5 2\n8 2\n6 2\n6 2\n6 3\n4 1\n4 1\n6 2\n5 1\n5 1\n6 0\n6 1\n5 1\n7 1\n6 1\n8 1\n6 1\n6 1\n5 2\n5 2\n4 1\n7 1\n4 0\n8 1\n4 2\n8 1\n4 0\n6 1\n6 2\n6 1\n5 1\n11 2\n8 0\n8 1\n5 0\n8 1\n7 3\n4 0\n8 0\n6 1\n6 2\n5 1\n5 1\n6 2\n6 1\n6 1\n4 2\n6 1\n3 2\n7 1\n9 2\n7 1\n6 3\n6 1\n5 1\n6 1\n6 2\n5 1\n5 0\n6 2\n5 2\n7 2\n6 1\n4 2\n7 2\n6 2\n5 2\n5 1\n3 2\n6 1\n6 2\n6 2\n6 1\n6 1\n7 1\n9 2\n5 1\n5 2\n8 1\n6 2\n6 1\n6 0\n5 2\n4 0\n6 1\n4 2\n6 0\n4 1\n4 1\n6 0\n5 1\n8 1\n5 2\n5 2\n6 2\n5 0\n7 0\n7 2\n6 1\n4 0\n8 1\n8 2\n7 1\n4 1\n7 1\n8 1\n6 1\n4 3\n4 2\n8 0\n7 0\n7 3\n7 0\n7 1\n6 1\n6 1\n6 2\n6 1\n5 1\n9 3\n4 1\n6 1\n6 0\n6 1\n10 2\n8 0\n4 3\n6 0\n7 3\n4 1\n3 0\n8 0\n6 2\n6 1\n3 1\n6 1\n4 2\n5 1\n8 2\n5 2\n3 1\n6 2\n6 1\n4 0\n6 3\n10 3\n6 2\n6 1\n5 1\n7 1\n5 2\n9 2\n3 1\n5 1\n8 2\n4 1\n13 1\n7 2\n8 1\n7 3\n4 1\n5 2\n5 1\n6 1\n6 3\n7 1\n6 0\n4 2\n6 2\n6 3\n9 1\n9 1\n8 0\n5 2\n7 1\n5 2\n7 0\n5 2\n7 2\n10 1\n7 2\n7 0\n6 1\n5 1\n7 0\n5 0\n5 1\n3 1\n7 2\n4 1\n5 1\n8 0\n11 2\n8 1\n6 0\n5 1\n7 1\n4 1\n6 2\n7 0\n10 1\n7 1\n6 3\n6 1\n5 0\n2 0\n7 1\n5 0\n7 1\n6 3\n6 1\n5 2\n6 1\n5 1\n3 1\n5 2\n5 0\n7 0\n6 2\n4 1\n6 2\n4 0\n7 4\n6 1\n6 0\n5 1\n5 0\n4 1\n5 0\n5 1\n5 1\n7 3\n6 2\n5 1\n8 2\n4 1\n4 1\n4 1\n4 2\n6 0\n6 2\n7 2\n6 2\n2 1\n5 1\n10 2\n4 0\n6 2\n3 2\n5 1\n5 1\n5 1\n5 1\n7 1\n5 2\n7 2\n5 1\n6 0\n6 0\n6 0\n6 2\n7 1\n11 1\n5 1\n5 2\n5 1\n10 2\n8 2\n7 1\n10 2\n6 1\n6 0\n6 1\n4 1\n4 2\n6 3\n6 2\n6 1\n7 2\n5 1\n8 1\n4 1\n7 1\n5 0\n7 1\n8 1\n6 2\n10 1\n7 0\n4 1\n7 1\n6 2\n7 1\n6 1\n5 1\n8 1\n8 1\n5 1\n13 2\n8 0\n8 0\n6 2\n7 1\n6 0\n6 2\n6 1\n5 2\n7 3\n6 1\n5 0\n5 1\n6 1\n6 1\n7 1\n5 0\n8 1\n6 1\n5 0\n5 2\n4 0\n3 0\n7 0\n6 0\n11 2\n5 0\n7 1\n6 2\n7 1\n6 2\n6 3\n8 0\n6 0\n6 2\n5 2\n7 1\n6 1\n6 2\n7 2\n4 1\n4 0\n4 2\n10 0\n6 0\n7 1\n5 0\n5 0\n3 1\n7 2\n5 1\n5 1\n9 1\n5 1\n6 1\n6 1\n5 1\n7 1\n6 1\n8 0\n6 2\n4 0\n8 2\n5 1\n9 1\n5 3\n7 2\n3 2\n6 1\n4 2\n4 1\n5 1\n6 3\n5 0\n5 1\n5 1\n8 1\n6 1\n7 1\n6 2\n6 0\n7 2\n6 1\n5 0\n7 1\n6 2\n6 3\n4 1\n7 1\n7 2\n4 1\n4 1\n6 3\n4 1\n8 1\n5 0\n4 2\n5 2\n4 1\n7 1\n7 1\n5 1\n6 1\n7 1\n5 1\n6 1\n4 2\n10 2\n6 2\n6 1\n6 1\n7 2\n8 2\n5 0\n5 1\n6 2\n6 3\n7 2\n5 0\n8 0\n7 3\n4 0\n5 2\n6 1\n8 3\n6 2\n8 1\n7 1\n6 2\n6 1\n7 2\n6 0\n5 1\n6 1\n5 1\n7 2\n5 1\n5 1\n5 3\n6 1\n7 2\n5 1\n6 0\n6 0\n61\n6 2\n5 2\n6 0\n7 0\n6 2\n7 1\n6 2\n4 2\n5 3\n7 1\n5 1\n9 1\n6 1\n5 2\n5 1\n6 0\n5 2\n6 4\n5 2\n4 1\n6 1\n3 1\n5 3\n10 2\n9 3\n9 0\n5 0\n7 1\n6 0\n4 0\n6 0\n6 1\n4 2\n5 1\n5 1\n5 1\n5 2\n6 1\n6 1\n5 0\n8 1\n4 1\n7 1\n3 0\n6 2\n4 1\n6 1\n5 1\n4 1\n7 1\n7 2\n6 1\n7 1\n4 2\n7 2\n5 0\n5 2\n6 1\n6 2\n5 1\n5 1\n6 2\n5 2\n4 0\n7 0\n5 2\n7 1\n6 1\n9 1\n4 1\n6 2\n9 1\n5 1\n6 1\n8 2\n7 1\n3 1\n5 0\n7 3\n6 3\n6 1\n8 1\n6 2\n5 2\n7 2\n8 2\n5 0\n6 2\n5 1\n6 1\n6 1\n6 0\n12 1\n9 2\n7 3\n5 1\n3 1\n6 3\n4 2\n5 1\n7 1\n5 2\n8 2\n7 2\n5 1\n7 1\n6 2\n9 4\n6 2\n4 1\n6 1\n6 2\n6 1\n5 1\n6 1\n5 2\n6 1\n7 2\n4 1\n5 1\n6 2\n8 0\n6 1\n7 1\n6 1\n5 2\n6 2\n6 1\n8 2\n4 1\n7 2\n5 2\n7 2\n5 0\n6 1\n6 2\n6 2\n7 2\n7 2\n6 2\n5 1\n5 1\n8 1\n5 1\n7 2\n6 1\n6 1\n5 2\n7 0\n8 2\n8 2\n6 2\n5 1\n8 0\n4 3\n7 3\n6 3\n6 2\n5 2\n6 1\n7 3\n5 1\n5 2\n7 2\n9 2\n7 2\n8 1\n9 3\n5 1\n5 2\n4 0\n6 1\n4 1\n5 2\n3 1\n5 2\n3 2\n6 2\n5 2\n5 1\n3 1\n6 1\n10 2\n3 2\n5 1\n7 1\n7 2\n8 2\n6 0\n5 1\n5 0\n5 2\n4 2\n7 1\n5 2\n8 0\n7 2\n2 1\n7 2\n9 0\n4 1\n6 0\n5 0\n7 2\n6 2\n5 1\n5 1\n6 1\n5 2\n6 0\n6 1\n4 0\n7 1\n5 2\n3 1\n8 1\n7 2\n5 1\n6 1\n6 1\n6 2\n5 3\n6 0\n7 1\n6 2\n5 1\n6 2\n7 0\n6 1\n6 3\n8 2\n6 1\n6 0\n4 1\n4 1\n7 1\n4 0\n5 1\n6 2\n5 1\n5 1\n9 3\n3 1\n6 1\n5 2\n5 0\n6 1\n5 2\n6 1\n6 2\n5 1\n7 2\n9 1\n6 0\n4 1\n6 1\n5 0\n9 2\n8 1\n8 2\n6 1\n6 1\n7 1\n9 1\n5 3\n4 1\n7 1\n5 2\n6 1\n5 2\n7 2\n7 1\n10 1\n7 3\n5 1\n10 1\n5 0\n7 2\n5 1\n5 2\n6 2\n4 0\n8 2\n6 2\n7 0\n7 1\n8 2\n8 2\n5 0\n3 0\n5 0\n5 2\n3 0\n6 1\n6 2\n7 2\n7 1\n4 2\n8 1\n7 2\n7 2\n5 1\n6 1\n7 2\n8 1\n5 1\n3 1\n6 2\n4 0\n3 0\n8 2\n8 1\n6 1\n4 1\n7 1\n6 2\n5 2\n5 2\n8 0\n5 2\n4 0\n8 2\n3 0\n9 2\n6 2\n7 1\n6 1\n5 1\n7 1\n6 0\n9 1\n6 1\n5 1\n6 1\n4 1\n6 1\n7 2\n5 0\n9 3\n7 1\n6 3\n4 2\n7 0\n7 1\n7 1\n7 0\n4 1\n6 1\n4 0\n6 2\n6 2\n7 2\n5 1\n5 2\n7 2\n6 1\n4 0\n5 0\n8 1\n6 1\n10 1\n6 2\n7 2\n8 0\n8 2\n5 1\n6 1\n4 2\n7 1\n4 2\n6 2\n6 2\n5 0\n6 3\n4 2\n6 0\n5 1\n7 2\n7 3\n5 1\n7 1\n4 0\n13 2\n5 0\n7 0\n7 2\n9 1\n6 2\n6 2\n6 1\n5 0\n6 2\n8 1\n8 1\n5 3\n7 0\n6 0\n7 1\n6 2\n7 2\n4 2\n6 2\n5 1\n6 0\n4 2\n4 0\n6 2\n4 0\n6 1\n6 1\n8 0\n5 1\n6 1\n6 1\n3 1\n7 2\n3 2\n6 1\n7 2\n6 0\n4 2\n6 1\n6 0\n6 1\n4 2\n4 1\n7 2\n5 2\n7 2\n3 1\n5 2\n4 0\n7 0\n7 1\n4 0\n5 1\n6 1\n5 1\n7 0\n5 2\n5 0\n4 1\n5 2\n5 1\n8 1\n6 2\n6 2\n8 2\n7 1\n6 1\n7 2\n8 1\n5 2\n6 3\n9 2\n6 2\n7 1\n5 2\n6 2\n4 1\n6 2\n7 2\n6 0\n7 1\n5 1\n8 2\n5 0\n4 2\n6 1\n3 0\n5 1\n4 1\n4 1\n7 1\n8 2\n4 0\n6 1\n4 0\n8 2\n9 1\n6 2\n5 2\n7 2\n5 2\n6 1\n9 1\n6 1\n5 1\n5 0\n6 4\n6 0\n7 1\n3 0\n5 1\n8 1\n6 2\n5 0\n7 1\n5 0\n6 1\n8 0\n4 0\n5 0\n7 2\n7 3\n5 1\n4 0\n8 1\n8 2\n6 1\n6 1\n5 1\n8 1\n5 1\n6 1\n5 2\n8 3\n2 1\n2 1\n3 1\n7 2\n7 1\n6 1\n8 2\n7 0\n6 2\n4 2\n9 1\n7 2\n4 0\n5 1\n6 0\n6 2\n3 1\n5 2\n9 2\n6 1\n5 1\n7 1\n7 1\n4 2\n7 1\n4 2\n5 2\n6 2\n5 1\n4 0\n6 1\n7 4\n11 1\n5 0\n6 0\n7 2\n6 1\n5 2\n8 1\n9 2\n4 1\n6 0\n7 1\n3 1\n6 1\n6 1\n6 1\n7 1\n4 0\n8 2\n7 0\n5 2\n10 1\n7 2\n6 2\n4 1\n6 2\n9 3\n6 1\n8 1\n8 1\n3 0\n5 1\n7 2\n4 1\n5 0\n6 0\n6 0\n7 0\n6 1\n6 2\n4 3\n7 2\n6 1\n4 1\n4 1\n3 0\n7 3\n4 1\n8 2\n9 1\n8 2\n5 1\n5 1\n5 2\n5 2\n4 2\n4 1\n8 0\n6 2\n7 0\n5 2\n9 1\n5 1\n6 0\n9 0\n7 1\n9 1\n8 1\n4 1\n6 2\n9 2\n7 0\n7 1\n5 2\n5 2\n6 1\n4 1\n7 1\n5 2\n5 3\n4 1\n5 1\n8 0\n6 1\n6 2\n6 3\n5 2\n8 2\n2 0\n6 2\n5 2\n5 2\n7 1\n7 1\n6 1\n5 1\n3 1\n6 1\n6 3\n5 0\n5 1\n8 1\n4 0\n6 2\n5 2\n3 1\n6 2\n6 1\n5 2\n5 1\n7 1\n7 2\n6 1\n7 1\n6 2\n7 1\n7 1\n4 1\n7 4\n4 2\n3 2\n7 3\n6 3\n8 1\n4 1\n8 3\n6 2\n9 1\n8 2\n4 1\n7 1\n6 2\n5 0\n8 3\n6 0\n5 1\n7 2\n5 2\n5 1\n4 0\n8 2\n4 2\n4 1\n6 2\n5 1\n6 1\n6 0\n5 0\n7 1\n8 2\n6 1\n9 2\n2 1\n9 1\n5 0\n6 2\n5 1\n8 2\n9 2\n4 1\n4 1\n8 0\n5 1\n6 2\n8 2\n5 1\n6 2\n7 3\n6 2\n8 1\n6 3\n5 1\n6 1\n8 2\n6 1\n4 1\n8 1\n6 2\n5 2\n6 2\n7 1\n5 1\n7 2\n7 3\n7 0\n4 2\n7 2\n7 2\n7 2\n4 1\n4 1\n3 0\n7 1\n6 1\n4 1\n8 0\n6 1\n6 2\n6 1\n5 1\n10 2\n6 1\n4 1\n7 1\n6 1\n6 1\n5 2\n6 3\n8 2\n6 3\n6 2\n6 0\n5 2\n6 1\n7 0\n5 2\n6 2\n6 2\n5 1\n7 1\n6 1\n4 2\n5 1\n6 1\n7 2\n8 3\n9 1\n5 2\n4 2\n6 1\n7 0\n7 1\n6 2\n5 1\n4 1\n10 1\n3 2\n8 1\n8 2\n7 2\n5 0\n6 0\n6 1\n6 2\n5 0\n7 1\n5 1\n6 2\n7 2\n6 1\n5 1\n4 1\n5 0\n7 1\n6 2\n6 1\n6 1\n9 2\n7 1\n5 1\n7 1\n7 2\n7 1\n8 2\n4 1\n6 1\n3 0\n5 1\n5 2\n9 0\n6 0\n4 1\n4 1\n4 1\n6 1\n6 1\n6 2\n8 3\n5 1\n5 2\n7 2\n6 2\n5 1\n6 2\n6 1\n5 1\n6 2\n5 2\n8 1\n6 1\n10 1\n8 1\n7 0\n6 1\n6 2\n4 2\n5 0\n6 1\n6 1\n5 0\n4 2\n6 1\n6 1\n5 0\n5 2\n6 0\n7 2\n5 0\n6 1\n6 0\n4 0\n5 1\n8 1\n4 1\n9 0\n4 2\n6 0\n6 1\n6 1\n3 1\n4 2\n4 1\n6 1\n8 0\n4 0\n8 0\n8 1\n6 1\n5 0\n5 3\n5 0\n6 1\n4 1\n5 1\n6 0\n6 2\n5 2\n6 1\n7 2\n8 2\n8 1\n6 1\n7 1\n8 2\n7 1\n7 1\n7 1\n6 2\n7 1\n7 1\n6 2\n8 2\n6 2\n6 0\n7 1\n4 1\n6 1\n5 2\n8 1\n5 1\n5 1\n5 2\n6 0\n8 1\n5 2\n6 0\n6 2\n5 2\n6 3\n8 3\n6 2\n7 2\n5 1\n5 1\n7 2\n8 2\n2 1\n3 2\n6 2\n6 1\n5 1\n6 2\n8 1\n7 1\n7 1\n5 1\n4 0\n4 1\n7 2\n8 1\n4 1\n6 0\n6 1\n6 0\n7 2\n6 1\n4 1\n4 1\n5 1\n5 1\n6 0\n5 1\n5 3\n6 3\n10 2\n4 1\n4 0\n8 3\n6 0\n6 1\n6 2\n6 1\n4 0\n8 2\n7 1\n4 2\n5 0\n5 1\n6 2\n4 2\n9 0\n6 1\n7 2\n5 1\n7 1\n6 2\n6 0\n4 0\n6 0\n5 3\n5 1\n6 1\n5 1\n7 3\n6 0\n4 2\n7 1\n5 2\n6 2\n5 2\n8 2\n6 1\n4 2\n5 0\n6 1\n7 2\n5 1\n6 0\n6 0\n6 1\n5 2\n6 2\n5 2\n9 2\n7 1\n4 1\n6 3\n7 1\n5 1\n9 2\n6 2\n5 1\n6 1\n5 3\n7 0\n8 0\n5 1\n5 0\n5 1\n6 2\n9 1\n5 1\n6 1\n6 0\n5 1\n5 2\n4 2\n7 1\n5 1\n8 0\n5 1\n3 0\n6 1\n5 1\n7 2\n4 2\n6 1\n10 2\n12 0\n8 2\n8 2\n5 0\n7 0\n7 0\n5 0\n3 1\n6 2\n4 0\n5 1\n6 0\n4 1\n4 0\n5 2\n5 1\n7 1\n4 1\n5 2\n4 2\n6 3\n3 1\n6 1\n6 1\n4 1\n8 1\n5 1\n6 2\n7 0\n6 0\n6 3\n7 1\n7 2\n6 2\n7 0\n5 1\n7 1\n7 2\n6 0\n5 2\n6 2\n5 2\n6 2\n6 1\n6 0\n5 2\n8 2\n6 2\n5 1\n3 0\n7 2\n6 1\n7 3\n4 0\n7 1\n7 1\n4 1\n7 1\n7 2\n9 3\n7 1\n4 2\n4 2\n7 3\n6 2\n4 1\n6 1\n5 0\n1 0\n6 1\n6 0\n5 1\n6 2\n5 0\n8 1\n6 1\n6 2\n7 0\n9 1\n4 1\n5 2\n5 2\n7 2\n5 2\n8 2\n4 1\n7 1\n8 1\n9 3\n4 2\n6 2\n4 1\n6 1\n6 2\n6 0\n9 1\n7 1\n7 3\n5 1\n7 1\n5 1\n7 3\n7 1\n5 1\n4 2\n6 2\n6 2\n8 1\n5 0\n7 1\n4 0\n4 2\n5 2\n8 2\n6 2\n7 1\n4 1\n6 0\n5 2\n6 2\n6 2\n5 1\n9 2\n7 3\n9 2\n6 1\n8 2\n6 1\n3 2\n2 1\n4 2\n5 2\n5 2\n2 1\n5 1\n5 1\n8 1\n9 1\n6 3\n8 0\n8 1\n3 1\n8 2\n4 1\n5 2\n3 2\n4 1\n8 1\n5 2\n6 1\n6 2\n8 1\n6 2\n5 1\n5 2\n5 1\n4 2\n6 2\n9 1\n8 3\n8 2\n6 3\n7 2\n6 0\n3 0\n4 1\n7 3\n6 1\n5 1\n7 2\n6 2\n6 1\n6 2\n4 1\n6 3\n6 2\n4 2\n8 1\n5 1\n5 0\n9 2\n6 1\n5 1\n5 0\n6 0\n5 2\n5 1\n6 2\n7 2\n7 1\n10 1\n5 1\n5 1\n7 1\n8 1\n7 2\n7 2\n8 1\n7 1\n6 0\n7 2\n4 1\n6 1\n7 2\n4 1\n8 1\n4 1\n4 0\n6 2\n8 2\n6 3\n6 0\n7 2\n5 1\n3 0\n6 0\n6 0\n7 1\n5 1\n7 0\n10 2\n7 1\n5 0\n6 1\n6 1\n6 1\n3 0\n5 1\n5 1\n5 1\n6 2\n6 1\n6 1\n5 0\n8 1\n7 1\n5 1\n7 2\n3 1\n8 1\n5 2\n6 1\n7 2\n6 1\n6 0\n4 1\n5 1\n7 1\n9 2\n5 2\n5 1\n8 0\n7 1\n9 1\n8 2\n7 1\n4 0\n3 1\n5 1\n8 1\n5 2\n5 3\n8 1\n7 2\n6 1\n3 2\n4 0\n5 0\n8 3\n8 2\n7 2\n6 1\n6 1\n5 1\n6 3\n4 1\n6 3\n4 1\n5 1\n5 2\n8 1\n3 1\n5 1\n5 2\n5 2\n5 0\n4 2\n6 2\n5 1\n8 2\n5 0\n4 1\n8 1\n7 2\n5 0\n6 1\n4 1\n7 2\n4 2\n6 2\n4 1\n6 0\n7 2\n4 1\n7 2\n4 1\n6 0\n7 2\n7 1\n7 1\n10 1\n4 2\n6 2\n5 2\n6 1\n4 0\n6 1\n4 0\n6 0\n5 2\n4 1\n6 2\n6 2\n5 2\n6 1\n6 2\n6 2\n8 1\n8 1\n4 2\n6 0\n4 1\n4 1\n10 2\n6 2\n7 2\n4 2\n5 1\n4 1\n6 2\n7 2\n6 1\n7 1\n4 0\n4 1\n8 1\n5 0\n6 1\n5 1\n6 0\n7 1\n4 1\n5 2\n6 1\n5 0\n4 2\n7 2\n6 3\n4 1\n6 0\n8 3\n6 2\n7 2\n7 0\n7 3\n7 2\n5 2\n8 2\n6 2\n6 0\n6 1\n6 1\n7 3\n7 1\n6 2\n6 2\n6 2\n8 0\n6 3\n6 3\n8 1\n6 3\n6 2\n5 2\n6 3\n7 2\n8 1\n3 0\n9 1\n6 2\n4 2\n7 1\n8 1\n7 1\n5 1\n6 1\n8 2\n6 0\n5 1\n9 1\n6 2\n9 0\n4 2\n6 2\n8 1\n8 2\n6 3\n5 2\n6 2\n7 2\n6 0\n3 3\n5 1\n8 3\n3 0\n6 0\n5 2\n6 2\n6 1\n6 1\n5 1\n6 1\n6 1\n6 1\n5 1\n5 2\n8 2\n8 2\n7 1\n4 0\n8 2\n6 1\n7 2\n6 2\n5 1\n6 1\n4 1\n5 1\n6 0\n5 2\n3 2\n4 0\n5 1\n4 2\n5 2\n3 2\n5 2\n5 0\n6 0\n5 1\n5 1\n7 2\n8 1\n4 2\n6 0\n6 0\n5 2\n6 3\n3 1\n7 2\n4 2\n5 2\n4 1\n4 2\n10 1\n4 0\n6 2\n7 0\n7 2\n4 1\n5 1\n9 4\n5 1\n4 0\n5 2\n6 1\n5 1\n5 1\n8 1\n5 1\n11 1\n7 2\n7 1\n6 1\n6 2\n8 2\n8 2\n8 2\n4 1\n5 0\n10 2\n6 1\n7 1\n3 1\n6 2\n5 1\n6 2\n5 0\n7 3\n7 1\n8 0\n6 1\n8 1\n6 1\n4 2\n5 0\n6 2\n5 1\n6 2\n7 1\n7 1\n4 1\n4 1\n4 2\n10 2\n5 3\n6 1\n5 1\n4 0\n4 0\n7 2\n6 0\n7 1\n5 0\n4 1\n3 0\n7 2\n5 2\n7 2\n8 3\n7 2\n8 0\n5 0\n7 0\n5 1\n7 1\n6 2\n6 0\n6 1\n6 2\n6 2\n7 1\n12 1\n4 0\n6 2\n4 1\n7 1\n7 2\n5 2\n5 1\n4 1\n7 1\n11 2\n7 1\n10 1\n5 2\n3 1\n9 2\n4 2\n5 1\n6 0\n8 3\n7 1\n9 2\n5 2\n5 1\n5 1\n8 1\n5 1\n6 1\n5 2\n7 2\n5 0\n3 0\n6 1\n4 1\n5 3\n7 1\n7 1\n6 1\n6 0\n7 2\n6 2\n6 2\n8 2\n5 2\n6 1\n5 2\n6 1\n3 0\n7 1\n5 0\n5 0\n4 0\n8 2\n5 1\n7 2\n6 0\n4 2\n4 1\n6 1\n3 0\n6 1\n4 1\n4 0\n5 3\n5 1\n6 1\n4 1\n6 2\n4 1\n6 2\n9 1\n6 1\n6 1\n6 2\n4 1\n6 1\n5 1\n8 0\n6 1\n6 2\n6 1\n6 1\n6 1\n5 2\n4 1\n8 2\n6 3\n4 0\n6 0\n7 2\n8 2\n4 0\n5 1\n10 3\n7 0\n7 1\n6 1\n8 1\n5 1\n5 2\n6 3\n4 1\n7 2\n7 1\n4 1\n6 2\n6 2\n8 2\n7 3\n7 1\n4 3\n5 0\n7 1\n4 2\n6 1\n7 1\n5 1\n6 2\n6 1\n4 2\n6 2\n4 0\n5 4\n10 2\n7 1\n5 2\n8 2\n5 1\n7 2\n5 1\n5 2\n4 2\n8 1\n6 2\n8 0\n5 1\n5 2\n6 1\n10 2\n11 1\n7 1\n6 1\n6 0\n7 1\n6 1\n4 1\n5 2\n5 2\n7 2\n9 2\n6 0\n7 1\n8 1\n5 1\n7 1\n6 2\n7 1\n7 1\n9 2\n6 1\n9 0\n7 1\n5 2\n5 1\n8 3\n7 1\n9 2\n9 4\n6 2\n7 1\n6 0\n9 1\n5 2\n6 1\n7 2\n8 0\n5 2\n5 2\n5 0\n5 3\n8 2\n6 1\n5 1\n3 0\n4 1\n6 2\n6 2\n6 0\n9 1\n4 1\n9 3\n9 1\n5 1\n5 0\n4 0\n2 0\n7 1\n5 3\n3 1\n4 1\n6 1\n7 1\n5 2\n6 2\n6 1\n6 3\n6 2\n7 1\n5 1\n8 1\n6 0\n7 2\n5 2\n8 1\n6 0\n5 2\n7 1\n6 1\n5 0\n5 1\n5 2\n5 2\n3 1\n6 1\n7 2\n6 1\n6 2\n5 1\n6 1\n9 3\n5 0\n5 2\n8 0\n6 2\n5 3\n7 5\n4 2\n6 0\n9 1\n7 2\n7 0\n4 1\n10 1\n4 2\n5 3\n6 1\n9 1\n5 1\n5 3\n6 2\n4 1\n7 2\n7 1\n10 2\n8 2\n6 1\n5 1\n5 1\n6 1\n4 0\n6 0\n6 1\n7 1\n9 1\n5 2\n6 1\n7 0\n5 2\n5 1\n8 2\n7 1\n7 2\n6 2\n7 2\n6 0\n5 2\n7 2\n8 1\n5 1\n5 2\n8 1\n5 2\n8 2\n8 2\n5 1\n5 2\n6 1\n5 1\n5 2\n6 2\n8 1\n7 1\n6 1\n7 1\n7 2\n4 2\n6 2\n6 1\n5 2\n8 1\n6 3\n5 1\n8 1\n7 1\n6 2\n3 1\n4 1\n5 1\n6 1\n8 1\n6 2\n7 1\n10 0\n6 1\n5 2\n8 2\n5 2\n7 1\n4 2\n6 2\n7 0\n7 0\n6 2\n5 1\n5 1\n5 2\n6 2\n7 1\n6 1\n6 0\n6 2\n9 1\n7 2\n6 0\n6 1\n7 2\n9 0\n6 2\n5 1\n9 1\n8 1\n6 2\n4 2\n9 1\n5 1\n5 1\n5 2\n7 2\n8 1\n7 1\n7 2\n4 1\n7 2\n5 0\n4 1\n7 1\n3 0\n8 2\n5 2\n5 2\n7 2\n7 3\n7 2\n6 1\n6 1\n6 1\n6 1\n5 0\n5 1\n5 1\n5 2\n7 2\n8 1\n5 2\n8 2\n8 1\n8 1\n6 3\n8 0\n6 1\n9 1\n4 2\n6 0\n3 2\n6 1\n6 2\n5 2\n9 1\n7 2\n6 1\n6 1\n5 1\n5 1\n6 1\n6 1\n7 1\n6 1\n5 2\n6 0\n5 4\n7 1\n4 1\n6 1\n5 1\n4 0\n7 1\n5 1\n4 1\n5 2\n7 2\n7 2\n5 2\n8 2\n6 2\n7 0\n6 1\n6 2\n6 2\n5 1\n1 0\n5 2\n8 2\n6 1\n6 1\n7 1\n6 3\n7 2\n8 2\n6 2\n4 1\n6 2\n4 0\n8 2\n5 0\n8 2\n7 1\n11 2\n8 1\n6 1\n5 2\n7 2\n5 2\n6 2\n6 2\n6 2\n7 1\n6 0\n4 2\n5 3\n5 2\n7 1\n3 1\n5 0\n4 2\n4 1\n5 1\n8 2\n6 0\n6 0\n7 0\n8 1\n6 1\n6 2\n5 1\n5 2\n4 0\n8 3\n6 3\n9 4\n4 2\n5 1\n5 0\n7 0\n8 1\n6 1\n5 1\n5 1\n8 3\n7 2\n6 2\n8 2\n6 3\n7 0\n6 2\n6 1\n5 1\n6 0\n2 1\n5 2\n5 2\n6 0\n5 2\n4 1\n7 1\n7 2\n4 1\n4 0\n7 1\n4 1\n4 1\n2 1\n6 1\n9 0\n5 2\n4 0\n5 1\n6 0\n4 1\n5 1\n6 1\n5 2\n5 2\n6 1\n2 1\n6 1\n10 2\n5 1\n8 1\n5 1\n7 2\n3 0\n6 2\n8 3\n4 1\n4 1\n8 1\n6 0\n6 2\n7 1\n7 1\n5 1\n4 2\n8 2\n6 2\n6 1\n9 3\n5 1\n6 1\n7 0\n3 2\n5 1\n6 2\n6 3\n6 1\n6 1\n9 1\n5 0\n5 2\n6 1\n7 1\n9 2\n6 2\n9 1\n6 2\n4 0\n9 1\n4 0\n4 1\n8 2\n5 1\n7 2\n10 1\n4 2\n6 1\n4 2\n8 1\n5 1\n7 1\n5 0\n5 3\n9 3\n4 2\n5 2\n13 1\n6 2\n4 1\n4 3\n8 3\n6 0\n5 3\n7 1\n7 1\n5 2\n4 1\n4 2\n5 1\n8 2\n8 1\n4 1\n7 2\n7 2\n6 3\n4 1\n7 0\n7 1\n5 2\n6 0\n4 0\n6 0\n6 1\n11 2\n6 1\n7 1\n4 1\n5 1\n6 2\n6 1\n6 1\n8 1\n5 1\n4 2\n4 2\n5 1\n6 2\n8 3\n6 0\n5 1\n8 2\n6 1\n6 3\n5 1\n8 2\n5 1\n5 1\n6 1\n5 2\n9 2\n6 1\n11 2\n5 2\n5 2\n4 0\n4 0\n5 0\n7 2\n7 1\n7 0\n6 2\n6 1\n9 2\n4 1\n7 2\n3 1\n6 0\n5 0\n4 1\n6 2\n6 2\n5 1\n6 1\n5 1\n7 3\n7 3\n5 2\n9 1\n4 1\n5 2\n5 1\n5 1\n7 2\n4 1\n5 1\n5 1\n8 2\n6 2\n7 2\n6 2\n6 3\n10 2\n10 0\n5 0\n7 1\n6 1\n7 1\n5 2\n6 1\n4 0\n7 2\n2 1\n6 2\n6 0\n9 0\n4 0\n6 3\n6 1\n8 2\n5 1\n5 0\n4 0\n7 1\n7 2\n5 2\n8 0\n5 2\n9 2\n7 2\n7 1\n5 0\n4 0\n7 1\n8 1\n5 2\n6 2\n8 2\n6 1\n5 2\n7 0\n5 2\n7 2\n6 0\n6 0\n7 1\n6 2\n4 3\n7 1\n6 2\n9 2\n3 1\n5 1\n4 1\n5 1\n6 2\n5 0\n5 1\n5 1\n7 2\n4 2\n6 2\n6 1\n5 2\n10 1\n5 0\n5 1\n4 1\n6 1\n2 0\n8 1\n4 2\n4 2\n6 2\n5 2\n6 1\n6 1\n4 2\n5 2\n5 2\n3 1\n8 1\n6 1\n7 1\n5 0\n7 1\n8 1\n6 2\n5 1\n8 2\n4 1\n6 1\n4 1\n7 2\n6 2\n8 2\n5 2\n7 0\n6 0\n5 1\n8 2\n6 1\n5 1\n5 1\n4 2\n6 0\n8 2\n6 0\n6 2\n7 1\n8 3\n7 2\n6 1\n8 3\n7 1\n6 3\n8 1\n5 0\n6 1\n8 1\n5 2\n7 2\n4 0\n6 2\n6 2\n9 1\n6 1\n3 0\n6 3\n7 2\n8 3\n5 2\n5 2\n4 2\n8 2\n8 2\n3 0\n6 0\n8 1\n4 0\n4 0\n4 1\n5 2\n6 1\n7 2\n9 1\n7 2\n5 1\n6 0\n5 0\n7 1\n6 1\n6 2\n11 2\n8 0\n7 1\n5 2\n5 1\n7 0\n6 1\n6 1\n6 0\n6 1\n6 1\n7 1\n3 1\n4 0\n6 2\n5 2\n7 1\n7 0\n7 0\n6 2\n5 0\n9 3\n6 2\n8 2\n5 2\n5 2\n6 2\n4 0\n6 0\n7 1\n8 1\n5 1\n5 0\n5 0\n4 0\n4 0\n7 1\n6 2\n5 1\n5 1\n7 0\n6 1\n4 0\n5 0\n10 0\n9 4\n6 1\n5 1\n7 2\n8 1\n7 1\n5 1\n6 1\n6 1\n5 0\n7 2\n4 0\n7 1\n6 2\n4 0\n6 0\n6 1\n10 1\n7 3\n5 1\n5 0\n4 0\n6 1\n6 1\n10 2\n5 0\n3 2\n5 1\n6 1\n8 1\n6 3\n6 1\n6 1\n7 2\n7 3\n5 1\n4 2\n6 0\n7 3\n5 0\n5 1\n6 2\n6 2\n4 0\n5 2\n4 2\n4 1\n6 2\n12 0\n5 2\n5 0\n10 3\n4 1\n5 1\n7 1\n8 1\n6 1\n6 1\n4 1\n8 1\n7 0\n7 2\n4 1\n5 1\n8 2\n8 1\n8 2\n8 2\n6 2\n5 1\n6 1\n5 3\n9 1\n4 2\n5 2\n5 1\n8 2\n12 2\n3 1\n7 2\n7 0\n8 2\n5 0\n7 0\n8 2\n9 1\n6 1\n5 0\n8 0\n8 2\n5 1\n6 2\n5 1\n5 1\n7 2\n5 2\n7 2\n6 1\n7 2\n6 1\n4 1\n5 0\n6 2\n4 0\n11 2\n4 0\n5 1\n4 1\n5 1\n7 1\n6 2\n6 1\n4 0\n7 2\n7 2\n7 1\n4 2\n5 1\n5 1\n6 2\n8 1\n5 0\n6 0\n5 1\n4 2\n3 2\n6 1\n6 2\n7 1\n7 1\n6 1\n5 1\n6 0\n6 2\n6 2\n4 1\n7 2\n9 2\n9 1\n6 1\n6 3\n7 2\n4 1\n6 1\n6 2\n5 1\n7 2\n8 4\n5 0\n7 4\n4 2\n6 0\n7 2\n5 2\n6 1\n7 1\n7 2\n7 2\n4 2\n6 4\n8 1\n5 0\n7 1\n4 2\n4 2\n5 1\n6 2\n8 2\n6 1\n6 1\n6 2\n9 1\n6 2\n5 1\n4 1\n6 1\n8 0\n6 1\n7 0\n7 1\n6 1\n7 1\n5 0\n4 2\n5 2\n10 0\n5 1\n5 1\n5 2\n6 2\n8 1\n9 1\n7 2\n8 3\n9 1\n8 0\n7 1\n4 1\n5 2\n7 2\n6 1\n6 2\n7 3\n7 1\n9 2\n5 2\n5 2\n6 2\n5 2\n5 1\n6 1\n5 2\n8 2\n6 2\n7 2\n6 1\n8 2\n5 1\n4 1\n6 3\n5 0\n6 1\n6 1\n5 3\n5 1\n8 0\n6 0\n9 2\n7 1\n9 2\n5 1\n4 2\n6 2\n4 2\n4 0\n4 1\n7 1\n4 2\n6 1\n5 0\n6 1\n6 0\n8 2\n4 0\n4 2\n7 1\n11 2\n8 2\n6 1\n3 1\n8 1\n4 2\n7 0\n6 2\n4 2\n7 1\n5 2\n4 0\n4 2\n8 1\n7 1\n3 0\n6 1\n7 2\n6 2\n7 2\n8 1\n6 2\n7 2\n5 1\n6 2\n5 1\n5 3\n10 2\n9 1\n7 0\n7 1\n6 3\n4 1\n8 2\n5 3\n7 1\n7 2\n6 1\n7 2\n7 1\n7 2\n3 1\n4 1\n8 2\n5 1\n6 2\n6 1\n7 1\n4 1\n8 0\n4 0\n7 2\n6 1\n6 2\n6 0\n5 1\n6 1\n5 1\n5 1\n5 1\n9 1\n6 2\n5 1\n9 2\n6 2\n7 1\n6 1\n6 2\n5 1\n7 2\n4 2\n7 2\n8 2\n8 1\n6 0\n6 2\n7 1\n6 2\n7 2\n5 1\n6 2\n5 1\n6 1\n4 0\n7 2\n8 2\n4 1\n6 2\n5 1\n7 3\n6 1\n5 1\n4 0\n6 1\n6 1\n6 1\n3 0\n5 1\n4 1\n6 1\n10 0\n8 1\n7 0\n5 2\n8 3\n8 1\n5 1\n6 1\n6 2\n8 2\n6 1\n5 2\n6 1\n6 2\n7 2\n4 2\n5 2\n6 0\n8 0\n8 0\n5 1\n6 4\n4 1\n5 1\n6 1\n4 1\n5 2\n8 2\n4 0\n7 1\n6 2\n7 1\n6 1\n5 1\n7 2\n7 4\n6 1\n10 2\n4 0\n7 0\n5 2\n7 1\n7 0\n8 2\n7 2\n5 2\n6 1\n8 1\n4 2\n5 0\n5 2\n7 0\n6 1\n8 2\n6 1\n5 1\n5 1\n5 0\n4 1\n5 1\n4 0\n8 0\n5 2\n7 1\n6 2\n4 1\n7 1\n5 0\n4 1\n4 1\n5 0\n4 2\n6 1\n4 2\n5 1\n8 1\n6 1\n9 0\n4 2\n6 1\n7 2\n7 4\n6 1\n6 1\n6 1\n6 2\n6 1\n8 0\n7 2\n6 3\n5 1\n7 2\n7 1\n4 1\n7 1\n6 0\n6 2\n7 0\n7 1\n5 1\n8 1\n8 0\n7 1\n5 1\n6 0\n5 2\n5 1\n6 2\n5 0\n6 0\n7 1\n6 2\n5 1\n6 3\n4 1\n4 1\n6 2\n5 1\n7 3\n7 1\n6 2\n4 1\n6 0\n9 2\n4 3\n8 1\n7 1\n5 1\n5 1\n7 2\n5 1\n6 1\n6 1\n5 2\n5 2\n6 1\n5 0\n7 0\n4 2\n5 1\n2 0\n7 1\n5 1\n6 0\n5 1\n7 0\n5 2\n6 1\n5 0\n6 1\n7 2\n6 1\n7 3\n7 2\n5 1\n5 2\n7 0\n6 2\n4 1\n4 2\n5 1\n7 0\n6 2\n7 0\n7 0\n7 1\n6 1\n4 1\n6 1\n6 1\n5 1\n7 0\n7 1\n6 1\n5 0\n7 1\n10 2\n7 2\n10 2\n7 2\n8 1\n4 0\n6 1\n6 1\n7 2\n3 1\n6 2\n6 1\n5 1\n7 2\n4 1\n5 1\n9 2\n6 4\n5 0\n6 2\n9 1\n5 2\n6 0\n5 0\n9 1\n3 1\n6 1\n6 1\n6 2\n5 1\n8 1\n8 0\n6 0\n7 2\n7 2\n6 1\n7 2\n6 3\n7 1\n11 1\n7 2\n5 2\n6 1\n7 2\n5 2\n5 1\n6 1\n11 2\n5 2\n5 1\n7 0\n9 2\n6 2\n5 2\n5 1\n6 0\n12 4\n6 1\n8 2\n7 3\n7 1\n8 1\n5 1\n4 1\n7 0\n8 3\n6 1\n5 2\n4 0\n4 1\n6 1\n6 2\n7 1\n6 1\n5 0\n7 2\n5 2\n9 1\n6 1\n13 3\n8 1\n6 2\n5 2\n5 1\n4 1\n6 0\n7 1\n6 1\n9 1\n8 2\n6 2\n6 3\n6 1\n8 0\n6 0\n5 2\n5 2\n7 1\n6 1\n6 1\n4 2\n8 0\n3 2\n9 2\n5 2\n6 2\n4 2\n5 0\n5 1\n6 2\n7 1\n6 2\n6 0\n5 1\n5 0\n10 1\n6 1\n7 1\n4 1\n7 2\n6 2\n6 2\n6 1\n7 0\n8 0\n6 2\n4 1\n6 0\n6 0\n7 1\n6 0\n6 3\n6 2\n6 2\n5 0\n7 2\n4 0\n7 2\n7 1\n5 1\n5 1\n11 0\n6 2\n5 0\n6 2\n6 1\n6 3\n6 1\n5 0\n8 2\n7 1\n6 2\n8 1\n5 1\n5 1\n3 1\n9 1\n7 1\n7 2\n8 2\n6 1\n6 0\n9 2\n6 2\n6 3\n5 2\n5 2\n5 2\n8 2\n5 1\n6 1\n6 0\n5 2\n5 1\n3 3\n7 1\n5 2\n6 1\n7 2\n4 2\n7 1\n8 1\n4 0\n7 1\n6 2\n5 1\n9 2\n5 2\n5 1\n7 1\n7 4\n7 1\n7 0\n7 2\n7 1\n8 1\n5 0\n4 0\n9 1\n6 2\n5 2\n6 1\n8 3\n6 0\n7 0\n3 2\n4 1\n5 1\n5 1\n6 1\n8 0\n6 2\n6 1\n4 2\n9 0\n7 2\n5 0\n9 3\n4 0\n6 0\n4 1\n5 1\n6 2\n6 1\n5 2\n5 1\n9 1\n4 0\n6 2\n6 1\n4 0\n5 1\n6 1\n6 2\n8 0\n5 2\n7 2\n5 1\n7 2\n4 1\n10 2\n3 1\n8 2\n5 1\n4 1\n9 1\n4 0\n6 2\n6 1\n8 2\n5 2\n9 4\n6 2\n5 1\n7 1\n6 1\n5 1\n6 2\n5 0\n5 2\n5 0\n8 2\n6 2\n8 3\n6 1\n6 2\n5 1\n5 1\n6 1\n5 2\n7 1\n9 1\n5 1\n6 1\n5 2\n7 1\n4 2\n6 2\n6 1\n5 1\n6 1\n6 1\n6 2\n6 2\n4 1\n4 2\n8 3\n8 2\n8 1\n4 1\n4 0\n10 2\n11 1\n7 2\n5 0\n7 2\n4 1\n9 4\n6 1\n5 2\n4 1\n7 3\n7 1\n8 2\n4 2\n4 1\n8 2\n8 1\n7 0\n5 2\n6 0\n6 2\n6 1\n8 1\n6 3\n8 1\n5 2\n8 2\n6 2\n6 2\n5 0\n6 1\n11 1\n6 0\n8 2\n7 2\n6 1\n5 2\n4 0\n6 2\n7 0\n9 2\n4 1\n6 2\n4 0\n6 1\n6 2\n6 0\n8 2\n6 2\n5 2\n7 2\n6 2\n7 0\n5 0\n6 3\n6 1\n7 1\n6 1\n7 1\n6 1\n10 1\n6 1\n4 3\n6 1\n6 2\n5 2\n8 0\n7 1\n5 0\n7 1\n5 1\n5 1\n11 1\n3 1\n4 1\n5 0\n4 3\n6 2\n7 1\n8 4\n5 1\n4 1\n5 1\n6 3\n5 2\n7 0\n7 1\n8 2\n7 0\n5 0\n6 0\n5 2\n6 1\n5 2\n7 0\n6 2\n7 0\n5 2\n4 2\n5 1\n5 1\n6 1\n6 0\n4 3\n5 1\n8 1\n4 0\n5 2\n7 0\n6 1\n4 0\n6 2\n6 0\n7 3\n7 1\n6 2\n9 1\n5 2\n7 2\n8 0\n6 1\n5 3\n7 1\n4 0\n5 1\n5 1\n5 1\n2 0\n6 0\n5 0\n9 2\n4 1\n12 2\n5 2\n5 2\n4 1\n5 1\n6 1\n4 1\n6 2\n5 1\n7 1\n6 1\n5 2\n6 2\n8 1\n8 1\n3 2\n5 1\n4 0\n6 1\n3 0\n3 2\n7 1\n6 0\n4 0\n6 1\n5 1\n6 0\n7 1\n3 1\n6 2\n5 4\n8 1\n12 2\n6 1\n5 1\n6 2\n7 0\n4 1\n5 0\n7 3\n5 2\n4 0\n5 1\n7 1\n9 1\n4 1\n7 1\n7 1\n5 2\n5 1\n7 1\n6 2\n6 1\n6 0\n4 1\n4 2\n4 1\n3 1\n6 2\n8 3\n5 2\n5 0\n4 1\n8 1\n8 3\n7 2\n5 2\n4 2\n4 2\n7 1\n6 2\n4 1\n6 1\n7 1\n8 1\n10 1\n4 0\n6 2\n3 0\n7 1\n4 2\n3 2\n6 2\n7 1\n6 3\n6 1\n6 1\n5 1\n7 2\n8 3\n4 1\n4 1\n7 1\n4 1\n4 0\n6 2\n6 2\n5 2\n9 1\n6 2\n7 2\n6 2\n4 3\n6 2\n8 1\n8 0\n8 0\n3 0\n5 1\n8 1\n6 0\n8 2\n6 1\n5 1\n9 2\n6 1\n3 1\n4 1\n6 1\n6 1\n7 2\n5 2\n6 2\n6 0\n6 1\n8 1\n5 1\n8 2\n5 1\n7 4\n6 0\n4 2\n8 0\n6 3\n6 1\n4 1\n5 0\n4 2\n6 2\n7 1\n5 3\n3 1\n4 0\n8 1\n5 3\n5 1\n7 2\n6 3\n7 1\n6 1\n5 0\n5 0\n5 1\n8 2\n4 0\n8 2\n4 1\n6 0\n7 2\n6 1\n7 1\n6 1\n6 1\n7 1\n7 1\n5 1\n6 1\n5 1\n6 2\n4 2\n8 1\n5 2\n6 1\n5 2\n5 1\n6 2\n8 2\n8 2\n4 3\n4 1\n4 1\n5 2\n6 1\n7 0\n4 1\n4 1\n6 1\n6 2\n6 1\n10 2\n4 0\n6 2\n6 2\n8 2\n7 2\n6 2\n8 1\n5 2\n7 2\n8 2\n8 2\n5 1\n5 1\n5 1\n6 3\n5 0\n5 0\n6 2\n8 1\n6 4\n8 1\n7 2\n6 1\n5 1\n7 2\n4 1\n8 1\n5 0\n8 2\n9 2\n3 1\n5 1\n6 2\n5 2\n3 1\n7 3\n6 0\n7 1\n3 1\n6 2\n6 0\n4 0\n4 2\n8 2\n8 1\n4 1\n5 1\n5 1\n5 1\n5 1\n5 0\n8 1\n5 2\n7 2\n5 0\n5 0\n6 0\n8 1\n5 1\n7 3\n8 2\n5 1\n6 1\n10 1\n8 2\n8 2\n6 2\n6 1\n5 0\n6 2\n5 2\n6 1\n6 2\n5 2\n4 3\n8 1\n8 0\n7 0\n6 2\n7 1\n4 0\n7 1\n4 0\n4 1\n5 1\n5 1\n7 2\n6 0\n4 1\n4 1\n6 2\n6 1\n4 1\n7 1\n4 2\n9 1\n6 1\n5 0\n5 1\n6 2\n8 2\n6 2\n6 2\n4 1\n5 2\n8 0\n7 1\n6 2\n5 2\n6 1\n7 1\n6 1\n6 1\n6 2\n7 3\n6 1\n4 1\n6 1\n5 1\n10 4\n7 3\n5 2\n6 2\n3 2\n5 0\n6 1\n6 1\n7 1\n5 1\n6 1\n4 1\n6 2\n9 3\n5 1\n5 2\n4 1\n7 1\n4 1\n5 3\n5 1\n5 2\n7 1\n6 2\n7 1\n5 0\n3 1\n5 1\n6 1\n5 2\n5 1\n8 2\n6 2\n9 0\n7 1\n7 1\n4 0\n7 2\n5 1\n9 2\n7 2\n10 2\n6 2\n6 2\n9 0\n7 0\n5 3\n7 3\n7 1\n5 1\n6 2\n7 2\n4 1\n8 3\n4 1\n4 0\n9 2\n5 0\n4 4\n5 2\n7 2\n7 2\n12 0\n6 2\n3 2\n6 1\n8 2\n6 2\n13 2\n7 2\n6 2\n5 3\n3 1\n6 1\n3 1\n9 3\n6 2\n5 1\n8 2\n4 0\n5 1\n6 1\n7 2\n4 1\n5 1\n10 1\n5 1\n7 2\n5 0\n5 1\n3 0\n5 0\n6 1\n6 1\n8 2\n5 2\n6 2\n8 2\n5 2\n6 1\n8 1\n7 2\n5 1\n6 1\n3 1\n8 1\n4 2\n8 0\n6 1\n6 1\n6 1\n8 0\n6 1\n7 1\n6 0\n4 0\n7 1\n5 1\n7 0\n5 0\n7 1\n8 0\n8 1\n6 3\n6 1\n7 1\n4 1\n6 2\n6 1\n3 1\n4 0\n6 1\n5 1\n5 1\n9 0\n5 2\n5 1\n5 1\n4 2\n4 2\n6 0\n8 3\n5 1\n6 1\n7 2\n5 2\n4 2\n9 2\n4 0\n6 1\n5 1\n6 0\n4 0\n5 1\n6 1\n8 1\n6 2\n4 2\n5 1\n4 1\n6 2\n3 0\n5 1\n6 2\n5 1\n6 1\n6 1\n4 1\n6 3\n4 1\n6 2\n9 1\n5 1\n7 1\n4 1\n7 2\n8 0\n5 2\n6 1\n4 0\n5 0\n8 1\n5 2\n6 1\n4 0\n3 1\n8 2\n7 2\n3 0\n4 0\n7 2\n8 2\n5 0\n5 0\n6 3\n8 2\n10 1\n6 1\n7 2\n5 0\n7 0\n8 2\n6 1\n11 1\n8 2\n6 1\n8 2\n6 1\n7 2\n6 1\n6 2\n5 1\n6 3\n5 0\n10 2\n10 1\n5 1\n10 2\n5 1\n5 1\n7 1\n5 1\n5 3\n7 2\n6 1\n7 2\n7 0\n7 3\n5 1\n8 2\n4 0\n7 1\n3 0\n4 1\n6 1\n5 2\n6 1\n3 1\n6 3\n9 3\n6 1\n5 2\n5 1\n5 3\n3 1\n4 0\n7 1\n9 2\n5 1\n6 2\n9 2\n6 1\n6 2\n7 2\n6 3\n13 2\n6 2\n6 2\n6 2\n7 1\n7 2\n7 2\n8 2\n4 2\n8 2\n9 2\n4 0\n8 2\n5 2\n7 1\n4 1\n8 2\n5 0\n5 2\n10 3\n5 1\n6 2\n9 1\n6 2\n5 0\n8 1\n6 2\n6 2\n7 3\n8 2\n8 2\n6 2\n8 1\n8 1\n6 1\n6 2\n4 1\n4 2\n5 0\n7 1\n6 1\n5 2\n5 1\n5 1\n7 1\n4 1\n6 1\n5 1\n5 1\n8 2\n9 1\n6 1\n3 1\n7 1\n6 2\n5 1\n5 1\n8 1\n4 1\n6 1\n3 2\n6 1\n6 0\n5 0\n5 0\n7 2\n6 3\n7 1\n9 2\n7 2\n4 1\n9 2\n8 1\n11 2\n8 0\n6 1\n6 1\n5 1\n6 2\n6 1\n8 2\n9 1\n8 2\n6 2\n7 2\n6 2\n7 1\n4 0\n7 1\n6 2\n5 0\n5 2\n5 1\n5 2\n6 3\n9 1\n6 1\n5 2\n6 1\n4 2\n7 1\n5 1\n9 2\n12 1\n8 4\n5 1\n4 2\n7 1\n7 2\n6 2\n4 0\n6 0\n7 1\n7 1\n7 2\n5 2\n8 2\n6 1\n7 3\n5 0\n4 1\n4 2\n4 1\n6 2\n7 1\n5 0\n6 1\n6 2\n5 0\n6 2\n7 3\n4 0\n7 2\n4 2\n4 1\n10 1\n6 1\n4 1\n6 3\n5 1\n6 0\n5 2\n6 2\n6 3\n6 1\n8 2\n6 2\n5 2\n6 1\n7 1\n6 1\n6 0\n7 3\n5 1\n6 1\n8 2\n6 0\n9 2\n6 1\n4 2\n4 1\n6 2\n7 3\n7 1\n9 2\n5 2\n5 2\n7 2\n5 2\n5 1\n5 2\n5 1\n7 2\n3 0\n3 1\n6 2\n4 2\n4 1\n6 3\n7 2\n5 2\n5 2\n9 3\n5 0\n7 1\n5 1\n5 2\n6 3\n6 1\n6 1\n8 2\n5 1\n5 1\n5 2\n9 2\n8 1\n6 0\n5 3\n4 0\n9 1\n7 0\n6 2\n4 2\n5 2\n4 1\n7 2\n5 1\n4 1\n6 2\n6 2\n5 0\n7 1\n3 0\n4 2\n7 1\n10 0\n8 2\n4 0\n6 0\n8 1\n7 1\n9 1\n6 3\n7 1\n5 2\n7 2\n5 2\n5 3\n6 2\n4 1\n5 1\n6 1\n4 3\n9 2\n6 1\n7 2\n4 1\n8 2\n5 1\n8 2\n6 0\n4 1\n7 1\n5 2\n6 2\n5 1\n6 2\n5 1\n6 3\n5 0\n3 1\n6 1\n7 2\n4 1\n4 1\n4 1\n4 1\n7 1\n4 1\n7 0\n6 2\n5 1\n5 1\n6 1\n5 2\n4 3\n6 1\n9 2\n7 2\n6 1\n5 2\n7 1\n4 2\n5 1\n6 1\n7 1\n9 3\n7 2\n8 1\n4 1\n5 0\n5 2\n4 0\n5 2\n8 1\n8 1\n7 2\n7 2\n7 2\n5 1\n5 2\n7 3\n6 0\n4 1\n6 3\n6 1\n3 1\n7 1\n4 1\n4 1\n6 1\n5 1\n6 2\n8 2\n4 1\n3 1\n5 1\n5 1\n6 1\n7 2\n6 2\n8 3\n6 1\n8 0\n4 1\n4 0\n6 1\n7 2\n6 1\n7 1\n8 1\n6 1\n6 2\n5 0\n7 1\n9 1\n5 1\n5 3\n7 1\n4 2\n5 2\n7 2\n7 3\n5 0\n7 2\n8 3\n7 2\n3 1\n4 0\n10 2\n9 1\n6 2\n5 1\n8 2\n5 1\n6 3\n6 0\n8 2\n2 0\n8 2\n5 0\n7 2\n9 0\n4 0\n5 2\n7 1\n7 1\n5 1\n5 0\n5 1\n6 1\n7 2\n6 2\n7 1\n6 1\n8 1\n7 2\n7 1\n6 1\n6 3\n8 1\n7 2\n7 1\n5 1\n7 1\n6 3\n8 1\n7 2\n5 2\n5 3\n6 1\n4 0\n6 1\n5 1\n5 0\n6 1\n6 2\n5 0\n5 2\n6 1\n7 1\n6 1\n5 2\n4 3\n8 1\n5 1\n6 0\n6 1\n5 2\n6 2\n6 1\n8 2\n7 1\n7 1\n6 1\n7 3\n5 1\n5 1\n5 0\n7 0\n8 2\n5 1\n6 2\n7 2\n4 0\n7 2\n5 2\n6 2\n7 2\n5 2\n12 2\n7 2\n5 1\n7 1\n7 1\n8 1\n5 3\n6 3\n8 2\n5 0\n7 1\n10 2\n11 1\n7 1\n7 2\n9 0\n6 1\n3 0\n7 1\n8 1\n6 2\n6 2\n4 2\n5 2\n8 2\n6 1\n7 1\n7 0\n7 1\n8 1\n4 1\n5 1\n5 1\n7 2\n6 0\n5 2\n7 1\n4 1\n7 1\n4 0\n6 1\n5 1\n7 1\n7 3\n5 1\n5 1\n6 1\n4 0\n8 0\n8 2\n5 1\n7 2\n8 1\n5 2\n5 0\n8 3\n5 0\n7 2\n5 1\n4 1\n6 1\n9 1\n6 1\n4 3\n8 3\n6 1\n4 0\n7 2\n7 1\n7 1\n7 1\n6 2\n7 1\n5 2\n4 1\n4 2\n7 3\n6 1\n5 1\n8 2\n5 1\n4 0\n6 2\n4 0\n4 0\n6 2\n4 0\n7 1\n7 1\n4 3\n9 1\n8 1\n10 2\n6 2\n9 1\n6 2\n4 1\n3 1\n5 1\n5 2\n5 1\n7 1\n5 2\n5 2\n6 0\n4 2\n5 0\n4 2\n6 1\n9 0\n8 2\n7 1\n6 1\n3 2\n9 1\n5 1\n7 2\n7 0\n4 0\n6 2\n12 1\n5 2\n5 1\n4 1\n6 2\n7 1\n7 2\n5 1\n6 2\n6 1\n5 0\n11 2\n7 1\n6 2\n5 3\n6 2\n5 1\n6 2\n6 1\n7 2\n5 1\n6 0\n5 2\n6 2\n5 1\n7 1\n5 2\n5 0\n4 1\n5 1\n7 2\n6 0\n3 1\n6 2\n5 1\n6 2\n7 1\n4 2\n6 0\n7 2\n5 2\n5 0\n5 0\n7 2\n6 0\n7 2\n7 2\n6 2\n5 0\n10 2\n6 2\n5 0\n4 2\n5 1\n7 2\n5 1\n7 2\n5 1\n4 3\n9 2\n4 2\n5 3\n5 0\n5 0\n5 2\n9 0\n5 0\n7 0\n7 1\n4 1\n5 1\n7 2\n7 3\n6 1\n7 0\n4 1\n9 2\n9 1\n6 0\n6 1\n6 1\n5 1\n6 2\n6 1\n7 0\n5 1\n5 2\n6 1\n6 2\n6 0\n5 1\n4 1\n6 0\n6 1\n6 1\n7 0\n6 2\n7 0\n5 1\n5 1\n7 1\n6 1\n6 1\n6 1\n4 1\n7 0\n8 3\n6 0\n7 0\n6 1\n5 0\n5 1\n5 1\n6 1\n3 2\n5 2\n6 1\n7 2\n5 2\n7 2\n7 2\n6 1\n8 1\n4 2\n5 0\n5 2\n6 1\n5 0\n5 2\n8 1\n5 1\n7 2\n8 1\n7 0\n5 1\n4 1\n5 2\n7 0\n2 0\n3 1\n8 1\n6 3\n4 1\n5 2\n8 1\n12 2\n7 2\n5 0\n4 0\n9 2\n6 1\n7 1\n7 1\n9 0\n3 1\n7 1\n4 1\n5 0\n5 1\n5 2\n6 1\n7 2\n5 1\n6 1\n5 2\n7 2\n6 1\n9 3\n6 2\n6 1\n8 1\n4 1\n4 1\n6 3\n4 1\n6 1\n5 1\n6 0\n5 1\n7 1\n5 1\n7 1\n5 2\n5 0\n5 1\n5 2\n5 3\n5 0\n3 0\n6 1\n6 1\n9 2\n5 1\n5 2\n4 1\n6 1\n5 0\n5 2\n8 1\n6 0\n5 1\n3 1\n6 1\n5 1\n4 1\n5 3\n7 2\n7 2\n5 2\n6 2\n5 2\n5 1\n6 0\n8 2\n7 1\n8 1\n5 3\n5 0\n5 2\n8 2\n4 2\n5 1\n3 1\n6 1\n8 1\n7 3\n5 1\n5 2\n6 1\n4 2\n7 2\n4 0\n5 1\n4 1\n6 2\n5 2\n6 1\n6 2\n5 1\n7 1\n4 0\n7 1\n5 3\n5 2\n4 1\n6 2\n5 1\n5 2\n4 1\n6 0\n8 0\n7 2\n5 1\n7 2\n6 3\n4 0\n4 1\n4 1\n6 2\n7 2\n8 0\n4 1\n5 1\n4 0\n5 3\n8 1\n3 1\n5 0\n6 1\n3 1\n6 1\n5 2\n5 0\n6 1\n6 0\n6 0\n5 3\n5 0\n4 1\n5 1\n8 3\n7 2\n7 2\n4 3\n6 2\n5 1\n6 0\n8 0\n5 2\n5 1\n6 1\n5 0\n6 2\n4 2\n7 2\n5 0\n6 1\n5 0\n5 1\n5 0\n6 2\n6 0\n4 0\n7 1\n4 1\n8 1\n5 2\n7 1\n8 2\n4 1\n8 0\n3 1\n4 1\n6 0\n7 1\n7 3\n7 2\n5 2\n5 1\n9 3\n5 1\n5 2\n7 1\n7 1\n6 0\n6 1\n5 1\n3 2\n8 3\n6 0\n4 1\n6 2\n5 1\n6 1\n7 2\n7 1\n5 2\n5 1\n5 1\n6 2\n5 0\n4 0\n4 2\n7 1\n6 2\n6 0\n6 2\n8 2\n8 2\n9 2\n8 2\n6 2\n8 2\n7 1\n5 1\n5 1\n8 1\n5 0\n3 1\n5 1\n6 2\n5 1\n5 1\n9 2\n6 0\n4 2\n6 2\n7 1\n8 1\n5 3\n6 1\n11 1\n6 2\n9 0\n7 1\n7 2\n10 0\n5 1\n9 2\n5 1\n9 0\n6 1\n6 0\n4 1\n4 2\n8 0\n4 2\n4 2\n7 1\n5 2\n6 1\n4 0\n6 0\n8 1\n5 1\n5 1\n4 2\n8 3\n8 1\n5 1\n3 1\n5 1\n7 2\n7 2\n6 2\n9 0\n4 1\n5 1\n8 2\n4 1\n7 2\n7 2\n9 1\n6 0\n7 3\n4 1\n7 1\n6 2\n7 2\n9 0\n5 1\n7 2\n6 2\n5 1\n7 3\n5 1\n4 2\n5 1\n12 1\n7 1\n6 1\n10 3\n4 1\n6 1\n6 0\n6 0\n7 1\n6 2\n6 1\n5 1\n5 2\n6 1\n6 0\n6 1\n5 2\n8 3\n3 1\n5 2\n6 2\n5 2\n6 1\n3 1\n5 1\n7 1\n4 1\n6 2\n4 1\n9 2\n6 0\n6 1\n9 1\n9 2\n4 1\n6 2\n7 2\n6 1\n6 3\n6 1\n6 0\n8 2\n9 2\n5 0\n4 1\n4 1\n9 0\n8 1\n9 1\n8 0\n8 1\n6 1\n7 2\n6 1\n5 0\n6 2\n7 2\n5 0\n4 2\n5 1\n4 0\n7 2\n6 2\n5 1\n6 2\n7 1\n7 2\n6 0\n4 0\n6 1\n6 0\n7 2\n5 1\n5 1\n4 0\n5 2\n5 2\n10 1\n11 1\n7 3\n4 1\n6 2\n3 0\n5 2\n6 3\n9 2\n9 3\n7 4\n4 0\n5 1\n6 1\n6 2\n6 1\n6 4\n4 1\n7 0\n7 1\n8 2\n10 1\n4 1\n7 1\n3 1\n5 1\n10 0\n8 0\n6 1\n5 0\n5 1\n8 2\n3 0\n9 0\n7 2\n7 1\n7 4\n7 3\n6 1\n4 0\n5 1\n4 2\n7 1\n7 2\n5 1\n8 1\n8 1\n6 1\n6 1\n5 0\n8 2\n9 1\n5 3\n6 2\n7 2\n5 1\n6 1\n7 1\n6 2\n6 2\n7 0\n9 4\n6 0\n9 2\n4 0\n7 1\n6 3\n8 3\n5 1\n12 3\n8 3\n7 2\n6 1\n5 2\n6 1\n5 0\n4 1\n4 1\n4 2\n10 0\n5 0\n3 0\n8 1\n7 3\n3 2\n4 1\n7 2\n6 3\n4 1\n6 0\n6 0\n6 1\n6 0\n6 1\n4 1\n5 1\n5 2\n7 2\n4 2\n5 1\n5 2\n2 0\n5 1\n7 2\n4 0\n3 0\n6 0\n6 2\n6 0\n7 3\n2 0\n6 1\n7 2\n5 1\n4 1\n11 1\n5 1\n7 2\n4 1\n3 1\n5 2\n5 0\n7 1\n6 1\n7 1\n5 2\n4 2\n3 1\n6 0\n8 3\n6 2\n4 1\n6 2\n4 1\n6 1\n6 0\n7 1\n5 2\n5 2\n4 2\n4 0\n7 0\n8 3\n5 0\n4 0\n5 1\n6 1\n4 2\n7 0\n5 2\n5 2\n4 1\n6 0\n6 0\n7 1\n7 2\n7 0\n6 1\n8 3\n6 3\n8 1\n6 1\n7 2\n5 1\n6 1\n7 1\n4 0\n6 2\n7 1\n8 1\n8 1\n6 1\n6 3\n8 2\n5 2\n7 2\n4 0\n6 1\n4 0\n11 3\n7 1\n6 2\n5 1\n5 1\n6 0\n5 1\n5 2\n10 2\n6 3\n7 1\n4 1\n6 1\n8 1\n7 2\n7 1\n7 1\n8 1\n7 3\n8 2\n5 2\n6 1\n5 0\n8 1\n7 2\n8 2\n5 2\n7 0\n7 1\n8 1\n7 1\n6 1\n6 0\n5 0\n5 1\n4 3\n7 2\n4 3\n5 2\n5 2\n6 0\n5 1\n6 1\n5 1\n7 1\n6 1\n5 0\n8 2\n5 1\n6 0\n6 1\n6 0\n5 1\n5 1\n8 2\n6 1\n7 2\n6 0\n5 0\n7 1\n7 1\n8 0\n5 1\n4 1\n9 1\n3 0\n8 1\n6 1\n5 2\n5 1\n8 2\n6 2\n6 1\n6 0\n9 1\n5 1\n6 1\n7 1\n6 1\n4 2\n9 2\n4 1\n6 2\n7 1\n7 2\n6 1\n7 1\n7 3\n6 1\n6 1\n7 1\n6 2\n6 1\n10 1\n5 1\n7 1\n5 1\n5 2\n6 2\n6 0\n6 2\n4 0\n4 3\n6 2\n7 2\n6 2\n6 2\n8 1\n5 2\n8 3\n4 0\n4 2\n4 1\n7 0\n7 2\n6 1\n7 2\n5 1\n10 1\n5 1\n4 1\n5 1\n6 3\n3 2\n8 3\n6 2\n7 2\n6 1\n6 2\n4 2\n3 1\n6 0\n4 1\n5 2\n5 0\n9 1\n7 2\n8 1\n5 0\n6 2\n8 1\n5 2\n6 0\n4 1\n5 2\n8 2\n8 1\n6 2\n9 0\n6 0\n4 0\n4 0\n7 0\n10 2\n6 2\n6 2\n5 1\n6 2\n6 2\n7 1\n4 2\n5 1\n4 1\n5 1\n6 1\n5 2\n3 0\n8 1\n6 2\n8 1\n7 0\n6 1\n6 1\n6 1\n9 1\n7 1\n6 0\n6 2\n5 0\n3 0\n5 1\n9 0\n5 0\n5 1\n6 2\n6 2\n5 1\n3 0\n5 0\n5 1\n4 1\n6 1\n6 1\n5 1\n7 1\n7 1\n6 2\n9 0\n6 0\n7 2\n4 1\n6 1\n5 1\n5 0\n5 2\n6 1\n8 1\n5 1\n6 0\n7 1\n7 3\n7 1\n8 2\n4 2\n5 1\n6 0\n7 2\n6 1\n4 0\n7 2\n3 1\n6 2\n5 0\n3 1\n4 1\n9 2\n6 1\n5 1\n7 2\n5 1\n5 1\n4 2\n5 2\n4 2\n7 2\n5 1\n5 2\n5 2\n5 2\n5 0\n6 1\n7 2\n5 1\n4 2\n4 1\n8 3\n8 2\n6 2\n7 1\n7 2\n7 2\n7 1\n6 2\n6 1\n7 1\n5 2\n10 2\n9 2\n6 2\n5 0\n5 1\n6 0\n6 1\n5 0\n3 1\n4 2\n7 1\n7 1\n6 2\n4 1\n7 2\n6 0\n8 2\n9 1\n5 1\n6 1\n5 0\n9 2\n9 3\n6 1\n7 2\n3 1\n9 1\n6 0\n5 2\n8 0\n6 1\n5 2\n6 1\n6 1\n6 2\n5 1\n5 1\n7 2\n8 1\n8 2\n6 0\n5 2\n6 0\n7 2\n6 1\n5 2\n8 1\n6 2\n5 1\n2 0\n6 2\n8 0\n8 1\n5 1\n7 1\n5 0\n6 1\n4 2\n6 2\n7 0\n9 2\n6 1\n5 2\n8 1\n7 2\n10 2\n8 3\n5 1\n5 2\n4 2\n5 1\n11 2\n5 2\n7 1\n5 2\n7 1\n5 1\n6 1\n5 1\n6 3\n5 0\n8 2\n7 2\n3 2\n6 3\n5 2\n4 1\n6 2\n6 0\n8 2\n8 2\n5 1\n4 2\n6 2\n4 1\n7 1\n5 1\n6 0\n8 0\n5 2\n3 0\n11 1\n6 2\n4 0\n11 2\n4 1\n5 1\n6 1\n8 3\n4 1\n6 1\n6 0\n5 2\n7 2\n6 1\n6 2\n9 2\n7 3\n6 1\n6 2\n3 2\n5 2\n5 0\n6 0\n9 2\n3 1\n3 1\n7 1\n6 2\n6 1\n5 2\n6 2\n9 3\n7 2\n6 1\n7 3\n5 1\n6 2\n7 0\n5 0\n6 0\n5 1\n6 2\n"
    }
   ],
   "source": [
    "for i in range(len(marker_bjet)):\n",
    "    print(len(marker_bjet[i]), np.sum(marker_bjet[i] ==1))"
   ]
  },
  {
   "cell_type": "code",
   "execution_count": 37,
   "metadata": {},
   "outputs": [],
   "source": [
    "jet_pt = []\n",
    "jet_eta = []\n",
    "jet_phi = []\n",
    "jet_mass = []\n",
    "jet_btag = []"
   ]
  },
  {
   "cell_type": "code",
   "execution_count": 38,
   "metadata": {},
   "outputs": [],
   "source": [
    "for i in range(len(jet.event)):\n",
    "    if marker_event[i] == 1:\n",
    "        jet_pt_tmp = []\n",
    "        jet_eta_tmp = []\n",
    "        jet_phi_tmp = []\n",
    "        jet_mass_tmp = []\n",
    "        jet_btag_tmp = []\n",
    "        for j in range(len(jet.pt[i])):\n",
    "            jet_pt_tmp.append(jet.pt[i][j])\n",
    "            jet_eta_tmp.append(jet.eta[i][j])\n",
    "            jet_phi_tmp.append(jet.phi[i][j])\n",
    "            jet_mass_tmp.append(jet.mass[i][j])\n",
    "            jet_btag_tmp.append(jet.btag[i][j])\n",
    "                \n",
    "        jet_pt.append(jet_pt_tmp)\n",
    "        jet_eta.append(jet_eta_tmp)\n",
    "        jet_phi.append(jet_phi_tmp)\n",
    "        jet_mass.append(jet_mass_tmp)\n",
    "        jet_btag.append(jet_btag_tmp)"
   ]
  },
  {
   "cell_type": "code",
   "execution_count": 39,
   "metadata": {},
   "outputs": [
    {
     "output_type": "execute_result",
     "data": {
      "text/plain": "[0.70168823,\n 0.22287998,\n -0.2646208,\n 0.5681452,\n -0.87214935,\n -0.6852819,\n 0.444647,\n -0.31325707,\n -1.3317381,\n 1.6737975]"
     },
     "metadata": {},
     "execution_count": 39
    }
   ],
   "source": [
    "jet_eta[0]"
   ]
  },
  {
   "source": [
    "## Particle tracing and daughter finding section\n",
    "---"
   ],
   "cell_type": "markdown",
   "metadata": {}
  },
  {
   "cell_type": "code",
   "execution_count": 40,
   "metadata": {},
   "outputs": [],
   "source": [
    "def shift_particle_tracing(dataset, PID_d, idx):\n",
    "    if (dataset.iloc[idx,6] == PID_d):\n",
    "        return dataset.iloc[idx,4]\n",
    "\n",
    "def particle_tracing(dataset, PID, STATUS):\n",
    "\n",
    "    for i in range(len(dataset)):\n",
    "        if(dataset.iloc[i,1] == STATUS and dataset.iloc[i,6] == PID ): \n",
    "            daughter_index = int(dataset.iloc[i,0])\n",
    "    if( dataset.iloc[daughter_index,6] == PID ):\n",
    "        shifted_particle_index = dataset.iloc[daughter_index, 4]\n",
    "\n",
    "\n",
    "    while dataset.iloc[shifted_particle_index,6] == PID:\n",
    "            init_shifted_particle_index = shifted_particle_index\n",
    "            shifted_particle_index = shift_particle_tracing(dataset, PID, init_shifted_particle_index)       \n",
    "\n",
    "    dauthter_idx_1 = dataset.iloc[init_shifted_particle_index, 4]\n",
    "    daughter_pid_1 = dataset.iloc[dauthter_idx_1, 6]\n",
    "\n",
    "    dauthter_idx_2 = dataset.iloc[init_shifted_particle_index, 5]\n",
    "    daughter_pid_2 = dataset.iloc[dauthter_idx_2, 6]\n",
    "\n",
    "    return init_shifted_particle_index, dauthter_idx_1, daughter_pid_1, dauthter_idx_2, daughter_pid_2\n"
   ]
  },
  {
   "cell_type": "code",
   "execution_count": 41,
   "metadata": {},
   "outputs": [],
   "source": [
    "for i in range(len(particle.event)):\n",
    "    if marker_event[i] == 1:\n",
    "        #print(\"+------------------------------------------------------------------------------------------------------+\")\n",
    "        #print(\"Start parsing event : {0}\\nStart to trace top quark and find its daughters.\".format(i))\n",
    "        top_idx[i], top_daughter_idx_1[i], top_daughter_pid_1[i], top_daughter_idx_2[i], top_daughter_pid_2[i] = particle_tracing(particle.dataframelize(i), PID_TOP, 22)\n",
    "        #print(\"+------------------------------------------------------~-----------------------------------------------+\")\n",
    "        #print(\"Start to find top_bar quark and its daughters.\")\n",
    "        top_bar_idx[i], top_bar_daughter_idx_1[i], top_bar_daughter_pid_1[i], top_bar_daughter_idx_2[i], top_bar_daughter_pid_2[i] = particle_tracing(particle.dataframelize(i), PID_TOP_BAR, 22)\n",
    "        #print(\"+------------------------------------------------------------------------------------------------------+\")"
   ]
  },
  {
   "source": [
    "### Tracing the daughter "
   ],
   "cell_type": "markdown",
   "metadata": {}
  },
  {
   "cell_type": "code",
   "execution_count": 42,
   "metadata": {},
   "outputs": [],
   "source": [
    "#Input two daughter of top/top_bar and find their daughter\n",
    "def quark_finder(dataset, mother_idx_1, mother_idx_2):\n",
    "    \n",
    "    #Specific two daughter of top\n",
    "    def W_b_specifier(dataset, input_1_idx, input_2_idx):\n",
    "        if dataset.iloc[int(input_1_idx),6] == PID_W_plus or dataset.iloc[int(input_1_idx),6] == PID_W_minus :\n",
    "            return int(input_1_idx), int(dataset.iloc[int(input_1_idx),6]), int(input_2_idx)\n",
    "        elif dataset.iloc[int(input_1_idx),6] == PID_BOTTOM or dataset.iloc[int(input_1_idx),6] == PID_BOTTOM_BAR :\n",
    "            return  int(input_2_idx), int(dataset.iloc[int(input_1_idx),6]), int(input_1_idx)\n",
    "        else :\n",
    "            pass\n",
    "            #print(\"Please check your data.\")\n",
    "    \n",
    "    W_boson_idx, mother_pid, b_quark_idx = W_b_specifier(dataset, mother_idx_1, mother_idx_2)\n",
    "    \n",
    "    #Find the two daughters of boson\n",
    "    \n",
    "    daughter_1_idx = dataset.iloc[W_boson_idx, 4]\n",
    "    daughter_1_pid = dataset.iloc[daughter_1_idx, 6]\n",
    "    daughter_2_idx = dataset.iloc[W_boson_idx, 5]\n",
    "    daughter_2_pid = dataset.iloc[daughter_2_idx, 6]\n",
    "\n",
    "    \n",
    "    if daughter_1_pid == mother_pid or daughter_2_pid == mother_pid:\n",
    "\n",
    "        init_idx = W_boson_idx\n",
    "        daughter_pid = daughter_1_pid\n",
    "        if daughter_2_pid == mother_pid:\n",
    "            daughter_pid = daughter_2_pid\n",
    "        while daughter_pid == mother_pid :\n",
    "            daughter_1_idx = dataset.iloc[int(init_idx), 4]\n",
    "            daughter_2_idx = dataset.iloc[int(init_idx), 5]\n",
    "\n",
    "            daughter_1_pid = dataset.iloc[int(daughter_1_idx), 6]\n",
    "            daughter_2_pid = dataset.iloc[int(daughter_2_idx), 6]\n",
    "\n",
    "            daughter_pid = daughter_1_pid\n",
    "            init_idx = daughter_1_idx\n",
    "            if daughter_2_pid == mother_pid:\n",
    "                daughter_pid = daughter_2_pid\n",
    "                init_idx = daughter_2_idx\n",
    "            \n",
    "            \n",
    "            #print(\"Temporary daughter 1 indxe: {0}, PID: {1}\".format(daughter_1_idx, daughter_1_pid))\n",
    "            #print(\"Temporary daughter 2 indxe: {0}, PID: {1}\".format(daughter_2_idx, daughter_2_pid))\n",
    "\n",
    "    \n",
    "    #print(\"Found daughter 1 index: {0}, PID: {1}.\\nFound daughter 2 index: {2}, PID: {3}\".format(daughter_1_idx, daughter_1_pid, daughter_2_idx, daughter_2_pid))\n",
    "    return  b_quark_idx, daughter_1_idx, daughter_2_idx"
   ]
  },
  {
   "cell_type": "code",
   "execution_count": 43,
   "metadata": {},
   "outputs": [],
   "source": [
    "for i in range(len(particle.event)):\n",
    "    if marker_event[i] == 1 :\n",
    "        #print(\"+------------------------------------------------------------------------------------------------------+\")\n",
    "        #print(\"Start parsing event : {0}\\nStart to find top quark's daughters.\".format(i))\n",
    "        parton_array[i][0][0], parton_array[i][1][0], parton_array[i][2][0] = quark_finder(particle.dataframelize(i), top_daughter_idx_1[i], top_daughter_idx_2[i])\n",
    "        #print(\"+------------------------------------------------------~-----------------------------------------------+\")\n",
    "        #print(\"Start to find top_bar quark's daughters.\")\n",
    "        parton_array[i][3][0], parton_array[i][4][0], parton_array[i][5][0], = quark_finder(particle.dataframelize(i), top_bar_daughter_idx_1[i], top_bar_daughter_idx_2[i])\n",
    "        #print(\"+------------------------------------------------------------------------------------------------------+\")\n",
    "    elif marker_event[i] == 0 :\n",
    "        parton_array[i] = 'Nan'\n",
    "    else: pass"
   ]
  },
  {
   "source": [
    "# ### \n",
    "# t t~ W+ W- b b~ \n",
    "# 0 0  0  0  0 0\n",
    "\n",
    "# i.e.\n",
    "# col 3 = 100010 \n",
    "# col 5 = 101000\n",
    "# col 6 = 101000\n",
    "# col 8 = 010100\n",
    "# col 10= 010001\n",
    "# col 11= 010001"
   ],
   "cell_type": "code",
   "metadata": {},
   "execution_count": 44,
   "outputs": []
  },
  {
   "cell_type": "code",
   "execution_count": 45,
   "metadata": {},
   "outputs": [],
   "source": [
    "parton_pdgid = []\n",
    "parton_barcode = []\n",
    "parton_pt = []\n",
    "parton_eta = []\n",
    "parton_phi = []\n",
    "parton_mass = []"
   ]
  },
  {
   "cell_type": "code",
   "execution_count": 46,
   "metadata": {},
   "outputs": [],
   "source": [
    "barcode = np.array([34, 40, 40, 17, 20, 20])\n",
    "for i in range(len(particle.event)):\n",
    "    if marker_event[i] == 1:\n",
    "        _parton_pdgid = []\n",
    "        _parton_barcode = []\n",
    "        _parton_pt = []\n",
    "        _parton_eta = []\n",
    "        _parton_phi = []\n",
    "        _parton_mass = []\n",
    "        for j in range(0,6):\n",
    "            dataset = particle.dataframelize(i)\n",
    "\n",
    "            _parton_pdgid.append(dataset.iloc[int(parton_array[i][j][0]), 6])\n",
    "            _parton_barcode.append(barcode[j])\n",
    "            _parton_pt.append(dataset.iloc[int(parton_array[i][j][0]), 7])\n",
    "            _parton_eta.append(dataset.iloc[int(parton_array[i][j][0]), 8])\n",
    "            _parton_phi.append(dataset.iloc[int(parton_array[i][j][0]), 9])\n",
    "            _parton_mass.append(dataset.iloc[int(parton_array[i][j][0]), 10])\n",
    "\n",
    "            # parton_array[i][j][1] = dataset.iloc[int(parton_array[i][j][0]), 6]  #PDGID\n",
    "            # parton_array[i][j][2] = barcode[j]\n",
    "            # parton_array[i][j][3] = dataset.iloc[int(parton_array[i][j][0]), 7]  #Pt\n",
    "            # parton_array[i][j][4] = dataset.iloc[int(parton_array[i][j][0]), 8]  #Eta\n",
    "            # parton_array[i][j][5] = dataset.iloc[int(parton_array[i][j][0]), 9]  #Phi\n",
    "            # parton_array[i][j][6] = dataset.iloc[int(parton_array[i][j][0]), 10]  #Mass\n",
    "        parton_pdgid.append(_parton_pdgid)\n",
    "        parton_barcode.append(_parton_barcode)\n",
    "        parton_pt.append(_parton_pt)\n",
    "        parton_eta.append(_parton_eta)\n",
    "        parton_phi.append(_parton_phi)\n",
    "        parton_mass.append(_parton_mass)"
   ]
  },
  {
   "source": [
    "## Parton-jet matching section\n",
    "---"
   ],
   "cell_type": "markdown",
   "metadata": {}
  },
  {
   "source": [
    "### Define the function for computing delta_R\n"
   ],
   "cell_type": "markdown",
   "metadata": {}
  },
  {
   "cell_type": "code",
   "execution_count": 47,
   "metadata": {},
   "outputs": [],
   "source": [
    "def deltaPhi(phi1,phi2):\n",
    "    phi = phi1-phi2\n",
    "    while phi >= np.pi: phi -= np.pi*2.\n",
    "    while phi < -np.pi: phi += np.pi*2.\n",
    "    return phi\n",
    "\n",
    "def delta_R(eta1, phi1, eta2, phi2):\n",
    "    return np.sqrt(deltaPhi(phi1,phi2)**2+(eta1-eta2)**2)\n"
   ]
  },
  {
   "cell_type": "code",
   "execution_count": 48,
   "metadata": {},
   "outputs": [],
   "source": [
    "dR_between_parton_jet = []\n",
    "dR_between_parton_parton = []\n",
    "\n",
    "for i in range(len(parton_pdgid)):\n",
    "    dR_between_parton_jet.append(np.zeros([len(jet_pt[i]) * 6])) # # of connection = num of jet * num of parton\n",
    "    dR_between_parton_parton.append(np.zeros([15])) # C^{6}_{2} = 15\n",
    "\n",
    "dR_between_parton_jet = np.asanyarray(dR_between_parton_jet)\n",
    "dR_between_parton_parton = np.asanyarray(dR_between_parton_parton)\n",
    "\n"
   ]
  },
  {
   "cell_type": "code",
   "execution_count": 49,
   "metadata": {},
   "outputs": [
    {
     "output_type": "stream",
     "name": "stdout",
     "text": "13\n/usr/local/lib/python3.6/site-packages/ipykernel_launcher.py:14: VisibleDeprecationWarning: Creating an ndarray from ragged nested sequences (which is a list-or-tuple of lists-or-tuples-or ndarrays with different lengths or shapes) is deprecated. If you meant to do this, you must specify 'dtype=object' when creating the ndarray\n  \n"
    }
   ],
   "source": [
    "max_num_of_jet_cand = []\n",
    "for i in range(len(parton_pdgid)):\n",
    "    max_num_of_jet_cand.append(len(jet_pt[i]))\n",
    "max_num_of_jet_cand = np.asanyarray(max_num_of_jet_cand)\n",
    "max_num_of_jet = max_num_of_jet_cand.max()\n",
    "print(max_num_of_jet)\n",
    "\n",
    "matching_jet = []\n",
    "matching_parton = []\n",
    "for i in range(len(parton_pdgid)):\n",
    "    matching_jet.append(np.zeros([len(jet_pt[i])]))\n",
    "    matching_parton.append(np.zeros([6]))\n",
    "\n",
    "matching_jet = np.array(matching_jet)\n",
    "matching_parton = np.array(matching_parton)"
   ]
  },
  {
   "source": [
    "### Computing delta_R between each parton and jet"
   ],
   "cell_type": "markdown",
   "metadata": {}
  },
  {
   "cell_type": "code",
   "execution_count": 50,
   "metadata": {
    "tags": [
     "outputPrepend",
     "outputPrepend",
     "outputPrepend",
     "outputPrepend",
     "outputPrepend",
     "outputPrepend",
     "outputPrepend",
     "outputPrepend"
    ]
   },
   "outputs": [],
   "source": [
    "for i in range(len(parton_pdgid)):\n",
    "    j = 0\n",
    "    a = 0\n",
    "    b = 0\n",
    "    while a < 6 :\n",
    "        for b in range( len(jet_pt[i]) ):\n",
    "            #print(i, j)\n",
    "            #print(i, a, b)\n",
    "            #print(delta_R( parton_array[i][a][4], parton_array[i][a][5], jet.eta[i][b], jet.phi[i][b]))\n",
    "            dR_between_parton_jet[i][j] = delta_R( parton_eta[i][a], parton_phi[i][a], jet_eta[i][b], jet_phi[i][b])\n",
    "            j +=1\n",
    "        a += 1 \n"
   ]
  },
  {
   "cell_type": "code",
   "execution_count": 51,
   "metadata": {},
   "outputs": [
    {
     "output_type": "execute_result",
     "data": {
      "text/plain": "array([3.0795404 , 2.27719224, 0.71907042, 1.11010231, 1.64479882,\n       1.3206112 , 0.16871262, 0.82929276, 1.94727524, 1.5795405 ,\n       2.13585985, 2.9404835 , 1.11541683, 0.00337361, 2.61261277,\n       1.28899786, 0.95177831, 1.8034917 , 2.79791003, 1.12217089,\n       3.27738731, 2.57089229, 0.31353047, 1.42336604, 1.31747639,\n       0.63807271, 0.97537584, 0.70066095, 1.39827934, 2.31077201,\n       2.92481132, 2.04756577, 0.62325757, 1.51345003, 1.11881804,\n       1.19858922, 0.69664669, 0.29471733, 1.39848506, 2.12635636,\n       2.76813649, 3.22418234, 0.62649651, 1.27492098, 1.91958572,\n       0.01989035, 1.31045454, 1.35393082, 1.89906187, 2.35277216,\n       3.01513467, 2.68512324, 0.0150804 , 1.10511859, 1.57501518,\n       0.60491233, 0.74487833, 0.8494227 , 1.70168691, 2.00751458])"
     },
     "metadata": {},
     "execution_count": 51
    }
   ],
   "source": [
    "dR_between_parton_jet[0]"
   ]
  },
  {
   "source": [
    "### Matching jet and parton by finding the Min(dR(parton, jet))"
   ],
   "cell_type": "markdown",
   "metadata": {}
  },
  {
   "cell_type": "code",
   "execution_count": 52,
   "metadata": {
    "tags": [
     "outputPrepend"
    ]
   },
   "outputs": [],
   "source": [
    "\n",
    "for i in range(len(parton_pt)):\n",
    "#for i in range(0,10):\n",
    "\n",
    "    #print(\"+------------------------------------------------------------------------------------------------------+\")\n",
    "    #print(i)\n",
    "    #print(dR_between_parton_jet.shape)\n",
    "    array = np.reshape(dR_between_parton_jet[i], [6, len(jet_pt[i])])\n",
    "    #print(array.shape)\n",
    "        \n",
    "    dataset = pd.DataFrame({'0': array[0,:], \n",
    "                                '1': array[1,:],\n",
    "                                '2': array[2,:],\n",
    "                                '3': array[3,:],\n",
    "                                '4': array[4,:],\n",
    "                                '5': array[5,:],\n",
    "                                })\n",
    "   # print(dataset)\n",
    "\n",
    "    for j in range(0,6):\n",
    "        #print(\"+------------------------------------------------------------------------------------------------------+\")\n",
    "        min_val = dataset.stack().min()\n",
    "        if min_val < 0.4:\n",
    "            #print(\"Min val: {0}\".format(min_val))\n",
    "            min_idx, min_col = dataset.stack().idxmin()\n",
    "            matching_parton[i][j] = int(min_idx)\n",
    "            matching_jet[i][j] = int(min_col)\n",
    "            #print(\"The position of minimun appears. Raw: {0}, Colume: {1}\".format(min_idx, min_col))\n",
    "            dataset = dataset.drop([min_col], axis=1)\n",
    "            dataset = dataset.drop([min_idx], axis=0)\n",
    "            #print(\"The dataset after delete the minimun's raw and colume:\")\n",
    "            #print(dataset)\n",
    "        else:\n",
    "            matching_parton[i][j] = 'Nan'\n",
    "            matching_jet[i][j] = 'Nan'\n",
    "    for k in range(6, len(jet_pt[i])):\n",
    "        matching_jet[i][k] = 'Nan'\n",
    "\n",
    "        "
   ]
  },
  {
   "cell_type": "code",
   "execution_count": 53,
   "metadata": {},
   "outputs": [
    {
     "output_type": "stream",
     "name": "stdout",
     "text": "0\n[ 3.  2.  5.  6.  7. nan] [ 1.  5.  4.  0.  3. nan nan nan nan nan]\n1\n[ 5.  6.  4.  0.  8. nan] [ 5.  3.  2.  0.  4. nan nan nan nan]\n2\n[2. 3. 4. 8. 5. 0.] [ 2.  0.  1.  4.  3.  5. nan nan nan]\n3\n[ 0.  1.  3. nan nan nan] [ 1.  3.  5. nan nan nan nan nan]\n4\n[0. 1. 4. 5. 7. 6.] [ 0.  3.  2.  4.  1.  5. nan nan nan]\n5\n[ 2.  3.  1.  0.  5. nan] [ 0.  3.  1.  5.  2. nan nan nan]\n6\n[9. 5. 4. 6. 0. 3.] [ 3.  4.  2.  0.  1.  5. nan nan nan nan]\n7\n[ 4.  0.  7.  1.  2. nan] [ 2.  3.  4.  0.  5. nan nan nan nan nan]\n8\n[ 5.  2.  0.  3.  4. nan] [ 2.  4.  5.  3.  1. nan nan nan]\n9\n[ 2.  4.  0.  3.  1. nan] [ 0.  2.  5.  3.  1. nan nan nan]\n10\n[ 1.  2.  5.  4. nan nan] [ 1.  0.  3.  5. nan nan nan nan]\n11\n[ 0.  1.  6.  2.  4. nan] [ 2.  3.  4.  0.  5. nan nan nan nan]\n12\n[ 3.  0.  2.  1.  6. nan] [ 4.  0.  3.  1.  5. nan nan nan nan]\n13\n[ 1.  0.  8.  3. nan nan] [ 5.  0.  1.  4. nan nan nan nan nan nan]\n14\n[ 5.  0.  7.  3.  1. nan] [ 1.  0.  5.  3.  4. nan nan nan]\n15\n[2. 4. 0. 3. 6. 5.] [ 1.  4.  2.  3.  5.  0. nan nan nan]\n16\n[ 5.  0.  4.  1. nan nan] [ 1.  4.  3.  2. nan nan nan nan nan]\n17\n[ 7.  8.  1.  2. nan nan] [ 1.  2.  0.  5. nan nan nan nan nan nan]\n18\n[6. 1. 2. 8. 3. 7.] [ 4.  3.  1.  5.  0.  2. nan nan nan]\n19\n[3. 0. 7. 1. 5. 4.] [ 5.  3.  4.  0.  2.  1. nan nan]\n20\n[8. 4. 3. 2. 1. 6.] [ 1.  2.  0.  3.  4.  5. nan nan nan]\n21\n[ 6.  4.  1.  7. nan nan] [ 0.  3.  4.  5. nan nan nan nan nan]\n22\n[1. 8. 2. 6. 3. 4.] [ 3.  2.  5.  4.  1.  0. nan nan nan]\n23\n[1. 7. 2. 3. 4. 6.] [ 4.  0.  1.  2.  5.  3. nan nan]\n24\n[ 3.  1.  0.  4.  8. nan] [ 0.  1.  3.  5.  2. nan nan nan nan nan]\n25\n[ 3.  0.  1.  4.  7. nan] [ 5.  1.  2.  3.  0. nan nan nan nan]\n26\n[ 0.  1.  2.  5.  6. nan] [ 3.  0.  4.  1.  2. nan nan nan nan]\n27\n[ 0.  3.  1.  6.  4. nan] [ 2.  4.  0.  1.  5. nan nan nan nan]\n28\n[7. 4. 0. 1. 2. 3.] [ 3.  2.  4.  5.  1.  0. nan nan nan nan]\n29\n[0. 6. 5. 2. 9. 3.] [ 3.  4.  2.  5.  0.  1. nan nan nan nan]\n30\n[ 5.  3. 10.  2.  0.  9.] [ 4.  0.  1.  2.  3.  5. nan nan nan nan nan]\n31\n[ 1.  6.  3.  8.  5. nan] [ 0.  1.  3.  2.  5. nan nan nan nan]\n32\n[ 2.  4.  1.  6.  5. nan] [ 3.  1.  5.  2.  0. nan nan nan]\n33\n[0. 3. 2. 4. 7. 8.] [ 3.  4.  0.  1.  5.  2. nan nan nan]\n34\n[7. 2. 0. 5. 3. 4.] [ 4.  5.  0.  1.  3.  2. nan nan]\n35\n[ 0.  7.  4.  3.  2. nan] [ 2.  4.  0.  3.  5. nan nan nan nan]\n36\n[ 2.  1.  7. nan nan nan] [ 5.  2.  1. nan nan nan nan nan nan]\n37\n[4. 1. 5. 2. 3. 6.] [ 5.  1.  4.  3.  2.  0. nan nan]\n38\n[ 1.  0.  8.  7.  3. nan] [ 3.  1.  4.  0.  5. nan nan nan nan]\n39\n[ 0.  1.  4.  7. nan nan] [ 3.  0.  1.  5. nan nan nan nan]\n40\n[ 2.  3.  4.  1. nan nan] [ 0.  4.  1.  3. nan nan nan nan nan nan nan nan]\n41\n[ 2.  1.  6.  3.  4. nan] [ 1.  0.  4.  5.  2. nan nan nan nan]\n42\n[ 3.  5.  0.  4.  7. nan] [ 1.  3.  5.  2.  0. nan nan nan]\n43\n[ 6.  3.  0.  2. nan nan] [ 1.  2.  3.  5. nan nan nan nan]\n44\n[3. 0. 6. 4. 7. 1.] [ 5.  3.  4.  0.  2.  1. nan nan nan nan]\n45\n[2. 3. 5. 4. 1. 7.] [ 3.  1.  0.  4.  2.  5. nan nan]\n46\n[ 3.  0.  5. nan nan nan] [ 1.  3.  2. nan nan nan nan nan nan]\n47\n[ 0.  3.  5.  4. nan nan] [ 2.  3.  0.  4. nan nan nan nan nan]\n48\n[ 1.  5.  3.  6.  4. nan] [ 1.  0.  4.  2.  3. nan nan nan nan]\n49\n[ 4.  0.  1.  8.  7. nan] [ 4.  3.  0.  5.  1. nan nan nan nan]\n50\n[1. 5. 0. 7. 2. 4.] [ 0.  5.  4.  1.  2.  3. nan nan nan]\n51\n[ 4.  1.  6.  9.  5. nan] [ 0.  3.  2.  5.  4. nan nan nan nan nan]\n52\n[ 1.  6.  7.  0. nan nan] [ 5.  4.  1.  0. nan nan nan nan nan]\n53\n[ 0.  3.  1.  4.  2. nan] [ 3.  2.  5.  0.  1. nan nan nan]\n54\n[0. 5. 4. 6. 1. 3.] [ 1.  2.  3.  4.  5.  0. nan nan nan]\n55\n[ 1.  7.  3.  8.  0. nan] [ 0.  2.  5.  1.  4. nan nan nan nan]\n56\n[ 4.  2.  7.  6. nan nan] [ 4.  3.  1.  5. nan nan nan nan nan]\n57\n[ 0.  1.  6.  2. nan nan] [ 3.  2.  4.  0. nan nan nan nan]\n58\n[ 7.  2.  4.  6.  1. nan] [ 4.  3.  0.  5.  1. nan nan nan]\n59\n[0. 8. 3. 7. 1. 5.] [ 5.  1.  3.  4.  0.  2. nan nan nan]\n60\n[ 2.  0.  6.  4. nan nan] [ 1.  3.  0.  4. nan nan nan nan nan nan nan]\n61\n[ 0.  4.  3.  6.  1. nan] [ 0.  4.  3.  5.  1. nan nan nan]\n62\n[ 7.  6.  2.  5.  1. nan] [ 0.  4.  3.  5.  2. nan nan nan nan]\n63\n[6. 5. 2. 4. 1. 3.] [ 0.  5.  4.  1.  2.  3. nan nan]\n64\n[ 2.  0.  7.  4.  6. nan] [ 5.  2.  0.  1.  3. nan nan nan nan]\n65\n[ 3.  4.  6.  1. nan nan] [ 3.  4.  0.  5. nan nan nan nan]\n66\n[1. 2. 0. 4. 7. 5.] [ 0.  5.  3.  2.  4.  1. nan nan]\n67\n[ 6.  1.  5.  7.  4. nan] [ 5.  3.  0.  4.  2. nan nan nan]\n68\n[6. 4. 5. 2. 1. 3.] [ 3.  0.  2.  5.  1.  4. nan nan nan]\n69\n[ 7.  5.  2.  1.  4. nan] [ 5.  0.  4.  3.  1. nan nan nan nan]\n70\n[5. 3. 2. 4. 1. 7.] [ 2.  5.  4.  0.  1.  3. nan nan]\n71\n[ 0.  3.  7.  6. nan nan] [ 2.  0.  5.  3. nan nan nan nan]\n72\n[ 8.  1.  4.  7.  2. nan] [ 5.  0.  2.  1.  4. nan nan nan nan nan]\n73\n[ 4.  0.  1.  5. nan nan] [ 5.  3.  1.  0. nan nan nan nan]\n74\n[2. 6. 1. 0. 4. 3.] [ 4.  5.  1.  0.  2.  3. nan nan]\n75\n[ 0.  5.  1.  6.  7. nan] [ 5.  4.  2.  1.  3. nan nan nan]\n76\n[ 4.  5.  8.  3.  1. nan] [ 1.  2.  0.  3.  4. nan nan nan nan nan]\n77\n[ 5.  6.  1.  7.  2. nan] [ 2.  5.  4.  0.  1. nan nan nan nan]\n78\n[0. 4. 7. 1. 2. 3.] [ 0.  4.  2.  3.  1.  5. nan nan nan nan]\n79\n[0. 6. 5. 1. 3. 8.] [ 0.  5.  2.  4.  3.  1. nan nan nan nan nan nan]\n80\n[5. 3. 0. 4. 6. 1.] [ 3.  1.  0.  4.  5.  2. nan nan]\n81\n[ 0.  4.  3.  7.  5. nan] [ 0.  5.  3.  1.  2. nan nan nan nan]\n82\n[1. 0. 3. 5. 4. 6.] [ 5.  1.  4.  0.  3.  2. nan nan nan]\n83\n[3. 1. 0. 2. 4. 7.] [ 0.  2.  3.  1.  4.  5. nan nan]\n84\n[1. 3. 0. 2. 6. 7.] [ 5.  2.  3.  1.  0.  4. nan nan]\n85\n[6. 4. 5. 8. 3. 7.] [ 0.  1.  2.  4.  3.  5. nan nan nan nan nan]\n86\n[5. 0. 7. 6. 8. 2.] [ 1.  0.  2.  5.  3.  4. nan nan nan nan]\n87\n[3. 0. 4. 2. 7. 8.] [ 4.  2.  1.  3.  5.  0. nan nan nan nan nan nan]\n88\n[ 2.  7.  1.  3.  6. nan] [ 5.  1.  3.  4.  2. nan nan nan nan nan]\n89\n[ 0.  4.  2.  1. nan nan] [ 1.  4.  3.  0. nan nan nan nan nan]\n90\n[1. 3. 7. 2. 5. 8.] [ 2.  3.  1.  0.  5.  4. nan nan nan]\n91\n[ 0.  4.  1.  5.  9. nan] [ 1.  0.  3.  5.  2. nan nan nan nan nan nan nan]\n92\n[ 5.  2.  6.  3.  8. nan] [ 3.  1.  2.  5.  0. nan nan nan nan]\n93\n[5. 3. 2. 0. 1. 4.] [ 2.  4.  0.  3.  5.  1. nan nan]\n94\n[6. 3. 5. 2. 1. 4.] [ 0.  5.  3.  1.  2.  4. nan nan nan]\n95\n[2. 7. 4. 1. 6. 0.] [ 5.  4.  2.  3.  1.  0. nan nan nan]\n96\n[ 3.  7.  5.  2.  1. nan] [ 2.  1.  4.  3.  0. nan nan nan nan]\n97\n[0. 5. 1. 4. 2. 6.] [ 1.  2.  4.  0.  5.  3. nan nan nan nan]\n98\n[3. 7. 8. 6. 0. 9.] [ 0.  1.  3.  4.  5.  2. nan nan nan nan]\n99\n[ 3.  0.  1.  5.  6. nan] [ 5.  3.  2.  1.  4. nan nan nan]\n100\n[ 1.  5.  6.  2.  3. nan] [ 1.  3.  2.  5.  0. nan nan nan]\n101\n[ 2.  3.  0.  5.  4. nan] [ 0.  2.  5.  4.  3. nan nan nan]\n102\n[2. 1. 4. 3. 6. 7.] [ 2.  1.  5.  4.  3.  0. nan nan]\n103\n[0. 7. 5. 2. 1. 3.] [ 5.  1.  4.  3.  0.  2. nan nan nan]\n104\n[0. 4. 1. 5. 3. 8.] [ 2.  4.  0.  5.  3.  1. nan nan nan nan]\n105\n[ 4.  1.  2.  5.  7. nan] [ 5.  3.  0.  2.  1. nan nan nan nan]\n106\n[ 7.  4.  0.  3.  9. nan] [ 2.  3.  5.  0.  1. nan nan nan nan nan nan nan]\n107\n[ 1.  5.  2.  6.  8. nan] [ 5.  4.  2.  3.  1. nan nan nan nan nan]\n108\n[ 0.  4.  1.  2.  5. nan] [ 3.  4.  0.  2.  1. nan nan nan nan nan]\n109\n[ 0.  1.  5.  8. 10.  3.] [ 2.  3.  5.  0.  1.  4. nan nan nan nan nan nan]\n110\n[1. 5. 2. 4. 0. 6.] [ 5.  2.  3.  1.  0.  4. nan nan]\n111\n[ 3.  1.  5.  2.  4. nan] [ 2.  0.  1.  4.  3. nan nan nan nan]\n112\n[5. 4. 1. 3. 2. 7.] [ 2.  5.  3.  0.  4.  1. nan nan]\n113\n[ 2.  1.  5. nan nan nan] [ 4.  2.  0. nan nan nan nan nan]\n114\n[ 3.  6.  1.  2.  7. nan] [ 3.  4.  2.  0.  5. nan nan nan nan]\n115\n[ 5.  1.  0.  3.  7. nan] [ 5.  2.  3.  1.  0. nan nan nan]\n116\n[ 0.  2.  1.  5.  8. nan] [ 0.  3.  4.  5.  1. nan nan nan nan]\n117\n[1. 4. 6. 2. 0. 3.] [ 3.  1.  4.  5.  0.  2. nan nan]\n118\n[6. 8. 0. 3. 5. 1.] [ 0.  5.  4.  3.  2.  1. nan nan nan nan]\n119\n[3. 0. 8. 5. 2. 7.] [ 1.  2.  3.  5.  4.  0. nan nan nan nan]\n120\n[2. 4. 3. 7. 5. 6.] [ 3.  5.  4.  2.  0.  1. nan nan nan nan nan]\n121\n[ 5.  7.  2.  9.  3. nan] [ 2.  4.  3.  5.  1. nan nan nan nan nan]\n122\n[2. 7. 9. 3. 1. 4.] [ 3.  0.  2.  5.  4.  1. nan nan nan nan]\n123\n[ 4.  1.  3. 12.  6.  5.] [ 5.  3.  0.  4.  2.  1. nan nan nan nan nan nan nan]\n124\n[ 0.  3.  2.  6.  8. nan] [ 5.  1.  4.  0.  3. nan nan nan nan nan nan]\n125\n[7. 1. 2. 0. 4. 6.] [ 2.  3.  0.  1.  5.  4. nan nan nan nan]\n126\n[ 0.  5.  3.  7.  6. nan] [ 4.  1.  5.  2.  0. nan nan nan]\n127\n[ 4.  2.  1.  6.  5. nan] [ 1.  3.  2.  4.  5. nan nan nan]\n128\n[1. 6. 4. 2. 3. 5.] [ 2.  4.  0.  1.  3.  5. nan nan nan]\n129\n[4. 1. 0. 7. 6. 5.] [ 5.  2.  3.  4.  0.  1. nan nan nan nan]\n130\n[1. 5. 2. 7. 0. 4.] [ 3.  5.  4.  2.  1.  0. nan nan nan]\n131\n[ 0.  2.  4.  7.  1. nan] [ 0.  1.  4.  3.  5. nan nan nan nan]\n132\n[ 6.  4.  3.  0.  2. nan] [ 5.  4.  1.  3.  2. nan nan nan]\n133\n[0. 3. 4. 5. 1. 2.] [ 3.  1.  5.  4.  0.  2. nan nan]\n134\n[ 5.  2.  0.  4.  6. nan] [ 1.  2.  0.  3.  5. nan nan nan]\n135\n[ 4.  1.  5.  0.  6. nan] [ 3.  5.  4.  2.  0. nan nan nan nan]\n136\n[ 1. 11.  6.  3.  8.  7.] [ 2.  4.  1.  0.  3.  5. nan nan nan nan nan nan nan]\n137\n[ 5.  0.  3.  1.  4. nan] [ 4.  5.  0.  1.  3. nan nan nan]\n138\n[1. 6. 3. 4. 5. 7.] [ 4.  1.  2.  5.  0.  3. nan nan nan]\n139\n[6. 1. 0. 3. 5. 4.] [ 5.  0.  4.  2.  3.  1. nan nan nan]\n140\n[2. 0. 1. 4. 7. 3.] [ 4.  0.  5.  3.  1.  2. nan nan]\n141\n[ 0.  3.  4.  6.  2. nan] [ 0.  1.  5.  4.  3. nan nan nan nan nan]\n142\n[2. 7. 1. 3. 4. 0.] [ 4.  5.  1.  2.  0.  3. nan nan]\n143\n[ 2.  1.  5.  4. nan nan] [ 0.  1.  4.  3. nan nan nan nan nan]\n144\n[2. 1. 5. 7. 6. 4.] [ 0.  5.  3.  2.  1.  4. nan nan]\n145\n[ 2.  5.  4.  7. nan nan] [ 3.  5.  0.  2. nan nan nan nan nan]\n146\n[ 0.  1.  6.  5.  4. nan] [ 0.  4.  1.  5.  3. nan nan nan nan]\n147\n[ 5.  4.  8.  0.  6. nan] [ 0.  4.  2.  5.  1. nan nan nan nan nan]\n148\n[7. 1. 0. 2. 5. 4.] [ 2.  3.  0.  5.  1.  4. nan nan]\n149\n[ 3.  8.  4.  1.  6. nan] [ 1.  4.  0.  5.  3. nan nan nan nan]\n150\n[ 6.  7.  8.  2.  5. nan] [ 5.  1.  4.  0.  3. nan nan nan nan]\n151\n[ 7.  1.  4.  3. nan nan] [ 0.  1.  3.  5. nan nan nan nan nan]\n152\n[ 1.  0.  5.  3.  7. nan] [ 0.  5.  1.  2.  4. nan nan nan nan nan]\n153\n[ 5.  6.  4.  0.  1. nan] [ 2.  5.  1.  0.  3. nan nan nan nan]\n154\n[ 4.  2.  7.  0.  3. nan] [ 1.  3.  4.  0.  5. nan nan nan]\n155\n[3. 5. 2. 6. 0. 4.] [ 1.  5.  0.  4.  3.  2. nan nan]\n156\n[ 6.  2.  0.  1.  9. nan] [ 3.  5.  0.  2.  1. nan nan nan nan nan]\n157\n[ 3.  0.  6. nan nan nan] [ 1.  0.  4. nan nan nan nan nan nan nan nan]\n158\n[ 3.  4.  1.  5. nan nan] [ 5.  3.  2.  0. nan nan nan nan nan]\n159\n[0. 2. 4. 1. 3. 6.] [ 4.  1.  5.  3.  2.  0. nan nan]\n160\n[1. 3. 0. 6. 5. 2.] [ 3.  4.  0.  2.  1.  5. nan nan]\n161\n[ 1.  0.  2.  3.  5. nan] [ 3.  1.  4.  0.  5. nan nan nan nan nan]\n162\n[ 0.  5.  9.  2.  6. nan] [ 3.  5.  1.  2.  0. nan nan nan nan nan]\n163\n[ 4.  1.  3.  7. nan nan] [ 4.  3.  0.  1. nan nan nan nan nan nan]\n164\n[ 1.  5.  3.  4.  7. nan] [ 1.  0.  5.  3.  2. nan nan nan nan]\n165\n[ 3.  4.  2.  6. nan nan] [ 3.  2.  5.  0. nan nan nan nan nan]\n166\n[5. 4. 1. 8. 2. 3.] [ 0.  5.  4.  1.  3.  2. nan nan nan nan]\n167\n[4. 1. 2. 0. 5. 6.] [ 4.  5.  3.  2.  1.  0. nan nan]\n168\n[ 3.  5.  2.  4.  1. nan] [ 2.  3.  4.  5.  0. nan nan nan]\n169\n[3. 1. 5. 7. 0. 2.] [ 4.  3.  5.  2.  0.  1. nan nan]\n170\n[4. 1. 2. 3. 0. 7.] [ 0.  4.  1.  5.  2.  3. nan nan]\n171\n[ 2.  1. 10.  4.  5. nan] [ 0.  4.  5.  1.  3. nan nan nan nan nan nan]\n172\n[ 4.  1.  0.  7.  6. nan] [ 1.  5.  0.  4.  3. nan nan nan nan nan]\n173\n[ 2.  1.  3.  5.  4. nan] [ 0.  5.  1.  3.  4. nan nan nan nan]\n174\n[ 1.  5.  2.  6.  3. nan] [ 3.  0.  4.  5.  1. nan nan nan]\n175\n[6. 5. 0. 1. 4. 3.] [ 5.  0.  3.  1.  2.  4. nan nan]\n176\n[ 6.  2.  7.  4. nan nan] [ 2.  5.  0.  1. nan nan nan nan nan]\n177\n[0. 9. 6. 5. 7. 2.] [ 0.  2.  4.  5.  3.  1. nan nan nan nan nan]\n178\n[ 4.  1.  0.  6.  7. nan] [ 3.  1.  5.  2.  4. nan nan nan nan]\n179\n[3. 1. 0. 4. 7. 2.] [ 5.  0.  3.  4.  1.  2. nan nan]\n180\n[ 0.  2.  3.  4.  8. nan] [ 0.  5.  3.  2.  1. nan nan nan nan nan]\n181\n[3. 2. 4. 5. 1. 7.] [ 4.  5.  3.  1.  0.  2. nan nan]\n182\n[ 0.  8.  6.  4. nan nan] [ 0.  1.  3.  4. nan nan nan nan nan nan nan]\n183\n[1. 0. 3. 5. 2. 4.] [ 3.  0.  5.  2.  4.  1. nan nan]\n184\n[1. 3. 2. 6. 7. 8.] [ 1.  2.  5.  3.  0.  4. nan nan nan nan]\n185\n[ 3.  8.  6.  0. nan nan] [ 4.  1.  2.  5. nan nan nan nan nan nan]\n186\n[ 4.  3.  5.  1.  7. nan] [ 5.  3.  2.  4.  1. nan nan nan]\n187\n[1. 3. 5. 4. 2. 7.] [ 2.  3.  4.  5.  0.  1. nan nan]\n188\n[1. 6. 9. 7. 8. 4.] [ 0.  5.  4.  1.  3.  2. nan nan nan nan nan nan]\n189\n[4. 0. 7. 8. 1. 9.] [ 1.  2.  3.  0.  4.  5. nan nan nan nan nan]\n190\n[1. 3. 0. 5. 7. 6.] [ 3.  2.  1.  0.  4.  5. nan nan nan]\n191\n[2. 6. 0. 5. 1. 7.] [ 5.  1.  3.  2.  0.  4. nan nan]\n192\n[ 2.  1.  0.  8.  3. nan] [ 1.  3.  2.  0.  5. nan nan nan nan nan nan]\n193\n[ 3.  0.  5. nan nan nan] [ 0.  4.  3. nan nan nan nan nan nan nan]\n194\n[ 0.  3.  2.  5.  4. nan] [ 1.  0.  5.  3.  4. nan nan nan nan]\n195\n[ 0.  2.  6.  5.  3. nan] [ 3.  1.  4.  5.  2. nan nan nan]\n196\n[ 4.  1.  3.  0. nan nan] [ 0.  3.  2.  5. nan nan nan nan]\n197\n[0. 7. 5. 2. 3. 1.] [ 4.  1.  2.  3.  5.  0. nan nan nan nan]\n198\n[ 2.  4.  0.  1.  5. nan] [ 5.  1.  0.  3.  4. nan nan nan nan nan]\n199\n[2. 5. 0. 1. 6. 3.] [ 0.  2.  1.  4.  5.  3. nan nan nan nan]\n200\n[ 3.  6.  9.  4.  7. nan] [ 5.  4.  2.  0.  3. nan nan nan nan nan nan]\n201\n[ 6.  0. 10.  1.  4.  3.] [ 5.  3.  1.  4.  2.  0. nan nan nan nan nan nan]\n202\n[ 5.  4.  2.  0.  3. nan] [ 2.  5.  0.  3.  4. nan nan nan]\n203\n[ 2.  0.  6.  9.  4. nan] [ 3.  1.  2.  5.  4. nan nan nan nan nan nan nan nan]\n204\n[3. 1. 4. 5. 6. 7.] [ 1.  3.  5.  0.  4.  2. nan nan]\n205\n[ 6.  1.  0.  3.  8. nan] [ 3.  0.  5.  2.  4. nan nan nan nan]\n206\n[ 5.  0.  1.  2.  4. nan] [ 4.  3.  0.  1.  5. nan nan nan nan nan]\n207\n[ 1.  2.  6.  4. nan nan] [ 0.  3.  2.  1. nan nan nan nan]\n208\n[2. 6. 1. 0. 4. 9.] [ 0.  4.  5.  2.  1.  3. nan nan nan nan]\n209\n[ 0.  3.  1.  2.  4. nan] [ 3.  1.  0.  2.  5. nan nan nan nan]\n210\n[0. 5. 7. 2. 3. 4.] [ 3.  2.  4.  1.  0.  5. nan nan nan]\n211\n[ 5.  7.  2.  4.  8. 11.] [ 2.  5.  4.  1.  3.  0. nan nan nan nan nan nan]\n212\n[ 1.  0.  4.  3.  6. 11.] [ 0.  3.  2.  4.  5.  1. nan nan nan nan nan nan]\n213\n[ 6.  2.  0.  1.  3. nan] [ 4.  5.  2.  3.  0. nan nan nan]\n214\n[4. 5. 2. 6. 7. 0.] [ 4.  2.  0.  1.  5.  3. nan nan]\n215\n[0. 4. 2. 6. 7. 3.] [ 5.  4.  3.  2.  0.  1. nan nan nan nan]\n216\n[ 0.  5.  3.  7.  2. nan] [ 0.  4.  5.  3.  1. nan nan nan]\n217\n[1. 2. 4. 5. 0. 3.] [ 3.  5.  1.  0.  2.  4. nan nan]\n218\n[ 0.  1.  3.  5.  6. nan] [ 0.  3.  5.  4.  2. nan nan nan]\n219\n[ 6.  7.  0.  2. nan nan] [ 2.  3.  0.  1. nan nan nan nan]\n220\n[ 2.  5.  0.  6.  8. nan] [ 3.  2.  0.  5.  4. nan nan nan nan]\n221\n[6. 4. 1. 7. 2. 3.] [ 2.  3.  0.  4.  1.  5. nan nan]\n222\n[7. 6. 1. 9. 4. 8.] [ 0.  3.  5.  2.  4.  1. nan nan nan nan]\n223\n[ 2.  3.  4.  7.  1. nan] [ 1.  0.  3.  2.  5. nan nan nan]\n224\n[ 4.  0.  1.  7. 10. nan] [ 5.  3.  2.  0.  4. nan nan nan nan nan nan nan nan]\n225\n[3. 1. 0. 2. 6. 5.] [ 3.  2.  5.  0.  4.  1. nan nan]\n226\n[0. 7. 6. 2. 3. 1.] [ 0.  1.  4.  2.  3.  5. nan nan]\n227\n[3. 2. 0. 5. 4. 1.] [ 0.  4.  3.  1.  2.  5. nan nan]\n228\n[ 5.  2.  0.  1.  4. nan] [ 4.  3.  0.  5.  2. nan nan nan]\n229\n[ 0.  2.  5.  8.  4. nan] [ 3.  2.  5.  1.  0. nan nan nan nan]\n230\n[ 1.  2.  4.  6.  3. nan] [ 3.  0.  5.  2.  1. nan nan nan nan]\n231\n[ 4. 12.  3.  2. 10. nan] [ 0.  2.  5.  1.  4. nan nan nan nan nan nan nan nan]\n232\n[ 6.  1.  3.  4.  2. nan] [ 1.  3.  0.  2.  5. nan nan nan nan]\n233\n[ 1.  2.  0.  6.  3. nan] [ 3.  5.  1.  2.  0. nan nan nan]\n234\n[ 0.  4.  5.  3.  7. nan] [ 5.  3.  4.  2.  0. nan nan nan]\n235\n[ 7.  0.  8.  2.  5. nan] [ 5.  3.  4.  1.  2. nan nan nan nan nan nan]\n236\n[3. 2. 1. 0. 4. 5.] [ 1.  5.  2.  4.  3.  0. nan nan]\n237\n[0. 2. 4. 5. 3. 7.] [ 0.  1.  4.  5.  2.  3. nan nan nan]\n238\n[ 0.  5.  2. nan nan nan] [ 1.  0.  5. nan nan nan nan nan]\n239\n[ 1.  6.  2.  7.  3. nan] [ 1.  5.  3.  4.  0. nan nan nan]\n240\n[ 0.  2.  6.  5.  4. nan] [ 1.  3.  0.  2.  5. nan nan nan nan]\n241\n[ 3.  0.  8.  4.  2. nan] [ 0.  3.  1.  5.  2. nan nan nan nan]\n242\n[1. 3. 2. 4. 8. 5.] [ 3.  2.  0.  5.  4.  1. nan nan nan]\n243\n[2. 1. 0. 5. 4. 6.] [ 1.  3.  2.  0.  4.  5. nan nan]\n244\n[2. 6. 0. 5. 4. 7.] [ 0.  2.  3.  1.  5.  4. nan nan nan]\n245\n[ 5.  6.  2.  4.  1. nan] [ 3.  1.  0.  4.  5. nan nan nan nan]\n246\n[ 8.  1.  5.  2.  7. nan] [ 2.  3.  5.  4.  1. nan nan nan nan nan]\n247\n[ 2.  1.  0.  5.  7. nan] [ 1.  0.  3.  2.  5. nan nan nan]\n248\n[5. 3. 2. 6. 4. 7.] [ 0.  5.  3.  4.  1.  2. nan nan]\n249\n[ 4.  7. 11.  1. nan nan] [ 3.  2.  4.  0. nan nan nan nan nan nan nan nan]\n250\n[ 6.  0.  3.  2.  5. nan] [ 1.  3.  2.  0.  5. nan nan nan]\n251\n[ 8.  1.  9.  2.  4. nan] [ 4.  5.  3.  2.  0. nan nan nan nan nan]\n252\n[ 2.  1.  4.  3.  7. nan] [ 5.  0.  3.  2.  4. nan nan nan]\n253\n[ 1.  5. 10.  2.  3.  8.] [ 2.  3.  0.  1.  5.  4. nan nan nan nan nan]\n254\n[ 0.  2.  1.  5.  6. nan] [ 3.  2.  0.  5.  4. nan nan nan nan nan]\n255\n[ 1.  2. 11.  0.  8. nan] [ 5.  0.  2.  1.  3. nan nan nan nan nan nan nan]\n256\n[0. 2. 5. 1. 3. 6.] [ 1.  2.  0.  5.  4.  3. nan nan nan]\n257\n[0. 4. 2. 1. 7. 3.] [ 2.  1.  5.  0.  4.  3. nan nan nan]\n258\n[ 4.  0.  8.  6. nan nan] [ 2.  3.  4.  0. nan nan nan nan nan]\n259\n[ 4.  0.  3.  2.  7. nan] [ 3.  2.  0.  5.  4. nan nan nan]\n260\n[ 3.  0.  2.  4.  6. nan] [ 0.  2.  4.  3.  1. nan nan nan]\n261\n[2. 5. 1. 6. 0. 7.] [ 2.  4.  1.  0.  5.  3. nan nan]\n262\n[6. 4. 0. 3. 5. 2.] [ 4.  3.  1.  0.  2.  5. nan nan nan]\n263\n[ 0.  1.  5.  3. nan nan] [ 5.  3.  2.  4. nan nan nan nan]\n264\n[1. 0. 8. 4. 9. 7.] [ 1.  4.  5.  0.  2.  3. nan nan nan nan]\n265\n[2. 5. 1. 7. 0. 8.] [ 5.  2.  0.  4.  3.  1. nan nan nan]\n266\n[4. 1. 0. 7. 3. 5.] [ 1.  0.  3.  5.  2.  4. nan nan]\n267\n[0. 2. 1. 4. 8. 7.] [ 3.  2.  0.  5.  4.  1. nan nan nan]\n268\n[ 0.  5.  7.  2.  1. nan] [ 2.  1.  5.  3.  4. nan nan nan]\n269\n[ 1.  3.  0.  6.  5. nan] [ 4.  0.  1.  5.  3. nan nan nan nan]\n270\n[ 4.  1.  8.  7.  3. nan] [ 3.  0.  2.  5.  4. nan nan nan nan nan nan nan]\n271\n[ 4.  0.  1.  3.  6. nan] [ 5.  4.  0.  3.  2. nan nan nan]\n272\n[ 3.  2.  7.  5.  8. nan] [ 4.  5.  3.  0.  1. nan nan nan nan nan nan]\n273\n[ 2.  1.  0.  3.  9. nan] [ 4.  5.  0.  1.  3. nan nan nan nan nan]\n274\n[ 3.  0.  2.  6.  4. nan] [ 5.  0.  1.  2.  3. nan nan nan]\n275\n[ 1.  0.  4.  3.  2. nan] [ 0.  3.  4.  5.  1. nan nan nan]\n276\n[ 2.  5.  7.  1.  0. nan] [ 1.  0.  4.  3.  5. nan nan nan nan]\n277\n[8. 4. 5. 0. 3. 2.] [ 1.  5.  0.  3.  4.  2. nan nan nan nan]\n278\n[ 3.  2.  1.  7. nan nan] [ 2.  3.  0.  1. nan nan nan nan nan]\n279\n[ 0.  7.  4.  1.  8. nan] [ 5.  1.  4.  0.  2. nan nan nan nan nan]\n280\n[ 2.  3.  1. nan nan nan] [ 0.  2.  1. nan nan nan nan nan nan]\n281\n[2. 5. 3. 0. 6. 4.] [ 1.  2.  0.  3.  4.  5. nan nan nan]\n282\n[ 0.  4.  2.  3.  5. nan] [ 3.  4.  5.  1.  0. nan nan nan nan nan]\n283\n[0. 6. 8. 5. 2. 1.] [ 3.  4.  5.  2.  1.  0. nan nan nan nan nan]\n284\n[ 0.  2.  4.  7.  9. nan] [ 1.  5.  0.  4.  3. nan nan nan nan nan nan]\n285\n[3. 2. 0. 5. 1. 4.] [ 1.  4.  0.  5.  3.  2. nan nan nan]\n"
    }
   ],
   "source": [
    "for i in range(len(parton_pdgid)):\n",
    "    print(i)\n",
    "    array = np.reshape(dR_between_parton_jet[i], [6, len(jet_pt[i])])\n",
    "    print(matching_parton[i], matching_jet[i])"
   ]
  },
  {
   "cell_type": "code",
   "execution_count": 54,
   "metadata": {},
   "outputs": [
    {
     "output_type": "execute_result",
     "data": {
      "text/plain": "array([ 5.,  2.,  0.,  3.,  4., nan])"
     },
     "metadata": {},
     "execution_count": 54
    }
   ],
   "source": [
    "matching_parton[8]"
   ]
  },
  {
   "cell_type": "code",
   "execution_count": 55,
   "metadata": {},
   "outputs": [
    {
     "output_type": "execute_result",
     "data": {
      "text/plain": "array([ 2.,  4.,  5.,  3.,  1., nan, nan, nan])"
     },
     "metadata": {},
     "execution_count": 55
    }
   ],
   "source": [
    "matching_jet[8]"
   ]
  },
  {
   "cell_type": "code",
   "execution_count": 56,
   "metadata": {},
   "outputs": [
    {
     "output_type": "stream",
     "name": "stdout",
     "text": "0.9311027880903949\n          0         1         2         3         4         5\n0  0.281994  2.335432  1.791587  2.443285  1.897260  0.100172\n1  3.149581  0.603550  1.701497  0.931103  1.584544  2.923640\n2  1.752561  2.123706  3.150187  2.193001  0.046727  1.905609\n3  2.623315  0.560628  1.802913  0.101003  2.323326  2.317918\n4  2.465137  0.158637  1.221188  0.686300  2.299217  2.202966\n5  1.977741  1.379020  0.015046  1.884237  3.183373  1.861102\n6  1.794689  3.680289  2.729886  4.081565  2.471614  2.103569\n7  2.712163  3.581885  4.225174  3.316750  2.047230  2.583816\n5 2\n2.202966485165221\n"
    }
   ],
   "source": [
    "array = np.reshape(dR_between_parton_jet[8], [6, len(jet_pt[8])])\n",
    "print(array[3,1])\n",
    "dataset = pd.DataFrame({'0': array[0,:], \n",
    "                                '1': array[1,:],\n",
    "                                '2': array[2,:],\n",
    "                                '3': array[3,:],\n",
    "                                '4': array[4,:],\n",
    "                                '5': array[5,:],\n",
    "                                })\n",
    "print(dataset)\n",
    "min_idx, min_col = dataset.stack().idxmin()\n",
    "print(min_idx, min_col)\n",
    "print(dataset.iloc[4, 5])"
   ]
  },
  {
   "cell_type": "code",
   "execution_count": 57,
   "metadata": {},
   "outputs": [],
   "source": [
    "parton_jet_index = np.zeros([len(parton_pdgid), 6])\n",
    "jet_parton_index = []\n",
    "np.zeros([len(parton_pdgid), 6])\n",
    "for i in range(len(parton_pdgid)):\n",
    "    jet_parton_index.append(np.zeros([len(jet_pt[i])]))\n",
    "\n",
    "\n",
    "for i in range(len(parton_pdgid)):\n",
    "    for j in range(0,6):\n",
    "        parton_jet_index[i][j] = matching_parton[i][j]\n",
    "    for k in range(len(jet_pt[i])):\n",
    "        jet_parton_index[i][k] = matching_jet[i][k]"
   ]
  },
  {
   "cell_type": "code",
   "execution_count": 58,
   "metadata": {},
   "outputs": [
    {
     "output_type": "stream",
     "name": "stderr",
     "text": "/usr/local/lib/python3.6/site-packages/ipykernel_launcher.py:5: VisibleDeprecationWarning: Creating an ndarray from ragged nested sequences (which is a list-or-tuple of lists-or-tuples-or ndarrays with different lengths or shapes) is deprecated. If you meant to do this, you must specify 'dtype=object' when creating the ndarray\n  \"\"\"\n"
    }
   ],
   "source": [
    "jet_barcode = []\n",
    "for i in range(len(parton_pdgid)):\n",
    "    jet_barcode.append(np.zeros([len(jet_pt[i])]))\n",
    "\n",
    "jet_barcode = np.array(jet_barcode)\n",
    "\n",
    "for i in range(len(parton_pdgid)):\n",
    "    for j in range(len(jet_parton_index[i])):\n",
    "        if jet_parton_index[i][j] == 0:\n",
    "            jet_barcode[i][j] = barcode[0]\n",
    "        elif jet_parton_index[i][j] == 1: \n",
    "            jet_barcode[i][j] = barcode[1]\n",
    "        elif jet_parton_index[i][j] == 2: \n",
    "            jet_barcode[i][j] = barcode[2]\n",
    "        elif jet_parton_index[i][j] == 3: \n",
    "            jet_barcode[i][j] = barcode[3]\n",
    "        elif jet_parton_index[i][j] == 4: \n",
    "            jet_barcode[i][j] = barcode[4]\n",
    "        elif jet_parton_index[i][j] == 5: \n",
    "            jet_barcode[i][j] = barcode[5]\n",
    "        else :\n",
    "            jet_barcode[i][j] = 'Nan'\n"
   ]
  },
  {
   "cell_type": "code",
   "execution_count": 59,
   "metadata": {},
   "outputs": [
    {
     "output_type": "execute_result",
     "data": {
      "text/plain": "array([40., 20., 20., 17., 40., nan, nan, nan])"
     },
     "metadata": {},
     "execution_count": 59
    }
   ],
   "source": [
    "jet_barcode[8]"
   ]
  },
  {
   "cell_type": "code",
   "execution_count": 60,
   "metadata": {},
   "outputs": [
    {
     "output_type": "stream",
     "name": "stdout",
     "text": "2618 1498\n"
    }
   ],
   "source": [
    "count_jet = 0\n",
    "count_match_jet = 0\n",
    "for i in range(len(jet_parton_index)):\n",
    "    for j in range(len(jet_parton_index[i])):\n",
    "        count_jet += 1\n",
    "        if jet_parton_index[i][j] <= 5:\n",
    "            count_match_jet +=1\n",
    "        else : pass\n",
    "print(count_jet, count_match_jet)"
   ]
  },
  {
   "cell_type": "code",
   "execution_count": 61,
   "metadata": {},
   "outputs": [
    {
     "output_type": "stream",
     "name": "stdout",
     "text": "1604 729 1073\n"
    }
   ],
   "source": [
    "count_top = 0\n",
    "count_top_bar = 0 \n",
    "count_both = 0\n",
    "for i in range(len(jet_parton_index)):\n",
    "    for j in range(len(jet_parton_index[i])):\n",
    "        if np.sum(jet_parton_index[i] <= 2) == 3:\n",
    "            #print(jet_parton_index[i])\n",
    "            count_top +=1\n",
    "        elif np.sum(jet_parton_index[i] > 2) == 3:\n",
    "            #print(jet_parton_index[i])\n",
    "            count_top_bar +=1\n",
    "        else : pass\n",
    "        if np.sum(jet_parton_index[i] <= 5) == 6:\n",
    "            count_both += 1\n",
    "        else : pass\n",
    "print(count_top, count_top_bar, count_both)"
   ]
  },
  {
   "source": [
    "## Saved selected events\n",
    "---"
   ],
   "cell_type": "markdown",
   "metadata": {}
  },
  {
   "cell_type": "code",
   "execution_count": 62,
   "metadata": {},
   "outputs": [],
   "source": [
    "# lene = len(parton_pdgid)\n",
    "# #Save the event which pass the selection\n",
    "# with h5py.File(\"./event_record_pptt_10k_new.h5\",'w') as f:\n",
    "#     dt = h5py.vlen_dtype(np.dtype('int32'))\n",
    "\n",
    "#     hdf5_jet_parton_index = f.create_dataset('jet_parton_index', (lene, ), dtype=dt)\n",
    "#     hdf5_jet_barcode = f.create_dataset('jet_barcode', (lene, ), dtype=dt)\n",
    "#     hdf5_jet_pt = f.create_dataset('jet_pt', (lene, ), dtype=dt)\n",
    "#     hdf5_jet_eta = f.create_dataset('jet_eta', (lene, ), dtype=dt)\n",
    "#     hdf5_jet_phi = f.create_dataset('jet_phi', (lene, ), dtype=dt)\n",
    "#     hdf5_jet_mass = f.create_dataset('jet_mass', (lene, ), dtype=dt)\n",
    "#     hdf5_jet_btag = f.create_dataset('jet_btag', (lene, ), dtype=dt)\n",
    "\n",
    "#     for i in range(lene):\n",
    "#         hdf5_jet_parton_index[i] = jet_parton_index[i]\n",
    "#         hdf5_jet_barcode[i] = jet_barcode[i]\n",
    "#         hdf5_jet_pt[i] = jet_pt[i]\n",
    "#         hdf5_jet_eta[i] = jet_eta[i]\n",
    "#         hdf5_jet_phi[i] = jet_phi[i]\n",
    "#         hdf5_jet_mass[i] = jet_mass[i]\n",
    "#         hdf5_jet_btag[i] = jet_btag[i]\n",
    "\n",
    "#     hdf5_parton_jet_index = f.create_dataset('parton_jet_index', (lene, ), dtype=dt)\n",
    "#     hdf5_parton_pdgid = f.create_dataset('parton_pdgid', (lene, ), dtype=dt)\n",
    "#     hdf5_parton_barcode = f.create_dataset('parton_barcode', (lene, ), dtype=dt)\n",
    "#     hdf5_parton_pt = f.create_dataset('parton_pt', (lene, ), dtype=dt)\n",
    "#     hdf5_parton_eta = f.create_dataset('parton_eta', (lene, ), dtype=dt)\n",
    "#     hdf5_parton_phi = f.create_dataset('parton_phi', (lene, ), dtype=dt)\n",
    "#     hdf5_parton_mass = f.create_dataset('parton_mass', (lene, ), dtype=dt)\n",
    "\n",
    "#     for i in range(lene):\n",
    "#         hdf5_parton_jet_index[i] = parton_jet_index[i]\n",
    "#         hdf5_parton_pdgid[i] = parton_pdgid[i]\n",
    "#         hdf5_parton_barcode[i] = parton_barcode[i]\n",
    "#         hdf5_parton_pt[i] = parton_pt[i]\n",
    "#         hdf5_parton_eta[i] = parton_eta[i]\n",
    "#         hdf5_parton_phi[i] = parton_phi[i]\n",
    "#         hdf5_parton_mass[i] = parton_mass[i]\n",
    "    "
   ]
  }
 ],
 "metadata": {
  "kernelspec": {
   "display_name": "Python 3.6.8 64-bit",
   "language": "python",
   "name": "python36864bit4c80ea5ac4e54d55aebdc14f7f73d90c"
  },
  "language_info": {
   "codemirror_mode": {
    "name": "ipython",
    "version": 3
   },
   "file_extension": ".py",
   "mimetype": "text/x-python",
   "name": "python",
   "nbconvert_exporter": "python",
   "pygments_lexer": "ipython3",
   "version": "3.6.8-final"
  }
 },
 "nbformat": 4,
 "nbformat_minor": 4
}