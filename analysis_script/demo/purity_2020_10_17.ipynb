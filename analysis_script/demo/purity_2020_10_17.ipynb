{
 "cells": [
  {
   "cell_type": "code",
   "execution_count": 1,
   "metadata": {},
   "outputs": [],
   "source": [
    "import pandas as pd \n",
    "import numpy as np \n",
    "import h5py, sys, traceback, os, tqdm, time\n",
    "from script.utilize import pdgid, purity_classifier\n",
    "import multiprocessing as mp"
   ]
  },
  {
   "cell_type": "code",
   "execution_count": 2,
   "metadata": {},
   "outputs": [],
   "source": [
    "NN_RESULT = \"./data/results_2020_10_17_nofilter.npz\"\n",
    "\n",
    "results = np.load(NN_RESULT)\n",
    "full_dataset = results[\"dataset\"]\n",
    "full_predictions = results[\"predictions\"]\n",
    "full_targets = results[\"targets\"]\n",
    "n_match = results[\"n_match\"]\n",
    "num_samples = full_predictions.shape[0]\n",
    "\n",
    "num_jets = (full_dataset.sum(-1) > 0).sum(-1)"
   ]
  },
  {
   "cell_type": "code",
   "execution_count": 3,
   "metadata": {},
   "outputs": [
    {
     "name": "stderr",
     "output_type": "stream",
     "text": [
      "100%|██████████| 59/59 [00:08<00:00,  7.32it/s]\n"
     ]
    }
   ],
   "source": [
    "chi2_storage = []\n",
    "delta_R_storage = []\n",
    "NUM_CHI2 = 59\n",
    "\n",
    "for i in tqdm.trange(NUM_CHI2):\n",
    "    with h5py.File(f\"./backup/evaluate_new_with_JES/output_vector_{i + 1}.h5\", 'r') as file:\n",
    "        chi2_result = np.stack(file[\"Chi2_result\"][:]).astype(np.int)\n",
    "        delta_R_result = np.stack(file[\"Delta_R_result\"][:]).astype(np.int)\n",
    "    if i == 0:\n",
    "        with h5py.File(f\"./backup/evaluate_new_with_JES/event_recod_testing_with_chi2_new_{i + 1}.h5\", 'r') as file:\n",
    "            tmp_jet_pt = file[\"jet_pt\"][:]\n",
    "            N_match_top_in_event = file['N_match_top_in_event'][:]\n",
    "    else: \n",
    "        with h5py.File(f\"./backup/evaluate_new_with_JES/event_recod_testing_with_chi2_new_{i + 1}.h5\", 'r') as file:\n",
    "            tmp_jet_pt = np.concatenate((tmp_jet_pt, file[\"jet_pt\"][:]))\n",
    "            N_match_top_in_event = np.concatenate((N_match_top_in_event, file[\"N_match_top_in_event\"][:]))\n",
    "    chi2_storage.append(chi2_result)\n",
    "    delta_R_storage.append(delta_R_result)\n",
    "\n",
    "chi2_result = np.concatenate(chi2_storage)\n",
    "delta_R_result = np.concatenate(delta_R_storage)\n",
    "jet_pt = tmp_jet_pt\n",
    "del chi2_storage, delta_R_storage"
   ]
  },
  {
   "cell_type": "code",
   "execution_count": 4,
   "metadata": {},
   "outputs": [],
   "source": [
    "NN_n_match_2_idx = np.where(n_match == 2)\n",
    "NN_n_match_1_idx = np.where(n_match == 1)\n",
    "\n",
    "NN_six_jet_idx = np.where(num_jets == 6)\n",
    "NN_seven_jet_idx = np.where(num_jets == 7)\n",
    "NN_eight_jet_idx = np.where(num_jets >= 8)"
   ]
  },
  {
   "cell_type": "code",
   "execution_count": 5,
   "metadata": {},
   "outputs": [],
   "source": [
    "num_jet = np.zeros(len(jet_pt))\n",
    "for i in range(len(jet_pt)):\n",
    "    num_jet[i] = len(jet_pt[i])\n",
    "\n",
    "chi2_six_jet = np.where(num_jet == 6)\n",
    "chi2_seven_jet = np.where(num_jet == 7)\n",
    "chi2_eight_jet = np.where(num_jet >= 8)\n",
    "\n",
    "chi2_n_match_2_idx = np.where(N_match_top_in_event == 2)\n",
    "chi2_n_match_1_idx = np.where(N_match_top_in_event == 1)"
   ]
  },
  {
   "cell_type": "code",
   "execution_count": 6,
   "metadata": {},
   "outputs": [],
   "source": [
    "def compute(target, source):\n",
    "    MODEL = 'ttbar'\n",
    "    correct_left = np.full(len(target), 99999)\n",
    "    correct_right = np.full(len(target), 99999)\n",
    "    case = np.zeros(len(target))\n",
    "\n",
    "    for i in tqdm.trange(len(target)):\n",
    "\n",
    "        left_target = target[i][:3]\n",
    "        right_target = target[i][3:]\n",
    "\n",
    "        left_src = source[i][:3]    \n",
    "        right_src = source[i][3:]  \n",
    "\n",
    "        if np.sum(left_src < 0 ) >0:\n",
    "            correct_left[i] = 4       \n",
    "        if np.sum(right_src < 0) >0:\n",
    "            correct_right[i] = 4\n",
    "\n",
    "        if correct_left[i] != 4 and correct_right[i] != 4:\n",
    "            correct_left[i], correct_right[i] = purity_classifier(target[i], source[i], \"pair\", MODEL)\n",
    "        elif correct_left[i] != 4 and correct_right[i] == 4:\n",
    "            correct_left[i] = purity_classifier(target[i], source[i], \"left\", MODEL)\n",
    "        elif correct_left[i] == 4 and correct_right[i] != 4:\n",
    "            correct_right[i] = purity_classifier(target[i], source[i], \"right\", MODEL)\n",
    "        else:\n",
    "            pass\n",
    "\n",
    "        if correct_left[i] == 1 and correct_right[i] == 1:\n",
    "            case[i] = 1\n",
    "        elif correct_left[i] != 1 and correct_right[i] == 1 and correct_left[i] != 4 and correct_right[i] != 4:\n",
    "            case[i] = 2\n",
    "        elif correct_left[i] == 1 and correct_right[i] != 1 and correct_left[i] != 4 and correct_right[i] != 4:\n",
    "            case[i] = 2\n",
    "        elif  correct_left[i] != 1 and  correct_right[i] != 1 and correct_left[i] != 4 and correct_right[i] != 4:\n",
    "            case[i] = 3\n",
    "        elif correct_left[i] == 4 or  correct_right[i] == 4:\n",
    "            case[i] = 4\n",
    "        \n",
    "    return case, correct_right, correct_left"
   ]
  },
  {
   "cell_type": "code",
   "execution_count": 7,
   "metadata": {},
   "outputs": [],
   "source": [
    "NN_predict_2 = full_predictions[NN_n_match_2_idx[0]]\n",
    "NN_target_2 = full_targets[NN_n_match_2_idx[0]]"
   ]
  },
  {
   "cell_type": "code",
   "execution_count": 8,
   "metadata": {},
   "outputs": [],
   "source": [
    "NN_predict_1 = full_predictions[NN_n_match_1_idx[0]]\n",
    "NN_target_1 = full_targets[NN_n_match_1_idx[0]]"
   ]
  },
  {
   "cell_type": "code",
   "execution_count": 9,
   "metadata": {},
   "outputs": [],
   "source": [
    "chi2_predict_2 = chi2_result[chi2_n_match_2_idx[0]]\n",
    "chi2_target_2 = delta_R_result[chi2_n_match_2_idx[0]]\n",
    "\n",
    "chi2_predict_1 = chi2_result[chi2_n_match_1_idx[0]]\n",
    "chi2_target_1 = delta_R_result[chi2_n_match_1_idx[0]]"
   ]
  },
  {
   "cell_type": "code",
   "execution_count": 10,
   "metadata": {},
   "outputs": [
    {
     "name": "stderr",
     "output_type": "stream",
     "text": [
      "100%|██████████| 1184256/1184256 [00:24<00:00, 48552.13it/s]\n",
      "100%|██████████| 619716/619716 [00:13<00:00, 47477.39it/s]\n",
      "100%|██████████| 386971/386971 [00:08<00:00, 47306.86it/s]\n"
     ]
    }
   ],
   "source": [
    "NN_case, NN_correct_right, NN_correct_left = compute(full_predictions, full_targets)\n",
    "NN_case_1, NN_correct_right_1, NN_correct_left_1 = compute(NN_predict_1, NN_target_1)\n",
    "NN_cas_2, NN_correct_right_2, NN_correct_left_2 = compute(NN_predict_2, NN_target_2)"
   ]
  },
  {
   "cell_type": "code",
   "execution_count": 11,
   "metadata": {},
   "outputs": [
    {
     "name": "stderr",
     "output_type": "stream",
     "text": [
      "100%|██████████| 1184448/1184448 [00:24<00:00, 47738.87it/s]\n",
      "100%|██████████| 619818/619818 [00:13<00:00, 47120.80it/s]\n",
      "100%|██████████| 387031/387031 [00:08<00:00, 44856.67it/s]\n"
     ]
    }
   ],
   "source": [
    "chi2_case, chi2_correct_right, chi2_correct_left = compute(chi2_result, delta_R_result)\n",
    "chi2_case_1, chi2_correct_right_1, chi2_correct_left_1 = compute(chi2_predict_1, chi2_target_1)\n",
    "chi2_cas_2, chi2_correct_right_2, chi2_correct_left_2 = compute(chi2_predict_2, chi2_target_2)"
   ]
  },
  {
   "cell_type": "code",
   "execution_count": 12,
   "metadata": {},
   "outputs": [
    {
     "name": "stdout",
     "output_type": "stream",
     "text": [
      "No filterd event purity and top purity.\n",
      "Event putiry (no filter, NN)               : 0.867\n",
      "Two top putiry (both matched, NN)          : 0.909\n",
      "Single top putiry (partial matched, NN)    : 0.497\n",
      "--------------------------------------------------------------------------------\n",
      "Event putiry (no filter, chi2)             : 0.398\n",
      "Two top putiry (both matched, chi2)        : 0.491\n",
      "Single top putiry (partial matched, chi2)  : 0.306\n"
     ]
    }
   ],
   "source": [
    "print(f'No filterd event purity and top purity.')\n",
    "\n",
    "NN_event_purity = np.sum(NN_case==1)/( np.sum(NN_case==1) + np.sum(NN_case==2) + np.sum(NN_case==3))\n",
    "NN_two_top_purity = ( np.sum(NN_correct_right_2 ==1) + np.sum(NN_correct_left_2==1)  )/( np.sum(NN_correct_right_2 ==1) + np.sum(NN_correct_left_2==1) + np.sum(NN_correct_right_2 ==0) + np.sum(NN_correct_left_2==0) )\n",
    "NN_single_top_purity = ( np.sum(NN_correct_right_1 == 1) + np.sum(NN_correct_left_1 == 1)  )/(  len(NN_correct_right_1) )\n",
    "\n",
    "print(f'Event putiry (no filter, NN)               : {NN_event_purity:.3f}')\n",
    "print(f'Two top putiry (both matched, NN)          : {NN_two_top_purity:.3f}')\n",
    "print(f'Single top putiry (partial matched, NN)    : {NN_single_top_purity:.3f}')\n",
    "\n",
    "print(\"-\"*80)\n",
    "\n",
    "chi2_event_purity = np.sum(chi2_case==1)/( np.sum(chi2_case==1) + np.sum(chi2_case==2) + np.sum(chi2_case==3))\n",
    "chi2_two_top_purity = ( np.sum(chi2_correct_right_2 ==1) + np.sum(chi2_correct_left_2==1)  )/( np.sum(chi2_correct_right_2 ==1) + np.sum(chi2_correct_left_2==1) + np.sum(chi2_correct_right_2 ==0) + np.sum(chi2_correct_left_2==0) )\n",
    "chi2_single_top_purity = ( np.sum(chi2_correct_right_1==1) + np.sum(chi2_correct_left_1==1)  )/( len(chi2_correct_right_1) )\n",
    "print(f'Event putiry (no filter, chi2)             : {chi2_event_purity:.3f}')\n",
    "print(f'Two top putiry (both matched, chi2)        : {chi2_two_top_purity:.3f}')\n",
    "print(f'Single top putiry (partial matched, chi2)  : {chi2_single_top_purity:.3f}')"
   ]
  },
  {
   "cell_type": "code",
   "execution_count": 13,
   "metadata": {},
   "outputs": [],
   "source": [
    "\n",
    "NN_n_match_2_six_jet = np.intersect1d(NN_n_match_2_idx, NN_six_jet_idx)\n",
    "NN_n_match_1_six_jet = np.intersect1d(NN_n_match_1_idx, NN_six_jet_idx)\n",
    "\n",
    "NN_predict_six_jet = full_predictions[NN_six_jet_idx]\n",
    "NN_predict_six_jet_2 = full_predictions[NN_n_match_2_six_jet]\n",
    "NN_predict_six_jet_1 = full_predictions[NN_n_match_1_six_jet]\n",
    "\n",
    "NN_target_six_jet = full_targets[NN_six_jet_idx]\n",
    "NN_target_six_jet_2 = full_targets[NN_n_match_2_six_jet]\n",
    "NN_target_six_jet_1 = full_targets[NN_n_match_1_six_jet]\n",
    "\n",
    "NN_n_match_2_seven_jet = np.intersect1d(NN_n_match_2_idx, NN_seven_jet_idx)\n",
    "NN_n_match_1_seven_jet = np.intersect1d(NN_n_match_1_idx, NN_seven_jet_idx)\n",
    "\n",
    "NN_predict_seven_jet = full_predictions[NN_seven_jet_idx]\n",
    "NN_predict_seven_jet_2 = full_predictions[NN_n_match_2_seven_jet]\n",
    "NN_predict_seven_jet_1 = full_predictions[NN_n_match_1_seven_jet]\n",
    "\n",
    "NN_target_seven_jet = full_targets[NN_seven_jet_idx]\n",
    "NN_target_seven_jet_2 = full_targets[NN_n_match_2_seven_jet]\n",
    "NN_target_seven_jet_1 = full_targets[NN_n_match_1_seven_jet]\n",
    "\n",
    "NN_n_match_2_eight_jet = np.intersect1d(NN_n_match_2_idx, NN_eight_jet_idx)\n",
    "NN_n_match_1_eight_jet = np.intersect1d(NN_n_match_1_idx, NN_eight_jet_idx)\n",
    "\n",
    "NN_predict_eight_jet = full_predictions[NN_eight_jet_idx]\n",
    "NN_predict_eight_jet_2 = full_predictions[NN_n_match_2_eight_jet]\n",
    "NN_predict_eight_jet_1 = full_predictions[NN_n_match_1_eight_jet]\n",
    "\n",
    "NN_target_eight_jet = full_targets[NN_eight_jet_idx]\n",
    "NN_target_eight_jet_2 = full_targets[NN_n_match_2_eight_jet]\n",
    "NN_target_eight_jet_1 = full_targets[NN_n_match_1_eight_jet]\n",
    "\n",
    "chi2_n_match_2_six_jet = np.intersect1d(chi2_n_match_2_idx, chi2_six_jet)\n",
    "chi2_n_match_1_six_jet = np.intersect1d(chi2_n_match_1_idx, chi2_six_jet)\n",
    "\n",
    "chi2_predict_six_jet = chi2_result[chi2_six_jet]\n",
    "chi2_predict_six_jet_2 = chi2_result[chi2_n_match_2_six_jet]\n",
    "chi2_predict_six_jet_1 = chi2_result[chi2_n_match_1_six_jet]\n",
    "\n",
    "chi2_target_six_jet = delta_R_result[chi2_six_jet]\n",
    "chi2_target_six_jet_2 = delta_R_result[chi2_n_match_2_six_jet]\n",
    "chi2_target_six_jet_1 = delta_R_result[chi2_n_match_1_six_jet]\n",
    "\n",
    "chi2_n_match_2_seven_jet = np.intersect1d(chi2_n_match_2_idx, chi2_seven_jet)\n",
    "chi2_n_match_1_seven_jet = np.intersect1d(chi2_n_match_1_idx, chi2_seven_jet)\n",
    "\n",
    "chi2_predict_seven_jet = chi2_result[chi2_seven_jet]\n",
    "chi2_predict_seven_jet_2 = chi2_result[chi2_n_match_2_seven_jet]\n",
    "chi2_predict_seven_jet_1 = chi2_result[chi2_n_match_1_seven_jet]\n",
    "\n",
    "chi2_target_seven_jet = delta_R_result[chi2_seven_jet]\n",
    "chi2_target_seven_jet_2 = delta_R_result[chi2_n_match_2_seven_jet]\n",
    "chi2_target_seven_jet_1 = delta_R_result[chi2_n_match_1_seven_jet]\n",
    "\n",
    "chi2_n_match_2_eight_jet = np.intersect1d(chi2_n_match_2_idx, chi2_eight_jet)\n",
    "chi2_n_match_1_eight_jet = np.intersect1d(chi2_n_match_1_idx, chi2_eight_jet)\n",
    "\n",
    "chi2_predict_eight_jet = chi2_result[chi2_eight_jet]\n",
    "chi2_predict_eight_jet_2 = chi2_result[chi2_n_match_2_eight_jet]\n",
    "chi2_predict_eight_jet_1 = chi2_result[chi2_n_match_1_eight_jet]\n",
    "\n",
    "chi2_target_eight_jet = delta_R_result[chi2_eight_jet]\n",
    "chi2_target_eight_jet_2 = delta_R_result[chi2_n_match_2_eight_jet]\n",
    "chi2_target_eight_jet_1 = delta_R_result[chi2_n_match_1_eight_jet]"
   ]
  },
  {
   "cell_type": "code",
   "execution_count": 14,
   "metadata": {},
   "outputs": [
    {
     "name": "stderr",
     "output_type": "stream",
     "text": [
      "100%|██████████| 359555/359555 [00:07<00:00, 48862.06it/s]\n",
      "100%|██████████| 204539/204539 [00:04<00:00, 47206.70it/s]\n",
      "100%|██████████| 88359/88359 [00:01<00:00, 47729.45it/s]\n",
      "100%|██████████| 359619/359619 [00:07<00:00, 49506.08it/s]\n",
      "100%|██████████| 204577/204577 [00:04<00:00, 48358.39it/s]\n",
      "100%|██████████| 88373/88373 [00:01<00:00, 46217.49it/s]\n"
     ]
    }
   ],
   "source": [
    "NN_case_six_jet, NN_correct_right_six_jet, NN_correct_left_six_jet = compute(NN_predict_six_jet, NN_target_six_jet)\n",
    "NN_case_1_six_jet, NN_correct_right_1_six_jet, NN_correct_left_1_six_jet = compute(NN_predict_six_jet_1, NN_target_six_jet_1)\n",
    "NN_cas_2_six_jet, NN_correct_right_2_six_jet, NN_correct_left_2_six_jet = compute(NN_predict_six_jet_2, NN_target_six_jet_2)\n",
    "\n",
    "chi2_case_six_jet, chi2_correct_right_six_jet, chi2_correct_left_six_jet = compute(chi2_predict_six_jet, chi2_target_six_jet)\n",
    "chi2_case_1_six_jet, chi2_correct_right_1_six_jet, chi2_correct_left_1_six_jet = compute(chi2_predict_six_jet_1, chi2_target_six_jet_1)\n",
    "chi2_cas_2_six_jet, chi2_correct_right_2_six_jet, chi2_correct_left_2_six_jet = compute(chi2_predict_six_jet_2, chi2_target_six_jet_2)"
   ]
  },
  {
   "cell_type": "code",
   "execution_count": 15,
   "metadata": {},
   "outputs": [
    {
     "name": "stdout",
     "output_type": "stream",
     "text": [
      "No filterd event purity and top purity.\n",
      "Event putiry (no filter, NN)               : 0.930\n",
      "Two top putiry (both matched, NN)          : 0.948\n",
      "Single top putiry (partial matched, NN)    : 0.539\n",
      "--------------------------------------------------------------------------------\n",
      "Event putiry (no filter, chi2)             : 0.638\n",
      "Two top putiry (both matched, chi2)        : 0.668\n",
      "Single top putiry (partial matched, chi2)  : 0.330\n"
     ]
    }
   ],
   "source": [
    "print(f'No filterd event purity and top purity.')\n",
    "\n",
    "NN_event_purity_six_jet = np.sum(NN_case_six_jet==1)/( np.sum(NN_case_six_jet==1) + np.sum(NN_case_six_jet==2) + np.sum(NN_case_six_jet==3))\n",
    "NN_two_top_purity_six_jet = ( np.sum(NN_correct_right_2_six_jet ==1) + np.sum(NN_correct_left_2_six_jet==1)  )/( np.sum(NN_correct_right_2_six_jet ==1) + np.sum(NN_correct_left_2_six_jet==1) + np.sum(NN_correct_right_2_six_jet ==0) + np.sum(NN_correct_left_2_six_jet==0) )\n",
    "NN_single_top_purity_six_jet = ( np.sum(NN_correct_right_1_six_jet == 1) + np.sum(NN_correct_left_1_six_jet == 1)  )/(  len(NN_correct_right_1_six_jet) )\n",
    "\n",
    "print(f'Event putiry (no filter, NN)               : {NN_event_purity_six_jet:.3f}')\n",
    "print(f'Two top putiry (both matched, NN)          : {NN_two_top_purity_six_jet:.3f}')\n",
    "print(f'Single top putiry (partial matched, NN)    : {NN_single_top_purity_six_jet:.3f}')\n",
    "\n",
    "print(\"-\"*80)\n",
    "\n",
    "chi2_event_purity_six_jet = np.sum(chi2_case_six_jet==1)/( np.sum(chi2_case_six_jet==1) + np.sum(chi2_case_six_jet==2) + np.sum(chi2_case_six_jet==3))\n",
    "chi2_two_top_purity_six_jet = ( np.sum(chi2_correct_right_2_six_jet ==1) + np.sum(chi2_correct_left_2_six_jet==1)  )/( np.sum(chi2_correct_right_2_six_jet ==1) + np.sum(chi2_correct_left_2_six_jet==1) + np.sum(chi2_correct_right_2_six_jet ==0) + np.sum(chi2_correct_left_2_six_jet==0) )\n",
    "chi2_single_top_purity_six_jet = ( np.sum(chi2_correct_right_1_six_jet==1) + np.sum(chi2_correct_left_1_six_jet==1)  )/( len(chi2_correct_right_1_six_jet ) )\n",
    "print(f'Event putiry (no filter, chi2)             : {chi2_event_purity_six_jet:.3f}')\n",
    "print(f'Two top putiry (both matched, chi2)        : {chi2_two_top_purity_six_jet:.3f}')\n",
    "print(f'Single top putiry (partial matched, chi2)  : {chi2_single_top_purity_six_jet:.3f}')"
   ]
  },
  {
   "cell_type": "code",
   "execution_count": 16,
   "metadata": {},
   "outputs": [
    {
     "name": "stderr",
     "output_type": "stream",
     "text": [
      "100%|██████████| 395797/395797 [00:08<00:00, 49187.77it/s]\n",
      "100%|██████████| 208848/208848 [00:04<00:00, 47848.66it/s]\n",
      "100%|██████████| 126902/126902 [00:02<00:00, 48011.10it/s]\n",
      "100%|██████████| 395858/395858 [00:08<00:00, 49017.47it/s]\n",
      "100%|██████████| 208878/208878 [00:04<00:00, 47990.64it/s]\n",
      "100%|██████████| 126920/126920 [00:02<00:00, 45624.02it/s]\n"
     ]
    }
   ],
   "source": [
    "NN_case_seven_jet, NN_correct_right_seven_jet, NN_correct_left_seven_jet = compute(NN_predict_seven_jet, NN_target_seven_jet)\n",
    "NN_case_1_seven_jet, NN_correct_right_1_seven_jet, NN_correct_left_1_seven_jet = compute(NN_predict_seven_jet_1, NN_target_seven_jet_1)\n",
    "NN_cas_2_seven_jet, NN_correct_right_2_seven_jet, NN_correct_left_2_seven_jet = compute(NN_predict_seven_jet_2, NN_target_seven_jet_2)\n",
    "\n",
    "chi2_case_seven_jet, chi2_correct_right_seven_jet, chi2_correct_left_seven_jet = compute(chi2_predict_seven_jet, chi2_target_seven_jet)\n",
    "chi2_case_1_seven_jet, chi2_correct_right_1_seven_jet, chi2_correct_left_1_seven_jet = compute(chi2_predict_seven_jet_1, chi2_target_seven_jet_1)\n",
    "chi2_cas_2_seven_jet, chi2_correct_right_2_seven_jet, chi2_correct_left_2_seven_jet = compute(chi2_predict_seven_jet_2, chi2_target_seven_jet_2)"
   ]
  },
  {
   "cell_type": "code",
   "execution_count": 17,
   "metadata": {},
   "outputs": [
    {
     "name": "stdout",
     "output_type": "stream",
     "text": [
      "No filterd event purity and top purity.\n",
      "Event putiry (no filter, NN)               : 0.878\n",
      "Two top putiry (both matched, NN)          : 0.916\n",
      "Single top putiry (partial matched, NN)    : 0.504\n",
      "--------------------------------------------------------------------------------\n",
      "Event putiry (no filter, chi2)             : 0.432\n",
      "Two top putiry (both matched, chi2)        : 0.526\n",
      "Single top putiry (partial matched, chi2)  : 0.324\n"
     ]
    }
   ],
   "source": [
    "print(f'No filterd event purity and top purity.')\n",
    "\n",
    "NN_event_purity_seven_jet = np.sum(NN_case_seven_jet==1)/( np.sum(NN_case_seven_jet==1) + np.sum(NN_case_seven_jet==2) + np.sum(NN_case_seven_jet==3))\n",
    "NN_two_top_purity_seven_jet = ( np.sum(NN_correct_right_2_seven_jet ==1) + np.sum(NN_correct_left_2_seven_jet==1)  )/( np.sum(NN_correct_right_2_seven_jet ==1) + np.sum(NN_correct_left_2_seven_jet==1) + np.sum(NN_correct_right_2_seven_jet ==0) + np.sum(NN_correct_left_2_seven_jet==0) )\n",
    "NN_single_top_purity_seven_jet = ( np.sum(NN_correct_right_1_seven_jet == 1) + np.sum(NN_correct_left_1_seven_jet == 1)  )/(  len(NN_correct_right_1_seven_jet) )\n",
    "\n",
    "print(f'Event putiry (no filter, NN)               : {NN_event_purity_seven_jet:.3f}')\n",
    "print(f'Two top putiry (both matched, NN)          : {NN_two_top_purity_seven_jet:.3f}')\n",
    "print(f'Single top putiry (partial matched, NN)    : {NN_single_top_purity_seven_jet:.3f}')\n",
    "\n",
    "print(\"-\"*80)\n",
    "\n",
    "chi2_event_purity_seven_jet = np.sum(chi2_case_seven_jet==1)/( np.sum(chi2_case_seven_jet==1) + np.sum(chi2_case_seven_jet==2) + np.sum(chi2_case_seven_jet==3))\n",
    "chi2_two_top_purity_seven_jet = ( np.sum(chi2_correct_right_2_seven_jet ==1) + np.sum(chi2_correct_left_2_seven_jet==1)  )/( np.sum(chi2_correct_right_2_seven_jet ==1) + np.sum(chi2_correct_left_2_seven_jet==1) + np.sum(chi2_correct_right_2_seven_jet ==0) + np.sum(chi2_correct_left_2_seven_jet==0) )\n",
    "chi2_single_top_purity_seven_jet = ( np.sum(chi2_correct_right_1_seven_jet==1) + np.sum(chi2_correct_left_1_seven_jet==1)  )/( len(chi2_correct_right_1_seven_jet ) )\n",
    "print(f'Event putiry (no filter, chi2)             : {chi2_event_purity_seven_jet:.3f}')\n",
    "print(f'Two top putiry (both matched, chi2)        : {chi2_two_top_purity_seven_jet:.3f}')\n",
    "print(f'Single top putiry (partial matched, chi2)  : {chi2_single_top_purity_seven_jet:.3f}')"
   ]
  },
  {
   "cell_type": "code",
   "execution_count": 18,
   "metadata": {},
   "outputs": [
    {
     "name": "stderr",
     "output_type": "stream",
     "text": [
      "100%|██████████| 428904/428904 [00:08<00:00, 48244.94it/s]\n",
      "100%|██████████| 206329/206329 [00:04<00:00, 47515.68it/s]\n",
      "100%|██████████| 171710/171710 [00:03<00:00, 47399.81it/s]\n",
      "100%|██████████| 428971/428971 [00:08<00:00, 47698.13it/s]\n",
      "100%|██████████| 206363/206363 [00:04<00:00, 47422.48it/s]\n",
      "100%|██████████| 171738/171738 [00:03<00:00, 44759.78it/s]\n"
     ]
    }
   ],
   "source": [
    "NN_case_eight_jet, NN_correct_right_eight_jet, NN_correct_left_eight_jet = compute(NN_predict_eight_jet, NN_target_eight_jet)\n",
    "NN_case_1_eight_jet, NN_correct_right_1_eight_jet, NN_correct_left_1_eight_jet = compute(NN_predict_eight_jet_1, NN_target_eight_jet_1)\n",
    "NN_cas_2_eight_jet, NN_correct_right_2_eight_jet, NN_correct_left_2_eight_jet = compute(NN_predict_eight_jet_2, NN_target_eight_jet_2)\n",
    "\n",
    "chi2_case_eight_jet, chi2_correct_right_eight_jet, chi2_correct_left_eight_jet = compute(chi2_predict_eight_jet, chi2_target_eight_jet)\n",
    "chi2_case_1_eight_jet, chi2_correct_right_1_eight_jet, chi2_correct_left_1_eight_jet = compute(chi2_predict_eight_jet_1, chi2_target_eight_jet_1)\n",
    "chi2_cas_2_eight_jet, chi2_correct_right_2_eight_jet, chi2_correct_left_2_eight_jet = compute(chi2_predict_eight_jet_2, chi2_target_eight_jet_2)"
   ]
  },
  {
   "cell_type": "code",
   "execution_count": 21,
   "metadata": {},
   "outputs": [
    {
     "name": "stdout",
     "output_type": "stream",
     "text": [
      "No filterd event purity and top purity.\n",
      "Event putiry (no filter, NN)               : 0.826\n",
      "Two top putiry (both matched, NN)          : 0.883\n",
      "Single top putiry (partial matched, NN)    : 0.450\n",
      "--------------------------------------------------------------------------------\n",
      "Event putiry (no filter, chi2)             : 0.250\n",
      "Two top putiry (both matched, chi2)        : 0.375\n",
      "Single top putiry (partial matched, chi2)  : 0.264\n"
     ]
    }
   ],
   "source": [
    "print(f'No filterd event purity and top purity.')\n",
    "\n",
    "NN_event_purity_eight_jet = np.sum(NN_case_eight_jet==1)/( np.sum(NN_case_eight_jet==1) + np.sum(NN_case_eight_jet==2) + np.sum(NN_case_eight_jet==3))\n",
    "NN_two_top_purity_eight_jet = ( np.sum(NN_correct_right_2_eight_jet ==1) + np.sum(NN_correct_left_2_eight_jet==1)  )/( np.sum(NN_correct_right_2_eight_jet ==1) + np.sum(NN_correct_left_2_eight_jet==1) + np.sum(NN_correct_right_2_eight_jet ==0) + np.sum(NN_correct_left_2_eight_jet==0) )\n",
    "NN_single_top_purity_eight_jet = ( np.sum(NN_correct_right_1_eight_jet == 1) + np.sum(NN_correct_left_1_eight_jet == 1)  )/(  len(NN_correct_right_1_eight_jet) )\n",
    "\n",
    "print(f'Event putiry (no filter, NN)               : {NN_event_purity_eight_jet:.3f}')\n",
    "print(f'Two top putiry (both matched, NN)          : {NN_two_top_purity_eight_jet:.3f}')\n",
    "print(f'Single top putiry (partial matched, NN)    : {NN_single_top_purity_eight_jet:.3f}')\n",
    "\n",
    "print(\"-\"*80)\n",
    "\n",
    "chi2_event_purity_eight_jet = np.sum(chi2_case_eight_jet==1)/( np.sum(chi2_case_eight_jet==1) + np.sum(chi2_case_eight_jet==2) + np.sum(chi2_case_eight_jet==3))\n",
    "chi2_two_top_purity_eight_jet = ( np.sum(chi2_correct_right_2_eight_jet ==1) + np.sum(chi2_correct_left_2_eight_jet==1)  )/( np.sum(chi2_correct_right_2_eight_jet ==1) + np.sum(chi2_correct_left_2_eight_jet==1) + np.sum(chi2_correct_right_2_eight_jet ==0) + np.sum(chi2_correct_left_2_eight_jet==0) )\n",
    "chi2_single_top_purity_eight_jet = ( np.sum(chi2_correct_right_1_eight_jet==1) + np.sum(chi2_correct_left_1_eight_jet==1)  )/( len(chi2_correct_right_1_eight_jet ) )\n",
    "print(f'Event putiry (no filter, chi2)             : {chi2_event_purity_eight_jet:.3f}')\n",
    "print(f'Two top putiry (both matched, chi2)        : {chi2_two_top_purity_eight_jet:.3f}')\n",
    "print(f'Single top putiry (partial matched, chi2)  : {chi2_single_top_purity_eight_jet:.3f}')"
   ]
  },
  {
   "cell_type": "code",
   "execution_count": null,
   "metadata": {},
   "outputs": [],
   "source": []
  }
 ],
 "metadata": {
  "kernelspec": {
   "display_name": "Python 3",
   "language": "python",
   "name": "python3"
  },
  "language_info": {
   "codemirror_mode": {
    "name": "ipython",
    "version": 3
   },
   "file_extension": ".py",
   "mimetype": "text/x-python",
   "name": "python",
   "nbconvert_exporter": "python",
   "pygments_lexer": "ipython3",
   "version": "3.6.8"
  }
 },
 "nbformat": 4,
 "nbformat_minor": 4
}
