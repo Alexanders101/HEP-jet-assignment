{
 "cells": [
  {
   "source": [
    "## This is a demo of `how to read the hdf5 file` and describe the data structure of our file. \n",
    "---"
   ],
   "cell_type": "markdown",
   "metadata": {}
  },
  {
   "source": [
    "### Import Package\n",
    "Import `h5py` to read hdf5 in python."
   ],
   "cell_type": "markdown",
   "metadata": {}
  },
  {
   "cell_type": "code",
   "execution_count": 1,
   "metadata": {},
   "outputs": [],
   "source": [
    "import h5py "
   ]
  },
  {
   "source": [
    "### Input data by `h5py`\n",
    "Using `h5py` package can help you to parse the hdf5 file."
   ],
   "cell_type": "markdown",
   "metadata": {}
  },
  {
   "cell_type": "code",
   "execution_count": 2,
   "metadata": {},
   "outputs": [],
   "source": [
    "f = h5py.File('event_record_pptt_10k.h5','r') "
   ]
  },
  {
   "source": [
    "### Dig into data structure\n",
    "To see how many groups defined in the hdf5 file, you can use the following script."
   ],
   "cell_type": "markdown",
   "metadata": {}
  },
  {
   "cell_type": "code",
   "execution_count": 3,
   "metadata": {},
   "outputs": [
    {
     "output_type": "execute_result",
     "data": {
      "text/plain": "<KeysViewHDF5 ['jet_barcode', 'jet_btag', 'jet_eta', 'jet_mass', 'jet_parton_index', 'jet_phi', 'jet_pt', 'parton_barcode', 'parton_eta', 'parton_jet_index', 'parton_mass', 'parton_pdgid', 'parton_phi', 'parton_pt']>"
     },
     "metadata": {},
     "execution_count": 3
    }
   ],
   "source": [
    "f.keys()"
   ]
  },
  {
   "source": [
    "The output upon shows that we have 14 groups of data, contains the properties of `jet` and `parton`.\n",
    "We can input the data by the following method."
   ],
   "cell_type": "markdown",
   "metadata": {}
  },
  {
   "cell_type": "code",
   "execution_count": 4,
   "metadata": {
    "tags": [
     "outputPrepend",
     "outputPrepend",
     "outputPrepend",
     "outputPrepend",
     "outputPrepend",
     "outputPrepend",
     "outputPrepend"
    ]
   },
   "outputs": [],
   "source": [
    "jet_pt = f['jet_pt']\n",
    "jet_phi = f['jet_phi']\n",
    "jet_eta = f['jet_eta']\n",
    "jet_barcode = f['jet_barcode']\n",
    "jet_mass = f['jet_mass']\n",
    "jet_btag = f['jet_btag']\n",
    "jet_parton_index = f['jet_parton_index']\n",
    "\n",
    "parton_pdgid = f['parton_pdgid']\n",
    "parton_pt = f['parton_pt']\n",
    "parton_eta = f['parton_eta']\n",
    "parton_phi = f['parton_phi']\n",
    "parton_mass = f['parton_mass']\n",
    "parton_barcode = f['parton_barcode']\n",
    "parton_jet_index = f['parton_jet_index']\n"
   ]
  },
  {
   "cell_type": "code",
   "execution_count": 5,
   "metadata": {},
   "outputs": [
    {
     "output_type": "execute_result",
     "data": {
      "text/plain": "6"
     },
     "metadata": {},
     "execution_count": 5
    }
   ],
   "source": [
    "len(jet_pt[0])"
   ]
  },
  {
   "cell_type": "code",
   "execution_count": 6,
   "metadata": {},
   "outputs": [
    {
     "output_type": "stream",
     "name": "stdout",
     "text": "The length of pt: 6, eta: 6, phi: 6, mass: 6, barcode: 6, btag: 6, parton_index: 6\nThe length of pt: 7, eta: 7, phi: 7, mass: 7, barcode: 7, btag: 7, parton_index: 7\nThe length of pt: 6, eta: 6, phi: 6, mass: 6, barcode: 6, btag: 6, parton_index: 6\nThe length of pt: 6, eta: 6, phi: 6, mass: 6, barcode: 6, btag: 6, parton_index: 6\nThe length of pt: 6, eta: 6, phi: 6, mass: 6, barcode: 6, btag: 6, parton_index: 6\nThe length of pt: 6, eta: 6, phi: 6, mass: 6, barcode: 6, btag: 6, parton_index: 6\nThe length of pt: 6, eta: 6, phi: 6, mass: 6, barcode: 6, btag: 6, parton_index: 6\nThe length of pt: 7, eta: 7, phi: 7, mass: 7, barcode: 7, btag: 7, parton_index: 7\nThe length of pt: 6, eta: 6, phi: 6, mass: 6, barcode: 6, btag: 6, parton_index: 6\nThe length of pt: 6, eta: 6, phi: 6, mass: 6, barcode: 6, btag: 6, parton_index: 6\nThe length of pt: 6, eta: 6, phi: 6, mass: 6, barcode: 6, btag: 6, parton_index: 6\nThe length of pt: 6, eta: 6, phi: 6, mass: 6, barcode: 6, btag: 6, parton_index: 6\nThe length of pt: 6, eta: 6, phi: 6, mass: 6, barcode: 6, btag: 6, parton_index: 6\nThe length of pt: 6, eta: 6, phi: 6, mass: 6, barcode: 6, btag: 6, parton_index: 6\nThe length of pt: 6, eta: 6, phi: 6, mass: 6, barcode: 6, btag: 6, parton_index: 6\nThe length of pt: 8, eta: 8, phi: 8, mass: 8, barcode: 8, btag: 8, parton_index: 8\nThe length of pt: 6, eta: 6, phi: 6, mass: 6, barcode: 6, btag: 6, parton_index: 6\nThe length of pt: 7, eta: 7, phi: 7, mass: 7, barcode: 7, btag: 7, parton_index: 7\nThe length of pt: 6, eta: 6, phi: 6, mass: 6, barcode: 6, btag: 6, parton_index: 6\nThe length of pt: 6, eta: 6, phi: 6, mass: 6, barcode: 6, btag: 6, parton_index: 6\nThe length of pt: 6, eta: 6, phi: 6, mass: 6, barcode: 6, btag: 6, parton_index: 6\nThe length of pt: 6, eta: 6, phi: 6, mass: 6, barcode: 6, btag: 6, parton_index: 6\nThe length of pt: 6, eta: 6, phi: 6, mass: 6, barcode: 6, btag: 6, parton_index: 6\nThe length of pt: 8, eta: 8, phi: 8, mass: 8, barcode: 8, btag: 8, parton_index: 8\nThe length of pt: 7, eta: 7, phi: 7, mass: 7, barcode: 7, btag: 7, parton_index: 7\nThe length of pt: 7, eta: 7, phi: 7, mass: 7, barcode: 7, btag: 7, parton_index: 7\nThe length of pt: 7, eta: 7, phi: 7, mass: 7, barcode: 7, btag: 7, parton_index: 7\nThe length of pt: 6, eta: 6, phi: 6, mass: 6, barcode: 6, btag: 6, parton_index: 6\nThe length of pt: 6, eta: 6, phi: 6, mass: 6, barcode: 6, btag: 6, parton_index: 6\nThe length of pt: 6, eta: 6, phi: 6, mass: 6, barcode: 6, btag: 6, parton_index: 6\nThe length of pt: 6, eta: 6, phi: 6, mass: 6, barcode: 6, btag: 6, parton_index: 6\nThe length of pt: 8, eta: 8, phi: 8, mass: 8, barcode: 8, btag: 8, parton_index: 8\nThe length of pt: 8, eta: 8, phi: 8, mass: 8, barcode: 8, btag: 8, parton_index: 8\nThe length of pt: 6, eta: 6, phi: 6, mass: 6, barcode: 6, btag: 6, parton_index: 6\nThe length of pt: 7, eta: 7, phi: 7, mass: 7, barcode: 7, btag: 7, parton_index: 7\nThe length of pt: 7, eta: 7, phi: 7, mass: 7, barcode: 7, btag: 7, parton_index: 7\nThe length of pt: 7, eta: 7, phi: 7, mass: 7, barcode: 7, btag: 7, parton_index: 7\nThe length of pt: 6, eta: 6, phi: 6, mass: 6, barcode: 6, btag: 6, parton_index: 6\nThe length of pt: 7, eta: 7, phi: 7, mass: 7, barcode: 7, btag: 7, parton_index: 7\nThe length of pt: 6, eta: 6, phi: 6, mass: 6, barcode: 6, btag: 6, parton_index: 6\nThe length of pt: 6, eta: 6, phi: 6, mass: 6, barcode: 6, btag: 6, parton_index: 6\nThe length of pt: 6, eta: 6, phi: 6, mass: 6, barcode: 6, btag: 6, parton_index: 6\nThe length of pt: 6, eta: 6, phi: 6, mass: 6, barcode: 6, btag: 6, parton_index: 6\nThe length of pt: 6, eta: 6, phi: 6, mass: 6, barcode: 6, btag: 6, parton_index: 6\nThe length of pt: 9, eta: 9, phi: 9, mass: 9, barcode: 9, btag: 9, parton_index: 9\nThe length of pt: 6, eta: 6, phi: 6, mass: 6, barcode: 6, btag: 6, parton_index: 6\nThe length of pt: 6, eta: 6, phi: 6, mass: 6, barcode: 6, btag: 6, parton_index: 6\nThe length of pt: 6, eta: 6, phi: 6, mass: 6, barcode: 6, btag: 6, parton_index: 6\nThe length of pt: 6, eta: 6, phi: 6, mass: 6, barcode: 6, btag: 6, parton_index: 6\nThe length of pt: 6, eta: 6, phi: 6, mass: 6, barcode: 6, btag: 6, parton_index: 6\nThe length of pt: 6, eta: 6, phi: 6, mass: 6, barcode: 6, btag: 6, parton_index: 6\nThe length of pt: 6, eta: 6, phi: 6, mass: 6, barcode: 6, btag: 6, parton_index: 6\nThe length of pt: 6, eta: 6, phi: 6, mass: 6, barcode: 6, btag: 6, parton_index: 6\nThe length of pt: 6, eta: 6, phi: 6, mass: 6, barcode: 6, btag: 6, parton_index: 6\nThe length of pt: 6, eta: 6, phi: 6, mass: 6, barcode: 6, btag: 6, parton_index: 6\nThe length of pt: 6, eta: 6, phi: 6, mass: 6, barcode: 6, btag: 6, parton_index: 6\nThe length of pt: 6, eta: 6, phi: 6, mass: 6, barcode: 6, btag: 6, parton_index: 6\nThe length of pt: 7, eta: 7, phi: 7, mass: 7, barcode: 7, btag: 7, parton_index: 7\nThe length of pt: 7, eta: 7, phi: 7, mass: 7, barcode: 7, btag: 7, parton_index: 7\nThe length of pt: 7, eta: 7, phi: 7, mass: 7, barcode: 7, btag: 7, parton_index: 7\nThe length of pt: 6, eta: 6, phi: 6, mass: 6, barcode: 6, btag: 6, parton_index: 6\nThe length of pt: 6, eta: 6, phi: 6, mass: 6, barcode: 6, btag: 6, parton_index: 6\nThe length of pt: 6, eta: 6, phi: 6, mass: 6, barcode: 6, btag: 6, parton_index: 6\nThe length of pt: 6, eta: 6, phi: 6, mass: 6, barcode: 6, btag: 6, parton_index: 6\nThe length of pt: 7, eta: 7, phi: 7, mass: 7, barcode: 7, btag: 7, parton_index: 7\nThe length of pt: 6, eta: 6, phi: 6, mass: 6, barcode: 6, btag: 6, parton_index: 6\nThe length of pt: 6, eta: 6, phi: 6, mass: 6, barcode: 6, btag: 6, parton_index: 6\nThe length of pt: 6, eta: 6, phi: 6, mass: 6, barcode: 6, btag: 6, parton_index: 6\nThe length of pt: 6, eta: 6, phi: 6, mass: 6, barcode: 6, btag: 6, parton_index: 6\nThe length of pt: 7, eta: 7, phi: 7, mass: 7, barcode: 7, btag: 7, parton_index: 7\nThe length of pt: 6, eta: 6, phi: 6, mass: 6, barcode: 6, btag: 6, parton_index: 6\nThe length of pt: 7, eta: 7, phi: 7, mass: 7, barcode: 7, btag: 7, parton_index: 7\nThe length of pt: 6, eta: 6, phi: 6, mass: 6, barcode: 6, btag: 6, parton_index: 6\nThe length of pt: 7, eta: 7, phi: 7, mass: 7, barcode: 7, btag: 7, parton_index: 7\nThe length of pt: 6, eta: 6, phi: 6, mass: 6, barcode: 6, btag: 6, parton_index: 6\nThe length of pt: 6, eta: 6, phi: 6, mass: 6, barcode: 6, btag: 6, parton_index: 6\nThe length of pt: 6, eta: 6, phi: 6, mass: 6, barcode: 6, btag: 6, parton_index: 6\nThe length of pt: 6, eta: 6, phi: 6, mass: 6, barcode: 6, btag: 6, parton_index: 6\nThe length of pt: 6, eta: 6, phi: 6, mass: 6, barcode: 6, btag: 6, parton_index: 6\nThe length of pt: 6, eta: 6, phi: 6, mass: 6, barcode: 6, btag: 6, parton_index: 6\nThe length of pt: 8, eta: 8, phi: 8, mass: 8, barcode: 8, btag: 8, parton_index: 8\nThe length of pt: 6, eta: 6, phi: 6, mass: 6, barcode: 6, btag: 6, parton_index: 6\nThe length of pt: 6, eta: 6, phi: 6, mass: 6, barcode: 6, btag: 6, parton_index: 6\nThe length of pt: 7, eta: 7, phi: 7, mass: 7, barcode: 7, btag: 7, parton_index: 7\nThe length of pt: 6, eta: 6, phi: 6, mass: 6, barcode: 6, btag: 6, parton_index: 6\nThe length of pt: 7, eta: 7, phi: 7, mass: 7, barcode: 7, btag: 7, parton_index: 7\nThe length of pt: 7, eta: 7, phi: 7, mass: 7, barcode: 7, btag: 7, parton_index: 7\nThe length of pt: 6, eta: 6, phi: 6, mass: 6, barcode: 6, btag: 6, parton_index: 6\nThe length of pt: 6, eta: 6, phi: 6, mass: 6, barcode: 6, btag: 6, parton_index: 6\nThe length of pt: 7, eta: 7, phi: 7, mass: 7, barcode: 7, btag: 7, parton_index: 7\nThe length of pt: 7, eta: 7, phi: 7, mass: 7, barcode: 7, btag: 7, parton_index: 7\nThe length of pt: 6, eta: 6, phi: 6, mass: 6, barcode: 6, btag: 6, parton_index: 6\nThe length of pt: 7, eta: 7, phi: 7, mass: 7, barcode: 7, btag: 7, parton_index: 7\nThe length of pt: 6, eta: 6, phi: 6, mass: 6, barcode: 6, btag: 6, parton_index: 6\nThe length of pt: 7, eta: 7, phi: 7, mass: 7, barcode: 7, btag: 7, parton_index: 7\nThe length of pt: 6, eta: 6, phi: 6, mass: 6, barcode: 6, btag: 6, parton_index: 6\nThe length of pt: 6, eta: 6, phi: 6, mass: 6, barcode: 6, btag: 6, parton_index: 6\nThe length of pt: 6, eta: 6, phi: 6, mass: 6, barcode: 6, btag: 6, parton_index: 6\nThe length of pt: 7, eta: 7, phi: 7, mass: 7, barcode: 7, btag: 7, parton_index: 7\nThe length of pt: 6, eta: 6, phi: 6, mass: 6, barcode: 6, btag: 6, parton_index: 6\nThe length of pt: 7, eta: 7, phi: 7, mass: 7, barcode: 7, btag: 7, parton_index: 7\nThe length of pt: 6, eta: 6, phi: 6, mass: 6, barcode: 6, btag: 6, parton_index: 6\nThe length of pt: 6, eta: 6, phi: 6, mass: 6, barcode: 6, btag: 6, parton_index: 6\nThe length of pt: 7, eta: 7, phi: 7, mass: 7, barcode: 7, btag: 7, parton_index: 7\nThe length of pt: 6, eta: 6, phi: 6, mass: 6, barcode: 6, btag: 6, parton_index: 6\nThe length of pt: 6, eta: 6, phi: 6, mass: 6, barcode: 6, btag: 6, parton_index: 6\nThe length of pt: 7, eta: 7, phi: 7, mass: 7, barcode: 7, btag: 7, parton_index: 7\nThe length of pt: 6, eta: 6, phi: 6, mass: 6, barcode: 6, btag: 6, parton_index: 6\nThe length of pt: 7, eta: 7, phi: 7, mass: 7, barcode: 7, btag: 7, parton_index: 7\nThe length of pt: 7, eta: 7, phi: 7, mass: 7, barcode: 7, btag: 7, parton_index: 7\nThe length of pt: 8, eta: 8, phi: 8, mass: 8, barcode: 8, btag: 8, parton_index: 8\nThe length of pt: 9, eta: 9, phi: 9, mass: 9, barcode: 9, btag: 9, parton_index: 9\nThe length of pt: 8, eta: 8, phi: 8, mass: 8, barcode: 8, btag: 8, parton_index: 8\nThe length of pt: 6, eta: 6, phi: 6, mass: 6, barcode: 6, btag: 6, parton_index: 6\nThe length of pt: 6, eta: 6, phi: 6, mass: 6, barcode: 6, btag: 6, parton_index: 6\nThe length of pt: 6, eta: 6, phi: 6, mass: 6, barcode: 6, btag: 6, parton_index: 6\nThe length of pt: 6, eta: 6, phi: 6, mass: 6, barcode: 6, btag: 6, parton_index: 6\nThe length of pt: 6, eta: 6, phi: 6, mass: 6, barcode: 6, btag: 6, parton_index: 6\nThe length of pt: 7, eta: 7, phi: 7, mass: 7, barcode: 7, btag: 7, parton_index: 7\nThe length of pt: 6, eta: 6, phi: 6, mass: 6, barcode: 6, btag: 6, parton_index: 6\nThe length of pt: 7, eta: 7, phi: 7, mass: 7, barcode: 7, btag: 7, parton_index: 7\nThe length of pt: 6, eta: 6, phi: 6, mass: 6, barcode: 6, btag: 6, parton_index: 6\nThe length of pt: 6, eta: 6, phi: 6, mass: 6, barcode: 6, btag: 6, parton_index: 6\nThe length of pt: 7, eta: 7, phi: 7, mass: 7, barcode: 7, btag: 7, parton_index: 7\nThe length of pt: 7, eta: 7, phi: 7, mass: 7, barcode: 7, btag: 7, parton_index: 7\nThe length of pt: 6, eta: 6, phi: 6, mass: 6, barcode: 6, btag: 6, parton_index: 6\nThe length of pt: 6, eta: 6, phi: 6, mass: 6, barcode: 6, btag: 6, parton_index: 6\nThe length of pt: 6, eta: 6, phi: 6, mass: 6, barcode: 6, btag: 6, parton_index: 6\nThe length of pt: 6, eta: 6, phi: 6, mass: 6, barcode: 6, btag: 6, parton_index: 6\nThe length of pt: 6, eta: 6, phi: 6, mass: 6, barcode: 6, btag: 6, parton_index: 6\nThe length of pt: 6, eta: 6, phi: 6, mass: 6, barcode: 6, btag: 6, parton_index: 6\nThe length of pt: 7, eta: 7, phi: 7, mass: 7, barcode: 7, btag: 7, parton_index: 7\nThe length of pt: 7, eta: 7, phi: 7, mass: 7, barcode: 7, btag: 7, parton_index: 7\nThe length of pt: 6, eta: 6, phi: 6, mass: 6, barcode: 6, btag: 6, parton_index: 6\nThe length of pt: 6, eta: 6, phi: 6, mass: 6, barcode: 6, btag: 6, parton_index: 6\nThe length of pt: 7, eta: 7, phi: 7, mass: 7, barcode: 7, btag: 7, parton_index: 7\nThe length of pt: 6, eta: 6, phi: 6, mass: 6, barcode: 6, btag: 6, parton_index: 6\nThe length of pt: 6, eta: 6, phi: 6, mass: 6, barcode: 6, btag: 6, parton_index: 6\nThe length of pt: 6, eta: 6, phi: 6, mass: 6, barcode: 6, btag: 6, parton_index: 6\nThe length of pt: 6, eta: 6, phi: 6, mass: 6, barcode: 6, btag: 6, parton_index: 6\nThe length of pt: 8, eta: 8, phi: 8, mass: 8, barcode: 8, btag: 8, parton_index: 8\nThe length of pt: 7, eta: 7, phi: 7, mass: 7, barcode: 7, btag: 7, parton_index: 7\nThe length of pt: 6, eta: 6, phi: 6, mass: 6, barcode: 6, btag: 6, parton_index: 6\nThe length of pt: 6, eta: 6, phi: 6, mass: 6, barcode: 6, btag: 6, parton_index: 6\nThe length of pt: 7, eta: 7, phi: 7, mass: 7, barcode: 7, btag: 7, parton_index: 7\nThe length of pt: 7, eta: 7, phi: 7, mass: 7, barcode: 7, btag: 7, parton_index: 7\nThe length of pt: 6, eta: 6, phi: 6, mass: 6, barcode: 6, btag: 6, parton_index: 6\nThe length of pt: 6, eta: 6, phi: 6, mass: 6, barcode: 6, btag: 6, parton_index: 6\nThe length of pt: 6, eta: 6, phi: 6, mass: 6, barcode: 6, btag: 6, parton_index: 6\nThe length of pt: 7, eta: 7, phi: 7, mass: 7, barcode: 7, btag: 7, parton_index: 7\nThe length of pt: 6, eta: 6, phi: 6, mass: 6, barcode: 6, btag: 6, parton_index: 6\nThe length of pt: 6, eta: 6, phi: 6, mass: 6, barcode: 6, btag: 6, parton_index: 6\nThe length of pt: 7, eta: 7, phi: 7, mass: 7, barcode: 7, btag: 7, parton_index: 7\nThe length of pt: 6, eta: 6, phi: 6, mass: 6, barcode: 6, btag: 6, parton_index: 6\nThe length of pt: 6, eta: 6, phi: 6, mass: 6, barcode: 6, btag: 6, parton_index: 6\nThe length of pt: 6, eta: 6, phi: 6, mass: 6, barcode: 6, btag: 6, parton_index: 6\nThe length of pt: 6, eta: 6, phi: 6, mass: 6, barcode: 6, btag: 6, parton_index: 6\nThe length of pt: 6, eta: 6, phi: 6, mass: 6, barcode: 6, btag: 6, parton_index: 6\nThe length of pt: 6, eta: 6, phi: 6, mass: 6, barcode: 6, btag: 6, parton_index: 6\nThe length of pt: 6, eta: 6, phi: 6, mass: 6, barcode: 6, btag: 6, parton_index: 6\nThe length of pt: 6, eta: 6, phi: 6, mass: 6, barcode: 6, btag: 6, parton_index: 6\nThe length of pt: 6, eta: 6, phi: 6, mass: 6, barcode: 6, btag: 6, parton_index: 6\nThe length of pt: 6, eta: 6, phi: 6, mass: 6, barcode: 6, btag: 6, parton_index: 6\nThe length of pt: 7, eta: 7, phi: 7, mass: 7, barcode: 7, btag: 7, parton_index: 7\nThe length of pt: 6, eta: 6, phi: 6, mass: 6, barcode: 6, btag: 6, parton_index: 6\nThe length of pt: 6, eta: 6, phi: 6, mass: 6, barcode: 6, btag: 6, parton_index: 6\nThe length of pt: 6, eta: 6, phi: 6, mass: 6, barcode: 6, btag: 6, parton_index: 6\nThe length of pt: 6, eta: 6, phi: 6, mass: 6, barcode: 6, btag: 6, parton_index: 6\nThe length of pt: 7, eta: 7, phi: 7, mass: 7, barcode: 7, btag: 7, parton_index: 7\nThe length of pt: 7, eta: 7, phi: 7, mass: 7, barcode: 7, btag: 7, parton_index: 7\nThe length of pt: 6, eta: 6, phi: 6, mass: 6, barcode: 6, btag: 6, parton_index: 6\nThe length of pt: 6, eta: 6, phi: 6, mass: 6, barcode: 6, btag: 6, parton_index: 6\nThe length of pt: 6, eta: 6, phi: 6, mass: 6, barcode: 6, btag: 6, parton_index: 6\nThe length of pt: 6, eta: 6, phi: 6, mass: 6, barcode: 6, btag: 6, parton_index: 6\nThe length of pt: 6, eta: 6, phi: 6, mass: 6, barcode: 6, btag: 6, parton_index: 6\nThe length of pt: 7, eta: 7, phi: 7, mass: 7, barcode: 7, btag: 7, parton_index: 7\nThe length of pt: 6, eta: 6, phi: 6, mass: 6, barcode: 6, btag: 6, parton_index: 6\nThe length of pt: 6, eta: 6, phi: 6, mass: 6, barcode: 6, btag: 6, parton_index: 6\nThe length of pt: 8, eta: 8, phi: 8, mass: 8, barcode: 8, btag: 8, parton_index: 8\nThe length of pt: 6, eta: 6, phi: 6, mass: 6, barcode: 6, btag: 6, parton_index: 6\nThe length of pt: 7, eta: 7, phi: 7, mass: 7, barcode: 7, btag: 7, parton_index: 7\nThe length of pt: 6, eta: 6, phi: 6, mass: 6, barcode: 6, btag: 6, parton_index: 6\nThe length of pt: 7, eta: 7, phi: 7, mass: 7, barcode: 7, btag: 7, parton_index: 7\nThe length of pt: 6, eta: 6, phi: 6, mass: 6, barcode: 6, btag: 6, parton_index: 6\nThe length of pt: 6, eta: 6, phi: 6, mass: 6, barcode: 6, btag: 6, parton_index: 6\nThe length of pt: 6, eta: 6, phi: 6, mass: 6, barcode: 6, btag: 6, parton_index: 6\nThe length of pt: 7, eta: 7, phi: 7, mass: 7, barcode: 7, btag: 7, parton_index: 7\nThe length of pt: 6, eta: 6, phi: 6, mass: 6, barcode: 6, btag: 6, parton_index: 6\nThe length of pt: 8, eta: 8, phi: 8, mass: 8, barcode: 8, btag: 8, parton_index: 8\nThe length of pt: 6, eta: 6, phi: 6, mass: 6, barcode: 6, btag: 6, parton_index: 6\nThe length of pt: 8, eta: 8, phi: 8, mass: 8, barcode: 8, btag: 8, parton_index: 8\nThe length of pt: 6, eta: 6, phi: 6, mass: 6, barcode: 6, btag: 6, parton_index: 6\nThe length of pt: 6, eta: 6, phi: 6, mass: 6, barcode: 6, btag: 6, parton_index: 6\nThe length of pt: 6, eta: 6, phi: 6, mass: 6, barcode: 6, btag: 6, parton_index: 6\nThe length of pt: 6, eta: 6, phi: 6, mass: 6, barcode: 6, btag: 6, parton_index: 6\nThe length of pt: 8, eta: 8, phi: 8, mass: 8, barcode: 8, btag: 8, parton_index: 8\nThe length of pt: 6, eta: 6, phi: 6, mass: 6, barcode: 6, btag: 6, parton_index: 6\nThe length of pt: 6, eta: 6, phi: 6, mass: 6, barcode: 6, btag: 6, parton_index: 6\nThe length of pt: 7, eta: 7, phi: 7, mass: 7, barcode: 7, btag: 7, parton_index: 7\nThe length of pt: 6, eta: 6, phi: 6, mass: 6, barcode: 6, btag: 6, parton_index: 6\nThe length of pt: 7, eta: 7, phi: 7, mass: 7, barcode: 7, btag: 7, parton_index: 7\nThe length of pt: 6, eta: 6, phi: 6, mass: 6, barcode: 6, btag: 6, parton_index: 6\nThe length of pt: 6, eta: 6, phi: 6, mass: 6, barcode: 6, btag: 6, parton_index: 6\nThe length of pt: 6, eta: 6, phi: 6, mass: 6, barcode: 6, btag: 6, parton_index: 6\nThe length of pt: 7, eta: 7, phi: 7, mass: 7, barcode: 7, btag: 7, parton_index: 7\nThe length of pt: 6, eta: 6, phi: 6, mass: 6, barcode: 6, btag: 6, parton_index: 6\nThe length of pt: 6, eta: 6, phi: 6, mass: 6, barcode: 6, btag: 6, parton_index: 6\nThe length of pt: 8, eta: 8, phi: 8, mass: 8, barcode: 8, btag: 8, parton_index: 8\nThe length of pt: 6, eta: 6, phi: 6, mass: 6, barcode: 6, btag: 6, parton_index: 6\nThe length of pt: 10, eta: 10, phi: 10, mass: 10, barcode: 10, btag: 10, parton_index: 10\nThe length of pt: 6, eta: 6, phi: 6, mass: 6, barcode: 6, btag: 6, parton_index: 6\nThe length of pt: 7, eta: 7, phi: 7, mass: 7, barcode: 7, btag: 7, parton_index: 7\nThe length of pt: 6, eta: 6, phi: 6, mass: 6, barcode: 6, btag: 6, parton_index: 6\nThe length of pt: 6, eta: 6, phi: 6, mass: 6, barcode: 6, btag: 6, parton_index: 6\nThe length of pt: 7, eta: 7, phi: 7, mass: 7, barcode: 7, btag: 7, parton_index: 7\nThe length of pt: 7, eta: 7, phi: 7, mass: 7, barcode: 7, btag: 7, parton_index: 7\nThe length of pt: 8, eta: 8, phi: 8, mass: 8, barcode: 8, btag: 8, parton_index: 8\nThe length of pt: 6, eta: 6, phi: 6, mass: 6, barcode: 6, btag: 6, parton_index: 6\nThe length of pt: 7, eta: 7, phi: 7, mass: 7, barcode: 7, btag: 7, parton_index: 7\nThe length of pt: 6, eta: 6, phi: 6, mass: 6, barcode: 6, btag: 6, parton_index: 6\nThe length of pt: 6, eta: 6, phi: 6, mass: 6, barcode: 6, btag: 6, parton_index: 6\nThe length of pt: 6, eta: 6, phi: 6, mass: 6, barcode: 6, btag: 6, parton_index: 6\nThe length of pt: 6, eta: 6, phi: 6, mass: 6, barcode: 6, btag: 6, parton_index: 6\nThe length of pt: 9, eta: 9, phi: 9, mass: 9, barcode: 9, btag: 9, parton_index: 9\nThe length of pt: 6, eta: 6, phi: 6, mass: 6, barcode: 6, btag: 6, parton_index: 6\nThe length of pt: 7, eta: 7, phi: 7, mass: 7, barcode: 7, btag: 7, parton_index: 7\nThe length of pt: 6, eta: 6, phi: 6, mass: 6, barcode: 6, btag: 6, parton_index: 6\nThe length of pt: 7, eta: 7, phi: 7, mass: 7, barcode: 7, btag: 7, parton_index: 7\nThe length of pt: 6, eta: 6, phi: 6, mass: 6, barcode: 6, btag: 6, parton_index: 6\nThe length of pt: 7, eta: 7, phi: 7, mass: 7, barcode: 7, btag: 7, parton_index: 7\nThe length of pt: 6, eta: 6, phi: 6, mass: 6, barcode: 6, btag: 6, parton_index: 6\nThe length of pt: 7, eta: 7, phi: 7, mass: 7, barcode: 7, btag: 7, parton_index: 7\nThe length of pt: 6, eta: 6, phi: 6, mass: 6, barcode: 6, btag: 6, parton_index: 6\nThe length of pt: 6, eta: 6, phi: 6, mass: 6, barcode: 6, btag: 6, parton_index: 6\nThe length of pt: 6, eta: 6, phi: 6, mass: 6, barcode: 6, btag: 6, parton_index: 6\nThe length of pt: 7, eta: 7, phi: 7, mass: 7, barcode: 7, btag: 7, parton_index: 7\nThe length of pt: 6, eta: 6, phi: 6, mass: 6, barcode: 6, btag: 6, parton_index: 6\nThe length of pt: 7, eta: 7, phi: 7, mass: 7, barcode: 7, btag: 7, parton_index: 7\nThe length of pt: 8, eta: 8, phi: 8, mass: 8, barcode: 8, btag: 8, parton_index: 8\nThe length of pt: 7, eta: 7, phi: 7, mass: 7, barcode: 7, btag: 7, parton_index: 7\nThe length of pt: 7, eta: 7, phi: 7, mass: 7, barcode: 7, btag: 7, parton_index: 7\nThe length of pt: 7, eta: 7, phi: 7, mass: 7, barcode: 7, btag: 7, parton_index: 7\nThe length of pt: 6, eta: 6, phi: 6, mass: 6, barcode: 6, btag: 6, parton_index: 6\nThe length of pt: 7, eta: 7, phi: 7, mass: 7, barcode: 7, btag: 7, parton_index: 7\nThe length of pt: 7, eta: 7, phi: 7, mass: 7, barcode: 7, btag: 7, parton_index: 7\nThe length of pt: 7, eta: 7, phi: 7, mass: 7, barcode: 7, btag: 7, parton_index: 7\nThe length of pt: 6, eta: 6, phi: 6, mass: 6, barcode: 6, btag: 6, parton_index: 6\nThe length of pt: 7, eta: 7, phi: 7, mass: 7, barcode: 7, btag: 7, parton_index: 7\nThe length of pt: 6, eta: 6, phi: 6, mass: 6, barcode: 6, btag: 6, parton_index: 6\nThe length of pt: 7, eta: 7, phi: 7, mass: 7, barcode: 7, btag: 7, parton_index: 7\nThe length of pt: 6, eta: 6, phi: 6, mass: 6, barcode: 6, btag: 6, parton_index: 6\nThe length of pt: 7, eta: 7, phi: 7, mass: 7, barcode: 7, btag: 7, parton_index: 7\nThe length of pt: 7, eta: 7, phi: 7, mass: 7, barcode: 7, btag: 7, parton_index: 7\nThe length of pt: 7, eta: 7, phi: 7, mass: 7, barcode: 7, btag: 7, parton_index: 7\nThe length of pt: 7, eta: 7, phi: 7, mass: 7, barcode: 7, btag: 7, parton_index: 7\nThe length of pt: 6, eta: 6, phi: 6, mass: 6, barcode: 6, btag: 6, parton_index: 6\nThe length of pt: 7, eta: 7, phi: 7, mass: 7, barcode: 7, btag: 7, parton_index: 7\nThe length of pt: 6, eta: 6, phi: 6, mass: 6, barcode: 6, btag: 6, parton_index: 6\nThe length of pt: 6, eta: 6, phi: 6, mass: 6, barcode: 6, btag: 6, parton_index: 6\nThe length of pt: 7, eta: 7, phi: 7, mass: 7, barcode: 7, btag: 7, parton_index: 7\nThe length of pt: 8, eta: 8, phi: 8, mass: 8, barcode: 8, btag: 8, parton_index: 8\nThe length of pt: 6, eta: 6, phi: 6, mass: 6, barcode: 6, btag: 6, parton_index: 6\nThe length of pt: 6, eta: 6, phi: 6, mass: 6, barcode: 6, btag: 6, parton_index: 6\nThe length of pt: 7, eta: 7, phi: 7, mass: 7, barcode: 7, btag: 7, parton_index: 7\nThe length of pt: 6, eta: 6, phi: 6, mass: 6, barcode: 6, btag: 6, parton_index: 6\nThe length of pt: 6, eta: 6, phi: 6, mass: 6, barcode: 6, btag: 6, parton_index: 6\nThe length of pt: 7, eta: 7, phi: 7, mass: 7, barcode: 7, btag: 7, parton_index: 7\nThe length of pt: 10, eta: 10, phi: 10, mass: 10, barcode: 10, btag: 10, parton_index: 10\nThe length of pt: 6, eta: 6, phi: 6, mass: 6, barcode: 6, btag: 6, parton_index: 6\nThe length of pt: 8, eta: 8, phi: 8, mass: 8, barcode: 8, btag: 8, parton_index: 8\nThe length of pt: 7, eta: 7, phi: 7, mass: 7, barcode: 7, btag: 7, parton_index: 7\nThe length of pt: 6, eta: 6, phi: 6, mass: 6, barcode: 6, btag: 6, parton_index: 6\nThe length of pt: 7, eta: 7, phi: 7, mass: 7, barcode: 7, btag: 7, parton_index: 7\nThe length of pt: 6, eta: 6, phi: 6, mass: 6, barcode: 6, btag: 6, parton_index: 6\nThe length of pt: 7, eta: 7, phi: 7, mass: 7, barcode: 7, btag: 7, parton_index: 7\nThe length of pt: 6, eta: 6, phi: 6, mass: 6, barcode: 6, btag: 6, parton_index: 6\nThe length of pt: 6, eta: 6, phi: 6, mass: 6, barcode: 6, btag: 6, parton_index: 6\nThe length of pt: 6, eta: 6, phi: 6, mass: 6, barcode: 6, btag: 6, parton_index: 6\nThe length of pt: 6, eta: 6, phi: 6, mass: 6, barcode: 6, btag: 6, parton_index: 6\nThe length of pt: 6, eta: 6, phi: 6, mass: 6, barcode: 6, btag: 6, parton_index: 6\nThe length of pt: 6, eta: 6, phi: 6, mass: 6, barcode: 6, btag: 6, parton_index: 6\nThe length of pt: 6, eta: 6, phi: 6, mass: 6, barcode: 6, btag: 6, parton_index: 6\nThe length of pt: 6, eta: 6, phi: 6, mass: 6, barcode: 6, btag: 6, parton_index: 6\nThe length of pt: 6, eta: 6, phi: 6, mass: 6, barcode: 6, btag: 6, parton_index: 6\nThe length of pt: 6, eta: 6, phi: 6, mass: 6, barcode: 6, btag: 6, parton_index: 6\nThe length of pt: 6, eta: 6, phi: 6, mass: 6, barcode: 6, btag: 6, parton_index: 6\nThe length of pt: 6, eta: 6, phi: 6, mass: 6, barcode: 6, btag: 6, parton_index: 6\nThe length of pt: 6, eta: 6, phi: 6, mass: 6, barcode: 6, btag: 6, parton_index: 6\nThe length of pt: 7, eta: 7, phi: 7, mass: 7, barcode: 7, btag: 7, parton_index: 7\nThe length of pt: 7, eta: 7, phi: 7, mass: 7, barcode: 7, btag: 7, parton_index: 7\nThe length of pt: 6, eta: 6, phi: 6, mass: 6, barcode: 6, btag: 6, parton_index: 6\nThe length of pt: 6, eta: 6, phi: 6, mass: 6, barcode: 6, btag: 6, parton_index: 6\nThe length of pt: 6, eta: 6, phi: 6, mass: 6, barcode: 6, btag: 6, parton_index: 6\nThe length of pt: 6, eta: 6, phi: 6, mass: 6, barcode: 6, btag: 6, parton_index: 6\nThe length of pt: 6, eta: 6, phi: 6, mass: 6, barcode: 6, btag: 6, parton_index: 6\nThe length of pt: 8, eta: 8, phi: 8, mass: 8, barcode: 8, btag: 8, parton_index: 8\nThe length of pt: 6, eta: 6, phi: 6, mass: 6, barcode: 6, btag: 6, parton_index: 6\nThe length of pt: 6, eta: 6, phi: 6, mass: 6, barcode: 6, btag: 6, parton_index: 6\nThe length of pt: 6, eta: 6, phi: 6, mass: 6, barcode: 6, btag: 6, parton_index: 6\nThe length of pt: 6, eta: 6, phi: 6, mass: 6, barcode: 6, btag: 6, parton_index: 6\nThe length of pt: 9, eta: 9, phi: 9, mass: 9, barcode: 9, btag: 9, parton_index: 9\nThe length of pt: 6, eta: 6, phi: 6, mass: 6, barcode: 6, btag: 6, parton_index: 6\nThe length of pt: 6, eta: 6, phi: 6, mass: 6, barcode: 6, btag: 6, parton_index: 6\nThe length of pt: 9, eta: 9, phi: 9, mass: 9, barcode: 9, btag: 9, parton_index: 9\nThe length of pt: 8, eta: 8, phi: 8, mass: 8, barcode: 8, btag: 8, parton_index: 8\nThe length of pt: 6, eta: 6, phi: 6, mass: 6, barcode: 6, btag: 6, parton_index: 6\nThe length of pt: 7, eta: 7, phi: 7, mass: 7, barcode: 7, btag: 7, parton_index: 7\nThe length of pt: 6, eta: 6, phi: 6, mass: 6, barcode: 6, btag: 6, parton_index: 6\nThe length of pt: 7, eta: 7, phi: 7, mass: 7, barcode: 7, btag: 7, parton_index: 7\nThe length of pt: 8, eta: 8, phi: 8, mass: 8, barcode: 8, btag: 8, parton_index: 8\nThe length of pt: 6, eta: 6, phi: 6, mass: 6, barcode: 6, btag: 6, parton_index: 6\nThe length of pt: 6, eta: 6, phi: 6, mass: 6, barcode: 6, btag: 6, parton_index: 6\nThe length of pt: 6, eta: 6, phi: 6, mass: 6, barcode: 6, btag: 6, parton_index: 6\nThe length of pt: 6, eta: 6, phi: 6, mass: 6, barcode: 6, btag: 6, parton_index: 6\nThe length of pt: 6, eta: 6, phi: 6, mass: 6, barcode: 6, btag: 6, parton_index: 6\nThe length of pt: 6, eta: 6, phi: 6, mass: 6, barcode: 6, btag: 6, parton_index: 6\nThe length of pt: 6, eta: 6, phi: 6, mass: 6, barcode: 6, btag: 6, parton_index: 6\nThe length of pt: 6, eta: 6, phi: 6, mass: 6, barcode: 6, btag: 6, parton_index: 6\nThe length of pt: 8, eta: 8, phi: 8, mass: 8, barcode: 8, btag: 8, parton_index: 8\nThe length of pt: 8, eta: 8, phi: 8, mass: 8, barcode: 8, btag: 8, parton_index: 8\nThe length of pt: 6, eta: 6, phi: 6, mass: 6, barcode: 6, btag: 6, parton_index: 6\nThe length of pt: 6, eta: 6, phi: 6, mass: 6, barcode: 6, btag: 6, parton_index: 6\nThe length of pt: 6, eta: 6, phi: 6, mass: 6, barcode: 6, btag: 6, parton_index: 6\nThe length of pt: 7, eta: 7, phi: 7, mass: 7, barcode: 7, btag: 7, parton_index: 7\nThe length of pt: 10, eta: 10, phi: 10, mass: 10, barcode: 10, btag: 10, parton_index: 10\nThe length of pt: 9, eta: 9, phi: 9, mass: 9, barcode: 9, btag: 9, parton_index: 9\nThe length of pt: 8, eta: 8, phi: 8, mass: 8, barcode: 8, btag: 8, parton_index: 8\nThe length of pt: 6, eta: 6, phi: 6, mass: 6, barcode: 6, btag: 6, parton_index: 6\nThe length of pt: 6, eta: 6, phi: 6, mass: 6, barcode: 6, btag: 6, parton_index: 6\nThe length of pt: 6, eta: 6, phi: 6, mass: 6, barcode: 6, btag: 6, parton_index: 6\nThe length of pt: 6, eta: 6, phi: 6, mass: 6, barcode: 6, btag: 6, parton_index: 6\n"
    }
   ],
   "source": [
    "for i in range(len(jet_pt)):\n",
    "    print(\"The length of pt: {0}, eta: {1}, phi: {2}, mass: {3}, barcode: {4}, btag: {5}, parton_index: {6}\".format(len(jet_pt[i]), len(jet_eta[i]), len(jet_phi[i]), len(jet_mass[i]), len(jet_barcode[i]), len(jet_btag[i]), len(jet_parton_index[i])))"
   ]
  },
  {
   "source": [
    "### introduction of groups\n",
    "\n",
    "* (mass, pt, eta, phi) in `jet` and `parton` represent the kinematics properties of jet and parton.\n",
    "* `barcode` is defined to represent the relation between each parton candidate and jet.\n",
    "* `parton_jet_index` and `jet_parton_index` is to point out which jet/parton is matched to(by using min dR(parton. jet))\n",
    "* `btag` is the binary record, shows whether a jet has been tagged as `b jet` or not."
   ],
   "cell_type": "markdown",
   "metadata": {}
  },
  {
   "source": [
    "### Example\n",
    "To check how many events in this hdf5 file.\n"
   ],
   "cell_type": "markdown",
   "metadata": {}
  },
  {
   "cell_type": "code",
   "execution_count": 7,
   "metadata": {},
   "outputs": [
    {
     "output_type": "stream",
     "name": "stdout",
     "text": "331\n"
    }
   ],
   "source": [
    "length = len(jet_pt)\n",
    "print(length) "
   ]
  },
  {
   "source": [
    "### Validation plots "
   ],
   "cell_type": "markdown",
   "metadata": {}
  },
  {
   "source": [
    "* top mass distribution "
   ],
   "cell_type": "markdown",
   "metadata": {}
  },
  {
   "cell_type": "code",
   "execution_count": 10,
   "metadata": {},
   "outputs": [],
   "source": [
    "candidate_1_pt = []\n",
    "candidate_1_eta = []\n",
    "candidate_1_phi = []\n",
    "candidate_1_mass = []\n",
    "\n",
    "candidate_2_pt = []\n",
    "candidate_2_eta = []\n",
    "candidate_2_phi = []\n",
    "candidate_2_mass = []\n",
    "\n",
    "candidate_3_pt = []\n",
    "candidate_3_eta = []\n",
    "candidate_3_phi = []\n",
    "candidate_3_mass = []\n",
    "\n",
    "\n",
    "for i in range(len(jet_pt)):\n",
    "    for j in range(len(jet_pt[i])):\n",
    "        if jet_barcode[i][j] == 34:\n",
    "            candidate_1_pt.append(jet_pt[i][j])\n",
    "            candidate_1_eta.append(jet_eta[i][j])\n",
    "            candidate_1_phi.append(jet_phi[i][j])\n",
    "            candidate_1_mass.append(jet_mass[i][j])\n",
    "        elif jet_barcode[i][j] == 20: \n",
    "            candidate_2_pt.append(jet_pt[i][j])\n",
    "            candidate_2_eta.append(jet_eta[i][j])\n",
    "            candidate_2_phi.append(jet_phi[i][j])\n",
    "            candidate_2_mass.append(jet_mass[i][j])\n",
    "            _jet_parton_index = jet_parton_index[i][j]\n",
    "        elif jet_barcode[i][j] == 20 and jet_parton_index[i][j] != _jet_parton_index:\n",
    "            candidate_3_pt.append(jet_pt[i][j])\n",
    "            candidate_3_eta.append(jet_eta[i][j])\n",
    "            candidate_3_phi.append(jet_phi[i][j])\n",
    "            candidate_3_mass.append(jet_mass[i][j]) \n",
    "\n",
    "\n"
   ]
  },
  {
   "cell_type": "code",
   "execution_count": 11,
   "metadata": {},
   "outputs": [
    {
     "output_type": "error",
     "ename": "IndexError",
     "evalue": "list index out of range",
     "traceback": [
      "\u001b[0;31m---------------------------------------------------------------------------\u001b[0m",
      "\u001b[0;31mIndexError\u001b[0m                                Traceback (most recent call last)",
      "\u001b[0;32m<ipython-input-11-dc81dba3a260>\u001b[0m in \u001b[0;36m<module>\u001b[0;34m\u001b[0m\n\u001b[1;32m      3\u001b[0m \u001b[0mtop_mass\u001b[0m \u001b[0;34m=\u001b[0m \u001b[0;34m[\u001b[0m\u001b[0;34m]\u001b[0m\u001b[0;34m\u001b[0m\u001b[0;34m\u001b[0m\u001b[0m\n\u001b[1;32m      4\u001b[0m \u001b[0;32mfor\u001b[0m \u001b[0mi\u001b[0m \u001b[0;32min\u001b[0m \u001b[0mrange\u001b[0m\u001b[0;34m(\u001b[0m\u001b[0mlen\u001b[0m\u001b[0;34m(\u001b[0m\u001b[0mjet_pt\u001b[0m\u001b[0;34m)\u001b[0m\u001b[0;34m)\u001b[0m\u001b[0;34m:\u001b[0m\u001b[0;34m\u001b[0m\u001b[0;34m\u001b[0m\u001b[0m\n\u001b[0;32m----> 5\u001b[0;31m     \u001b[0mtop_mass\u001b[0m\u001b[0;34m.\u001b[0m\u001b[0mappend\u001b[0m\u001b[0;34m(\u001b[0m\u001b[0mcandidate_1_mass\u001b[0m\u001b[0;34m[\u001b[0m\u001b[0mi\u001b[0m\u001b[0;34m]\u001b[0m \u001b[0;34m+\u001b[0m \u001b[0mcandidate_3_mass\u001b[0m\u001b[0;34m[\u001b[0m\u001b[0mi\u001b[0m\u001b[0;34m]\u001b[0m \u001b[0;34m+\u001b[0m \u001b[0mcandidate_3_mass\u001b[0m\u001b[0;34m[\u001b[0m\u001b[0mi\u001b[0m\u001b[0;34m]\u001b[0m\u001b[0;34m)\u001b[0m\u001b[0;34m\u001b[0m\u001b[0;34m\u001b[0m\u001b[0m\n\u001b[0m\u001b[1;32m      6\u001b[0m \u001b[0;34m\u001b[0m\u001b[0m\n\u001b[1;32m      7\u001b[0m \u001b[0mplt\u001b[0m\u001b[0;34m.\u001b[0m\u001b[0mfigure\u001b[0m\u001b[0;34m(\u001b[0m\u001b[0mfigsize\u001b[0m\u001b[0;34m=\u001b[0m\u001b[0;34m(\u001b[0m\u001b[0;36m8\u001b[0m\u001b[0;34m,\u001b[0m\u001b[0;36m6\u001b[0m\u001b[0;34m)\u001b[0m\u001b[0;34m)\u001b[0m\u001b[0;34m\u001b[0m\u001b[0;34m\u001b[0m\u001b[0m\n",
      "\u001b[0;31mIndexError\u001b[0m: list index out of range"
     ]
    }
   ],
   "source": [
    "import matplotlib.pyplot as plt \n",
    "\n",
    "top_mass = []\n",
    "for i in range(len(candidate_1_mass)):\n",
    "    \n",
    "    top_mass.append(candidate_1_mass[i] + candidate_3_mass[i] + candidate_3_mass[i])\n",
    "\n",
    "plt.figure(figsize=(8,6))\n",
    "plt.hist(top_mass)\n",
    "plt.show()"
   ]
  },
  {
   "cell_type": "code",
   "execution_count": null,
   "metadata": {},
   "outputs": [],
   "source": []
  }
 ],
 "metadata": {
  "language_info": {
   "codemirror_mode": {
    "name": "ipython",
    "version": 3
   },
   "file_extension": ".py",
   "mimetype": "text/x-python",
   "name": "python",
   "nbconvert_exporter": "python",
   "pygments_lexer": "ipython3",
   "version": "3.6.8-final"
  },
  "orig_nbformat": 2,
  "kernelspec": {
   "name": "python36864bite4e4b34d0f48422d8a0b164df5226f44",
   "display_name": "Python 3.6.8 64-bit"
  }
 },
 "nbformat": 4,
 "nbformat_minor": 2
}