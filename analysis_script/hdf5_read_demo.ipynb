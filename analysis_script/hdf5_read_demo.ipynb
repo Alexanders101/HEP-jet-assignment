{
 "cells": [
  {
   "source": [
    "## This is a demo of `how to read the hdf5 file` and describe the data structure of our file. \n",
    "---"
   ],
   "cell_type": "markdown",
   "metadata": {}
  },
  {
   "cell_type": "code",
   "execution_count": 1,
   "metadata": {},
   "outputs": [],
   "source": [
    "import h5py "
   ]
  },
  {
   "source": [
    "### Using `h5py` package can help you to parse the hdf5 file."
   ],
   "cell_type": "markdown",
   "metadata": {}
  },
  {
   "cell_type": "code",
   "execution_count": 2,
   "metadata": {},
   "outputs": [],
   "source": [
    "f = h5py.File('10K_test.h5','r') "
   ]
  },
  {
   "source": [
    "### To see how many groups defined in the hdf5 file, you can use the following script."
   ],
   "cell_type": "markdown",
   "metadata": {}
  },
  {
   "cell_type": "code",
   "execution_count": 3,
   "metadata": {},
   "outputs": [
    {
     "output_type": "execute_result",
     "data": {
      "text/plain": "<KeysViewHDF5 ['jet_barcode', 'jet_btag', 'jet_eta', 'jet_mass', 'jet_parton_index', 'jet_phi', 'jet_pt', 'parton_barcode', 'parton_eta', 'parton_jet_index', 'parton_mass', 'parton_pdgid', 'parton_phi', 'parton_pt']>"
     },
     "metadata": {},
     "execution_count": 3
    }
   ],
   "source": [
    "f.keys()"
   ]
  },
  {
   "source": [
    "### Data structure\n",
    "The output upon shows that we have two groups of data, `jet` and `parton`.\n",
    "To see the data structure in the groups, you can try the following method."
   ],
   "cell_type": "markdown",
   "metadata": {}
  },
  {
   "cell_type": "code",
   "execution_count": 5,
   "metadata": {},
   "outputs": [
    {
     "output_type": "stream",
     "name": "stdout",
     "text": "2268\n"
    }
   ],
   "source": [
    "jet_pt = f['jet_pt']\n",
    "parton_pt = f['parton_pt']\n",
    "\n",
    "print(len(jet_pt))"
   ]
  },
  {
   "cell_type": "code",
   "execution_count": null,
   "metadata": {},
   "outputs": [],
   "source": [
    "jet_pt[0]"
   ]
  },
  {
   "source": [
    "### To read the data in each branch, you can do"
   ],
   "cell_type": "markdown",
   "metadata": {}
  },
  {
   "cell_type": "code",
   "execution_count": 9,
   "metadata": {},
   "outputs": [
    {
     "output_type": "stream",
     "name": "stdout",
     "text": "[202.87782288 111.18288422  77.74679565  68.25606537  48.66473007\n  46.90613174  42.89266586]\n"
    }
   ],
   "source": [
    "jet_pt = jet['Pt']\n",
    "for a in jet_pt:\n",
    "    print(a)"
   ]
  },
  {
   "source": [
    "### Convention \n",
    "In our parsing script, we denote the jet which does not match to a parton as 'Nan' in barcode and parton_index array.\n",
    "Simillary, we marked the content of jet as 'Nan' for which doed not pass the event selection rule.(In the example event, all the jet passed the event selection rule, but one of it does not match to any jet.)"
   ],
   "cell_type": "markdown",
   "metadata": {}
  },
  {
   "cell_type": "code",
   "execution_count": 11,
   "metadata": {},
   "outputs": [
    {
     "output_type": "stream",
     "name": "stdout",
     "text": "[20. 20. 17. 34. 40. 40. nan]\n"
    }
   ],
   "source": [
    "jet_barcode = jet['Barcode']\n",
    "for a in jet_barcode:\n",
    "    print(a)"
   ]
  },
  {
   "cell_type": "code",
   "execution_count": null,
   "metadata": {},
   "outputs": [],
   "source": []
  }
 ],
 "metadata": {
  "language_info": {
   "codemirror_mode": {
    "name": "ipython",
    "version": 3
   },
   "file_extension": ".py",
   "mimetype": "text/x-python",
   "name": "python",
   "nbconvert_exporter": "python",
   "pygments_lexer": "ipython3",
   "version": "3.6.8-final"
  },
  "orig_nbformat": 2,
  "kernelspec": {
   "name": "python36864bite4e4b34d0f48422d8a0b164df5226f44",
   "display_name": "Python 3.6.8 64-bit"
  }
 },
 "nbformat": 4,
 "nbformat_minor": 2
}