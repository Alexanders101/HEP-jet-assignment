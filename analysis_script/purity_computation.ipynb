{
 "cells": [
  {
   "cell_type": "code",
   "execution_count": 1,
   "metadata": {},
   "outputs": [],
   "source": [
    "import numpy as np\n",
    "import matplotlib.pyplot as plt\n",
    "import pandas as pd \n",
    "import h5py "
   ]
  },
  {
   "cell_type": "code",
   "execution_count": 10,
   "metadata": {},
   "outputs": [],
   "source": [
    "N_match_top_in_event_chi2 = []\n",
    "jet_parton_index_chi2 = []\n",
    "parton_jet_index_chi2 = []\n",
    "\n",
    "N_match_top_in_event_del = []\n",
    "jet_parton_index_del = []\n",
    "parton_jet_index_del = []\n",
    "N_0_del = 0\n",
    "N_1_del = 0\n",
    "N_2_del = 0\n",
    "\n",
    "N_0_chi2 = 0\n",
    "N_1_chi2 = 0\n",
    "N_2_chi2 = 0\n",
    "for i in range(1,11):\n",
    "    PREFIX_chi2 = \"./output/output_chi2/\"\n",
    "    PREFIX_del = \"./output/output_delta/\"\n",
    "    chi2_file = \"\"\n",
    "    delta_file = \"\"\n",
    "    seq_chi2 = (PREFIX_chi2, \"output_\", \"chi2_\", str(i), \".h5\")\n",
    "    seq_delta = (PREFIX_del, \"output_\", \"del_\", str(i), \".h5\")\n",
    "\n",
    "    with h5py.File(chi2_file.join(seq_chi2), 'r') as f:\n",
    "        #print(f.keys())\n",
    "        _N_match_top_in_event_chi2 = f['N_match_top_in_event']\n",
    "        _jet_parton_index_chi2 = f['jet_parton_index']\n",
    "        _parton_jet_index_chi2 = f['parton_jet_index']\n",
    "\n",
    "        for x in _N_match_top_in_event_chi2:\n",
    "            N_match_top_in_event_chi2.append(x)\n",
    "        \n",
    "        for y in _jet_parton_index_chi2:\n",
    "            jet_parton_index_chi2.append(y)\n",
    "\n",
    "        for z in _parton_jet_index_chi2:\n",
    "            parton_jet_index_chi2.append(z)\n",
    "\n",
    "    with h5py.File(delta_file.join(seq_delta), 'r') as g:\n",
    "        #print(g.keys())\n",
    "        _N_match_top_in_event_del = g['N_match_top_in_event']\n",
    "        _jet_parton_index_del = g['jet_parton_index']\n",
    "        _parton_jet_index_del = g['parton_jet_index']\n",
    "\n",
    "        for a in _N_match_top_in_event_del:\n",
    "            N_match_top_in_event_del.append(a)\n",
    "        \n",
    "        for b in _jet_parton_index_del:\n",
    "            jet_parton_index_del.append(b)\n",
    "\n",
    "        for c in _parton_jet_index_del:\n",
    "            parton_jet_index_del.append(c)\n",
    "            \n",
    "for j in range(len(N_match_top_in_event_del)):\n",
    "    if N_match_top_in_event_del[j] == 0: \n",
    "        N_0_del += 1\n",
    "    elif N_match_top_in_event_del[j] == 1:\n",
    "        N_1_del += 1 \n",
    "    elif N_match_top_in_event_del[j] == 2:\n",
    "        N_2_del += 1\n",
    "    else :\n",
    "        Print(\"error occur!\")\n",
    "\n",
    "    "
   ]
  },
  {
   "cell_type": "code",
   "execution_count": 11,
   "metadata": {},
   "outputs": [
    {
     "output_type": "stream",
     "name": "stdout",
     "text": "0.3245299812102366\n"
    }
   ],
   "source": [
    "purity_del = N_2_del/(N_0_del + N_1_del + N_2_del)\n",
    "print(purity_del)"
   ]
  },
  {
   "cell_type": "code",
   "execution_count": 32,
   "metadata": {
    "tags": [
     "outputPrepend",
     "outputPrepend",
     "outputPrepend",
     "outputPrepend",
     "outputPrepend",
     "outputPrepend",
     "outputPrepend",
     "outputPrepend",
     "outputPrepend",
     "outputPrepend",
     "outputPrepend",
     "outputPrepend",
     "outputPrepend",
     "outputPrepend",
     "outputPrepend",
     "outputPrepend",
     "outputPrepend",
     "outputPrepend",
     "outputPrepend",
     "outputPrepend",
     "outputPrepend",
     "outputPrepend",
     "outputPrepend",
     "outputPrepend",
     "outputPrepend",
     "outputPrepend",
     "outputPrepend",
     "outputPrepend",
     "outputPrepend",
     "outputPrepend",
     "outputPrepend",
     "outputPrepend",
     "outputPrepend",
     "outputPrepend",
     "outputPrepend",
     "outputPrepend",
     "outputPrepend",
     "outputPrepend",
     "outputPrepend",
     "outputPrepend",
     "outputPrepend",
     "outputPrepend",
     "outputPrepend",
     "outputPrepend",
     "outputPrepend",
     "outputPrepend",
     "outputPrepend",
     "outputPrepend",
     "outputPrepend",
     "outputPrepend",
     "outputPrepend",
     "outputPrepend",
     "outputPrepend",
     "outputPrepend",
     "outputPrepend",
     "outputPrepend",
     "outputPrepend",
     "outputPrepend",
     "outputPrepend",
     "outputPrepend",
     "outputPrepend"
    ]
   },
   "outputs": [
    {
     "output_type": "stream",
     "name": "stdout",
     "text": "[[0. 0. 0. 0. 1. 0. 0.]\n [0. 0. 0. 1. 0. 0. 0.]\n [0. 0. 0. 0. 0. 0. 1.]\n [1. 0. 0. 0. 0. 0. 0.]\n [0. 0. 1. 0. 0. 0. 0.]\n [0. 0. 0. 0. 0. 1. 0.]], \n[[1. 0. 0. 0. 0. 0. 0.]\n [0. 0. 0. 1. 0. 0. 0.]\n [0. 0. 0. 0. 0. 0. 1.]\n [0. 0. 0. 0. 1. 0. 0.]\n [0. 0. 1. 0. 0. 0. 0.]\n [0. 0. 0. 0. 0. 1. 0.]]\n2.0\n"
    }
   ],
   "source": [
    "def to_matrix(target_1, target_2):\n",
    "    len_parton = len(target_1)\n",
    "    len_jet = len(target_2)\n",
    "    _matrix = np.zeros(len_parton*len_jet)\n",
    "    matrix =  _matrix.reshape((len_parton, len_jet))\n",
    "    for x in range(len_parton):\n",
    "        _value = int(target_1[x])\n",
    "        matrix[x][_value] = 1\n",
    "            \n",
    "    return matrix\n",
    "\n",
    "result = []\n",
    "correct_result = []\n",
    "#for i in range(len(N_match_top_in_event_chi2)):\n",
    "for i in range(0,1):\n",
    "    _delta = to_matrix(parton_jet_index_del[i], jet_parton_index_del[i])\n",
    "    _chi2 = to_matrix(parton_jet_index_chi2[i], jet_parton_index_chi2[i])\n",
    "\n",
    "    print(\"{0}, \\n{1}\".format(_delta, _chi2))\n",
    "    _compare = _delta == _chi2\n",
    "    _result = np.sum( _compare == False )/2\n",
    "    print(_result)\n",
    "    result.append( np.sum( _compare == False )/2 )\n",
    "    if _result == 0: \n",
    "        correct = 2\n",
    "    elif _result <= 3: \n",
    "        correct = 1\n",
    "    else :\n",
    "        correct = 0\n",
    "    #print( correct/2 )\n",
    "    correct_result.append( correct )"
   ]
  },
  {
   "cell_type": "code",
   "execution_count": 13,
   "metadata": {},
   "outputs": [],
   "source": [
    "for k in range(len(correct_result)):\n",
    "    if correct_result[k] == 0: \n",
    "        N_0_chi2 += 1\n",
    "    elif correct_result[k] == 1:\n",
    "        N_1_chi2 += 1 \n",
    "    elif correct_result[k] == 2:\n",
    "        N_2_chi2 += 1\n",
    "    else :\n",
    "        Print(\"error occur!\")"
   ]
  },
  {
   "cell_type": "code",
   "execution_count": 14,
   "metadata": {},
   "outputs": [
    {
     "output_type": "stream",
     "name": "stdout",
     "text": "0.013136352148735812\n"
    }
   ],
   "source": [
    "purity_chi2 = N_2_chi2/(N_0_chi2 + N_1_chi2 + N_2_chi2)\n",
    "print(purity_chi2)"
   ]
  },
  {
   "cell_type": "code",
   "execution_count": 15,
   "metadata": {},
   "outputs": [
    {
     "output_type": "execute_result",
     "data": {
      "text/plain": "182014"
     },
     "metadata": {},
     "execution_count": 15
    }
   ],
   "source": [
    "N_2_del + N_1_del + N_0_del"
   ]
  },
  {
   "cell_type": "code",
   "execution_count": 16,
   "metadata": {},
   "outputs": [
    {
     "output_type": "execute_result",
     "data": {
      "text/plain": "59069"
     },
     "metadata": {},
     "execution_count": 16
    }
   ],
   "source": [
    "N_2_del"
   ]
  },
  {
   "cell_type": "code",
   "execution_count": 17,
   "metadata": {},
   "outputs": [
    {
     "output_type": "execute_result",
     "data": {
      "text/plain": "2391"
     },
     "metadata": {},
     "execution_count": 17
    }
   ],
   "source": [
    "N_2_chi2"
   ]
  },
  {
   "cell_type": "code",
   "execution_count": 27,
   "metadata": {},
   "outputs": [
    {
     "output_type": "execute_result",
     "data": {
      "text/plain": "182014"
     },
     "metadata": {},
     "execution_count": 27
    }
   ],
   "source": [
    "np.sum(np.array(N_match_top_in_event_chi2, dtype='object') == 2.0)"
   ]
  },
  {
   "cell_type": "code",
   "execution_count": null,
   "metadata": {},
   "outputs": [],
   "source": []
  }
 ],
 "metadata": {
  "language_info": {
   "codemirror_mode": {
    "name": "ipython",
    "version": 3
   },
   "file_extension": ".py",
   "mimetype": "text/x-python",
   "name": "python",
   "nbconvert_exporter": "python",
   "pygments_lexer": "ipython3",
   "version": "3.6.8-final"
  },
  "orig_nbformat": 2,
  "kernelspec": {
   "name": "python36864bitb267ccb42a1449aea1534ceeb663a217",
   "display_name": "Python 3.6.8 64-bit"
  }
 },
 "nbformat": 4,
 "nbformat_minor": 2
}