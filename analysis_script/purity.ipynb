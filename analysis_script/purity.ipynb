{
 "cells": [
  {
   "cell_type": "code",
   "execution_count": 1,
   "metadata": {},
   "outputs": [],
   "source": [
    "import pandas as pd \n",
    "import numpy as np \n",
    "import h5py, sys, traceback, os, tqdm, time\n",
    "from script.utilize import pdgid, purity_classifier\n",
    "import multiprocessing as mp"
   ]
  },
  {
   "cell_type": "code",
   "execution_count": 2,
   "metadata": {},
   "outputs": [],
   "source": [
    "NN_RESULT = \"./data/results_2020_10_17_nofilter.npz\"\n",
    "\n",
    "results = np.load(NN_RESULT)\n",
    "full_dataset = results[\"dataset\"]\n",
    "full_predictions = results[\"predictions\"]\n",
    "full_targets = results[\"targets\"]\n",
    "n_match = results[\"n_match\"]\n",
    "num_samples = full_predictions.shape[0]\n",
    "\n",
    "num_jets = (full_dataset.sum(-1) > 0).sum(-1)"
   ]
  },
  {
   "cell_type": "code",
   "execution_count": 3,
   "metadata": {},
   "outputs": [
    {
     "name": "stderr",
     "output_type": "stream",
     "text": [
      "100%|██████████| 59/59 [00:08<00:00,  6.96it/s]\n"
     ]
    }
   ],
   "source": [
    "chi2_storage = []\n",
    "delta_R_storage = []\n",
    "NUM_CHI2 = 59\n",
    "\n",
    "for i in tqdm.trange(NUM_CHI2):\n",
    "    with h5py.File(f\"./backup/evaluate_new_with_JES/output_vector_{i + 1}.h5\", 'r') as file:\n",
    "        chi2_result = np.stack(file[\"Chi2_result\"][:]).astype(np.int)\n",
    "        delta_R_result = np.stack(file[\"Delta_R_result\"][:]).astype(np.int)\n",
    "    if i == 0:\n",
    "        with h5py.File(f\"./backup/evaluate_new_with_JES/event_recod_testing_with_chi2_new_{i + 1}.h5\", 'r') as file:\n",
    "            tmp_jet_pt = file[\"jet_pt\"][:]\n",
    "            N_match_top_in_event = file['N_match_top_in_event'][:]\n",
    "    else: \n",
    "        with h5py.File(f\"./backup/evaluate_new_with_JES/event_recod_testing_with_chi2_new_{i + 1}.h5\", 'r') as file:\n",
    "            tmp_jet_pt = np.concatenate((tmp_jet_pt, file[\"jet_pt\"][:]))\n",
    "            N_match_top_in_event = np.concatenate((N_match_top_in_event, file[\"N_match_top_in_event\"][:]))\n",
    "    chi2_storage.append(chi2_result)\n",
    "    delta_R_storage.append(delta_R_result)\n",
    "\n",
    "chi2_result = np.concatenate(chi2_storage)\n",
    "delta_R_result = np.concatenate(delta_R_storage)\n",
    "jet_pt = tmp_jet_pt\n",
    "del chi2_storage, delta_R_storage"
   ]
  },
  {
   "cell_type": "code",
   "execution_count": 4,
   "metadata": {},
   "outputs": [],
   "source": [
    "def compute(source, target):\n",
    "    MODEL = 'ttbar'\n",
    "    correct_left = np.zeros(len(target))\n",
    "    correct_right = np.zeros(len(target))\n",
    "    case = np.zeros(len(target))\n",
    "\n",
    "    for i in tqdm.trange(len(target)):\n",
    "\n",
    "        left_target = source[i][:3]\n",
    "        right_target = source[i][3:]\n",
    "\n",
    "        left_src = target[i][:3]    \n",
    "        right_src = target[i][3:]  \n",
    "\n",
    "        if np.sum(left_src < 0 ) >0:\n",
    "            correct_left[i] = 4       \n",
    "        if np.sum(right_src < 0) >0:\n",
    "            correct_right[i] = 4\n",
    "\n",
    "        if correct_left[i] != 4 and correct_right[i] != 4:\n",
    "            correct_left[i], correct_right[i] = purity_classifier(target[i], source[i], \"pair\", MODEL)\n",
    "        elif correct_left[i] != 4 and correct_right[i] == 4:\n",
    "            correct_left[i] = purity_classifier(target[i], source[i], \"left\", MODEL)\n",
    "        elif correct_left[i] == 4 and correct_right[i] != 4:\n",
    "            correct_right[i] = purity_classifier(target[i], source[i], \"right\", MODEL)\n",
    "        else:\n",
    "            pass\n",
    "\n",
    "        if correct_left[i] == 1 and correct_right[i] == 1:\n",
    "            case[i] = 1\n",
    "        elif correct_left[i] != 1 and correct_right[i] == 1 and correct_left[i] != 4 and correct_right[i] != 4:\n",
    "            case[i] = 2\n",
    "        elif correct_left[i] == 1 and correct_right[i] != 1 and correct_left[i] != 4 and correct_right[i] != 4:\n",
    "            case[i] = 2\n",
    "        elif  correct_left[i] != 1 and  correct_right[i] != 1 and correct_left[i] != 4 and correct_right[i] != 4:\n",
    "            case[i] = 3\n",
    "        elif correct_left[i] == 4 or  correct_right[i] == 4:\n",
    "            case[i] = 4\n",
    "    return case, correct_right, correct_left"
   ]
  },
  {
   "cell_type": "code",
   "execution_count": 5,
   "metadata": {},
   "outputs": [],
   "source": [
    "NN_predict_2, NN_truth_2 = [], []\n",
    "NN_predict_1, NN_truth_1 = [], []\n",
    "\n",
    "for i in range(len(full_predictions)):\n",
    "    if n_match[i] == 2:\n",
    "        NN_predict_2.append(full_predictions[i])\n",
    "        NN_truth_2.append(full_targets[i])   \n",
    "    elif n_match[i] == 1:\n",
    "        NN_predict_1.append(full_predictions[i])\n",
    "        NN_truth_1.append(full_targets[i])   \n",
    "        \n",
    "chi2_predict_2, chi2_truth_2 = [], []\n",
    "chi2_predict_1, chi2_truth_1 = [], []\n",
    "\n",
    "for i in range(len(chi2_result)):\n",
    "    if np.sum(delta_R_result[i]< 0) == 0:\n",
    "        chi2_predict_2.append(chi2_result[i])\n",
    "        chi2_truth_2.append(delta_R_result[i])   \n",
    "    elif (np.sum(delta_R_result[i][:3]< 0) == 1 and np.sum(delta_R_result[i][3:]< 0) == 0) or (np.sum(delta_R_result[i][:3]< 0) == 0 and np.sum(delta_R_result[i][3:]< 0) == 1):\n",
    "        chi2_predict_1.append(chi2_result[i])\n",
    "        chi2_truth_1.append(delta_R_result[i]) "
   ]
  },
  {
   "cell_type": "code",
   "execution_count": 6,
   "metadata": {},
   "outputs": [
    {
     "name": "stderr",
     "output_type": "stream",
     "text": [
      "100%|██████████| 1184256/1184256 [00:26<00:00, 44745.42it/s]\n",
      "100%|██████████| 619716/619716 [00:14<00:00, 42608.91it/s]\n",
      "100%|██████████| 386971/386971 [00:08<00:00, 43703.90it/s]\n"
     ]
    }
   ],
   "source": [
    "NN_case, NN_correct_right, NN_correct_left = compute(full_predictions, full_targets)\n",
    "NN_case_1, NN_correct_right_1, NN_correct_left_1 = compute(NN_predict_1, NN_truth_1)\n",
    "NN_cas_2, NN_correct_right_2, NN_correct_left_2 = compute(NN_predict_2, NN_truth_2)"
   ]
  },
  {
   "cell_type": "code",
   "execution_count": 7,
   "metadata": {},
   "outputs": [
    {
     "name": "stderr",
     "output_type": "stream",
     "text": [
      "100%|██████████| 1184448/1184448 [00:31<00:00, 37305.02it/s]\n",
      "100%|██████████| 555694/555694 [00:15<00:00, 35826.87it/s]\n",
      "100%|██████████| 387031/387031 [00:09<00:00, 40882.44it/s]\n"
     ]
    }
   ],
   "source": [
    "chi2_case, chi2_correct_right, chi2_correct_left = compute(chi2_result, delta_R_result)\n",
    "chi2_case_1, chi2_correct_right_1, chi2_correct_left_1 = compute(chi2_predict_1, chi2_truth_1)\n",
    "chi2_cas_2, chi2_correct_right_2, chi2_correct_left_2 = compute(chi2_predict_2, chi2_truth_2)"
   ]
  },
  {
   "cell_type": "code",
   "execution_count": 34,
   "metadata": {},
   "outputs": [
    {
     "name": "stdout",
     "output_type": "stream",
     "text": [
      "Event putiry (no filter, NN)               : 0.867\n",
      "Two top putiry (both matched, NN)          : 0.909\n",
      "Single top putiry (partial matched, NN)    : 0.248\n",
      "--------------------------------------------------------------------------------\n",
      "Event putiry (no filter, chi2)             : 0.398\n",
      "Two top putiry (both matched, chi2)        : 0.491\n",
      "Single top putiry (partial matched, chi2)  : 0.156\n"
     ]
    }
   ],
   "source": [
    "NN_event_purity = np.sum(NN_case==1)/( np.sum(NN_case==1) + np.sum(NN_case==2) + np.sum(NN_case==3))\n",
    "NN_two_top_purity = ( np.sum(NN_correct_right_2 ==1) + np.sum(NN_correct_left_2==1)  )/( np.sum(NN_correct_right_2 ==1) + np.sum(NN_correct_left_2==1) + np.sum(NN_correct_right_2 ==0) + np.sum(NN_correct_left_2==0) )\n",
    "NN_single_top_purity = ( np.sum(NN_correct_right_1 ==1) + np.sum(NN_correct_left_1==1)  )/( np.sum(NN_correct_right_1 ==1) + np.sum(NN_correct_left_1==1) + np.sum(NN_correct_right_1 ==0) + np.sum(NN_correct_left_1==0) )\n",
    "\n",
    "print(f'Event putiry (no filter, NN)               : {NN_event_purity:.3f}')\n",
    "print(f'Two top putiry (both matched, NN)          : {NN_two_top_purity:.3f}')\n",
    "print(f'Single top putiry (partial matched, NN)    : {NN_single_top_purity:.3f}')\n",
    "\n",
    "print(\"-\"*80)\n",
    "\n",
    "chi2_event_purity = np.sum(chi2_case==1)/( np.sum(chi2_case==1) + np.sum(chi2_case==2) + np.sum(chi2_case==3))\n",
    "chi2_two_top_purity = ( np.sum(chi2_correct_right_2 ==1) + np.sum(chi2_correct_left_2==1)  )/( np.sum(chi2_correct_right_2 ==1) + np.sum(chi2_correct_left_2==1) + np.sum(chi2_correct_right_2 ==0) + np.sum(chi2_correct_left_2==0) )\n",
    "chi2_single_top_purity = ( np.sum(chi2_correct_right_1 ==1) + np.sum(chi2_correct_left_1==1)  )/( np.sum(chi2_correct_right_1 ==1) + np.sum(chi2_correct_left_1==1) + np.sum(chi2_correct_right_1 ==0) + np.sum(chi2_correct_left_1==0) )\n",
    "print(f'Event putiry (no filter, chi2)             : {chi2_event_purity:.3f}')\n",
    "print(f'Two top putiry (both matched, chi2)        : {chi2_two_top_purity:.3f}')\n",
    "print(f'Single top putiry (partial matched, chi2)  : {chi2_single_top_purity:.3f}')"
   ]
  },
  {
   "cell_type": "code",
   "execution_count": 19,
   "metadata": {},
   "outputs": [],
   "source": [
    "NN_predict_6jet, NN_target_6jet = [], []\n",
    "NN_predict_6jet_1, NN_target_6jet_1 = [], []\n",
    "NN_predict_6jet_2, NN_target_6jet_2 = [], []\n",
    "\n",
    "NN_predict_7jet, NN_target_7jet = [], []\n",
    "NN_predict_7jet_1, NN_target_7jet_1 = [], []\n",
    "NN_predict_7jet_2, NN_target_7jet_2 = [], []\n",
    "\n",
    "NN_predict_8jet, NN_target_8jet = [], []\n",
    "NN_predict_8jet_1, NN_target_8jet_1 = [], []\n",
    "NN_predict_8jet_2, NN_target_8jet_2 = [], []\n",
    "for i in range(len(full_predictions)):\n",
    "    if num_jets[i] == 6:\n",
    "        NN_predict_6jet.append(full_predictions[i])\n",
    "        NN_target_6jet.append(full_targets[i])  \n",
    "        if n_match[i] == 2:\n",
    "            NN_predict_6jet_2.append(full_predictions[i])\n",
    "            NN_target_6jet_2.append(full_targets[i])   \n",
    "        elif n_match[i] == 1:\n",
    "            NN_predict_6jet_1.append(full_predictions[i])\n",
    "            NN_target_6jet_1.append(full_targets[i]) \n",
    "            \n",
    "    elif num_jets[i] == 7:\n",
    "        NN_predict_7jet.append(full_predictions[i])\n",
    "        NN_target_7jet.append(full_targets[i])  \n",
    "        if n_match[i] == 2:\n",
    "            NN_predict_7jet_2.append(full_predictions[i])\n",
    "            NN_target_7jet_2.append(full_targets[i])   \n",
    "        elif n_match[i] == 1:\n",
    "            NN_predict_7jet_1.append(full_predictions[i])\n",
    "            NN_target_7jet_1.append(full_targets[i]) \n",
    "    elif num_jets[i] >= 8:\n",
    "        NN_predict_8jet.append(full_predictions[i])\n",
    "        NN_target_8jet.append(full_targets[i])  \n",
    "        if n_match[i] == 2:\n",
    "            NN_predict_8jet_2.append(full_predictions[i])\n",
    "            NN_target_8jet_2.append(full_targets[i])   \n",
    "        elif n_match[i] == 1:\n",
    "            NN_predict_8jet_1.append(full_predictions[i])\n",
    "            NN_target_8jet_1.append(full_targets[i]) \n",
    "            \n",
    "chi2_predict_6jet, chi2_target_6jet = [], []\n",
    "chi2_predict_6jet_1, chi2_target_6jet_1 = [], []\n",
    "chi2_predict_6jet_2, chi2_target_6jet_2 = [], []\n",
    "\n",
    "chi2_predict_7jet, chi2_target_7jet = [], []\n",
    "chi2_predict_7jet_1, chi2_target_7jet_1 = [], []\n",
    "chi2_predict_7jet_2, chi2_target_7jet_2 = [], []\n",
    "\n",
    "chi2_predict_8jet, chi2_target_8jet = [], []\n",
    "chi2_predict_8jet_1, chi2_target_8jet_1 = [], []\n",
    "chi2_predict_8jet_2, chi2_target_8jet_2 = [], []\n",
    "for i in range(len(chi2_result)):\n",
    "    if len(jet_pt[i]) == 6:\n",
    "        chi2_predict_6jet.append(chi2_result[i])\n",
    "        chi2_target_6jet.append(delta_R_result[i])  \n",
    "        if N_match_top_in_event[i] == 1:\n",
    "            chi2_predict_6jet_1.append(chi2_result[i])\n",
    "            chi2_target_6jet_1.append(delta_R_result[i])   \n",
    "        elif N_match_top_in_event[i] == 2:\n",
    "            chi2_predict_6jet_2.append(chi2_result[i])\n",
    "            chi2_target_6jet_2.append(delta_R_result[i]) \n",
    "            \n",
    "    elif len(jet_pt[i]) == 7:\n",
    "        chi2_predict_7jet.append(chi2_result[i])\n",
    "        chi2_target_7jet.append(delta_R_result[i])  \n",
    "        if N_match_top_in_event[i] == 2:\n",
    "            chi2_predict_7jet_2.append(chi2_result[i])\n",
    "            chi2_target_7jet_2.append(delta_R_result[i])   \n",
    "        elif N_match_top_in_event[i] == 1:\n",
    "            chi2_predict_7jet_1.append(chi2_result[i])\n",
    "            chi2_target_7jet_1.append(delta_R_result[i]) \n",
    "    elif len(jet_pt[i]) >= 8:\n",
    "        chi2_predict_8jet.append(chi2_result[i])\n",
    "        chi2_target_8jet.append(delta_R_result[i])  \n",
    "        if N_match_top_in_event[i] == 2:\n",
    "            chi2_predict_8jet_2.append(chi2_result[i])\n",
    "            chi2_target_8jet_2.append(delta_R_result[i])   \n",
    "        elif N_match_top_in_event[i] == 1:\n",
    "            chi2_predict_8jet_1.append(chi2_result[i])\n",
    "            chi2_target_8jet_1.append(delta_R_result[i]) "
   ]
  },
  {
   "cell_type": "code",
   "execution_count": 20,
   "metadata": {},
   "outputs": [
    {
     "name": "stderr",
     "output_type": "stream",
     "text": [
      "100%|██████████| 359555/359555 [00:07<00:00, 47792.09it/s]\n",
      "100%|██████████| 204539/204539 [00:04<00:00, 44200.88it/s]\n",
      "100%|██████████| 88359/88359 [00:02<00:00, 43757.25it/s]\n",
      "100%|██████████| 359619/359619 [00:08<00:00, 40591.18it/s]\n",
      "100%|██████████| 204577/204577 [00:04<00:00, 46642.36it/s]\n",
      "100%|██████████| 88373/88373 [00:02<00:00, 42314.74it/s]\n"
     ]
    }
   ],
   "source": [
    "NN_case_6jet, NN_correct_right_6jet, NN_correct_left_6jet = compute(NN_predict_6jet, NN_target_6jet)\n",
    "NN_case_1_6jet, NN_correct_right_1_6jet, NN_correct_left_1_6jet = compute(NN_predict_6jet_1, NN_target_6jet_1)\n",
    "NN_cas_2_6jet, NN_correct_right_2_6jet, NN_correct_left_2_6jet = compute(NN_predict_6jet_2, NN_target_6jet_2)\n",
    "\n",
    "chi2_case_6jet, chi2_correct_right_6jet, chi2_correct_left_6jet = compute(chi2_predict_6jet, chi2_target_6jet)\n",
    "chi2_case_1_6jet, chi2_correct_right_1_6jet, chi2_correct_left_1_6jet = compute(chi2_predict_6jet_1, chi2_target_6jet_1)\n",
    "chi2_cas_2_6jet, chi2_correct_right_2_6jet, chi2_correct_left_2_6jet = compute(chi2_predict_6jet_2, chi2_target_6jet_2)"
   ]
  },
  {
   "cell_type": "code",
   "execution_count": 32,
   "metadata": {},
   "outputs": [
    {
     "name": "stdout",
     "output_type": "stream",
     "text": [
      "Event putiry (no filter, NN)               : 0.930\n",
      "Two top putiry (both matched, NN)          : 0.948\n",
      "Single top putiry (partial matched, NN)    : 0.271\n",
      "--------------------------------------------------------------------------------\n",
      "Event putiry (no filter, chi2)             : 0.638\n",
      "Two top putiry (both matched, chi2)        : 0.668\n",
      "Single top putiry (partial matched, chi2)  : 0.163\n"
     ]
    }
   ],
   "source": [
    "NN_event_purity_6jet = np.sum(NN_case_6jet==1)/( np.sum(NN_case_6jet==1) + np.sum(NN_case_6jet==2) + np.sum(NN_case_6jet==3))\n",
    "NN_two_top_purity_6jet = ( np.sum(NN_correct_right_2_6jet ==1) + np.sum(NN_correct_left_2_6jet==1)  )/( np.sum(NN_correct_right_2_6jet ==1) + np.sum(NN_correct_left_2_6jet==1) + np.sum(NN_correct_right_2_6jet ==0) + np.sum(NN_correct_left_2_6jet==0) )\n",
    "NN_single_top_purity_6jet = ( np.sum(NN_correct_right_1_6jet ==1) + np.sum(NN_correct_left_1_6jet==1)  )/( np.sum(NN_correct_right_1_6jet ==1) + np.sum(NN_correct_left_1_6jet==1) + np.sum(NN_correct_right_1_6jet ==0) + np.sum(NN_correct_left_1_6jet==0) )\n",
    "\n",
    "print(f'Event putiry (no filter, NN)               : {NN_event_purity_6jet:.3f}')\n",
    "print(f'Two top putiry (both matched, NN)          : {NN_two_top_purity_6jet:.3f}')\n",
    "print(f'Single top putiry (partial matched, NN)    : {NN_single_top_purity_6jet:.3f}')\n",
    "\n",
    "print(\"-\"*80)\n",
    "\n",
    "chi2_event_purity_6jet = np.sum(chi2_case_6jet==1)/( np.sum(chi2_case_6jet==1) + np.sum(chi2_case_6jet==2) + np.sum(chi2_case_6jet==3))\n",
    "chi2_two_top_purity_6jet =  ( np.sum(chi2_correct_right_2_6jet ==1) + np.sum(chi2_correct_left_2_6jet==1)  )/( np.sum(chi2_correct_right_2_6jet ==1) + np.sum(chi2_correct_left_2_6jet==1) + np.sum(chi2_correct_right_2_6jet ==0) + np.sum(chi2_correct_left_2_6jet==0) )\n",
    "chi2_single_top_purity_6jet = ( np.sum(chi2_correct_right_1_6jet ==1) + np.sum(chi2_correct_left_1_6jet==1)  )/( np.sum(chi2_correct_right_1_6jet ==1) + np.sum(chi2_correct_left_1_6jet==1) + np.sum(chi2_correct_right_1_6jet ==0) + np.sum(chi2_correct_left_1_6jet==0) )\n",
    "print(f'Event putiry (no filter, chi2)             : {chi2_event_purity_6jet:.3f}')\n",
    "print(f'Two top putiry (both matched, chi2)        : {chi2_two_top_purity_6jet:.3f}')\n",
    "print(f'Single top putiry (partial matched, chi2)  : {chi2_single_top_purity_6jet:.3f}')"
   ]
  },
  {
   "cell_type": "code",
   "execution_count": 23,
   "metadata": {},
   "outputs": [
    {
     "name": "stderr",
     "output_type": "stream",
     "text": [
      "100%|██████████| 395797/395797 [00:09<00:00, 40743.48it/s]\n",
      "100%|██████████| 208848/208848 [00:05<00:00, 40296.89it/s]\n",
      "100%|██████████| 126902/126902 [00:03<00:00, 39802.95it/s]\n",
      "100%|██████████| 395858/395858 [00:10<00:00, 36765.12it/s]\n",
      "100%|██████████| 208878/208878 [00:05<00:00, 35664.32it/s]\n",
      "100%|██████████| 126920/126920 [00:03<00:00, 36515.16it/s]\n"
     ]
    }
   ],
   "source": [
    "NN_case_7jet, NN_correct_right_7jet, NN_correct_left_7jet = compute(NN_predict_7jet, NN_target_7jet)\n",
    "NN_case_1_7jet, NN_correct_right_1_7jet, NN_correct_left_1_7jet = compute(NN_predict_7jet_1, NN_target_7jet_1)\n",
    "NN_cas_2_7jet, NN_correct_right_2_7jet, NN_correct_left_2_7jet = compute(NN_predict_7jet_2, NN_target_7jet_2)\n",
    "\n",
    "chi2_case_7jet, chi2_correct_right_7jet, chi2_correct_left_7jet = compute(chi2_predict_7jet, chi2_target_7jet)\n",
    "chi2_case_1_7jet, chi2_correct_right_1_7jet, chi2_correct_left_1_7jet = compute(chi2_predict_7jet_1, chi2_target_7jet_1)\n",
    "chi2_cas_2_7jet, chi2_correct_right_2_7jet, chi2_correct_left_2_7jet = compute(chi2_predict_7jet_2, chi2_target_7jet_2)"
   ]
  },
  {
   "cell_type": "code",
   "execution_count": 30,
   "metadata": {},
   "outputs": [
    {
     "name": "stdout",
     "output_type": "stream",
     "text": [
      "Event putiry (no filter, NN)               : 0.878\n",
      "Two top putiry (both matched, NN)          : 0.916\n",
      "Single top putiry (partial matched, NN)    : 0.251\n",
      "--------------------------------------------------------------------------------\n",
      "Event putiry (no filter, chi2)             : 0.432\n",
      "Two top putiry (both matched, chi2)        : 0.526\n",
      "Single top putiry (partial matched, chi2)  : 0.164\n"
     ]
    }
   ],
   "source": [
    "NN_event_purity_7jet = np.sum(NN_case_7jet==1)/( np.sum(NN_case_7jet==1) + np.sum(NN_case_7jet==2) + np.sum(NN_case_7jet==3))\n",
    "NN_two_top_purity_7jet =( np.sum(NN_correct_right_2_7jet ==1) + np.sum(NN_correct_left_2_7jet==1)  )/( np.sum(NN_correct_right_2_7jet ==1) + np.sum(NN_correct_left_2_7jet==1) + np.sum(NN_correct_right_2_7jet ==0) + np.sum(NN_correct_left_2_7jet==0) )\n",
    "NN_single_top_purity_7jet = ( np.sum(NN_correct_right_1_7jet ==1) + np.sum(NN_correct_left_1_7jet==1)  )/( np.sum(NN_correct_right_1_7jet ==1) + np.sum(NN_correct_left_1_7jet==1) + np.sum(NN_correct_right_1_7jet ==0) + np.sum(NN_correct_left_1_7jet==0) )\n",
    "\n",
    "print(f'Event putiry (no filter, NN)               : {NN_event_purity_7jet:.3f}')\n",
    "print(f'Two top putiry (both matched, NN)          : {NN_two_top_purity_7jet:.3f}')\n",
    "print(f'Single top putiry (partial matched, NN)    : {NN_single_top_purity_7jet:.3f}')\n",
    "\n",
    "print(\"-\"*80)\n",
    "\n",
    "chi2_event_purity_7jet = np.sum(chi2_case_7jet==1)/( np.sum(chi2_case_7jet==1) + np.sum(chi2_case_7jet==2) + np.sum(chi2_case_7jet==3))\n",
    "chi2_two_top_purity_7jet = ( np.sum(chi2_correct_right_2_7jet ==1) + np.sum(chi2_correct_left_2_7jet==1)  )/( np.sum(chi2_correct_right_2_7jet ==1) + np.sum(chi2_correct_left_2_7jet==1) + np.sum(chi2_correct_right_2_7jet ==0) + np.sum(chi2_correct_left_2_7jet==0) )\n",
    "chi2_single_top_purity_7jet = ( np.sum(chi2_correct_right_1_7jet ==1) + np.sum(chi2_correct_left_1_7jet==1)  )/( np.sum(chi2_correct_right_1_7jet ==1) + np.sum(chi2_correct_left_1_7jet==1) + np.sum(chi2_correct_right_1_7jet ==0) + np.sum(chi2_correct_left_1_7jet==0) )\n",
    "print(f'Event putiry (no filter, chi2)             : {chi2_event_purity_7jet:.3f}')\n",
    "print(f'Two top putiry (both matched, chi2)        : {chi2_two_top_purity_7jet:.3f}')\n",
    "print(f'Single top putiry (partial matched, chi2)  : {chi2_single_top_purity_7jet:.3f}')"
   ]
  },
  {
   "cell_type": "code",
   "execution_count": 27,
   "metadata": {},
   "outputs": [
    {
     "name": "stderr",
     "output_type": "stream",
     "text": [
      "100%|██████████| 428904/428904 [00:10<00:00, 40602.33it/s]\n",
      "100%|██████████| 206329/206329 [00:05<00:00, 36101.84it/s]\n",
      "100%|██████████| 171710/171710 [00:05<00:00, 33544.32it/s]\n",
      "100%|██████████| 428971/428971 [00:10<00:00, 40736.51it/s]\n",
      "100%|██████████| 206363/206363 [00:05<00:00, 35146.30it/s]\n",
      "100%|██████████| 171738/171738 [00:05<00:00, 30925.00it/s]"
     ]
    },
    {
     "name": "stdout",
     "output_type": "stream",
     "text": [
      "Event putiry (no filter, NN)               : 0.826\n",
      "Two top putiry (both matched, NN)          : 0.876\n",
      "Single top putiry (partial matched, NN)    : 0.224\n",
      "--------------------------------------------------------------------------------\n",
      "Event putiry (no filter, chi2)             : 0.250\n",
      "Two top putiry (both matched, chi2)        : 0.285\n",
      "Single top putiry (partial matched, chi2)  : 0.133\n"
     ]
    },
    {
     "name": "stderr",
     "output_type": "stream",
     "text": [
      "\n"
     ]
    }
   ],
   "source": [
    "NN_case_8jet, NN_correct_right_8jet, NN_correct_left_8jet = compute(NN_predict_8jet, NN_target_8jet)\n",
    "NN_case_1_8jet, NN_correct_right_1_8jet, NN_correct_left_1_8jet = compute(NN_predict_8jet_1, NN_target_8jet_1)\n",
    "NN_cas_2_8jet, NN_correct_right_2_8jet, NN_correct_left_2_8jet = compute(NN_predict_8jet_2, NN_target_8jet_2)\n",
    "\n",
    "chi2_case_8jet, chi2_correct_right_8jet, chi2_correct_left_8jet = compute(chi2_predict_8jet, chi2_target_8jet)\n",
    "chi2_case_1_8jet, chi2_correct_right_1_8jet, chi2_correct_left_1_8jet = compute(chi2_predict_8jet_1, chi2_target_8jet_1)\n",
    "chi2_cas_2_8jet, chi2_correct_right_2_8jet, chi2_correct_left_2_8jet = compute(chi2_predict_8jet_2, chi2_target_8jet_2)"
   ]
  },
  {
   "cell_type": "code",
   "execution_count": 29,
   "metadata": {},
   "outputs": [
    {
     "name": "stdout",
     "output_type": "stream",
     "text": [
      "Event putiry (no filter, NN)               : 0.826\n",
      "Two top putiry (both matched, NN)          : 0.883\n",
      "Single top putiry (partial matched, NN)    : 0.224\n",
      "--------------------------------------------------------------------------------\n",
      "Event putiry (no filter, chi2)             : 0.250\n",
      "Two top putiry (both matched, chi2)        : 0.375\n",
      "Single top putiry (partial matched, chi2)  : 0.133\n"
     ]
    }
   ],
   "source": [
    "NN_event_purity_8jet = np.sum(NN_case_8jet==1)/( np.sum(NN_case_8jet==1) + np.sum(NN_case_8jet==2) + np.sum(NN_case_8jet==3))\n",
    "NN_two_top_purity_8jet = ( np.sum(NN_correct_right_2_8jet ==1) + np.sum(NN_correct_left_2_8jet==1)  )/( np.sum(NN_correct_right_2_8jet ==1) + np.sum(NN_correct_left_2_8jet==1) + np.sum(NN_correct_right_2_8jet ==0) + np.sum(NN_correct_left_2_8jet==0) )\n",
    "NN_single_top_purity_8jet = ( np.sum(NN_correct_right_1_8jet ==1) + np.sum(NN_correct_left_1_8jet==1)  )/( np.sum(NN_correct_right_1_8jet ==1) + np.sum(NN_correct_left_1_8jet==1) + np.sum(NN_correct_right_1_8jet ==0) + np.sum(NN_correct_left_1_8jet==0) )\n",
    "\n",
    "print(f'Event putiry (no filter, NN)               : {NN_event_purity_8jet:.3f}')\n",
    "print(f'Two top putiry (both matched, NN)          : {NN_two_top_purity_8jet:.3f}')\n",
    "print(f'Single top putiry (partial matched, NN)    : {NN_single_top_purity_8jet:.3f}')\n",
    "\n",
    "print(\"-\"*80)\n",
    "\n",
    "chi2_event_purity_8jet = np.sum(chi2_case_8jet==1)/( np.sum(chi2_case_8jet==1) + np.sum(chi2_case_8jet==2) + np.sum(chi2_case_8jet==3))\n",
    "chi2_two_top_purity_8jet = ( np.sum(chi2_correct_right_2_8jet ==1) + np.sum(chi2_correct_left_2_8jet==1)  )/( np.sum(chi2_correct_right_2_8jet ==1) + np.sum(chi2_correct_left_2_8jet==1) + np.sum(chi2_correct_right_2_8jet ==0) + np.sum(chi2_correct_left_2_8jet==0) )\n",
    "chi2_single_top_purity_8jet = ( np.sum(chi2_correct_right_1_8jet ==1) + np.sum(chi2_correct_left_1_8jet==1)  )/( np.sum(chi2_correct_right_1_8jet ==1) + np.sum(chi2_correct_left_1_8jet==1) + np.sum(chi2_correct_right_1_8jet ==0) + np.sum(chi2_correct_left_1_8jet==0) )\n",
    "print(f'Event putiry (no filter, chi2)             : {chi2_event_purity_8jet:.3f}')\n",
    "print(f'Two top putiry (both matched, chi2)        : {chi2_two_top_purity_8jet:.3f}')\n",
    "print(f'Single top putiry (partial matched, chi2)  : {chi2_single_top_purity_8jet:.3f}')"
   ]
  },
  {
   "cell_type": "markdown",
   "metadata": {},
   "source": [
    "# Alex's result(using Alex's script)<br>\n",
    "Total number of correct top quarks   : 983052<br>\n",
    "Total number of incorrect top quarks : 410606<br>\n",
    "Total number of incomplete top quarks: 974854<br>\n",
    "<br>\n",
    "Top Purity (Unfiltered): 0.237<br>\n",
    "Top Purity (1 Top Events): 0.293<br>\n",
    "Top Purity (2 Top Events): 0.491<br>\n",
    "<br>\n",
    "Event Purity (Unfiltered): 0.130<br>\n",
    "Event Purity (2 Top Events): 0.398<br>\n",
    "<br>\n",
    "Total ratio of 0 top events: 0.150<br>\n",
    "Total ratio of 1 top events: 0.523<br>\n",
    "Total ratio of 2 top events: 0.327<br>\n",
    "<br>\n",
    "--------------------------------------------------------------------------------<br>\n",
    "Top Purity (1 Top Events): 0.293<br>\n",
    "Top Purity (2 Top Events): 0.491<br>\n",
    "Event Purity (2 Top Events): 0.398<br>"
   ]
  },
  {
   "cell_type": "code",
   "execution_count": null,
   "metadata": {},
   "outputs": [],
   "source": []
  }
 ],
 "metadata": {
  "kernelspec": {
   "display_name": "Python 3",
   "language": "python",
   "name": "python3"
  },
  "language_info": {
   "codemirror_mode": {
    "name": "ipython",
    "version": 3
   },
   "file_extension": ".py",
   "mimetype": "text/x-python",
   "name": "python",
   "nbconvert_exporter": "python",
   "pygments_lexer": "ipython3",
   "version": "3.6.8"
  }
 },
 "nbformat": 4,
 "nbformat_minor": 4
}
