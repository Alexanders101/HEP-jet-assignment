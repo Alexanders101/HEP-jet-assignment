{
 "cells": [
  {
   "cell_type": "code",
   "execution_count": 1,
   "metadata": {},
   "outputs": [],
   "source": [
    "import numpy as np\n",
    "from matplotlib import rcParams\n",
    "import matplotlib.pyplot as plt\n",
    "import seaborn as sb\n",
    "import h5py\n",
    "\n",
    "from tqdm import tqdm\n",
    "from glob import glob\n",
    "from os import makedirs\n",
    "import dill"
   ]
  },
  {
   "cell_type": "code",
   "execution_count": 2,
   "metadata": {},
   "outputs": [],
   "source": [
    "# set to true to disable nerual network outputs and use the best-case targets as predictions\n",
    "PERFECT = False\n",
    "CHI2 = True\n",
    "NPZ_FILE = \"./data/results_2020_10_17_nofilter.npz\"\n",
    "ALPHA=0.1\n",
    "TITLE_SIZE = 45\n",
    "\n",
    "NNET_NAME = r\"\\textsc{Spa-Net}\"\n",
    "NNET_NAME = r\"\\textsc{Spa}$t\\bar{t}$\\textsc{er}\"\n",
    "NNET_NAME = r\"\\textsc{Spa}$t\\bar{t}$\\hspace{0.05em}\\textsc{er}\"\n",
    "\n",
    "SHARED_PLOTS = False"
   ]
  },
  {
   "cell_type": "code",
   "execution_count": 3,
   "metadata": {},
   "outputs": [
    {
     "name": "stderr",
     "output_type": "stream",
     "text": [
      "100%|██████████| 59/59 [00:03<00:00, 19.15it/s]\n"
     ]
    }
   ],
   "source": [
    "if CHI2:\n",
    "    chi2_storage = []\n",
    "    NUM_CHI2 = 59\n",
    "\n",
    "    for i in tqdm(range(NUM_CHI2)):\n",
    "        with h5py.File(f\"./backup/evaluate_new_with_JES/output_vector_{i + 1}.h5\", 'r') as file:\n",
    "            chi2_result = np.stack(file[\"Chi2_result\"][:]).astype(np.int)\n",
    "        chi2_storage.append(chi2_result)\n",
    "\n",
    "    chi2_result = np.concatenate(chi2_storage)\n",
    "    del chi2_storage\n",
    "    \n",
    "    verify_sum = chi2_result[:, [1, 2]].sum(1)\n",
    "    should_swap = chi2_result[:, 1] > chi2_result[:, 2]\n",
    "    chi2_result[should_swap, 1], chi2_result[should_swap, 2] = chi2_result[should_swap, 2], chi2_result[should_swap, 1]\n",
    "\n",
    "    assert (chi2_result[:, [1, 2]].sum(1) == verify_sum).all()\n",
    "\n",
    "    verify_sum = chi2_result[:, [4, 5]].sum(1)\n",
    "    should_swap = chi2_result[:, 4] > chi2_result[:, 5]\n",
    "    chi2_result[should_swap, 4], chi2_result[should_swap, 5] = chi2_result[should_swap, 5], chi2_result[should_swap, 4]\n",
    "\n",
    "    assert (chi2_result[:, [4, 5]].sum(1) == verify_sum).all()"
   ]
  },
  {
   "cell_type": "code",
   "execution_count": 4,
   "metadata": {},
   "outputs": [],
   "source": [
    "results = np.load(NPZ_FILE)\n",
    "full_dataset = results[\"dataset\"]\n",
    "full_predictions = results[\"predictions\"]\n",
    "full_targets = results[\"targets\"]\n",
    "n_match = results[\"n_match\"]\n",
    "num_samples = full_predictions.shape[0]\n",
    "\n",
    "num_jets = (full_dataset.sum(-1) > 0).sum(-1)\n",
    "\n",
    "if PERFECT:\n",
    "    full_predictions = full_targets\n",
    "    \n",
    "if CHI2:\n",
    "    full_predictions = chi2_result[:num_samples]"
   ]
  },
  {
   "cell_type": "code",
   "execution_count": 5,
   "metadata": {},
   "outputs": [],
   "source": [
    "# JET_LIMIT = num_jets == 6\n",
    "# JET_LIMIT = num_jets == 7\n",
    "# JET_LIMIT = num_jets >= 8"
   ]
  },
  {
   "cell_type": "code",
   "execution_count": 6,
   "metadata": {},
   "outputs": [],
   "source": [
    "try:\n",
    "    full_dataset = full_dataset[JET_LIMIT]\n",
    "    full_predictions = full_predictions[JET_LIMIT]\n",
    "    full_targets = full_targets[JET_LIMIT]\n",
    "    n_match = n_match[JET_LIMIT]\n",
    "except NameError:\n",
    "    pass"
   ]
  },
  {
   "cell_type": "code",
   "execution_count": 7,
   "metadata": {},
   "outputs": [],
   "source": [
    "# Triplet posibilities\n",
    "# 0: Correct\n",
    "# 1: Incorrect\n",
    "# 2: Non-match i.e. impossible\n",
    "correct = []\n",
    "incorrect = []\n",
    "non_match = []"
   ]
  },
  {
   "cell_type": "code",
   "execution_count": 8,
   "metadata": {},
   "outputs": [],
   "source": [
    "# 2 Top-quark accuracy calculations\n",
    "# #############################################################################\n",
    "\n",
    "twin_idx = n_match == 2\n",
    "twin_dummy_idx = np.arange(twin_idx.sum()).reshape(-1, 1)\n",
    "\n",
    "# Get the associated targets, prediction, and vectors\n",
    "# Split into the two triplets (b1, q1, q2) -> Left and (b2, q3, q4) -> Right\n",
    "left_targets = full_targets[twin_idx, :3]\n",
    "right_targets = full_targets[twin_idx, 3:]\n",
    "\n",
    "left_predictions = full_predictions[twin_idx, :3]\n",
    "right_predictions = full_predictions[twin_idx, 3:]\n",
    "\n",
    "twin_dataset = full_dataset[twin_idx]\n",
    "left_vectors = twin_dataset[twin_dummy_idx, left_predictions]\n",
    "right_vectors = twin_dataset[twin_dummy_idx, right_predictions]\n",
    "\n",
    "# Compute which predictions are correct and not correct\n",
    "# We enfore C-symmetry here by taking the or with both targets\n",
    "left_correct = (left_targets == left_predictions).all(1) | (right_targets == left_predictions).all(1)\n",
    "right_correct = (left_targets == right_predictions).all(1) | (right_targets == right_predictions).all(1)\n",
    "\n",
    "# We enforce qq symmetry by enforcing that the lower index jet must come first\n",
    "assert (left_predictions[:, 1] < left_predictions[:, 2]).all()\n",
    "assert (right_predictions[:, 1] < right_predictions[:, 2]).all()\n",
    "\n",
    "assert (left_targets[:, 1] < left_targets[:, 2]).all()\n",
    "assert (right_targets[:, 1] < right_targets[:, 2]).all()\n",
    "\n",
    "# Helper arrays for purity calculation\n",
    "both_correct = left_correct & right_correct\n",
    "either_correct = left_correct | right_correct\n",
    "\n",
    "# Add any predictions that ended being correct to the list of correct vectors\n",
    "correct.append(left_vectors[left_correct])\n",
    "correct.append(right_vectors[right_correct])\n",
    "\n",
    "# Other vectors for 2 top-quark are gauranteed to be incorrect\n",
    "incorrect.append(left_vectors[~left_correct])\n",
    "incorrect.append(right_vectors[~right_correct])\n",
    "\n",
    "twin_left_vectors = left_vectors\n",
    "twin_right_vectors = right_vectors\n",
    "\n",
    "# For 2-top events, event purity is the number of times we got both triplets correct\n",
    "twin_event_purity_filtered = (left_correct & right_correct).mean()\n",
    "\n",
    "# For 2-top events, top purity is number of tops we got correct / (2 * number of events) <- (total number of tops)\n",
    "twin_top_purity_filtered = (left_correct.sum() + right_correct.sum()) / (2 * right_correct.shape[0])"
   ]
  },
  {
   "cell_type": "code",
   "execution_count": 9,
   "metadata": {},
   "outputs": [
    {
     "name": "stdout",
     "output_type": "stream",
     "text": [
      "True\n"
     ]
    }
   ],
   "source": [
    "# 1 Top-quark accuracy calculations\n",
    "# #############################################################################\n",
    "\n",
    "single_idx = n_match == 1\n",
    "\n",
    "# Get the associated targets, prediction, and vectors\n",
    "# Split into the two triplets (b1, q1, q2) -> Left and (b2, q3, q4) -> Right\n",
    "left_targets = full_targets[single_idx, :3]\n",
    "right_targets = full_targets[single_idx, 3:]\n",
    "\n",
    "left_predictions = full_predictions[single_idx, :3]\n",
    "right_predictions = full_predictions[single_idx, 3:]\n",
    "\n",
    "single_dataset = full_dataset[single_idx]\n",
    "single_dummy_idx = np.arange(single_idx.sum()).reshape(-1, 1)\n",
    "left_vectors = single_dataset[single_dummy_idx, left_predictions]\n",
    "right_vectors = single_dataset[single_dummy_idx, right_predictions]\n",
    "\n",
    "# Find the one triplet that is complete in the targets\n",
    "left_jets = np.fromiter(map(lambda x: (x >= 0).sum(), left_targets), np.int64, single_idx.sum())\n",
    "right_jets = np.fromiter(map(lambda x: (x >= 0).sum(), right_targets), np.int64, single_idx.sum())\n",
    "\n",
    "single_targets = np.zeros_like(left_targets)\n",
    "single_targets[left_jets == 3] = left_targets[left_jets == 3]\n",
    "single_targets[right_jets == 3] = right_targets[right_jets == 3]\n",
    "print(((left_jets == 3) ^ (right_jets == 3)).all())\n",
    "# Check that there is exactly one target per event\n",
    "assert ((left_jets == 3) ^ (right_jets == 3)).all()\n",
    "\n",
    "# Each branch is correct if it matches the single target\n",
    "left_correct = (single_targets == left_predictions).all(1)\n",
    "right_correct = (single_targets == right_predictions).all(1)\n",
    "\n",
    "# If a branch didnt get a prediction correct, BUT the other branch did, then this prediction was just impossible!\n",
    "impossible_left = ~left_correct & right_correct\n",
    "impossible_right = ~right_correct & left_correct\n",
    "\n",
    "# Because the three posibility are mutually exclusive, we can just \n",
    "# quickly compute the incorrect vectors with some boolean algebra\n",
    "# We will double up incorrect if we include both, so lets just say that \n",
    "# the left one is incorrect and the other one was impossible\n",
    "# The choice is arbitrary\n",
    "left_incorrect = ~(left_correct | impossible_left)\n",
    "impossible_right_2 = ~(right_correct | impossible_right)\n",
    "\n",
    "correct.append(left_vectors[left_correct])\n",
    "correct.append(right_vectors[right_correct])\n",
    "\n",
    "non_match.append(left_vectors[impossible_left])\n",
    "non_match.append(right_vectors[impossible_right])\n",
    "non_match.append(right_vectors[impossible_right_2])\n",
    "\n",
    "incorrect.append(left_vectors[left_incorrect])\n",
    "\n",
    "# For 1-top events, top purity is just the number of tops we got correct / number of events since only 1 top chance per.\n",
    "single_top_purity_filtered = (left_correct.sum() + right_correct.sum()) / (right_correct.shape[0])"
   ]
  },
  {
   "cell_type": "code",
   "execution_count": 10,
   "metadata": {},
   "outputs": [],
   "source": [
    "# 0 Top-quark accuracy calculations\n",
    "# #############################################################################\n",
    "\n",
    "zero_idx = n_match == 0\n",
    "\n",
    "# All vectors here are gauranteed to be no-match\n",
    "left_predictions = full_predictions[zero_idx, :3]\n",
    "right_predictions = full_predictions[zero_idx, 3:]\n",
    "\n",
    "zero_dataset = full_dataset[zero_idx]\n",
    "zero_dummy_idx = np.arange(zero_idx.sum()).reshape(-1, 1)\n",
    "left_vectors = zero_dataset[zero_dummy_idx, left_predictions]\n",
    "right_vectors = zero_dataset[zero_dummy_idx, right_predictions]\n",
    "\n",
    "non_match.append(left_vectors)\n",
    "non_match.append(right_vectors)"
   ]
  },
  {
   "cell_type": "code",
   "execution_count": 11,
   "metadata": {},
   "outputs": [],
   "source": [
    "correct = np.concatenate(correct)\n",
    "incorrect = np.concatenate(incorrect)\n",
    "non_match = np.concatenate(non_match)\n",
    "\n",
    "# We should have two vectors per original event\n",
    "assert (correct.shape[0] + incorrect.shape[0] + non_match.shape[0]) / 2 == full_dataset.shape[0]\n",
    "\n",
    "# If we're doing a perfect test, then we should have no incorrect vectors\n",
    "if PERFECT:\n",
    "    assert incorrect.shape[0] == 0"
   ]
  },
  {
   "cell_type": "code",
   "execution_count": 12,
   "metadata": {},
   "outputs": [
    {
     "name": "stdout",
     "output_type": "stream",
     "text": [
      "Total number of correct top quarks   : 561756\n",
      "Total number of incorrect top quarks : 831902\n",
      "Total number of incomplete top quarks: 974854\n"
     ]
    }
   ],
   "source": [
    "print(f\"Total number of correct top quarks   : {correct.shape[0]}\")\n",
    "print(f\"Total number of incorrect top quarks : {incorrect.shape[0]}\")\n",
    "print(f\"Total number of incomplete top quarks: {non_match.shape[0]}\")"
   ]
  },
  {
   "cell_type": "code",
   "execution_count": 13,
   "metadata": {},
   "outputs": [
    {
     "name": "stdout",
     "output_type": "stream",
     "text": [
      "Top Purity (Unfiltered): 0.237\n",
      "Top Purity (1 Top Events): 0.293\n",
      "Top Purity (2 Top Events): 0.491\n",
      "\n",
      "Event Purity (Unfiltered): 0.130\n",
      "Event Purity (2 Top Events): 0.398\n",
      "\n",
      "Total ratio of 0 top events: 0.150\n",
      "Total ratio of 1 top events: 0.523\n",
      "Total ratio of 2 top events: 0.327\n",
      "\n",
      "--------------------------------------------------------------------------------\n",
      "Top Purity (1 Top Events): 0.293\n",
      "Top Purity (2 Top Events): 0.491\n",
      "Event Purity (2 Top Events): 0.398\n"
     ]
    }
   ],
   "source": [
    "print(f\"Top Purity (Unfiltered): {len(correct) / (len(correct) + len(incorrect) + len(non_match)):.3f}\")\n",
    "print(f\"Top Purity (1 Top Events): {single_top_purity_filtered:.3f}\")\n",
    "print(f\"Top Purity (2 Top Events): {twin_top_purity_filtered:.3f}\")\n",
    "\n",
    "print()\n",
    "print(f\"Event Purity (Unfiltered): {both_correct.sum() / full_dataset.shape[0]:.3f}\")\n",
    "print(f\"Event Purity (2 Top Events): {twin_event_purity_filtered:.3f}\")\n",
    "\n",
    "print()\n",
    "print(f\"Total ratio of 0 top events: {(n_match == 0).mean():.3f}\")\n",
    "print(f\"Total ratio of 1 top events: {(n_match == 1).mean():.3f}\")\n",
    "print(f\"Total ratio of 2 top events: {(n_match == 2).mean():.3f}\")\n",
    "\n",
    "print()\n",
    "print(\"-\" * 80)\n",
    "print(f\"Top Purity (1 Top Events): {single_top_purity_filtered:.3f}\")\n",
    "print(f\"Top Purity (2 Top Events): {twin_top_purity_filtered:.3f}\")\n",
    "print(f\"Event Purity (2 Top Events): {twin_event_purity_filtered:.3f}\")"
   ]
  },
  {
   "cell_type": "code",
   "execution_count": 14,
   "metadata": {},
   "outputs": [
    {
     "data": {
      "text/plain": [
       "154041"
      ]
     },
     "execution_count": 14,
     "metadata": {},
     "output_type": "execute_result"
    }
   ],
   "source": [
    "both_correct.sum()"
   ]
  },
  {
   "cell_type": "code",
   "execution_count": null,
   "metadata": {},
   "outputs": [],
   "source": []
  },
  {
   "cell_type": "markdown",
   "metadata": {},
   "source": [
    "$$(E_1 + E_2)^2 - ||p_1 + p_2||^2$$"
   ]
  },
  {
   "cell_type": "code",
   "execution_count": 15,
   "metadata": {},
   "outputs": [],
   "source": [
    "# def invariant_mass(vectors):\n",
    "#     # vectors shape: (E, V, D)\n",
    "#     # E: Number of events (batch computation)\n",
    "#     # V: Number of vectors in each event\n",
    "#     # D: Component dimension, order listed below\n",
    "#     Pt, mass, phi, eta, btag = vectors.transpose(2, 0, 1)\n",
    "    \n",
    "#     scale = 1.0426366329193115\n",
    "#     Pt = Pt * scale\n",
    "#     mass = mass * scale\n",
    "    \n",
    "#     Px = Pt * np.cos(phi)\n",
    "#     Py = Pt * np.sin(phi)\n",
    "#     Pz = Pt * np.sinh(eta)\n",
    "#     E = np.sqrt( Px**2 + Py**2 + Pz**2 + mass**2)\n",
    "\n",
    "#     return np.sqrt(E.sum(1) ** 2 - Px.sum(1) ** 2 - Py.sum(1) ** 2 - Pz.sum(1) ** 2)"
   ]
  },
  {
   "cell_type": "code",
   "execution_count": 16,
   "metadata": {},
   "outputs": [],
   "source": [
    "def invariant_mass(vectors):\n",
    "    # vectors shape: (E, V, D)\n",
    "    # E: Number of events (batch computation)\n",
    "    # V: Number of vectors in each event\n",
    "    # D: Component dimension, order listed below\n",
    "    mass, Pt, eta, phi, btag = vectors.transpose(2, 0, 1)\n",
    "    \n",
    "    scale = -0.0008228230613626063 * Pt - 0.051359995969670155\n",
    "    scale = 1 - (scale / 2)\n",
    "\n",
    "    Pt = Pt * scale\n",
    "    mass = mass * scale\n",
    "    \n",
    "    Px = Pt * np.cos(phi)\n",
    "    Py = Pt * np.sin(phi)\n",
    "    Pz = Pt * np.sinh(eta)\n",
    "    E = np.sqrt( Px**2 + Py**2 + Pz**2 + mass**2)\n",
    "\n",
    "    return np.sqrt(E.sum(1) ** 2 - Px.sum(1) ** 2 - Py.sum(1) ** 2 - Pz.sum(1) ** 2)"
   ]
  },
  {
   "cell_type": "code",
   "execution_count": 17,
   "metadata": {},
   "outputs": [],
   "source": [
    "t_correct = invariant_mass(correct)\n",
    "t_incorrect = invariant_mass(incorrect)\n",
    "t_non_match = invariant_mass(non_match)\n",
    "\n",
    "W_correct = invariant_mass(correct[:, 1:])\n",
    "W_incorrect = invariant_mass(incorrect[:, 1:])\n",
    "W_non_match = invariant_mass(non_match[:, 1:])"
   ]
  },
  {
   "cell_type": "code",
   "execution_count": 18,
   "metadata": {},
   "outputs": [],
   "source": [
    "ttbar = twin_dataset[np.arange(twin_dataset.shape[0]).reshape(-1, 1), full_predictions[twin_idx]]\n",
    "ttbar = invariant_mass(ttbar)"
   ]
  },
  {
   "cell_type": "code",
   "execution_count": 19,
   "metadata": {},
   "outputs": [],
   "source": [
    "if PERFECT:\n",
    "    W_non_match = np.array([])\n",
    "    t_non_match = np.array([])"
   ]
  },
  {
   "cell_type": "code",
   "execution_count": 20,
   "metadata": {},
   "outputs": [],
   "source": [
    "sb.set(context='paper', style='whitegrid', font_scale=4.0)\n",
    "makedirs(\"./figures/\", exist_ok=True)\n",
    "rcParams['text.usetex'] = True\n",
    "rcParams['hatch.linewidth'] = 6"
   ]
  },
  {
   "cell_type": "code",
   "execution_count": 21,
   "metadata": {},
   "outputs": [],
   "source": [
    "from matplotlib import ticker\n",
    "mkfunc = lambda x, pos: '%1.0f M' % (x * 1e-6) if x >= 1e6 else '$%1.0f$K' % (x * 1e-3) if x >= 1e3 else '%1.0f' % x\n",
    "mkformatter = ticker.FuncFormatter(mkfunc)"
   ]
  },
  {
   "cell_type": "code",
   "execution_count": 22,
   "metadata": {},
   "outputs": [],
   "source": [
    "MODEL_NAME = NNET_NAME\n",
    "if CHI2:\n",
    "    MODEL_NAME = \"$\\\\chi^2$ Model.\"\n",
    "    \n",
    "if PERFECT:\n",
    "    MODEL_NAME = \"Ground Truth.\""
   ]
  },
  {
   "cell_type": "code",
   "execution_count": 23,
   "metadata": {},
   "outputs": [
    {
     "ename": "RuntimeError",
     "evalue": "Failed to process string with tex because latex could not be found",
     "output_type": "error",
     "traceback": [
      "\u001b[0;31m---------------------------------------------------------------------------\u001b[0m",
      "\u001b[0;31mFileNotFoundError\u001b[0m                         Traceback (most recent call last)",
      "\u001b[0;32m/usr/local/lib64/python3.6/site-packages/matplotlib/texmanager.py\u001b[0m in \u001b[0;36m_run_checked_subprocess\u001b[0;34m(self, command, tex)\u001b[0m\n\u001b[1;32m    305\u001b[0m                                              \u001b[0mcwd\u001b[0m\u001b[0;34m=\u001b[0m\u001b[0mself\u001b[0m\u001b[0;34m.\u001b[0m\u001b[0mtexcache\u001b[0m\u001b[0;34m,\u001b[0m\u001b[0;34m\u001b[0m\u001b[0;34m\u001b[0m\u001b[0m\n\u001b[0;32m--> 306\u001b[0;31m                                              stderr=subprocess.STDOUT)\n\u001b[0m\u001b[1;32m    307\u001b[0m         \u001b[0;32mexcept\u001b[0m \u001b[0mFileNotFoundError\u001b[0m \u001b[0;32mas\u001b[0m \u001b[0mexc\u001b[0m\u001b[0;34m:\u001b[0m\u001b[0;34m\u001b[0m\u001b[0;34m\u001b[0m\u001b[0m\n",
      "\u001b[0;32m/usr/lib64/python3.6/subprocess.py\u001b[0m in \u001b[0;36mcheck_output\u001b[0;34m(timeout, *popenargs, **kwargs)\u001b[0m\n\u001b[1;32m    355\u001b[0m     return run(*popenargs, stdout=PIPE, timeout=timeout, check=True,\n\u001b[0;32m--> 356\u001b[0;31m                **kwargs).stdout\n\u001b[0m\u001b[1;32m    357\u001b[0m \u001b[0;34m\u001b[0m\u001b[0m\n",
      "\u001b[0;32m/usr/lib64/python3.6/subprocess.py\u001b[0m in \u001b[0;36mrun\u001b[0;34m(input, timeout, check, *popenargs, **kwargs)\u001b[0m\n\u001b[1;32m    422\u001b[0m \u001b[0;34m\u001b[0m\u001b[0m\n\u001b[0;32m--> 423\u001b[0;31m     \u001b[0;32mwith\u001b[0m \u001b[0mPopen\u001b[0m\u001b[0;34m(\u001b[0m\u001b[0;34m*\u001b[0m\u001b[0mpopenargs\u001b[0m\u001b[0;34m,\u001b[0m \u001b[0;34m**\u001b[0m\u001b[0mkwargs\u001b[0m\u001b[0;34m)\u001b[0m \u001b[0;32mas\u001b[0m \u001b[0mprocess\u001b[0m\u001b[0;34m:\u001b[0m\u001b[0;34m\u001b[0m\u001b[0;34m\u001b[0m\u001b[0m\n\u001b[0m\u001b[1;32m    424\u001b[0m         \u001b[0;32mtry\u001b[0m\u001b[0;34m:\u001b[0m\u001b[0;34m\u001b[0m\u001b[0;34m\u001b[0m\u001b[0m\n",
      "\u001b[0;32m/usr/lib64/python3.6/subprocess.py\u001b[0m in \u001b[0;36m__init__\u001b[0;34m(self, args, bufsize, executable, stdin, stdout, stderr, preexec_fn, close_fds, shell, cwd, env, universal_newlines, startupinfo, creationflags, restore_signals, start_new_session, pass_fds, encoding, errors)\u001b[0m\n\u001b[1;32m    728\u001b[0m                                 \u001b[0merrread\u001b[0m\u001b[0;34m,\u001b[0m \u001b[0merrwrite\u001b[0m\u001b[0;34m,\u001b[0m\u001b[0;34m\u001b[0m\u001b[0;34m\u001b[0m\u001b[0m\n\u001b[0;32m--> 729\u001b[0;31m                                 restore_signals, start_new_session)\n\u001b[0m\u001b[1;32m    730\u001b[0m         \u001b[0;32mexcept\u001b[0m\u001b[0;34m:\u001b[0m\u001b[0;34m\u001b[0m\u001b[0;34m\u001b[0m\u001b[0m\n",
      "\u001b[0;32m/usr/lib64/python3.6/subprocess.py\u001b[0m in \u001b[0;36m_execute_child\u001b[0;34m(self, args, executable, preexec_fn, close_fds, pass_fds, cwd, env, startupinfo, creationflags, shell, p2cread, p2cwrite, c2pread, c2pwrite, errread, errwrite, restore_signals, start_new_session)\u001b[0m\n\u001b[1;32m   1363\u001b[0m                             \u001b[0merr_msg\u001b[0m \u001b[0;34m+=\u001b[0m \u001b[0;34m': '\u001b[0m \u001b[0;34m+\u001b[0m \u001b[0mrepr\u001b[0m\u001b[0;34m(\u001b[0m\u001b[0merr_filename\u001b[0m\u001b[0;34m)\u001b[0m\u001b[0;34m\u001b[0m\u001b[0;34m\u001b[0m\u001b[0m\n\u001b[0;32m-> 1364\u001b[0;31m                     \u001b[0;32mraise\u001b[0m \u001b[0mchild_exception_type\u001b[0m\u001b[0;34m(\u001b[0m\u001b[0merrno_num\u001b[0m\u001b[0;34m,\u001b[0m \u001b[0merr_msg\u001b[0m\u001b[0;34m,\u001b[0m \u001b[0merr_filename\u001b[0m\u001b[0;34m)\u001b[0m\u001b[0;34m\u001b[0m\u001b[0;34m\u001b[0m\u001b[0m\n\u001b[0m\u001b[1;32m   1365\u001b[0m                 \u001b[0;32mraise\u001b[0m \u001b[0mchild_exception_type\u001b[0m\u001b[0;34m(\u001b[0m\u001b[0merr_msg\u001b[0m\u001b[0;34m)\u001b[0m\u001b[0;34m\u001b[0m\u001b[0;34m\u001b[0m\u001b[0m\n",
      "\u001b[0;31mFileNotFoundError\u001b[0m: [Errno 2] No such file or directory: 'latex': 'latex'",
      "\nThe above exception was the direct cause of the following exception:\n",
      "\u001b[0;31mRuntimeError\u001b[0m                              Traceback (most recent call last)",
      "\u001b[0;32m<ipython-input-23-7d74cdab56f1>\u001b[0m in \u001b[0;36m<module>\u001b[0;34m\u001b[0m\n\u001b[1;32m     30\u001b[0m \u001b[0;34m\u001b[0m\u001b[0m\n\u001b[1;32m     31\u001b[0m \u001b[0;34m\u001b[0m\u001b[0m\n\u001b[0;32m---> 32\u001b[0;31m \u001b[0mplt\u001b[0m\u001b[0;34m.\u001b[0m\u001b[0mtight_layout\u001b[0m\u001b[0;34m(\u001b[0m\u001b[0;34m)\u001b[0m\u001b[0;34m\u001b[0m\u001b[0;34m\u001b[0m\u001b[0m\n\u001b[0m\u001b[1;32m     33\u001b[0m \u001b[0mplt\u001b[0m\u001b[0;34m.\u001b[0m\u001b[0msavefig\u001b[0m\u001b[0;34m(\u001b[0m\u001b[0;34mf\"./figures/network_t_quark_stacked{'_perfect' if PERFECT else ''}{'_chi2' if CHI2 else ''}.pdf\"\u001b[0m\u001b[0;34m,\u001b[0m \u001b[0mbbox_inches\u001b[0m\u001b[0;34m=\u001b[0m\u001b[0;34m'tight'\u001b[0m\u001b[0;34m)\u001b[0m\u001b[0;34m\u001b[0m\u001b[0;34m\u001b[0m\u001b[0m\n",
      "\u001b[0;32m/usr/local/lib64/python3.6/site-packages/matplotlib/pyplot.py\u001b[0m in \u001b[0;36mtight_layout\u001b[0;34m(pad, h_pad, w_pad, rect)\u001b[0m\n\u001b[1;32m   1335\u001b[0m         labels) will fit into. Default is (0, 0, 1, 1).\n\u001b[1;32m   1336\u001b[0m     \"\"\"\n\u001b[0;32m-> 1337\u001b[0;31m     \u001b[0mgcf\u001b[0m\u001b[0;34m(\u001b[0m\u001b[0;34m)\u001b[0m\u001b[0;34m.\u001b[0m\u001b[0mtight_layout\u001b[0m\u001b[0;34m(\u001b[0m\u001b[0mpad\u001b[0m\u001b[0;34m=\u001b[0m\u001b[0mpad\u001b[0m\u001b[0;34m,\u001b[0m \u001b[0mh_pad\u001b[0m\u001b[0;34m=\u001b[0m\u001b[0mh_pad\u001b[0m\u001b[0;34m,\u001b[0m \u001b[0mw_pad\u001b[0m\u001b[0;34m=\u001b[0m\u001b[0mw_pad\u001b[0m\u001b[0;34m,\u001b[0m \u001b[0mrect\u001b[0m\u001b[0;34m=\u001b[0m\u001b[0mrect\u001b[0m\u001b[0;34m)\u001b[0m\u001b[0;34m\u001b[0m\u001b[0;34m\u001b[0m\u001b[0m\n\u001b[0m\u001b[1;32m   1338\u001b[0m \u001b[0;34m\u001b[0m\u001b[0m\n\u001b[1;32m   1339\u001b[0m \u001b[0;34m\u001b[0m\u001b[0m\n",
      "\u001b[0;32m/usr/local/lib64/python3.6/site-packages/matplotlib/cbook/deprecation.py\u001b[0m in \u001b[0;36mwrapper\u001b[0;34m(*args, **kwargs)\u001b[0m\n\u001b[1;32m    356\u001b[0m                 \u001b[0;34mf\"%(removal)s.  If any parameter follows {name!r}, they \"\u001b[0m\u001b[0;34m\u001b[0m\u001b[0;34m\u001b[0m\u001b[0m\n\u001b[1;32m    357\u001b[0m                 f\"should be pass as keyword, not positionally.\")\n\u001b[0;32m--> 358\u001b[0;31m         \u001b[0;32mreturn\u001b[0m \u001b[0mfunc\u001b[0m\u001b[0;34m(\u001b[0m\u001b[0;34m*\u001b[0m\u001b[0margs\u001b[0m\u001b[0;34m,\u001b[0m \u001b[0;34m**\u001b[0m\u001b[0mkwargs\u001b[0m\u001b[0;34m)\u001b[0m\u001b[0;34m\u001b[0m\u001b[0;34m\u001b[0m\u001b[0m\n\u001b[0m\u001b[1;32m    359\u001b[0m \u001b[0;34m\u001b[0m\u001b[0m\n\u001b[1;32m    360\u001b[0m     \u001b[0;32mreturn\u001b[0m \u001b[0mwrapper\u001b[0m\u001b[0;34m\u001b[0m\u001b[0;34m\u001b[0m\u001b[0m\n",
      "\u001b[0;32m/usr/local/lib64/python3.6/site-packages/matplotlib/figure.py\u001b[0m in \u001b[0;36mtight_layout\u001b[0;34m(self, renderer, pad, h_pad, w_pad, rect)\u001b[0m\n\u001b[1;32m   2494\u001b[0m             kwargs = get_tight_layout_figure(\n\u001b[1;32m   2495\u001b[0m                 \u001b[0mself\u001b[0m\u001b[0;34m,\u001b[0m \u001b[0mself\u001b[0m\u001b[0;34m.\u001b[0m\u001b[0maxes\u001b[0m\u001b[0;34m,\u001b[0m \u001b[0msubplotspec_list\u001b[0m\u001b[0;34m,\u001b[0m \u001b[0mrenderer\u001b[0m\u001b[0;34m,\u001b[0m\u001b[0;34m\u001b[0m\u001b[0;34m\u001b[0m\u001b[0m\n\u001b[0;32m-> 2496\u001b[0;31m                 pad=pad, h_pad=h_pad, w_pad=w_pad, rect=rect)\n\u001b[0m\u001b[1;32m   2497\u001b[0m         \u001b[0;32mif\u001b[0m \u001b[0mkwargs\u001b[0m\u001b[0;34m:\u001b[0m\u001b[0;34m\u001b[0m\u001b[0;34m\u001b[0m\u001b[0m\n\u001b[1;32m   2498\u001b[0m             \u001b[0mself\u001b[0m\u001b[0;34m.\u001b[0m\u001b[0msubplots_adjust\u001b[0m\u001b[0;34m(\u001b[0m\u001b[0;34m**\u001b[0m\u001b[0mkwargs\u001b[0m\u001b[0;34m)\u001b[0m\u001b[0;34m\u001b[0m\u001b[0;34m\u001b[0m\u001b[0m\n",
      "\u001b[0;32m/usr/local/lib64/python3.6/site-packages/matplotlib/tight_layout.py\u001b[0m in \u001b[0;36mget_tight_layout_figure\u001b[0;34m(fig, axes_list, subplotspec_list, renderer, pad, h_pad, w_pad, rect)\u001b[0m\n\u001b[1;32m    358\u001b[0m                                      \u001b[0msubplot_list\u001b[0m\u001b[0;34m=\u001b[0m\u001b[0msubplot_list\u001b[0m\u001b[0;34m,\u001b[0m\u001b[0;34m\u001b[0m\u001b[0;34m\u001b[0m\u001b[0m\n\u001b[1;32m    359\u001b[0m                                      \u001b[0max_bbox_list\u001b[0m\u001b[0;34m=\u001b[0m\u001b[0max_bbox_list\u001b[0m\u001b[0;34m,\u001b[0m\u001b[0;34m\u001b[0m\u001b[0;34m\u001b[0m\u001b[0m\n\u001b[0;32m--> 360\u001b[0;31m                                      pad=pad, h_pad=h_pad, w_pad=w_pad)\n\u001b[0m\u001b[1;32m    361\u001b[0m \u001b[0;34m\u001b[0m\u001b[0m\n\u001b[1;32m    362\u001b[0m     \u001b[0;31m# kwargs can be none if tight_layout fails...\u001b[0m\u001b[0;34m\u001b[0m\u001b[0;34m\u001b[0m\u001b[0;34m\u001b[0m\u001b[0m\n",
      "\u001b[0;32m/usr/local/lib64/python3.6/site-packages/matplotlib/tight_layout.py\u001b[0m in \u001b[0;36mauto_adjust_subplotpars\u001b[0;34m(fig, renderer, nrows_ncols, num1num2_list, subplot_list, ax_bbox_list, pad, h_pad, w_pad, rect)\u001b[0m\n\u001b[1;32m    107\u001b[0m             \u001b[0;32mcontinue\u001b[0m\u001b[0;34m\u001b[0m\u001b[0;34m\u001b[0m\u001b[0m\n\u001b[1;32m    108\u001b[0m \u001b[0;34m\u001b[0m\u001b[0m\n\u001b[0;32m--> 109\u001b[0;31m         tight_bbox_raw = union([ax.get_tightbbox(renderer) for ax in subplots\n\u001b[0m\u001b[1;32m    110\u001b[0m                                 if ax.get_visible()])\n\u001b[1;32m    111\u001b[0m         tight_bbox = TransformedBbox(tight_bbox_raw,\n",
      "\u001b[0;32m/usr/local/lib64/python3.6/site-packages/matplotlib/tight_layout.py\u001b[0m in \u001b[0;36m<listcomp>\u001b[0;34m(.0)\u001b[0m\n\u001b[1;32m    108\u001b[0m \u001b[0;34m\u001b[0m\u001b[0m\n\u001b[1;32m    109\u001b[0m         tight_bbox_raw = union([ax.get_tightbbox(renderer) for ax in subplots\n\u001b[0;32m--> 110\u001b[0;31m                                 if ax.get_visible()])\n\u001b[0m\u001b[1;32m    111\u001b[0m         tight_bbox = TransformedBbox(tight_bbox_raw,\n\u001b[1;32m    112\u001b[0m                                      fig.transFigure.inverted())\n",
      "\u001b[0;32m/usr/local/lib64/python3.6/site-packages/matplotlib/axes/_base.py\u001b[0m in \u001b[0;36mget_tightbbox\u001b[0;34m(self, renderer, call_axes_locator, bbox_extra_artists)\u001b[0m\n\u001b[1;32m   4321\u001b[0m \u001b[0;34m\u001b[0m\u001b[0m\n\u001b[1;32m   4322\u001b[0m         \u001b[0;32mif\u001b[0m \u001b[0mself\u001b[0m\u001b[0;34m.\u001b[0m\u001b[0maxison\u001b[0m\u001b[0;34m:\u001b[0m\u001b[0;34m\u001b[0m\u001b[0;34m\u001b[0m\u001b[0m\n\u001b[0;32m-> 4323\u001b[0;31m             \u001b[0mbb_xaxis\u001b[0m \u001b[0;34m=\u001b[0m \u001b[0mself\u001b[0m\u001b[0;34m.\u001b[0m\u001b[0mxaxis\u001b[0m\u001b[0;34m.\u001b[0m\u001b[0mget_tightbbox\u001b[0m\u001b[0;34m(\u001b[0m\u001b[0mrenderer\u001b[0m\u001b[0;34m)\u001b[0m\u001b[0;34m\u001b[0m\u001b[0;34m\u001b[0m\u001b[0m\n\u001b[0m\u001b[1;32m   4324\u001b[0m             \u001b[0;32mif\u001b[0m \u001b[0mbb_xaxis\u001b[0m\u001b[0;34m:\u001b[0m\u001b[0;34m\u001b[0m\u001b[0;34m\u001b[0m\u001b[0m\n\u001b[1;32m   4325\u001b[0m                 \u001b[0mbb\u001b[0m\u001b[0;34m.\u001b[0m\u001b[0mappend\u001b[0m\u001b[0;34m(\u001b[0m\u001b[0mbb_xaxis\u001b[0m\u001b[0;34m)\u001b[0m\u001b[0;34m\u001b[0m\u001b[0;34m\u001b[0m\u001b[0m\n",
      "\u001b[0;32m/usr/local/lib64/python3.6/site-packages/matplotlib/axis.py\u001b[0m in \u001b[0;36mget_tightbbox\u001b[0;34m(self, renderer)\u001b[0m\n\u001b[1;32m   1186\u001b[0m         \u001b[0mticks_to_draw\u001b[0m \u001b[0;34m=\u001b[0m \u001b[0mself\u001b[0m\u001b[0;34m.\u001b[0m\u001b[0m_update_ticks\u001b[0m\u001b[0;34m(\u001b[0m\u001b[0;34m)\u001b[0m\u001b[0;34m\u001b[0m\u001b[0;34m\u001b[0m\u001b[0m\n\u001b[1;32m   1187\u001b[0m \u001b[0;34m\u001b[0m\u001b[0m\n\u001b[0;32m-> 1188\u001b[0;31m         \u001b[0mself\u001b[0m\u001b[0;34m.\u001b[0m\u001b[0m_update_label_position\u001b[0m\u001b[0;34m(\u001b[0m\u001b[0mrenderer\u001b[0m\u001b[0;34m)\u001b[0m\u001b[0;34m\u001b[0m\u001b[0;34m\u001b[0m\u001b[0m\n\u001b[0m\u001b[1;32m   1189\u001b[0m \u001b[0;34m\u001b[0m\u001b[0m\n\u001b[1;32m   1190\u001b[0m         \u001b[0;31m# go back to just this axis's tick labels\u001b[0m\u001b[0;34m\u001b[0m\u001b[0;34m\u001b[0m\u001b[0;34m\u001b[0m\u001b[0m\n",
      "\u001b[0;32m/usr/local/lib64/python3.6/site-packages/matplotlib/axis.py\u001b[0m in \u001b[0;36m_update_label_position\u001b[0;34m(self, renderer)\u001b[0m\n\u001b[1;32m   2019\u001b[0m         \u001b[0;31m# get bounding boxes for this axis and any siblings\u001b[0m\u001b[0;34m\u001b[0m\u001b[0;34m\u001b[0m\u001b[0;34m\u001b[0m\u001b[0m\n\u001b[1;32m   2020\u001b[0m         \u001b[0;31m# that have been set by `fig.align_xlabels()`\u001b[0m\u001b[0;34m\u001b[0m\u001b[0;34m\u001b[0m\u001b[0;34m\u001b[0m\u001b[0m\n\u001b[0;32m-> 2021\u001b[0;31m         \u001b[0mbboxes\u001b[0m\u001b[0;34m,\u001b[0m \u001b[0mbboxes2\u001b[0m \u001b[0;34m=\u001b[0m \u001b[0mself\u001b[0m\u001b[0;34m.\u001b[0m\u001b[0m_get_tick_boxes_siblings\u001b[0m\u001b[0;34m(\u001b[0m\u001b[0mrenderer\u001b[0m\u001b[0;34m=\u001b[0m\u001b[0mrenderer\u001b[0m\u001b[0;34m)\u001b[0m\u001b[0;34m\u001b[0m\u001b[0;34m\u001b[0m\u001b[0m\n\u001b[0m\u001b[1;32m   2022\u001b[0m \u001b[0;34m\u001b[0m\u001b[0m\n\u001b[1;32m   2023\u001b[0m         \u001b[0mx\u001b[0m\u001b[0;34m,\u001b[0m \u001b[0my\u001b[0m \u001b[0;34m=\u001b[0m \u001b[0mself\u001b[0m\u001b[0;34m.\u001b[0m\u001b[0mlabel\u001b[0m\u001b[0;34m.\u001b[0m\u001b[0mget_position\u001b[0m\u001b[0;34m(\u001b[0m\u001b[0;34m)\u001b[0m\u001b[0;34m\u001b[0m\u001b[0;34m\u001b[0m\u001b[0m\n",
      "\u001b[0;32m/usr/local/lib64/python3.6/site-packages/matplotlib/axis.py\u001b[0m in \u001b[0;36m_get_tick_boxes_siblings\u001b[0;34m(self, renderer)\u001b[0m\n\u001b[1;32m   2004\u001b[0m         \u001b[0;32mfor\u001b[0m \u001b[0mnn\u001b[0m\u001b[0;34m,\u001b[0m \u001b[0maxx\u001b[0m \u001b[0;32min\u001b[0m \u001b[0menumerate\u001b[0m\u001b[0;34m(\u001b[0m\u001b[0mgrp\u001b[0m\u001b[0;34m.\u001b[0m\u001b[0mget_siblings\u001b[0m\u001b[0;34m(\u001b[0m\u001b[0mself\u001b[0m\u001b[0;34m.\u001b[0m\u001b[0maxes\u001b[0m\u001b[0;34m)\u001b[0m\u001b[0;34m)\u001b[0m\u001b[0;34m:\u001b[0m\u001b[0;34m\u001b[0m\u001b[0;34m\u001b[0m\u001b[0m\n\u001b[1;32m   2005\u001b[0m             \u001b[0mticks_to_draw\u001b[0m \u001b[0;34m=\u001b[0m \u001b[0maxx\u001b[0m\u001b[0;34m.\u001b[0m\u001b[0mxaxis\u001b[0m\u001b[0;34m.\u001b[0m\u001b[0m_update_ticks\u001b[0m\u001b[0;34m(\u001b[0m\u001b[0;34m)\u001b[0m\u001b[0;34m\u001b[0m\u001b[0;34m\u001b[0m\u001b[0m\n\u001b[0;32m-> 2006\u001b[0;31m             \u001b[0mtlb\u001b[0m\u001b[0;34m,\u001b[0m \u001b[0mtlb2\u001b[0m \u001b[0;34m=\u001b[0m \u001b[0maxx\u001b[0m\u001b[0;34m.\u001b[0m\u001b[0mxaxis\u001b[0m\u001b[0;34m.\u001b[0m\u001b[0m_get_tick_bboxes\u001b[0m\u001b[0;34m(\u001b[0m\u001b[0mticks_to_draw\u001b[0m\u001b[0;34m,\u001b[0m \u001b[0mrenderer\u001b[0m\u001b[0;34m)\u001b[0m\u001b[0;34m\u001b[0m\u001b[0;34m\u001b[0m\u001b[0m\n\u001b[0m\u001b[1;32m   2007\u001b[0m             \u001b[0mbboxes\u001b[0m\u001b[0;34m.\u001b[0m\u001b[0mextend\u001b[0m\u001b[0;34m(\u001b[0m\u001b[0mtlb\u001b[0m\u001b[0;34m)\u001b[0m\u001b[0;34m\u001b[0m\u001b[0;34m\u001b[0m\u001b[0m\n\u001b[1;32m   2008\u001b[0m             \u001b[0mbboxes2\u001b[0m\u001b[0;34m.\u001b[0m\u001b[0mextend\u001b[0m\u001b[0;34m(\u001b[0m\u001b[0mtlb2\u001b[0m\u001b[0;34m)\u001b[0m\u001b[0;34m\u001b[0m\u001b[0;34m\u001b[0m\u001b[0m\n",
      "\u001b[0;32m/usr/local/lib64/python3.6/site-packages/matplotlib/axis.py\u001b[0m in \u001b[0;36m_get_tick_bboxes\u001b[0;34m(self, ticks, renderer)\u001b[0m\n\u001b[1;32m   1172\u001b[0m         \u001b[0;34m\"\"\"Return lists of bboxes for ticks' label1's and label2's.\"\"\"\u001b[0m\u001b[0;34m\u001b[0m\u001b[0;34m\u001b[0m\u001b[0m\n\u001b[1;32m   1173\u001b[0m         return ([tick.label1.get_window_extent(renderer)\n\u001b[0;32m-> 1174\u001b[0;31m                  for tick in ticks if tick.label1.get_visible()],\n\u001b[0m\u001b[1;32m   1175\u001b[0m                 [tick.label2.get_window_extent(renderer)\n\u001b[1;32m   1176\u001b[0m                  for tick in ticks if tick.label2.get_visible()])\n",
      "\u001b[0;32m/usr/local/lib64/python3.6/site-packages/matplotlib/axis.py\u001b[0m in \u001b[0;36m<listcomp>\u001b[0;34m(.0)\u001b[0m\n\u001b[1;32m   1172\u001b[0m         \u001b[0;34m\"\"\"Return lists of bboxes for ticks' label1's and label2's.\"\"\"\u001b[0m\u001b[0;34m\u001b[0m\u001b[0;34m\u001b[0m\u001b[0m\n\u001b[1;32m   1173\u001b[0m         return ([tick.label1.get_window_extent(renderer)\n\u001b[0;32m-> 1174\u001b[0;31m                  for tick in ticks if tick.label1.get_visible()],\n\u001b[0m\u001b[1;32m   1175\u001b[0m                 [tick.label2.get_window_extent(renderer)\n\u001b[1;32m   1176\u001b[0m                  for tick in ticks if tick.label2.get_visible()])\n",
      "\u001b[0;32m/usr/local/lib64/python3.6/site-packages/matplotlib/text.py\u001b[0m in \u001b[0;36mget_window_extent\u001b[0;34m(self, renderer, dpi)\u001b[0m\n\u001b[1;32m    903\u001b[0m             \u001b[0;32mraise\u001b[0m \u001b[0mRuntimeError\u001b[0m\u001b[0;34m(\u001b[0m\u001b[0;34m'Cannot get window extent w/o renderer'\u001b[0m\u001b[0;34m)\u001b[0m\u001b[0;34m\u001b[0m\u001b[0;34m\u001b[0m\u001b[0m\n\u001b[1;32m    904\u001b[0m \u001b[0;34m\u001b[0m\u001b[0m\n\u001b[0;32m--> 905\u001b[0;31m         \u001b[0mbbox\u001b[0m\u001b[0;34m,\u001b[0m \u001b[0minfo\u001b[0m\u001b[0;34m,\u001b[0m \u001b[0mdescent\u001b[0m \u001b[0;34m=\u001b[0m \u001b[0mself\u001b[0m\u001b[0;34m.\u001b[0m\u001b[0m_get_layout\u001b[0m\u001b[0;34m(\u001b[0m\u001b[0mself\u001b[0m\u001b[0;34m.\u001b[0m\u001b[0m_renderer\u001b[0m\u001b[0;34m)\u001b[0m\u001b[0;34m\u001b[0m\u001b[0;34m\u001b[0m\u001b[0m\n\u001b[0m\u001b[1;32m    906\u001b[0m         \u001b[0mx\u001b[0m\u001b[0;34m,\u001b[0m \u001b[0my\u001b[0m \u001b[0;34m=\u001b[0m \u001b[0mself\u001b[0m\u001b[0;34m.\u001b[0m\u001b[0mget_unitless_position\u001b[0m\u001b[0;34m(\u001b[0m\u001b[0;34m)\u001b[0m\u001b[0;34m\u001b[0m\u001b[0;34m\u001b[0m\u001b[0m\n\u001b[1;32m    907\u001b[0m         \u001b[0mx\u001b[0m\u001b[0;34m,\u001b[0m \u001b[0my\u001b[0m \u001b[0;34m=\u001b[0m \u001b[0mself\u001b[0m\u001b[0;34m.\u001b[0m\u001b[0mget_transform\u001b[0m\u001b[0;34m(\u001b[0m\u001b[0;34m)\u001b[0m\u001b[0;34m.\u001b[0m\u001b[0mtransform\u001b[0m\u001b[0;34m(\u001b[0m\u001b[0;34m(\u001b[0m\u001b[0mx\u001b[0m\u001b[0;34m,\u001b[0m \u001b[0my\u001b[0m\u001b[0;34m)\u001b[0m\u001b[0;34m)\u001b[0m\u001b[0;34m\u001b[0m\u001b[0;34m\u001b[0m\u001b[0m\n",
      "\u001b[0;32m/usr/local/lib64/python3.6/site-packages/matplotlib/text.py\u001b[0m in \u001b[0;36m_get_layout\u001b[0;34m(self, renderer)\u001b[0m\n\u001b[1;32m    291\u001b[0m         _, lp_h, lp_d = renderer.get_text_width_height_descent(\n\u001b[1;32m    292\u001b[0m             \u001b[0;34m\"lp\"\u001b[0m\u001b[0;34m,\u001b[0m \u001b[0mself\u001b[0m\u001b[0;34m.\u001b[0m\u001b[0m_fontproperties\u001b[0m\u001b[0;34m,\u001b[0m\u001b[0;34m\u001b[0m\u001b[0;34m\u001b[0m\u001b[0m\n\u001b[0;32m--> 293\u001b[0;31m             ismath=\"TeX\" if self.get_usetex() else False)\n\u001b[0m\u001b[1;32m    294\u001b[0m         \u001b[0mmin_dy\u001b[0m \u001b[0;34m=\u001b[0m \u001b[0;34m(\u001b[0m\u001b[0mlp_h\u001b[0m \u001b[0;34m-\u001b[0m \u001b[0mlp_d\u001b[0m\u001b[0;34m)\u001b[0m \u001b[0;34m*\u001b[0m \u001b[0mself\u001b[0m\u001b[0;34m.\u001b[0m\u001b[0m_linespacing\u001b[0m\u001b[0;34m\u001b[0m\u001b[0;34m\u001b[0m\u001b[0m\n\u001b[1;32m    295\u001b[0m \u001b[0;34m\u001b[0m\u001b[0m\n",
      "\u001b[0;32m/usr/local/lib64/python3.6/site-packages/matplotlib/backends/backend_agg.py\u001b[0m in \u001b[0;36mget_text_width_height_descent\u001b[0;34m(self, s, prop, ismath)\u001b[0m\n\u001b[1;32m    202\u001b[0m             \u001b[0mfontsize\u001b[0m \u001b[0;34m=\u001b[0m \u001b[0mprop\u001b[0m\u001b[0;34m.\u001b[0m\u001b[0mget_size_in_points\u001b[0m\u001b[0;34m(\u001b[0m\u001b[0;34m)\u001b[0m\u001b[0;34m\u001b[0m\u001b[0;34m\u001b[0m\u001b[0m\n\u001b[1;32m    203\u001b[0m             w, h, d = texmanager.get_text_width_height_descent(\n\u001b[0;32m--> 204\u001b[0;31m                 s, fontsize, renderer=self)\n\u001b[0m\u001b[1;32m    205\u001b[0m             \u001b[0;32mreturn\u001b[0m \u001b[0mw\u001b[0m\u001b[0;34m,\u001b[0m \u001b[0mh\u001b[0m\u001b[0;34m,\u001b[0m \u001b[0md\u001b[0m\u001b[0;34m\u001b[0m\u001b[0;34m\u001b[0m\u001b[0m\n\u001b[1;32m    206\u001b[0m \u001b[0;34m\u001b[0m\u001b[0m\n",
      "\u001b[0;32m/usr/local/lib64/python3.6/site-packages/matplotlib/texmanager.py\u001b[0m in \u001b[0;36mget_text_width_height_descent\u001b[0;34m(self, tex, fontsize, renderer)\u001b[0m\n\u001b[1;32m    456\u001b[0m         \u001b[0;32melse\u001b[0m\u001b[0;34m:\u001b[0m\u001b[0;34m\u001b[0m\u001b[0;34m\u001b[0m\u001b[0m\n\u001b[1;32m    457\u001b[0m             \u001b[0;31m# use dviread.\u001b[0m\u001b[0;34m\u001b[0m\u001b[0;34m\u001b[0m\u001b[0;34m\u001b[0m\u001b[0m\n\u001b[0;32m--> 458\u001b[0;31m             \u001b[0mdvifile\u001b[0m \u001b[0;34m=\u001b[0m \u001b[0mself\u001b[0m\u001b[0;34m.\u001b[0m\u001b[0mmake_dvi\u001b[0m\u001b[0;34m(\u001b[0m\u001b[0mtex\u001b[0m\u001b[0;34m,\u001b[0m \u001b[0mfontsize\u001b[0m\u001b[0;34m)\u001b[0m\u001b[0;34m\u001b[0m\u001b[0;34m\u001b[0m\u001b[0m\n\u001b[0m\u001b[1;32m    459\u001b[0m             \u001b[0;32mwith\u001b[0m \u001b[0mdviread\u001b[0m\u001b[0;34m.\u001b[0m\u001b[0mDvi\u001b[0m\u001b[0;34m(\u001b[0m\u001b[0mdvifile\u001b[0m\u001b[0;34m,\u001b[0m \u001b[0;36m72\u001b[0m \u001b[0;34m*\u001b[0m \u001b[0mdpi_fraction\u001b[0m\u001b[0;34m)\u001b[0m \u001b[0;32mas\u001b[0m \u001b[0mdvi\u001b[0m\u001b[0;34m:\u001b[0m\u001b[0;34m\u001b[0m\u001b[0;34m\u001b[0m\u001b[0m\n\u001b[1;32m    460\u001b[0m                 \u001b[0mpage\u001b[0m\u001b[0;34m,\u001b[0m \u001b[0;34m=\u001b[0m \u001b[0mdvi\u001b[0m\u001b[0;34m\u001b[0m\u001b[0;34m\u001b[0m\u001b[0m\n",
      "\u001b[0;32m/usr/local/lib64/python3.6/site-packages/matplotlib/texmanager.py\u001b[0m in \u001b[0;36mmake_dvi\u001b[0;34m(self, tex, fontsize)\u001b[0m\n\u001b[1;32m    338\u001b[0m                 self._run_checked_subprocess(\n\u001b[1;32m    339\u001b[0m                     [\"latex\", \"-interaction=nonstopmode\", \"--halt-on-error\",\n\u001b[0;32m--> 340\u001b[0;31m                      texfile], tex)\n\u001b[0m\u001b[1;32m    341\u001b[0m             \u001b[0;32mfor\u001b[0m \u001b[0mfname\u001b[0m \u001b[0;32min\u001b[0m \u001b[0mglob\u001b[0m\u001b[0;34m.\u001b[0m\u001b[0mglob\u001b[0m\u001b[0;34m(\u001b[0m\u001b[0mbasefile\u001b[0m \u001b[0;34m+\u001b[0m \u001b[0;34m'*'\u001b[0m\u001b[0;34m)\u001b[0m\u001b[0;34m:\u001b[0m\u001b[0;34m\u001b[0m\u001b[0;34m\u001b[0m\u001b[0m\n\u001b[1;32m    342\u001b[0m                 \u001b[0;32mif\u001b[0m \u001b[0;32mnot\u001b[0m \u001b[0mfname\u001b[0m\u001b[0;34m.\u001b[0m\u001b[0mendswith\u001b[0m\u001b[0;34m(\u001b[0m\u001b[0;34m(\u001b[0m\u001b[0;34m'dvi'\u001b[0m\u001b[0;34m,\u001b[0m \u001b[0;34m'tex'\u001b[0m\u001b[0;34m)\u001b[0m\u001b[0;34m)\u001b[0m\u001b[0;34m:\u001b[0m\u001b[0;34m\u001b[0m\u001b[0;34m\u001b[0m\u001b[0m\n",
      "\u001b[0;32m/usr/local/lib64/python3.6/site-packages/matplotlib/texmanager.py\u001b[0m in \u001b[0;36m_run_checked_subprocess\u001b[0;34m(self, command, tex)\u001b[0m\n\u001b[1;32m    308\u001b[0m             raise RuntimeError(\n\u001b[1;32m    309\u001b[0m                 \u001b[0;34m'Failed to process string with tex because {} could not be '\u001b[0m\u001b[0;34m\u001b[0m\u001b[0;34m\u001b[0m\u001b[0m\n\u001b[0;32m--> 310\u001b[0;31m                 'found'.format(command[0])) from exc\n\u001b[0m\u001b[1;32m    311\u001b[0m         \u001b[0;32mexcept\u001b[0m \u001b[0msubprocess\u001b[0m\u001b[0;34m.\u001b[0m\u001b[0mCalledProcessError\u001b[0m \u001b[0;32mas\u001b[0m \u001b[0mexc\u001b[0m\u001b[0;34m:\u001b[0m\u001b[0;34m\u001b[0m\u001b[0;34m\u001b[0m\u001b[0m\n\u001b[1;32m    312\u001b[0m             raise RuntimeError(\n",
      "\u001b[0;31mRuntimeError\u001b[0m: Failed to process string with tex because latex could not be found"
     ]
    },
    {
     "ename": "RuntimeError",
     "evalue": "Failed to process string with tex because latex could not be found",
     "output_type": "error",
     "traceback": [
      "\u001b[0;31m---------------------------------------------------------------------------\u001b[0m",
      "\u001b[0;31mFileNotFoundError\u001b[0m                         Traceback (most recent call last)",
      "\u001b[0;32m/usr/local/lib64/python3.6/site-packages/matplotlib/texmanager.py\u001b[0m in \u001b[0;36m_run_checked_subprocess\u001b[0;34m(self, command, tex)\u001b[0m\n\u001b[1;32m    305\u001b[0m                                              \u001b[0mcwd\u001b[0m\u001b[0;34m=\u001b[0m\u001b[0mself\u001b[0m\u001b[0;34m.\u001b[0m\u001b[0mtexcache\u001b[0m\u001b[0;34m,\u001b[0m\u001b[0;34m\u001b[0m\u001b[0;34m\u001b[0m\u001b[0m\n\u001b[0;32m--> 306\u001b[0;31m                                              stderr=subprocess.STDOUT)\n\u001b[0m\u001b[1;32m    307\u001b[0m         \u001b[0;32mexcept\u001b[0m \u001b[0mFileNotFoundError\u001b[0m \u001b[0;32mas\u001b[0m \u001b[0mexc\u001b[0m\u001b[0;34m:\u001b[0m\u001b[0;34m\u001b[0m\u001b[0;34m\u001b[0m\u001b[0m\n",
      "\u001b[0;32m/usr/lib64/python3.6/subprocess.py\u001b[0m in \u001b[0;36mcheck_output\u001b[0;34m(timeout, *popenargs, **kwargs)\u001b[0m\n\u001b[1;32m    355\u001b[0m     return run(*popenargs, stdout=PIPE, timeout=timeout, check=True,\n\u001b[0;32m--> 356\u001b[0;31m                **kwargs).stdout\n\u001b[0m\u001b[1;32m    357\u001b[0m \u001b[0;34m\u001b[0m\u001b[0m\n",
      "\u001b[0;32m/usr/lib64/python3.6/subprocess.py\u001b[0m in \u001b[0;36mrun\u001b[0;34m(input, timeout, check, *popenargs, **kwargs)\u001b[0m\n\u001b[1;32m    422\u001b[0m \u001b[0;34m\u001b[0m\u001b[0m\n\u001b[0;32m--> 423\u001b[0;31m     \u001b[0;32mwith\u001b[0m \u001b[0mPopen\u001b[0m\u001b[0;34m(\u001b[0m\u001b[0;34m*\u001b[0m\u001b[0mpopenargs\u001b[0m\u001b[0;34m,\u001b[0m \u001b[0;34m**\u001b[0m\u001b[0mkwargs\u001b[0m\u001b[0;34m)\u001b[0m \u001b[0;32mas\u001b[0m \u001b[0mprocess\u001b[0m\u001b[0;34m:\u001b[0m\u001b[0;34m\u001b[0m\u001b[0;34m\u001b[0m\u001b[0m\n\u001b[0m\u001b[1;32m    424\u001b[0m         \u001b[0;32mtry\u001b[0m\u001b[0;34m:\u001b[0m\u001b[0;34m\u001b[0m\u001b[0;34m\u001b[0m\u001b[0m\n",
      "\u001b[0;32m/usr/lib64/python3.6/subprocess.py\u001b[0m in \u001b[0;36m__init__\u001b[0;34m(self, args, bufsize, executable, stdin, stdout, stderr, preexec_fn, close_fds, shell, cwd, env, universal_newlines, startupinfo, creationflags, restore_signals, start_new_session, pass_fds, encoding, errors)\u001b[0m\n\u001b[1;32m    728\u001b[0m                                 \u001b[0merrread\u001b[0m\u001b[0;34m,\u001b[0m \u001b[0merrwrite\u001b[0m\u001b[0;34m,\u001b[0m\u001b[0;34m\u001b[0m\u001b[0;34m\u001b[0m\u001b[0m\n\u001b[0;32m--> 729\u001b[0;31m                                 restore_signals, start_new_session)\n\u001b[0m\u001b[1;32m    730\u001b[0m         \u001b[0;32mexcept\u001b[0m\u001b[0;34m:\u001b[0m\u001b[0;34m\u001b[0m\u001b[0;34m\u001b[0m\u001b[0m\n",
      "\u001b[0;32m/usr/lib64/python3.6/subprocess.py\u001b[0m in \u001b[0;36m_execute_child\u001b[0;34m(self, args, executable, preexec_fn, close_fds, pass_fds, cwd, env, startupinfo, creationflags, shell, p2cread, p2cwrite, c2pread, c2pwrite, errread, errwrite, restore_signals, start_new_session)\u001b[0m\n\u001b[1;32m   1363\u001b[0m                             \u001b[0merr_msg\u001b[0m \u001b[0;34m+=\u001b[0m \u001b[0;34m': '\u001b[0m \u001b[0;34m+\u001b[0m \u001b[0mrepr\u001b[0m\u001b[0;34m(\u001b[0m\u001b[0merr_filename\u001b[0m\u001b[0;34m)\u001b[0m\u001b[0;34m\u001b[0m\u001b[0;34m\u001b[0m\u001b[0m\n\u001b[0;32m-> 1364\u001b[0;31m                     \u001b[0;32mraise\u001b[0m \u001b[0mchild_exception_type\u001b[0m\u001b[0;34m(\u001b[0m\u001b[0merrno_num\u001b[0m\u001b[0;34m,\u001b[0m \u001b[0merr_msg\u001b[0m\u001b[0;34m,\u001b[0m \u001b[0merr_filename\u001b[0m\u001b[0;34m)\u001b[0m\u001b[0;34m\u001b[0m\u001b[0;34m\u001b[0m\u001b[0m\n\u001b[0m\u001b[1;32m   1365\u001b[0m                 \u001b[0;32mraise\u001b[0m \u001b[0mchild_exception_type\u001b[0m\u001b[0;34m(\u001b[0m\u001b[0merr_msg\u001b[0m\u001b[0;34m)\u001b[0m\u001b[0;34m\u001b[0m\u001b[0;34m\u001b[0m\u001b[0m\n",
      "\u001b[0;31mFileNotFoundError\u001b[0m: [Errno 2] No such file or directory: 'latex': 'latex'",
      "\nThe above exception was the direct cause of the following exception:\n",
      "\u001b[0;31mRuntimeError\u001b[0m                              Traceback (most recent call last)",
      "\u001b[0;32m/usr/local/lib/python3.6/site-packages/IPython/core/formatters.py\u001b[0m in \u001b[0;36m__call__\u001b[0;34m(self, obj)\u001b[0m\n\u001b[1;32m    339\u001b[0m                 \u001b[0;32mpass\u001b[0m\u001b[0;34m\u001b[0m\u001b[0;34m\u001b[0m\u001b[0m\n\u001b[1;32m    340\u001b[0m             \u001b[0;32melse\u001b[0m\u001b[0;34m:\u001b[0m\u001b[0;34m\u001b[0m\u001b[0;34m\u001b[0m\u001b[0m\n\u001b[0;32m--> 341\u001b[0;31m                 \u001b[0;32mreturn\u001b[0m \u001b[0mprinter\u001b[0m\u001b[0;34m(\u001b[0m\u001b[0mobj\u001b[0m\u001b[0;34m)\u001b[0m\u001b[0;34m\u001b[0m\u001b[0;34m\u001b[0m\u001b[0m\n\u001b[0m\u001b[1;32m    342\u001b[0m             \u001b[0;31m# Finally look for special method names\u001b[0m\u001b[0;34m\u001b[0m\u001b[0;34m\u001b[0m\u001b[0;34m\u001b[0m\u001b[0m\n\u001b[1;32m    343\u001b[0m             \u001b[0mmethod\u001b[0m \u001b[0;34m=\u001b[0m \u001b[0mget_real_method\u001b[0m\u001b[0;34m(\u001b[0m\u001b[0mobj\u001b[0m\u001b[0;34m,\u001b[0m \u001b[0mself\u001b[0m\u001b[0;34m.\u001b[0m\u001b[0mprint_method\u001b[0m\u001b[0;34m)\u001b[0m\u001b[0;34m\u001b[0m\u001b[0;34m\u001b[0m\u001b[0m\n",
      "\u001b[0;32m/usr/local/lib/python3.6/site-packages/IPython/core/pylabtools.py\u001b[0m in \u001b[0;36m<lambda>\u001b[0;34m(fig)\u001b[0m\n\u001b[1;32m    246\u001b[0m \u001b[0;34m\u001b[0m\u001b[0m\n\u001b[1;32m    247\u001b[0m     \u001b[0;32mif\u001b[0m \u001b[0;34m'png'\u001b[0m \u001b[0;32min\u001b[0m \u001b[0mformats\u001b[0m\u001b[0;34m:\u001b[0m\u001b[0;34m\u001b[0m\u001b[0;34m\u001b[0m\u001b[0m\n\u001b[0;32m--> 248\u001b[0;31m         \u001b[0mpng_formatter\u001b[0m\u001b[0;34m.\u001b[0m\u001b[0mfor_type\u001b[0m\u001b[0;34m(\u001b[0m\u001b[0mFigure\u001b[0m\u001b[0;34m,\u001b[0m \u001b[0;32mlambda\u001b[0m \u001b[0mfig\u001b[0m\u001b[0;34m:\u001b[0m \u001b[0mprint_figure\u001b[0m\u001b[0;34m(\u001b[0m\u001b[0mfig\u001b[0m\u001b[0;34m,\u001b[0m \u001b[0;34m'png'\u001b[0m\u001b[0;34m,\u001b[0m \u001b[0;34m**\u001b[0m\u001b[0mkwargs\u001b[0m\u001b[0;34m)\u001b[0m\u001b[0;34m)\u001b[0m\u001b[0;34m\u001b[0m\u001b[0;34m\u001b[0m\u001b[0m\n\u001b[0m\u001b[1;32m    249\u001b[0m     \u001b[0;32mif\u001b[0m \u001b[0;34m'retina'\u001b[0m \u001b[0;32min\u001b[0m \u001b[0mformats\u001b[0m \u001b[0;32mor\u001b[0m \u001b[0;34m'png2x'\u001b[0m \u001b[0;32min\u001b[0m \u001b[0mformats\u001b[0m\u001b[0;34m:\u001b[0m\u001b[0;34m\u001b[0m\u001b[0;34m\u001b[0m\u001b[0m\n\u001b[1;32m    250\u001b[0m         \u001b[0mpng_formatter\u001b[0m\u001b[0;34m.\u001b[0m\u001b[0mfor_type\u001b[0m\u001b[0;34m(\u001b[0m\u001b[0mFigure\u001b[0m\u001b[0;34m,\u001b[0m \u001b[0;32mlambda\u001b[0m \u001b[0mfig\u001b[0m\u001b[0;34m:\u001b[0m \u001b[0mretina_figure\u001b[0m\u001b[0;34m(\u001b[0m\u001b[0mfig\u001b[0m\u001b[0;34m,\u001b[0m \u001b[0;34m**\u001b[0m\u001b[0mkwargs\u001b[0m\u001b[0;34m)\u001b[0m\u001b[0;34m)\u001b[0m\u001b[0;34m\u001b[0m\u001b[0;34m\u001b[0m\u001b[0m\n",
      "\u001b[0;32m/usr/local/lib/python3.6/site-packages/IPython/core/pylabtools.py\u001b[0m in \u001b[0;36mprint_figure\u001b[0;34m(fig, fmt, bbox_inches, **kwargs)\u001b[0m\n\u001b[1;32m    130\u001b[0m         \u001b[0mFigureCanvasBase\u001b[0m\u001b[0;34m(\u001b[0m\u001b[0mfig\u001b[0m\u001b[0;34m)\u001b[0m\u001b[0;34m\u001b[0m\u001b[0;34m\u001b[0m\u001b[0m\n\u001b[1;32m    131\u001b[0m \u001b[0;34m\u001b[0m\u001b[0m\n\u001b[0;32m--> 132\u001b[0;31m     \u001b[0mfig\u001b[0m\u001b[0;34m.\u001b[0m\u001b[0mcanvas\u001b[0m\u001b[0;34m.\u001b[0m\u001b[0mprint_figure\u001b[0m\u001b[0;34m(\u001b[0m\u001b[0mbytes_io\u001b[0m\u001b[0;34m,\u001b[0m \u001b[0;34m**\u001b[0m\u001b[0mkw\u001b[0m\u001b[0;34m)\u001b[0m\u001b[0;34m\u001b[0m\u001b[0;34m\u001b[0m\u001b[0m\n\u001b[0m\u001b[1;32m    133\u001b[0m     \u001b[0mdata\u001b[0m \u001b[0;34m=\u001b[0m \u001b[0mbytes_io\u001b[0m\u001b[0;34m.\u001b[0m\u001b[0mgetvalue\u001b[0m\u001b[0;34m(\u001b[0m\u001b[0;34m)\u001b[0m\u001b[0;34m\u001b[0m\u001b[0;34m\u001b[0m\u001b[0m\n\u001b[1;32m    134\u001b[0m     \u001b[0;32mif\u001b[0m \u001b[0mfmt\u001b[0m \u001b[0;34m==\u001b[0m \u001b[0;34m'svg'\u001b[0m\u001b[0;34m:\u001b[0m\u001b[0;34m\u001b[0m\u001b[0;34m\u001b[0m\u001b[0m\n",
      "\u001b[0;32m/usr/local/lib64/python3.6/site-packages/matplotlib/backend_bases.py\u001b[0m in \u001b[0;36mprint_figure\u001b[0;34m(self, filename, dpi, facecolor, edgecolor, orientation, format, bbox_inches, **kwargs)\u001b[0m\n\u001b[1;32m   2098\u001b[0m                            else suppress())\n\u001b[1;32m   2099\u001b[0m                     \u001b[0;32mwith\u001b[0m \u001b[0mctx\u001b[0m\u001b[0;34m:\u001b[0m\u001b[0;34m\u001b[0m\u001b[0;34m\u001b[0m\u001b[0m\n\u001b[0;32m-> 2100\u001b[0;31m                         \u001b[0mself\u001b[0m\u001b[0;34m.\u001b[0m\u001b[0mfigure\u001b[0m\u001b[0;34m.\u001b[0m\u001b[0mdraw\u001b[0m\u001b[0;34m(\u001b[0m\u001b[0mrenderer\u001b[0m\u001b[0;34m)\u001b[0m\u001b[0;34m\u001b[0m\u001b[0;34m\u001b[0m\u001b[0m\n\u001b[0m\u001b[1;32m   2101\u001b[0m                     \u001b[0mbbox_artists\u001b[0m \u001b[0;34m=\u001b[0m \u001b[0mkwargs\u001b[0m\u001b[0;34m.\u001b[0m\u001b[0mpop\u001b[0m\u001b[0;34m(\u001b[0m\u001b[0;34m\"bbox_extra_artists\"\u001b[0m\u001b[0;34m,\u001b[0m \u001b[0;32mNone\u001b[0m\u001b[0;34m)\u001b[0m\u001b[0;34m\u001b[0m\u001b[0;34m\u001b[0m\u001b[0m\n\u001b[1;32m   2102\u001b[0m                     bbox_inches = self.figure.get_tightbbox(renderer,\n",
      "\u001b[0;32m/usr/local/lib64/python3.6/site-packages/matplotlib/artist.py\u001b[0m in \u001b[0;36mdraw_wrapper\u001b[0;34m(artist, renderer, *args, **kwargs)\u001b[0m\n\u001b[1;32m     36\u001b[0m                 \u001b[0mrenderer\u001b[0m\u001b[0;34m.\u001b[0m\u001b[0mstart_filter\u001b[0m\u001b[0;34m(\u001b[0m\u001b[0;34m)\u001b[0m\u001b[0;34m\u001b[0m\u001b[0;34m\u001b[0m\u001b[0m\n\u001b[1;32m     37\u001b[0m \u001b[0;34m\u001b[0m\u001b[0m\n\u001b[0;32m---> 38\u001b[0;31m             \u001b[0;32mreturn\u001b[0m \u001b[0mdraw\u001b[0m\u001b[0;34m(\u001b[0m\u001b[0martist\u001b[0m\u001b[0;34m,\u001b[0m \u001b[0mrenderer\u001b[0m\u001b[0;34m,\u001b[0m \u001b[0;34m*\u001b[0m\u001b[0margs\u001b[0m\u001b[0;34m,\u001b[0m \u001b[0;34m**\u001b[0m\u001b[0mkwargs\u001b[0m\u001b[0;34m)\u001b[0m\u001b[0;34m\u001b[0m\u001b[0;34m\u001b[0m\u001b[0m\n\u001b[0m\u001b[1;32m     39\u001b[0m         \u001b[0;32mfinally\u001b[0m\u001b[0;34m:\u001b[0m\u001b[0;34m\u001b[0m\u001b[0;34m\u001b[0m\u001b[0m\n\u001b[1;32m     40\u001b[0m             \u001b[0;32mif\u001b[0m \u001b[0martist\u001b[0m\u001b[0;34m.\u001b[0m\u001b[0mget_agg_filter\u001b[0m\u001b[0;34m(\u001b[0m\u001b[0;34m)\u001b[0m \u001b[0;32mis\u001b[0m \u001b[0;32mnot\u001b[0m \u001b[0;32mNone\u001b[0m\u001b[0;34m:\u001b[0m\u001b[0;34m\u001b[0m\u001b[0;34m\u001b[0m\u001b[0m\n",
      "\u001b[0;32m/usr/local/lib64/python3.6/site-packages/matplotlib/figure.py\u001b[0m in \u001b[0;36mdraw\u001b[0;34m(self, renderer)\u001b[0m\n\u001b[1;32m   1734\u001b[0m             \u001b[0mself\u001b[0m\u001b[0;34m.\u001b[0m\u001b[0mpatch\u001b[0m\u001b[0;34m.\u001b[0m\u001b[0mdraw\u001b[0m\u001b[0;34m(\u001b[0m\u001b[0mrenderer\u001b[0m\u001b[0;34m)\u001b[0m\u001b[0;34m\u001b[0m\u001b[0;34m\u001b[0m\u001b[0m\n\u001b[1;32m   1735\u001b[0m             mimage._draw_list_compositing_images(\n\u001b[0;32m-> 1736\u001b[0;31m                 renderer, self, artists, self.suppressComposite)\n\u001b[0m\u001b[1;32m   1737\u001b[0m \u001b[0;34m\u001b[0m\u001b[0m\n\u001b[1;32m   1738\u001b[0m             \u001b[0mrenderer\u001b[0m\u001b[0;34m.\u001b[0m\u001b[0mclose_group\u001b[0m\u001b[0;34m(\u001b[0m\u001b[0;34m'figure'\u001b[0m\u001b[0;34m)\u001b[0m\u001b[0;34m\u001b[0m\u001b[0;34m\u001b[0m\u001b[0m\n",
      "\u001b[0;32m/usr/local/lib64/python3.6/site-packages/matplotlib/image.py\u001b[0m in \u001b[0;36m_draw_list_compositing_images\u001b[0;34m(renderer, parent, artists, suppress_composite)\u001b[0m\n\u001b[1;32m    135\u001b[0m     \u001b[0;32mif\u001b[0m \u001b[0mnot_composite\u001b[0m \u001b[0;32mor\u001b[0m \u001b[0;32mnot\u001b[0m \u001b[0mhas_images\u001b[0m\u001b[0;34m:\u001b[0m\u001b[0;34m\u001b[0m\u001b[0;34m\u001b[0m\u001b[0m\n\u001b[1;32m    136\u001b[0m         \u001b[0;32mfor\u001b[0m \u001b[0ma\u001b[0m \u001b[0;32min\u001b[0m \u001b[0martists\u001b[0m\u001b[0;34m:\u001b[0m\u001b[0;34m\u001b[0m\u001b[0;34m\u001b[0m\u001b[0m\n\u001b[0;32m--> 137\u001b[0;31m             \u001b[0ma\u001b[0m\u001b[0;34m.\u001b[0m\u001b[0mdraw\u001b[0m\u001b[0;34m(\u001b[0m\u001b[0mrenderer\u001b[0m\u001b[0;34m)\u001b[0m\u001b[0;34m\u001b[0m\u001b[0;34m\u001b[0m\u001b[0m\n\u001b[0m\u001b[1;32m    138\u001b[0m     \u001b[0;32melse\u001b[0m\u001b[0;34m:\u001b[0m\u001b[0;34m\u001b[0m\u001b[0;34m\u001b[0m\u001b[0m\n\u001b[1;32m    139\u001b[0m         \u001b[0;31m# Composite any adjacent images together\u001b[0m\u001b[0;34m\u001b[0m\u001b[0;34m\u001b[0m\u001b[0;34m\u001b[0m\u001b[0m\n",
      "\u001b[0;32m/usr/local/lib64/python3.6/site-packages/matplotlib/artist.py\u001b[0m in \u001b[0;36mdraw_wrapper\u001b[0;34m(artist, renderer, *args, **kwargs)\u001b[0m\n\u001b[1;32m     36\u001b[0m                 \u001b[0mrenderer\u001b[0m\u001b[0;34m.\u001b[0m\u001b[0mstart_filter\u001b[0m\u001b[0;34m(\u001b[0m\u001b[0;34m)\u001b[0m\u001b[0;34m\u001b[0m\u001b[0;34m\u001b[0m\u001b[0m\n\u001b[1;32m     37\u001b[0m \u001b[0;34m\u001b[0m\u001b[0m\n\u001b[0;32m---> 38\u001b[0;31m             \u001b[0;32mreturn\u001b[0m \u001b[0mdraw\u001b[0m\u001b[0;34m(\u001b[0m\u001b[0martist\u001b[0m\u001b[0;34m,\u001b[0m \u001b[0mrenderer\u001b[0m\u001b[0;34m,\u001b[0m \u001b[0;34m*\u001b[0m\u001b[0margs\u001b[0m\u001b[0;34m,\u001b[0m \u001b[0;34m**\u001b[0m\u001b[0mkwargs\u001b[0m\u001b[0;34m)\u001b[0m\u001b[0;34m\u001b[0m\u001b[0;34m\u001b[0m\u001b[0m\n\u001b[0m\u001b[1;32m     39\u001b[0m         \u001b[0;32mfinally\u001b[0m\u001b[0;34m:\u001b[0m\u001b[0;34m\u001b[0m\u001b[0;34m\u001b[0m\u001b[0m\n\u001b[1;32m     40\u001b[0m             \u001b[0;32mif\u001b[0m \u001b[0martist\u001b[0m\u001b[0;34m.\u001b[0m\u001b[0mget_agg_filter\u001b[0m\u001b[0;34m(\u001b[0m\u001b[0;34m)\u001b[0m \u001b[0;32mis\u001b[0m \u001b[0;32mnot\u001b[0m \u001b[0;32mNone\u001b[0m\u001b[0;34m:\u001b[0m\u001b[0;34m\u001b[0m\u001b[0;34m\u001b[0m\u001b[0m\n",
      "\u001b[0;32m/usr/local/lib64/python3.6/site-packages/matplotlib/axes/_base.py\u001b[0m in \u001b[0;36mdraw\u001b[0;34m(self, renderer, inframe)\u001b[0m\n\u001b[1;32m   2588\u001b[0m                 \u001b[0martists\u001b[0m\u001b[0;34m.\u001b[0m\u001b[0mremove\u001b[0m\u001b[0;34m(\u001b[0m\u001b[0mspine\u001b[0m\u001b[0;34m)\u001b[0m\u001b[0;34m\u001b[0m\u001b[0;34m\u001b[0m\u001b[0m\n\u001b[1;32m   2589\u001b[0m \u001b[0;34m\u001b[0m\u001b[0m\n\u001b[0;32m-> 2590\u001b[0;31m         \u001b[0mself\u001b[0m\u001b[0;34m.\u001b[0m\u001b[0m_update_title_position\u001b[0m\u001b[0;34m(\u001b[0m\u001b[0mrenderer\u001b[0m\u001b[0;34m)\u001b[0m\u001b[0;34m\u001b[0m\u001b[0;34m\u001b[0m\u001b[0m\n\u001b[0m\u001b[1;32m   2591\u001b[0m \u001b[0;34m\u001b[0m\u001b[0m\n\u001b[1;32m   2592\u001b[0m         \u001b[0;32mif\u001b[0m \u001b[0;32mnot\u001b[0m \u001b[0mself\u001b[0m\u001b[0;34m.\u001b[0m\u001b[0maxison\u001b[0m \u001b[0;32mor\u001b[0m \u001b[0minframe\u001b[0m\u001b[0;34m:\u001b[0m\u001b[0;34m\u001b[0m\u001b[0;34m\u001b[0m\u001b[0m\n",
      "\u001b[0;32m/usr/local/lib64/python3.6/site-packages/matplotlib/axes/_base.py\u001b[0m in \u001b[0;36m_update_title_position\u001b[0;34m(self, renderer)\u001b[0m\n\u001b[1;32m   2531\u001b[0m                 if (ax.xaxis.get_ticks_position() in ['top', 'unknown']\n\u001b[1;32m   2532\u001b[0m                         or ax.xaxis.get_label_position() == 'top'):\n\u001b[0;32m-> 2533\u001b[0;31m                     \u001b[0mbb\u001b[0m \u001b[0;34m=\u001b[0m \u001b[0max\u001b[0m\u001b[0;34m.\u001b[0m\u001b[0mxaxis\u001b[0m\u001b[0;34m.\u001b[0m\u001b[0mget_tightbbox\u001b[0m\u001b[0;34m(\u001b[0m\u001b[0mrenderer\u001b[0m\u001b[0;34m)\u001b[0m\u001b[0;34m\u001b[0m\u001b[0;34m\u001b[0m\u001b[0m\n\u001b[0m\u001b[1;32m   2534\u001b[0m                 \u001b[0;32melse\u001b[0m\u001b[0;34m:\u001b[0m\u001b[0;34m\u001b[0m\u001b[0;34m\u001b[0m\u001b[0m\n\u001b[1;32m   2535\u001b[0m                     \u001b[0mbb\u001b[0m \u001b[0;34m=\u001b[0m \u001b[0max\u001b[0m\u001b[0;34m.\u001b[0m\u001b[0mget_window_extent\u001b[0m\u001b[0;34m(\u001b[0m\u001b[0mrenderer\u001b[0m\u001b[0;34m)\u001b[0m\u001b[0;34m\u001b[0m\u001b[0;34m\u001b[0m\u001b[0m\n",
      "\u001b[0;32m/usr/local/lib64/python3.6/site-packages/matplotlib/axis.py\u001b[0m in \u001b[0;36mget_tightbbox\u001b[0;34m(self, renderer)\u001b[0m\n\u001b[1;32m   1186\u001b[0m         \u001b[0mticks_to_draw\u001b[0m \u001b[0;34m=\u001b[0m \u001b[0mself\u001b[0m\u001b[0;34m.\u001b[0m\u001b[0m_update_ticks\u001b[0m\u001b[0;34m(\u001b[0m\u001b[0;34m)\u001b[0m\u001b[0;34m\u001b[0m\u001b[0;34m\u001b[0m\u001b[0m\n\u001b[1;32m   1187\u001b[0m \u001b[0;34m\u001b[0m\u001b[0m\n\u001b[0;32m-> 1188\u001b[0;31m         \u001b[0mself\u001b[0m\u001b[0;34m.\u001b[0m\u001b[0m_update_label_position\u001b[0m\u001b[0;34m(\u001b[0m\u001b[0mrenderer\u001b[0m\u001b[0;34m)\u001b[0m\u001b[0;34m\u001b[0m\u001b[0;34m\u001b[0m\u001b[0m\n\u001b[0m\u001b[1;32m   1189\u001b[0m \u001b[0;34m\u001b[0m\u001b[0m\n\u001b[1;32m   1190\u001b[0m         \u001b[0;31m# go back to just this axis's tick labels\u001b[0m\u001b[0;34m\u001b[0m\u001b[0;34m\u001b[0m\u001b[0;34m\u001b[0m\u001b[0m\n",
      "\u001b[0;32m/usr/local/lib64/python3.6/site-packages/matplotlib/axis.py\u001b[0m in \u001b[0;36m_update_label_position\u001b[0;34m(self, renderer)\u001b[0m\n\u001b[1;32m   2019\u001b[0m         \u001b[0;31m# get bounding boxes for this axis and any siblings\u001b[0m\u001b[0;34m\u001b[0m\u001b[0;34m\u001b[0m\u001b[0;34m\u001b[0m\u001b[0m\n\u001b[1;32m   2020\u001b[0m         \u001b[0;31m# that have been set by `fig.align_xlabels()`\u001b[0m\u001b[0;34m\u001b[0m\u001b[0;34m\u001b[0m\u001b[0;34m\u001b[0m\u001b[0m\n\u001b[0;32m-> 2021\u001b[0;31m         \u001b[0mbboxes\u001b[0m\u001b[0;34m,\u001b[0m \u001b[0mbboxes2\u001b[0m \u001b[0;34m=\u001b[0m \u001b[0mself\u001b[0m\u001b[0;34m.\u001b[0m\u001b[0m_get_tick_boxes_siblings\u001b[0m\u001b[0;34m(\u001b[0m\u001b[0mrenderer\u001b[0m\u001b[0;34m=\u001b[0m\u001b[0mrenderer\u001b[0m\u001b[0;34m)\u001b[0m\u001b[0;34m\u001b[0m\u001b[0;34m\u001b[0m\u001b[0m\n\u001b[0m\u001b[1;32m   2022\u001b[0m \u001b[0;34m\u001b[0m\u001b[0m\n\u001b[1;32m   2023\u001b[0m         \u001b[0mx\u001b[0m\u001b[0;34m,\u001b[0m \u001b[0my\u001b[0m \u001b[0;34m=\u001b[0m \u001b[0mself\u001b[0m\u001b[0;34m.\u001b[0m\u001b[0mlabel\u001b[0m\u001b[0;34m.\u001b[0m\u001b[0mget_position\u001b[0m\u001b[0;34m(\u001b[0m\u001b[0;34m)\u001b[0m\u001b[0;34m\u001b[0m\u001b[0;34m\u001b[0m\u001b[0m\n",
      "\u001b[0;32m/usr/local/lib64/python3.6/site-packages/matplotlib/axis.py\u001b[0m in \u001b[0;36m_get_tick_boxes_siblings\u001b[0;34m(self, renderer)\u001b[0m\n\u001b[1;32m   2004\u001b[0m         \u001b[0;32mfor\u001b[0m \u001b[0mnn\u001b[0m\u001b[0;34m,\u001b[0m \u001b[0maxx\u001b[0m \u001b[0;32min\u001b[0m \u001b[0menumerate\u001b[0m\u001b[0;34m(\u001b[0m\u001b[0mgrp\u001b[0m\u001b[0;34m.\u001b[0m\u001b[0mget_siblings\u001b[0m\u001b[0;34m(\u001b[0m\u001b[0mself\u001b[0m\u001b[0;34m.\u001b[0m\u001b[0maxes\u001b[0m\u001b[0;34m)\u001b[0m\u001b[0;34m)\u001b[0m\u001b[0;34m:\u001b[0m\u001b[0;34m\u001b[0m\u001b[0;34m\u001b[0m\u001b[0m\n\u001b[1;32m   2005\u001b[0m             \u001b[0mticks_to_draw\u001b[0m \u001b[0;34m=\u001b[0m \u001b[0maxx\u001b[0m\u001b[0;34m.\u001b[0m\u001b[0mxaxis\u001b[0m\u001b[0;34m.\u001b[0m\u001b[0m_update_ticks\u001b[0m\u001b[0;34m(\u001b[0m\u001b[0;34m)\u001b[0m\u001b[0;34m\u001b[0m\u001b[0;34m\u001b[0m\u001b[0m\n\u001b[0;32m-> 2006\u001b[0;31m             \u001b[0mtlb\u001b[0m\u001b[0;34m,\u001b[0m \u001b[0mtlb2\u001b[0m \u001b[0;34m=\u001b[0m \u001b[0maxx\u001b[0m\u001b[0;34m.\u001b[0m\u001b[0mxaxis\u001b[0m\u001b[0;34m.\u001b[0m\u001b[0m_get_tick_bboxes\u001b[0m\u001b[0;34m(\u001b[0m\u001b[0mticks_to_draw\u001b[0m\u001b[0;34m,\u001b[0m \u001b[0mrenderer\u001b[0m\u001b[0;34m)\u001b[0m\u001b[0;34m\u001b[0m\u001b[0;34m\u001b[0m\u001b[0m\n\u001b[0m\u001b[1;32m   2007\u001b[0m             \u001b[0mbboxes\u001b[0m\u001b[0;34m.\u001b[0m\u001b[0mextend\u001b[0m\u001b[0;34m(\u001b[0m\u001b[0mtlb\u001b[0m\u001b[0;34m)\u001b[0m\u001b[0;34m\u001b[0m\u001b[0;34m\u001b[0m\u001b[0m\n\u001b[1;32m   2008\u001b[0m             \u001b[0mbboxes2\u001b[0m\u001b[0;34m.\u001b[0m\u001b[0mextend\u001b[0m\u001b[0;34m(\u001b[0m\u001b[0mtlb2\u001b[0m\u001b[0;34m)\u001b[0m\u001b[0;34m\u001b[0m\u001b[0;34m\u001b[0m\u001b[0m\n",
      "\u001b[0;32m/usr/local/lib64/python3.6/site-packages/matplotlib/axis.py\u001b[0m in \u001b[0;36m_get_tick_bboxes\u001b[0;34m(self, ticks, renderer)\u001b[0m\n\u001b[1;32m   1172\u001b[0m         \u001b[0;34m\"\"\"Return lists of bboxes for ticks' label1's and label2's.\"\"\"\u001b[0m\u001b[0;34m\u001b[0m\u001b[0;34m\u001b[0m\u001b[0m\n\u001b[1;32m   1173\u001b[0m         return ([tick.label1.get_window_extent(renderer)\n\u001b[0;32m-> 1174\u001b[0;31m                  for tick in ticks if tick.label1.get_visible()],\n\u001b[0m\u001b[1;32m   1175\u001b[0m                 [tick.label2.get_window_extent(renderer)\n\u001b[1;32m   1176\u001b[0m                  for tick in ticks if tick.label2.get_visible()])\n",
      "\u001b[0;32m/usr/local/lib64/python3.6/site-packages/matplotlib/axis.py\u001b[0m in \u001b[0;36m<listcomp>\u001b[0;34m(.0)\u001b[0m\n\u001b[1;32m   1172\u001b[0m         \u001b[0;34m\"\"\"Return lists of bboxes for ticks' label1's and label2's.\"\"\"\u001b[0m\u001b[0;34m\u001b[0m\u001b[0;34m\u001b[0m\u001b[0m\n\u001b[1;32m   1173\u001b[0m         return ([tick.label1.get_window_extent(renderer)\n\u001b[0;32m-> 1174\u001b[0;31m                  for tick in ticks if tick.label1.get_visible()],\n\u001b[0m\u001b[1;32m   1175\u001b[0m                 [tick.label2.get_window_extent(renderer)\n\u001b[1;32m   1176\u001b[0m                  for tick in ticks if tick.label2.get_visible()])\n",
      "\u001b[0;32m/usr/local/lib64/python3.6/site-packages/matplotlib/text.py\u001b[0m in \u001b[0;36mget_window_extent\u001b[0;34m(self, renderer, dpi)\u001b[0m\n\u001b[1;32m    903\u001b[0m             \u001b[0;32mraise\u001b[0m \u001b[0mRuntimeError\u001b[0m\u001b[0;34m(\u001b[0m\u001b[0;34m'Cannot get window extent w/o renderer'\u001b[0m\u001b[0;34m)\u001b[0m\u001b[0;34m\u001b[0m\u001b[0;34m\u001b[0m\u001b[0m\n\u001b[1;32m    904\u001b[0m \u001b[0;34m\u001b[0m\u001b[0m\n\u001b[0;32m--> 905\u001b[0;31m         \u001b[0mbbox\u001b[0m\u001b[0;34m,\u001b[0m \u001b[0minfo\u001b[0m\u001b[0;34m,\u001b[0m \u001b[0mdescent\u001b[0m \u001b[0;34m=\u001b[0m \u001b[0mself\u001b[0m\u001b[0;34m.\u001b[0m\u001b[0m_get_layout\u001b[0m\u001b[0;34m(\u001b[0m\u001b[0mself\u001b[0m\u001b[0;34m.\u001b[0m\u001b[0m_renderer\u001b[0m\u001b[0;34m)\u001b[0m\u001b[0;34m\u001b[0m\u001b[0;34m\u001b[0m\u001b[0m\n\u001b[0m\u001b[1;32m    906\u001b[0m         \u001b[0mx\u001b[0m\u001b[0;34m,\u001b[0m \u001b[0my\u001b[0m \u001b[0;34m=\u001b[0m \u001b[0mself\u001b[0m\u001b[0;34m.\u001b[0m\u001b[0mget_unitless_position\u001b[0m\u001b[0;34m(\u001b[0m\u001b[0;34m)\u001b[0m\u001b[0;34m\u001b[0m\u001b[0;34m\u001b[0m\u001b[0m\n\u001b[1;32m    907\u001b[0m         \u001b[0mx\u001b[0m\u001b[0;34m,\u001b[0m \u001b[0my\u001b[0m \u001b[0;34m=\u001b[0m \u001b[0mself\u001b[0m\u001b[0;34m.\u001b[0m\u001b[0mget_transform\u001b[0m\u001b[0;34m(\u001b[0m\u001b[0;34m)\u001b[0m\u001b[0;34m.\u001b[0m\u001b[0mtransform\u001b[0m\u001b[0;34m(\u001b[0m\u001b[0;34m(\u001b[0m\u001b[0mx\u001b[0m\u001b[0;34m,\u001b[0m \u001b[0my\u001b[0m\u001b[0;34m)\u001b[0m\u001b[0;34m)\u001b[0m\u001b[0;34m\u001b[0m\u001b[0;34m\u001b[0m\u001b[0m\n",
      "\u001b[0;32m/usr/local/lib64/python3.6/site-packages/matplotlib/text.py\u001b[0m in \u001b[0;36m_get_layout\u001b[0;34m(self, renderer)\u001b[0m\n\u001b[1;32m    291\u001b[0m         _, lp_h, lp_d = renderer.get_text_width_height_descent(\n\u001b[1;32m    292\u001b[0m             \u001b[0;34m\"lp\"\u001b[0m\u001b[0;34m,\u001b[0m \u001b[0mself\u001b[0m\u001b[0;34m.\u001b[0m\u001b[0m_fontproperties\u001b[0m\u001b[0;34m,\u001b[0m\u001b[0;34m\u001b[0m\u001b[0;34m\u001b[0m\u001b[0m\n\u001b[0;32m--> 293\u001b[0;31m             ismath=\"TeX\" if self.get_usetex() else False)\n\u001b[0m\u001b[1;32m    294\u001b[0m         \u001b[0mmin_dy\u001b[0m \u001b[0;34m=\u001b[0m \u001b[0;34m(\u001b[0m\u001b[0mlp_h\u001b[0m \u001b[0;34m-\u001b[0m \u001b[0mlp_d\u001b[0m\u001b[0;34m)\u001b[0m \u001b[0;34m*\u001b[0m \u001b[0mself\u001b[0m\u001b[0;34m.\u001b[0m\u001b[0m_linespacing\u001b[0m\u001b[0;34m\u001b[0m\u001b[0;34m\u001b[0m\u001b[0m\n\u001b[1;32m    295\u001b[0m \u001b[0;34m\u001b[0m\u001b[0m\n",
      "\u001b[0;32m/usr/local/lib64/python3.6/site-packages/matplotlib/backends/backend_agg.py\u001b[0m in \u001b[0;36mget_text_width_height_descent\u001b[0;34m(self, s, prop, ismath)\u001b[0m\n\u001b[1;32m    202\u001b[0m             \u001b[0mfontsize\u001b[0m \u001b[0;34m=\u001b[0m \u001b[0mprop\u001b[0m\u001b[0;34m.\u001b[0m\u001b[0mget_size_in_points\u001b[0m\u001b[0;34m(\u001b[0m\u001b[0;34m)\u001b[0m\u001b[0;34m\u001b[0m\u001b[0;34m\u001b[0m\u001b[0m\n\u001b[1;32m    203\u001b[0m             w, h, d = texmanager.get_text_width_height_descent(\n\u001b[0;32m--> 204\u001b[0;31m                 s, fontsize, renderer=self)\n\u001b[0m\u001b[1;32m    205\u001b[0m             \u001b[0;32mreturn\u001b[0m \u001b[0mw\u001b[0m\u001b[0;34m,\u001b[0m \u001b[0mh\u001b[0m\u001b[0;34m,\u001b[0m \u001b[0md\u001b[0m\u001b[0;34m\u001b[0m\u001b[0;34m\u001b[0m\u001b[0m\n\u001b[1;32m    206\u001b[0m \u001b[0;34m\u001b[0m\u001b[0m\n",
      "\u001b[0;32m/usr/local/lib64/python3.6/site-packages/matplotlib/texmanager.py\u001b[0m in \u001b[0;36mget_text_width_height_descent\u001b[0;34m(self, tex, fontsize, renderer)\u001b[0m\n\u001b[1;32m    456\u001b[0m         \u001b[0;32melse\u001b[0m\u001b[0;34m:\u001b[0m\u001b[0;34m\u001b[0m\u001b[0;34m\u001b[0m\u001b[0m\n\u001b[1;32m    457\u001b[0m             \u001b[0;31m# use dviread.\u001b[0m\u001b[0;34m\u001b[0m\u001b[0;34m\u001b[0m\u001b[0;34m\u001b[0m\u001b[0m\n\u001b[0;32m--> 458\u001b[0;31m             \u001b[0mdvifile\u001b[0m \u001b[0;34m=\u001b[0m \u001b[0mself\u001b[0m\u001b[0;34m.\u001b[0m\u001b[0mmake_dvi\u001b[0m\u001b[0;34m(\u001b[0m\u001b[0mtex\u001b[0m\u001b[0;34m,\u001b[0m \u001b[0mfontsize\u001b[0m\u001b[0;34m)\u001b[0m\u001b[0;34m\u001b[0m\u001b[0;34m\u001b[0m\u001b[0m\n\u001b[0m\u001b[1;32m    459\u001b[0m             \u001b[0;32mwith\u001b[0m \u001b[0mdviread\u001b[0m\u001b[0;34m.\u001b[0m\u001b[0mDvi\u001b[0m\u001b[0;34m(\u001b[0m\u001b[0mdvifile\u001b[0m\u001b[0;34m,\u001b[0m \u001b[0;36m72\u001b[0m \u001b[0;34m*\u001b[0m \u001b[0mdpi_fraction\u001b[0m\u001b[0;34m)\u001b[0m \u001b[0;32mas\u001b[0m \u001b[0mdvi\u001b[0m\u001b[0;34m:\u001b[0m\u001b[0;34m\u001b[0m\u001b[0;34m\u001b[0m\u001b[0m\n\u001b[1;32m    460\u001b[0m                 \u001b[0mpage\u001b[0m\u001b[0;34m,\u001b[0m \u001b[0;34m=\u001b[0m \u001b[0mdvi\u001b[0m\u001b[0;34m\u001b[0m\u001b[0;34m\u001b[0m\u001b[0m\n",
      "\u001b[0;32m/usr/local/lib64/python3.6/site-packages/matplotlib/texmanager.py\u001b[0m in \u001b[0;36mmake_dvi\u001b[0;34m(self, tex, fontsize)\u001b[0m\n\u001b[1;32m    338\u001b[0m                 self._run_checked_subprocess(\n\u001b[1;32m    339\u001b[0m                     [\"latex\", \"-interaction=nonstopmode\", \"--halt-on-error\",\n\u001b[0;32m--> 340\u001b[0;31m                      texfile], tex)\n\u001b[0m\u001b[1;32m    341\u001b[0m             \u001b[0;32mfor\u001b[0m \u001b[0mfname\u001b[0m \u001b[0;32min\u001b[0m \u001b[0mglob\u001b[0m\u001b[0;34m.\u001b[0m\u001b[0mglob\u001b[0m\u001b[0;34m(\u001b[0m\u001b[0mbasefile\u001b[0m \u001b[0;34m+\u001b[0m \u001b[0;34m'*'\u001b[0m\u001b[0;34m)\u001b[0m\u001b[0;34m:\u001b[0m\u001b[0;34m\u001b[0m\u001b[0;34m\u001b[0m\u001b[0m\n\u001b[1;32m    342\u001b[0m                 \u001b[0;32mif\u001b[0m \u001b[0;32mnot\u001b[0m \u001b[0mfname\u001b[0m\u001b[0;34m.\u001b[0m\u001b[0mendswith\u001b[0m\u001b[0;34m(\u001b[0m\u001b[0;34m(\u001b[0m\u001b[0;34m'dvi'\u001b[0m\u001b[0;34m,\u001b[0m \u001b[0;34m'tex'\u001b[0m\u001b[0;34m)\u001b[0m\u001b[0;34m)\u001b[0m\u001b[0;34m:\u001b[0m\u001b[0;34m\u001b[0m\u001b[0;34m\u001b[0m\u001b[0m\n",
      "\u001b[0;32m/usr/local/lib64/python3.6/site-packages/matplotlib/texmanager.py\u001b[0m in \u001b[0;36m_run_checked_subprocess\u001b[0;34m(self, command, tex)\u001b[0m\n\u001b[1;32m    308\u001b[0m             raise RuntimeError(\n\u001b[1;32m    309\u001b[0m                 \u001b[0;34m'Failed to process string with tex because {} could not be '\u001b[0m\u001b[0;34m\u001b[0m\u001b[0;34m\u001b[0m\u001b[0m\n\u001b[0;32m--> 310\u001b[0;31m                 'found'.format(command[0])) from exc\n\u001b[0m\u001b[1;32m    311\u001b[0m         \u001b[0;32mexcept\u001b[0m \u001b[0msubprocess\u001b[0m\u001b[0;34m.\u001b[0m\u001b[0mCalledProcessError\u001b[0m \u001b[0;32mas\u001b[0m \u001b[0mexc\u001b[0m\u001b[0;34m:\u001b[0m\u001b[0;34m\u001b[0m\u001b[0;34m\u001b[0m\u001b[0m\n\u001b[1;32m    312\u001b[0m             raise RuntimeError(\n",
      "\u001b[0;31mRuntimeError\u001b[0m: Failed to process string with tex because latex could not be found"
     ]
    },
    {
     "data": {
      "text/plain": [
       "<Figure size 1152x648 with 1 Axes>"
      ]
     },
     "metadata": {},
     "output_type": "display_data"
    }
   ],
   "source": [
    "fig, ax = plt.subplots(figsize=(16,9))\n",
    "plt.hist(np.concatenate([t_non_match, t_incorrect, t_correct]), 128, color=\"r\", range=(50,350), label='Correct', linewidth=0.00, antialiased=True); \n",
    "plt.hist(np.concatenate([t_non_match, t_incorrect]), 128, color=\"b\", hatch='/', range=(50,350), label='Incorrect', linewidth=0.00, antialiased=True); \n",
    "plt.hist(t_non_match, 128, color=\"g\", range=(50,350), hatch='\\\\', label=\"Unmatched\", linewidth=0.00, antialiased=True); \n",
    "\n",
    "# plt.hist(np.concatenate([t_non_match, t_incorrect, t_correct]), 128, color=\"w\", range=(50,350), histtype='step', linewidth=2.0); \n",
    "# plt.hist(np.concatenate([t_non_match, t_incorrect]), 128, color=\"w\", range=(50,350), histtype='step', linewidth=2.0); \n",
    "\n",
    "\n",
    "# plt.hist((t_non_match, t_incorrect, t_correct), 128, stacked=True, color=[\"g\", \"b\", \"r\"], range=(50,350), hatch='x'); \n",
    "\n",
    "\n",
    "# plt.title(f\"$t$ Quark Invariant Mass Stacked Histogram. {MODEL_NAME}\", pad=20, fontsize= TITLE_SIZE)\n",
    "\n",
    "\n",
    "plt.xlabel(\"Top Candidate  Mass [GeV]\", labelpad=20)\n",
    "plt.ylabel(\"Count\", labelpad=20)\n",
    "plt.xticks()\n",
    "plt.xlim(50, 350)\n",
    "# plt.yticks(plt.yticks()[0][1:])\n",
    "\n",
    "\n",
    "# plt.axvline(173, color='m', linewidth=6)\n",
    "\n",
    "plt.legend()\n",
    "ax.yaxis.set_major_formatter(mkformatter)\n",
    "# plt.yticks(np.array([10_000, 30_000, 50_000, 70_000]))\n",
    "# plt.ylim(0, 80_000)\n",
    "\n",
    "\n",
    "\n",
    "plt.tight_layout()\n",
    "plt.savefig(f\"./figures/network_t_quark_stacked{'_perfect' if PERFECT else ''}{'_chi2' if CHI2 else ''}.pdf\", bbox_inches='tight')"
   ]
  },
  {
   "cell_type": "code",
   "execution_count": null,
   "metadata": {},
   "outputs": [],
   "source": [
    "plt.figure(figsize=(16,9))\n",
    "\n",
    "sb.kdeplot(t_correct[t_correct < 400], color='r', shade=False, gridsize=1024, linewidth=6,\n",
    "           label=f\"Correct\")\n",
    "sb.kdeplot(t_incorrect[t_incorrect < 400], color='b', shade=False, gridsize=1024, linestyle='--', linewidth=6,\n",
    "          label=f\"Incorrect\")\n",
    "sb.kdeplot(t_non_match[t_non_match < 400], color='g', shade=False, gridsize=1024, linestyle=':', linewidth=6,\n",
    "           label=f\"No Match\")\n",
    "\n",
    "sb.kdeplot(t_correct[t_correct < 400], color='r', linewidth=0, shade=True, gridsize=1024, alpha=ALPHA)\n",
    "sb.kdeplot(t_incorrect[t_incorrect < 400], color='g', linewidth=0, shade=True, gridsize=1024, alpha=ALPHA)\n",
    "sb.kdeplot(t_non_match[t_non_match < 400], color='b', linewidth=0, shade=True, gridsize=1024, alpha=ALPHA)\n",
    "\n",
    "# plt.title(f\"$t$ Quark Invariant Mass Relative Distributions. {MODEL_NAME}\", pad=20, fontsize= TITLE_SIZE)\n",
    "\n",
    "\n",
    "plt.xlabel(\"Invariant mass of three jets. (GeV)\")\n",
    "plt.ylabel(\"Density\", labelpad=20)\n",
    "plt.xlim(50, 350)\n",
    "# plt.ylim(0, 0.026)\n",
    "\n",
    "plt.axvline(173, color='m', label=\"Theoretical $t$ Mass\", linewidth=4)\n",
    "\n",
    "plt.legend()\n",
    "\n",
    "plt.tight_layout()\n",
    "plt.savefig(f\"./figures/network_t_quark_relative{'_perfect' if PERFECT else ''}{'_chi2' if CHI2 else ''}.pdf\", bbox_inches='tight')"
   ]
  },
  {
   "cell_type": "code",
   "execution_count": null,
   "metadata": {},
   "outputs": [],
   "source": [
    "fig, ax = plt.subplots(figsize=(16,9))\n",
    "\n",
    "plt.hist(np.concatenate([W_non_match, W_incorrect, W_correct]), 128, color=\"r\", range=(25, 175), label='Correct', linewidth=0.0, antialiased=True); \n",
    "plt.hist(np.concatenate([W_non_match, W_incorrect]), 128, color=\"b\", range=(25, 175), hatch='/', label='Incorrect', linewidth=0.0, antialiased=True); \n",
    "plt.hist(W_non_match, 128, color=\"g\", range=(25, 175), hatch='\\\\', label=\"Unmatched\", linewidth=0.0, antialiased=True); \n",
    "\n",
    "# plt.hist(np.concatenate([t_non_match, t_incorrect, t_correct]), 128, color=\"w\", range=(50,350), histtype='step', linewidth=2.0); \n",
    "# plt.hist(np.concatenate([t_non_match, t_incorrect]), 128, color=\"w\", range=(50,350), histtype='step', linewidth=2.0); \n",
    "\n",
    "\n",
    "# plt.hist((t_non_match, t_incorrect, t_correct), 128, stacked=True, color=[\"g\", \"b\", \"r\"], range=(50,350), hatch='x'); \n",
    "\n",
    "\n",
    "# plt.title(f\"$t$ Quark Invariant Mass Stacked Histogram. {MODEL_NAME}\", pad=20, fontsize= TITLE_SIZE)\n",
    "\n",
    "\n",
    "plt.xlabel(\"$W$ Candidate Mass [GeV]\", labelpad=20)\n",
    "plt.ylabel(\"Count\", labelpad=20)\n",
    "plt.xticks()\n",
    "plt.xlim(25, 175)\n",
    "\n",
    "\n",
    "# plt.axvline(173, color='m', linewidth=6)\n",
    "\n",
    "plt.legend()\n",
    "ax.yaxis.set_major_formatter(mkformatter)\n",
    "# plt.yticks(np.array([25_000, 50_000, 75_000, 100_000]))\n",
    "# plt.ylim(0, 100_000)\n",
    "\n",
    "plt.tight_layout()\n",
    "plt.savefig(f\"./figures/network_w_quark_stacked{'_perfect' if PERFECT else ''}{'_chi2' if CHI2 else ''}.pdf\", bbox_inches='tight')"
   ]
  },
  {
   "cell_type": "code",
   "execution_count": null,
   "metadata": {},
   "outputs": [],
   "source": [
    "plt.figure(figsize=(16,9))\n",
    "\n",
    "sb.kdeplot(W_correct[W_correct < 200], color='r', shade=False, gridsize=1024, linewidth=6,\n",
    "           label=f\"Correct\")\n",
    "sb.kdeplot(W_incorrect[W_incorrect < 200], color='b', shade=False, gridsize=1024, linewidth=6, linestyle='--',\n",
    "          label=f\"Incorrect\")\n",
    "sb.kdeplot(W_non_match[W_non_match < 200], color='g', shade=False, gridsize=1024, linewidth=6, linestyle=':',\n",
    "           label=f\"No Match\")\n",
    "\n",
    "sb.kdeplot(W_correct[W_correct < 200], color='r', linewidth=0, shade=True, gridsize=1024, alpha=ALPHA)\n",
    "sb.kdeplot(W_incorrect[W_incorrect < 200], color='g', linewidth=0, shade=True, gridsize=1024, alpha=ALPHA)\n",
    "sb.kdeplot(W_non_match[W_non_match < 200], color='b', linewidth=0, shade=True, gridsize=1024, alpha=ALPHA)\n",
    "\n",
    "# plt.title(f\"$W$ Boson Invariant Mass Relative Distributions. {MODEL_NAME}\", pad=20, fontsize= TITLE_SIZE)\n",
    "\n",
    "\n",
    "plt.xlabel(\"Invariant mass of two jets. (GeV)\")\n",
    "plt.ylabel(\"Density\", labelpad=20)\n",
    "plt.xlim(25, 175)\n",
    "plt.ylim(0, 0.048)\n",
    "\n",
    "plt.axvline(80.4, color='m', label=\"Theoretical $W$ Mass\", linewidth=4)\n",
    "\n",
    "plt.legend()\n",
    "plt.tight_layout()\n",
    "plt.savefig(f\"./figures/network_w_quark_relative{'_perfect' if PERFECT else ''}{'_chi2' if CHI2 else ''}.pdf\", bbox_inches='tight')"
   ]
  },
  {
   "cell_type": "code",
   "execution_count": null,
   "metadata": {},
   "outputs": [],
   "source": [
    "plt.figure(figsize=(16,9))\n",
    "\n",
    "sb.kdeplot(invariant_mass(twin_left_vectors), gridsize=8192, label='Left Predictions', shade=False, color='b');\n",
    "sb.kdeplot(invariant_mass(twin_right_vectors), gridsize=8192, label='Right Predictions', shade=False, color='r');\n",
    "\n",
    "sb.kdeplot(invariant_mass(twin_left_vectors), color='b', linewidth=0, shade=True, gridsize=8192, alpha=ALPHA)\n",
    "sb.kdeplot(invariant_mass(twin_right_vectors), color='r', linewidth=0, shade=True, gridsize=8192, alpha=ALPHA)\n",
    "\n",
    "lm = invariant_mass(twin_left_vectors).mean()\n",
    "rm = invariant_mass(twin_right_vectors).mean()\n",
    "plt.axvline(lm, label=f'Left Predictions Mean = {lm:.3f}', color='b')\n",
    "plt.axvline(rm, label=f'Right Predictions Mean = {rm:.3f}', color='r')\n",
    "\n",
    "plt.legend()\n",
    "plt.xlim(50, 300)"
   ]
  },
  {
   "cell_type": "code",
   "execution_count": null,
   "metadata": {},
   "outputs": [],
   "source": [
    "# with open(\"./network.pickle\", 'wb') as file:\n",
    "#     dill.dump([t_correct, t_incorrect, t_non_match, W_correct, W_incorrect, W_non_match, ttbar], file)"
   ]
  },
  {
   "cell_type": "code",
   "execution_count": null,
   "metadata": {},
   "outputs": [],
   "source": [
    "with open(\"./chi2.pickle\", 'wb') as file:\n",
    "    dill.dump([t_correct, t_incorrect, t_non_match, W_correct, W_incorrect, W_non_match, ttbar], file)"
   ]
  },
  {
   "cell_type": "code",
   "execution_count": null,
   "metadata": {},
   "outputs": [],
   "source": [
    "# with open(\"./perfect.pickle\", 'wb') as file:\n",
    "#     dill.dump([t_correct, t_incorrect, t_non_match, W_correct, W_incorrect, W_non_match, ttbar], file)"
   ]
  },
  {
   "cell_type": "code",
   "execution_count": null,
   "metadata": {},
   "outputs": [],
   "source": [
    "# SHARED_PLOTS = True"
   ]
  },
  {
   "cell_type": "code",
   "execution_count": null,
   "metadata": {},
   "outputs": [],
   "source": [
    "if SHARED_PLOTS:\n",
    "    with open(\"./perfect.pickle\", 'rb') as file:\n",
    "        perfect = dill.load(file)\n",
    "\n",
    "    with open(\"./chi2.pickle\", 'rb') as file:\n",
    "        chi2 = dill.load(file)\n",
    "\n",
    "    with open(\"./network.pickle\", 'rb') as file:\n",
    "        network = dill.load(file)\n",
    "\n",
    "    plt.figure(figsize=(16,9))\n",
    "\n",
    "    sb.kdeplot(perfect[0], color='r', shade=False, gridsize=8192, linewidth=6,\n",
    "               label=f\"Ground Truth\")\n",
    "    sb.kdeplot(network[0], color='b', shade=False, gridsize=8192, linewidth=6, linestyle='--',\n",
    "               label=NNET_NAME)\n",
    "    sb.kdeplot(chi2[0], color='g', shade=False, gridsize=8192, linewidth=6, linestyle=':',\n",
    "              label=f\"$\\\\chi^2$\")\n",
    "    \n",
    "\n",
    "    sb.kdeplot(perfect[0], color='r', linewidth=0, shade=True, gridsize=8192, alpha=ALPHA)\n",
    "    sb.kdeplot(chi2[0], color='g', linewidth=0, shade=True, gridsize=8192, alpha=ALPHA)\n",
    "    sb.kdeplot(network[0], color='b', linewidth=0, shade=True, gridsize=8192, alpha=ALPHA)\n",
    "\n",
    "    plt.title(f\"$t$ Quark Invariant Mass Distribution Comparison. Correctly Matched Instances.\", pad=20, fontsize= TITLE_SIZE)\n",
    "\n",
    "\n",
    "    plt.xlabel(\"Invariant mass of two jets. (GeV)\")\n",
    "    plt.ylabel(\"Density\", labelpad=20)\n",
    "    plt.xlim(50, 350)\n",
    "    plt.ylim(0, 0.026)\n",
    "    plt.axvline(173, color='m', label=\"Theoretical $t$ Mass\", linewidth=4)\n",
    "\n",
    "    plt.legend()\n",
    "    plt.tight_layout()\n",
    "    plt.savefig(f\"./figures/correct_comparison.pdf\", bbox_inches='tight')"
   ]
  },
  {
   "cell_type": "code",
   "execution_count": null,
   "metadata": {},
   "outputs": [],
   "source": [
    "if SHARED_PLOTS:\n",
    "    with open(\"./perfect.pickle\", 'rb') as file:\n",
    "        perfect = dill.load(file)\n",
    "\n",
    "    with open(\"./chi2.pickle\", 'rb') as file:\n",
    "        chi2 = dill.load(file)\n",
    "\n",
    "    with open(\"./network.pickle\", 'rb') as file:\n",
    "        network = dill.load(file)\n",
    "\n",
    "    plt.figure(figsize=(16,9))\n",
    "\n",
    "    sb.kdeplot(perfect[0], color='r', shade=False, gridsize=8192, linewidth=6, \n",
    "               label=f\"Ground Truth\")\n",
    "    sb.kdeplot(network[1], color='b', shade=False, gridsize=8192, linewidth=6, linestyle='--',\n",
    "               label=NNET_NAME)\n",
    "    sb.kdeplot(chi2[1], color='g', shade=False, gridsize=8192, linewidth=6, linestyle=':',\n",
    "              label=f\"$\\\\chi^2$\")\n",
    "    \n",
    "\n",
    "    sb.kdeplot(perfect[0], color='r', linewidth=0, shade=True, gridsize=8192, alpha=ALPHA)\n",
    "    sb.kdeplot(chi2[1], color='g', linewidth=0, shade=True, gridsize=8192, alpha=ALPHA)\n",
    "    sb.kdeplot(network[1], color='b', linewidth=0, shade=True, gridsize=8192, alpha=ALPHA)\n",
    "\n",
    "    plt.title(f\"$t$ Quark Invariant Mass Distribution Comparison. Incorrectly Matched Instances.\", pad=20, fontsize= TITLE_SIZE)\n",
    "\n",
    "\n",
    "    plt.xlabel(\"Invariant mass of two jets. (GeV)\")\n",
    "    plt.ylabel(\"Density\", labelpad=20)\n",
    "    plt.xlim(50, 350)\n",
    "    plt.ylim(0, 0.026)\n",
    "    plt.axvline(173, color='m', label=\"Theoretical $t$ Mass\", linewidth=4)\n",
    "\n",
    "    plt.legend()\n",
    "    plt.tight_layout()\n",
    "    plt.savefig(f\"./figures/incorrect_comparison.pdf\", bbox_inches='tight')"
   ]
  },
  {
   "cell_type": "code",
   "execution_count": null,
   "metadata": {},
   "outputs": [],
   "source": [
    "if SHARED_PLOTS:\n",
    "    with open(\"./perfect.pickle\", 'rb') as file:\n",
    "        perfect = dill.load(file)\n",
    "\n",
    "    with open(\"./chi2.pickle\", 'rb') as file:\n",
    "        chi2 = dill.load(file)\n",
    "\n",
    "    with open(\"./network.pickle\", 'rb') as file:\n",
    "        network = dill.load(file)\n",
    "\n",
    "    plt.figure(figsize=(16,9))\n",
    "\n",
    "    chi2_ = np.concatenate((chi2[0], chi2[1]))\n",
    "    network_ = np.concatenate((network[0], network[1]))\n",
    "\n",
    "\n",
    "    sb.kdeplot(perfect[0], color='r', shade=False, gridsize=8192, linewidth=8, \n",
    "               label=f\"Ground Truth\")\n",
    "    sb.kdeplot(network_, color='b', shade=False, gridsize=8192, linewidth=8,  linestyle='--',\n",
    "               label=NNET_NAME)\n",
    "    sb.kdeplot(chi2_, color='g', shade=False, gridsize=8192, linewidth=8,  linestyle=':',\n",
    "              label=f\"$\\\\chi^2$\")\n",
    "    \n",
    "\n",
    "    sb.kdeplot(perfect[0], color='r', linewidth=0, shade=True, gridsize=8192, alpha=ALPHA)\n",
    "    sb.kdeplot(chi2_, color='g', linewidth=0, shade=True, gridsize=8192, alpha=ALPHA)\n",
    "    sb.kdeplot(network_, color='b', linewidth=0, shade=True, gridsize=8192, alpha=ALPHA)\n",
    "\n",
    "#     plt.title(f\"$t$ Quark Invariant Mass Distribution Comparison. All Possible Instances.\", pad=20, fontsize= TITLE_SIZE)\n",
    "#     plt.title(f\"$t$ Quark Invariant Mass Distribution Comparison.\", pad=20, fontsize= TITLE_SIZE)\n",
    "\n",
    "\n",
    "    plt.xlabel(\"Top Candidate Mass [GeV]\")\n",
    "    plt.ylabel(\"Density\", labelpad=20)\n",
    "    plt.xlim(50, 350)\n",
    "    \n",
    "    plt.yticks(plt.yticks()[0][1:])\n",
    "#     plt.ylim(0, 0.026)\n",
    "#     plt.axvline(173, color='m', label=\"Theoretical $t$ Mass\", linewidth=4)\n",
    "\n",
    "    plt.legend()\n",
    "    plt.tight_layout()\n",
    "    plt.savefig(f\"./figures/both_comparison.pdf\", bbox_inches='tight')"
   ]
  },
  {
   "cell_type": "code",
   "execution_count": null,
   "metadata": {},
   "outputs": [],
   "source": [
    "if SHARED_PLOTS:\n",
    "    with open(\"./perfect.pickle\", 'rb') as file:\n",
    "        perfect = dill.load(file)\n",
    "\n",
    "    with open(\"./chi2.pickle\", 'rb') as file:\n",
    "        chi2 = dill.load(file)\n",
    "\n",
    "    with open(\"./network.pickle\", 'rb') as file:\n",
    "        network = dill.load(file)\n",
    "\n",
    "    plt.figure(figsize=(16,9))\n",
    "\n",
    "    \n",
    "    sb.kdeplot(perfect[3], color='r', shade=False, gridsize=8192, linewidth=6,  \n",
    "               label=f\"Ground Truth \\t$  \\mu = {perfect[3].mean():.1f}$, $\\sigma = {perfect[3].std():.1f}$\")\n",
    "\n",
    "    sb.kdeplot(network[3], color='b', shade=False, gridsize=8192, linewidth=6,  linestyle='--',\n",
    "               label=NNET_NAME + f\"  \\t$\\mu = {network[3].mean():.1f}$, $\\sigma = {network[3].std():.1f}$\")\n",
    "    sb.kdeplot(chi2[3], color='g', shade=False, gridsize=8192, linewidth=6,  linestyle=':',\n",
    "              label=f\"$\\\\chi^2$\\t$\\mu = {chi2[3].mean():.1f}$, $\\sigma = {chi2[3].std():.1f}$\")\n",
    "\n",
    "    sb.kdeplot(perfect[3], color='r', linewidth=0, shade=True, gridsize=8192, alpha=ALPHA)\n",
    "    sb.kdeplot(chi2[3], color='g', linewidth=0, shade=True, gridsize=8192, alpha=ALPHA)\n",
    "    sb.kdeplot(network[3], color='b', linewidth=0, shade=True, gridsize=8192, alpha=ALPHA)\n",
    "\n",
    "#     plt.title(f\"$W$ Boson Invariant Mass Distribution Comparison. Correctly Matched Instances.\", pad=20, fontsize= TITLE_SIZE)\n",
    "\n",
    "\n",
    "    plt.xlabel(\"Invariant mass of two jets. (GeV)\")\n",
    "    plt.ylabel(\"Density\", labelpad=20)\n",
    "    plt.xlim(25, 175)\n",
    "\n",
    "    plt.axvline(80.4, color='m', label=\"Theoretical $W$ Mass of $80.4$ GeV\", linewidth=4)\n",
    "\n",
    "    plt.legend()\n",
    "    plt.tight_layout()\n",
    "    plt.savefig(f\"./figures/correct_comparison_W.pdf\", bbox_inches='tight')"
   ]
  },
  {
   "cell_type": "code",
   "execution_count": null,
   "metadata": {},
   "outputs": [],
   "source": [
    "if SHARED_PLOTS:\n",
    "    with open(\"./perfect.pickle\", 'rb') as file:\n",
    "        perfect = dill.load(file)\n",
    "\n",
    "    with open(\"./chi2.pickle\", 'rb') as file:\n",
    "        chi2 = dill.load(file)\n",
    "\n",
    "    with open(\"./network.pickle\", 'rb') as file:\n",
    "        network = dill.load(file)\n",
    "\n",
    "    plt.figure(figsize=(16,9))\n",
    "\n",
    "    \n",
    "    sb.kdeplot(perfect[3], color='r', shade=False, gridsize=8192, linewidth=6,\n",
    "               label=f\"Ground Truth \\t$  \\mu = {perfect[3].mean():.1f}$, $\\sigma = {perfect[3].std():.1f}$\")\n",
    "\n",
    "    sb.kdeplot(network[4], color='b', shade=False, gridsize=8192, linewidth=6, linestyle='--',\n",
    "               label=NNET_NAME + f\"  \\t$\\mu = {network[3].mean():.1f}$, $\\sigma = {network[3].std():.1f}$\")\n",
    "    \n",
    "    sb.kdeplot(chi2[4], color='g', shade=False, gridsize=8192, linewidth=6, linestyle=':',\n",
    "              label=f\"$\\\\chi^2$\\t$\\mu = {chi2[3].mean():.1f}$, $\\sigma = {chi2[3].std():.1f}$\")\n",
    "\n",
    "    sb.kdeplot(chi2[4], color='g', linewidth=0, shade=True, gridsize=8192, alpha=ALPHA)\n",
    "    sb.kdeplot(perfect[3], color='r', linewidth=0, shade=True, gridsize=8192, alpha=ALPHA)\n",
    "    sb.kdeplot(network[4], color='b', linewidth=0, shade=True, gridsize=8192, alpha=ALPHA)\n",
    "\n",
    "#     plt.title(f\"$W$ Boson Invariant Mass Distribution Comparison. Incorrectly Matched Instances.\", pad=20, fontsize= TITLE_SIZE)\n",
    "\n",
    "\n",
    "    plt.xlabel(\"Invariant mass of two jets. (GeV)\")\n",
    "    plt.ylabel(\"Density\", labelpad=20)\n",
    "    plt.xlim(25, 175)\n",
    "    plt.ylim(0, 0.048)\n",
    "    plt.axvline(80.4, color='m', label=\"Theoretical $W$ Mass of $80.4$ GeV\", linewidth=4)\n",
    "\n",
    "    plt.legend()\n",
    "    plt.tight_layout()\n",
    "    plt.savefig(f\"./figures/incorrect_comparison_W.pdf\", bbox_inches='tight')"
   ]
  },
  {
   "cell_type": "code",
   "execution_count": null,
   "metadata": {},
   "outputs": [],
   "source": [
    "if SHARED_PLOTS:\n",
    "    with open(\"./perfect.pickle\", 'rb') as file:\n",
    "        perfect = dill.load(file)\n",
    "\n",
    "    with open(\"./chi2.pickle\", 'rb') as file:\n",
    "        chi2 = dill.load(file)\n",
    "\n",
    "    with open(\"./network.pickle\", 'rb') as file:\n",
    "        network = dill.load(file)\n",
    "\n",
    "    plt.figure(figsize=(16,9))\n",
    "\n",
    "    chi2_ = np.concatenate((chi2[3], chi2[4]))\n",
    "    network_ = np.concatenate((network[3], network[4]))\n",
    "\n",
    "\n",
    "    sb.kdeplot(perfect[3], color='r', shade=False, gridsize=8192, linewidth=8,  \n",
    "               label=f\"Ground Truth\")\n",
    "    sb.kdeplot(network_, color='b', shade=False, gridsize=8192, linewidth=8,   linestyle='--',\n",
    "               label=NNET_NAME)\n",
    "    sb.kdeplot(chi2_, color='g', shade=False, gridsize=8192, linewidth=8,   linestyle=':',\n",
    "              label=f\"$\\\\chi^2$\")\n",
    "\n",
    "    sb.kdeplot(perfect[3], color='r', linewidth=0, shade=True, gridsize=8192, alpha=ALPHA)\n",
    "    sb.kdeplot(chi2_, color='g', linewidth=0, shade=True, gridsize=8192, alpha=ALPHA)\n",
    "    sb.kdeplot(network_, color='b', linewidth=0, shade=True, gridsize=8192, alpha=ALPHA)\n",
    "    \n",
    "#     plt.title(f\"$W$ Boson Invariant Mass Distribution Comparison. All Possible Instances.\", pad=20, fontsize= TITLE_SIZE)\n",
    "#     plt.title(f\"$W$ Boson Invariant Mass Distribution Comparison.\", pad=20, fontsize= TITLE_SIZE)\n",
    "\n",
    "\n",
    "    plt.xlabel(\"$W$ Candidate Mass [GeV]\", labelpad=20)\n",
    "    plt.ylabel(\"Density\", labelpad=20)\n",
    "    plt.xlim(25, 175)\n",
    "#     plt.ylim(0, 0.048)\n",
    "#     plt.axvline(80.4, color='m', label=\"Theoretical $W$ Mass\", linewidth=4)\n",
    "#     plt.ylim(0, 0.048)\n",
    "    \n",
    "    plt.yticks(plt.yticks()[0][1:])\n",
    "    plt.legend()\n",
    "    plt.tight_layout()\n",
    "    plt.savefig(f\"./figures/both_comparison_W.pdf\", bbox_inches='tight')"
   ]
  },
  {
   "cell_type": "code",
   "execution_count": null,
   "metadata": {},
   "outputs": [],
   "source": [
    "if SHARED_PLOTS:\n",
    "    with open(\"./perfect.pickle\", 'rb') as file:\n",
    "        perfect = dill.load(file)\n",
    "\n",
    "    with open(\"./chi2.pickle\", 'rb') as file:\n",
    "        chi2 = dill.load(file)\n",
    "\n",
    "    with open(\"./network.pickle\", 'rb') as file:\n",
    "        network = dill.load(file)\n",
    "\n",
    "    plt.figure(figsize=(16,9))\n",
    "\n",
    "\n",
    "\n",
    "\n",
    "    sb.kdeplot(perfect[-1], color='r', shade=False, gridsize=8192, linewidth=6,  \n",
    "               label=f\"Ground Truth\")\n",
    "    sb.kdeplot(network[-1], color='b', shade=False, gridsize=8192, linewidth=6,   linestyle='--',\n",
    "               label=NNET_NAME)\n",
    "    sb.kdeplot(chi2[-1], color='g', shade=False, gridsize=8192, linewidth=6,   linestyle=':',\n",
    "              label=f\"$\\\\chi^2$\")\n",
    "    \n",
    "\n",
    "    sb.kdeplot(perfect[-1], color='r', linewidth=0, shade=True, gridsize=8192, alpha=ALPHA)\n",
    "    sb.kdeplot(chi2[-1], color='g', linewidth=0, shade=True, gridsize=8192, alpha=ALPHA)\n",
    "    sb.kdeplot(network[-1], color='b', linewidth=0, shade=True, gridsize=8192, alpha=ALPHA)\n",
    "\n",
    "    plt.title(\"Invariant Mass Distribution For Complete $t \\\\bar{t}$ Events.\", pad=20, fontsize= TITLE_SIZE)\n",
    "\n",
    "\n",
    "    plt.xlabel(\"Invariant mass of six jets. (GeV)\")\n",
    "    plt.ylabel(\"Density\", labelpad=20)\n",
    "    plt.xlim(200, 1200)\n",
    "\n",
    "    plt.legend()\n",
    "    plt.tight_layout()\n",
    "    plt.savefig(f\"./figures/ttbar_comparison.pdf\", bbox_inches='tight')"
   ]
  },
  {
   "cell_type": "code",
   "execution_count": null,
   "metadata": {},
   "outputs": [],
   "source": [
    "# import h5py\n",
    "\n",
    "# with h5py.File(\"../../Feynman_transfer/event_records_testing.h5\", 'r') as file:\n",
    "#     print(file.keys())\n",
    "#     N_match_top_in_event = file[\"N_match_top_in_event\"][:num_samples]\n",
    "#     parton_pt = file[\"parton_pt\"][:num_samples]\n",
    "#     parton_mass = file[\"parton_mass\"][:num_samples]\n",
    "#     parton_phi = file[\"parton_phi\"][:num_samples]\n",
    "#     parton_eta = file[\"parton_eta\"][:num_samples]\n",
    "    \n",
    "#     jet_pt = file[\"jet_pt\"][:num_samples]\n",
    "#     jet_mass = file[\"jet_mass\"][:num_samples]\n",
    "#     jet_phi = file[\"jet_phi\"][:num_samples]\n",
    "#     jet_eta = file[\"jet_eta\"][:num_samples]\n",
    "    \n",
    "#     jet_parton_index = file[\"jet_parton_index\"][:num_samples]\n",
    "#     parton_jet_index = file[\"parton_jet_index\"][:num_samples]"
   ]
  },
  {
   "cell_type": "code",
   "execution_count": null,
   "metadata": {},
   "outputs": [],
   "source": [
    "# jet_dataset = []\n",
    "\n",
    "# for pt, mass, phi, eta, index in tqdm(zip(jet_pt[n_match == 2], \n",
    "#                                      jet_mass[n_match == 2], \n",
    "#                                      jet_phi[n_match == 2], \n",
    "#                                      jet_eta[n_match == 2],\n",
    "#                                      parton_jet_index.astype(np.int)[n_match == 2]), total=(n_match == 2).sum()):\n",
    "#     jet_dataset.append([pt[index], mass[index], phi[index], eta[index], eta[index]])\n",
    "    \n",
    "# jet_dataset = np.stack(jet_dataset)\n",
    "# jet_dataset = jet_dataset.transpose(0, 2, 1)\n",
    "\n",
    "# parton_dataset = np.stack((parton_pt, parton_mass, parton_phi, parton_eta, parton_eta), -1)\n",
    "# parton_dataset = parton_dataset[n_match == 2]\n",
    "\n",
    "# base_parton_dataset = parton_dataset.astype(np.float64)\n",
    "# base_jet_dataset = jet_dataset.astype(np.float64)"
   ]
  },
  {
   "cell_type": "code",
   "execution_count": null,
   "metadata": {},
   "outputs": [],
   "source": [
    "# def change_coordiantes(vectors):\n",
    "#     # vectors shape: (E, V, D)\n",
    "#     # E: Number of events (batch computation)\n",
    "#     # V: Number of vectors in each event\n",
    "#     # D: Component dimension, order listed below\n",
    "#     Pt, mass, phi, eta, btag = vectors.transpose(2, 0, 1)    \n",
    "#     Px = Pt * np.cos(phi)\n",
    "#     Py = Pt * np.sin(phi)\n",
    "#     Pz = Pt * np.sinh(eta)\n",
    "#     E = np.sqrt( Px**2 + Py**2 + Pz**2 + mass**2)\n",
    "#     return np.stack([E, Px, Py, Pz], -1)"
   ]
  },
  {
   "cell_type": "code",
   "execution_count": null,
   "metadata": {},
   "outputs": [],
   "source": [
    "# parton_dataset = change_coordiantes(base_parton_dataset)\n",
    "# jet_dataset = change_coordiantes(base_jet_dataset)\n",
    "# scale = (jet_dataset[:, :, 0] - parton_dataset[:, :, 0]) / jet_dataset[:, :, 0]\n",
    "# scale = scale.ravel()\n",
    "\n",
    "# μ = scale.mean()\n",
    "# σ = scale.std()"
   ]
  },
  {
   "cell_type": "code",
   "execution_count": null,
   "metadata": {},
   "outputs": [],
   "source": [
    "# Pt = base_parton_dataset[:, :, 0].ravel()\n",
    "# mass = base_parton_dataset[:, :, 1].ravel()"
   ]
  },
  {
   "cell_type": "code",
   "execution_count": null,
   "metadata": {},
   "outputs": [],
   "source": [
    "# def quadratic_function(x, a, b, c, d, e):\n",
    "#     x, y = x\n",
    "#     return a * x**2 + d * y ** 2 + e * y + b * x + c"
   ]
  },
  {
   "cell_type": "code",
   "execution_count": null,
   "metadata": {},
   "outputs": [],
   "source": [
    "# from scipy import stats"
   ]
  },
  {
   "cell_type": "code",
   "execution_count": null,
   "metadata": {},
   "outputs": [],
   "source": [
    "# optimize.curve_fit(quadratic_function, (Pt, mass), scale)"
   ]
  },
  {
   "cell_type": "code",
   "execution_count": null,
   "metadata": {},
   "outputs": [],
   "source": [
    "# XX = np.linspace(0, 100, 1000)\n",
    "# YY = quadratic_function(XX, 8.82130926e-06, -2.86687071e-03,  3.44232211e-02)\n",
    "# plt.plot(XX, YY)"
   ]
  },
  {
   "cell_type": "code",
   "execution_count": null,
   "metadata": {},
   "outputs": [],
   "source": [
    "# results = stats.linregress(Pt, scale)\n",
    "# print(f\"{results.slope} * Pt + {results.intercept}\")"
   ]
  },
  {
   "cell_type": "code",
   "execution_count": null,
   "metadata": {},
   "outputs": [],
   "source": [
    "# sb.set(context='paper', style='whitegrid', font_scale=3.0)\n",
    "# makedirs(\"./figures/\", exist_ok=True)\n",
    "# rcParams['text.usetex'] = True"
   ]
  },
  {
   "cell_type": "code",
   "execution_count": null,
   "metadata": {},
   "outputs": [],
   "source": [
    "# sb.jointplot(base_parton_dataset[::100, :, 0].ravel(), scale[::100].ravel(), kind=\"kde\")"
   ]
  },
  {
   "cell_type": "code",
   "execution_count": null,
   "metadata": {},
   "outputs": [],
   "source": [
    "# sb.kdeplot()"
   ]
  },
  {
   "cell_type": "code",
   "execution_count": null,
   "metadata": {},
   "outputs": [],
   "source": [
    "# j = sb.jointplot(base_parton_dataset[::1000, :, 0].ravel(), scale[::1000].ravel(), kind=\"reg\", marker=\"+\", height=20)\n",
    "# plt.xlabel(\"$P_t$\")\n",
    "# plt.ylabel(r\"$\\frac{E_{jet} - E_{parton}}{E_{jet}}$\")\n",
    "\n",
    "# plt.savefig(\"ratio_joint.png\")"
   ]
  },
  {
   "cell_type": "code",
   "execution_count": null,
   "metadata": {},
   "outputs": [],
   "source": []
  }
 ],
 "metadata": {
  "kernelspec": {
   "display_name": "Python 3",
   "language": "python",
   "name": "python3"
  },
  "language_info": {
   "codemirror_mode": {
    "name": "ipython",
    "version": 3
   },
   "file_extension": ".py",
   "mimetype": "text/x-python",
   "name": "python",
   "nbconvert_exporter": "python",
   "pygments_lexer": "ipython3",
   "version": "3.6.8"
  }
 },
 "nbformat": 4,
 "nbformat_minor": 4
}
