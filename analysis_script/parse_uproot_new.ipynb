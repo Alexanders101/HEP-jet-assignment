{
 "cells": [
  {
   "cell_type": "code",
   "execution_count": 30,
   "metadata": {},
   "outputs": [
    {
     "name": "stdout",
     "output_type": "stream",
     "text": [
      "1008 1008 1008\n"
     ]
    }
   ],
   "source": [
    "import uproot\n",
    "import pandas as pd \n",
    "import numpy as np \n",
    "from particle_properties import particle_properties\n",
    "from jet_properties import jet_properties\n",
    "\n",
    "\n",
    "\n",
    "data  = uproot.open('./tag_1_delphes_events.root')['Delphes']\n",
    "#data.show()\n",
    "\n",
    "particle = particle_properties(data)\n",
    "\n",
    "Length = len(particle.event)\n",
    "test_length = 10\n",
    "#df0 = particle.dataframelize(0)\n",
    "#df1 = particle.dataframelize(1)\n",
    "#df2 = particle.dataframelize(2)\n",
    "\n",
    "def shift_particle_tracing(dataset, PID_d, idx):\n",
    "    if (dataset.iloc[idx,6] == PID_d):\n",
    "        return dataset.iloc[idx,4]\n",
    "\n",
    "def particle_tracing(dataset, PID, STATUS):\n",
    "\n",
    "    for i in range(len(dataset)):\n",
    "        if(dataset.iloc[i,1] == STATUS and dataset.iloc[i,6] == PID ): \n",
    "            daughter_index = int(dataset.iloc[i,0])\n",
    "    if( dataset.iloc[daughter_index,6] == PID ):\n",
    "        shifted_particle_index = dataset.iloc[daughter_index, 4]\n",
    "\n",
    "\n",
    "    while dataset.iloc[shifted_particle_index,6] == PID:\n",
    "            init_shifted_particle_index = shifted_particle_index\n",
    "            shifted_particle_index = shift_particle_tracing(dataset, PID, init_shifted_particle_index)       \n",
    "\n",
    "    dauthter_idx_1 = dataset.iloc[init_shifted_particle_index, 4]\n",
    "    daughter_pid_1 = dataset.iloc[dauthter_idx_1, 6]\n",
    "\n",
    "    dauthter_idx_2 = dataset.iloc[init_shifted_particle_index, 5]\n",
    "    daughter_pid_2 = dataset.iloc[dauthter_idx_2, 6]\n",
    "\n",
    "    return init_shifted_particle_index, dauthter_idx_1, daughter_pid_1, dauthter_idx_2, daughter_pid_2\n",
    "\n",
    "PID_W_plus = 24 \n",
    "PID_W_minus = -24\n",
    "PID_DOWN = 1\n",
    "PID_DOWN_VAR = -1\n",
    "PID_UP = 2\n",
    "PID_UP_BAR = -2\n",
    "PID_STRANGE = 3\n",
    "PID_STRANGE_BAR = -3\n",
    "PID_CHARM = 4\n",
    "PID_CHARM_BAR = -4\n",
    "PID_BOTTOM = 5\n",
    "PID_BOTTOM_BAR = -5\n",
    "PID_TOP = 6\n",
    "PID_TOP_BAR = -6\n",
    "\n",
    "top_idx = np.zeros(len(particle.event))\n",
    "top_daughter_idx_1 = np.zeros(len(particle.event))\n",
    "top_daughter_pid_1 = np.zeros(len(particle.event))\n",
    "top_daughter_idx_2 = np.zeros(len(particle.event))\n",
    "top_daughter_pid_2 = np.zeros(len(particle.event))\n",
    "\n",
    "top_bar_idx = np.zeros(len(particle.event))\n",
    "top_bar_daughter_idx_1 = np.zeros(len(particle.event))\n",
    "top_bar_daughter_pid_1 = np.zeros(len(particle.event))\n",
    "top_bar_daughter_idx_2 = np.zeros(len(particle.event))\n",
    "top_bar_daughter_pid_2 = np.zeros(len(particle.event))\n",
    "\n",
    "quark_idx_1 = np.zeros(len(particle.event))\n",
    "\n",
    "quark_idx_2 = np.zeros(len(particle.event))\n",
    "\n",
    "quark_idx_3 = np.zeros(len(particle.event))\n",
    "\n",
    "quark_idx_4 = np.zeros(len(particle.event))\n",
    "\n",
    "quark_idx_5 = np.zeros(len(particle.event))\n",
    "\n",
    "quark_idx_6 = np.zeros(len(particle.event))\n",
    "\n",
    "\n",
    "\n",
    "\n",
    "for i in range(0,10):\n",
    "    top_idx[i], top_daughter_idx_1[i], top_daughter_pid_1[i], top_daughter_idx_2[i], top_daughter_pid_2[i] = particle_tracing(particle.dataframelize(i), PID_TOP, 22)\n",
    "    top_bar_idx[i], top_bar_daughter_idx_1[i], top_bar_daughter_pid_1[i], top_bar_daughter_idx_2[i], top_bar_daughter_pid_2[i] = particle_tracing(particle.dataframelize(i), PID_TOP_BAR, 22)\n",
    "\n",
    "\n",
    "\n",
    "\n",
    "def quark_finder(dataset, mother_idx):\n",
    "\n",
    "    def frist_gen_daughter_finder(input_1, input_2, m_id):\n",
    "        if m_id == 6:\n",
    "            if dataset.iloc[int(input_1),6] == 24 :\n",
    "                print(\"switching\",dataset.iloc[int(input_1),6], dataset.iloc[int(input_2),6])\n",
    "                return  input_1, input_2\n",
    "            else :\n",
    "                print(\"switching\",dataset.iloc[int(input_1),6], dataset.iloc[int(input_2),6])                \n",
    "                return  input_2, input_1\n",
    "        else :\n",
    "            if dataset.iloc[int(input_1),6]  == -24 :\n",
    "                print(\"switching\",dataset.iloc[int(input_1),6], dataset.iloc[int(input_2),6])\n",
    "                return  input_1, input_2\n",
    "            else :\n",
    "                print(\"switching\",dataset.iloc[int(input_1),6], dataset.iloc[int(input_2),6])\n",
    "                return  input_2, input_1\n",
    "\n",
    "    mother_pid = dataset.iloc[int(mother_idx), 6]\n",
    "    \n",
    "    print(\"Mother index: {0}, mother PID: {1}\".format(mother_idx, mother_pid))\n",
    "    \n",
    "    daughter_of_top_idx_1 = dataset.iloc[int(mother_idx), 4]\n",
    "    daughter_of_top_idx_2 = dataset.iloc[int(mother_idx), 5]\n",
    "\n",
    "    daughter_W_idx, daught_b_idx = frist_gen_daughter_finder(daughter_of_top_idx_1, daughter_of_top_idx_2,  mother_pid)\n",
    "    daughter_W_pid = dataset.iloc[int(daughter_W_idx), 6]\n",
    "    daught_b_idx = dataset.iloc[int(daught_b_idx), 6]\n",
    "    #print(daughter_W_pid, daught_b_idx)\n",
    "    \n",
    "    daughter_1_idx = dataset.iloc[int(daughter_W_idx), 4]\n",
    "    daughter_1_pid = dataset.iloc[int(daughter_1_idx), 6]\n",
    "    daughter_2_idx = dataset.iloc[int(daughter_W_idx), 5]\n",
    "    daughter_2_pid = dataset.iloc[int(daughter_2_idx), 6]\n",
    "    print(daughter_1_pid, daughter_2_pid)\n",
    "\n",
    "    \n",
    "    if daughter_1_pid == daughter_W_pid and daughter_2_pid == daughter_W_pid:\n",
    "        init_idx = daughter_W_idx\n",
    "        while daughter_1_pid == daughter_W_pid:\n",
    "            daughter_1_idx = dataset.iloc[int(init_idx), 4]\n",
    "            daughter_1_pid = dataset.iloc[int(daughter_1_idx), 6]\n",
    "            init_idx = daughter_1_idx\n",
    "            print(daughter_1_pid, daughter_1_pid)\n",
    "        init_idx = daughter_W_idx\n",
    "        while daughter_2_pid == daughter_W_pid:\n",
    "            daughter_2_idx = dataset.iloc[int(init_idx), 5]\n",
    "            daughter_2_pid = dataset.iloc[int(daughter_2_idx), 6]\n",
    "            init_idx = daughter_2_idx\n",
    "            print(daughter_2_idx, daughter_2_pid)\n",
    "    \n",
    "    #daught_of_W_1_idx, daught_of_W_2_idx = second_gen_daughter_finder(dataset, daughter_W_idx, daughter_W_pid)\n",
    "    return daught_b_idx, daughter_1_idx, daughter_2_idx\n",
    "\n",
    "\n",
    "\n"
   ]
  },
  {
   "cell_type": "code",
   "execution_count": 31,
   "metadata": {},
   "outputs": [
    {
     "name": "stdout",
     "output_type": "stream",
     "text": [
      "Mother index: 270.0, mother PID: 24\n",
      "switching 24 24\n",
      "2 -1\n",
      "Mother index: 250.0, mother PID: -24\n",
      "switching -24 -24\n",
      "3 -4\n",
      "Mother index: 358.0, mother PID: 24\n",
      "switching 24 24\n",
      "2 -1\n",
      "Mother index: 387.0, mother PID: -24\n",
      "switching -24 -24\n",
      "1 -2\n",
      "Mother index: 672.0, mother PID: 24\n",
      "switching 24 24\n",
      "4 -3\n",
      "Mother index: 683.0, mother PID: -24\n",
      "switching 3 -4\n",
      "-4 21\n",
      "Mother index: 1089.0, mother PID: 24\n",
      "switching 24 24\n",
      "4 -3\n",
      "Mother index: 1075.0, mother PID: -24\n",
      "switching -24 -24\n",
      "1 -2\n",
      "Mother index: 463.0, mother PID: 24\n",
      "switching 24 24\n",
      "2 -1\n",
      "Mother index: 492.0, mother PID: -24\n",
      "switching -24 -24\n",
      "1 -2\n",
      "Mother index: 1087.0, mother PID: 24\n",
      "switching 24 24\n",
      "4 -3\n",
      "Mother index: 1070.0, mother PID: -24\n",
      "switching -24 -24\n",
      "3 -4\n",
      "Mother index: 304.0, mother PID: 24\n",
      "switching 24 24\n",
      "4 -3\n",
      "Mother index: 293.0, mother PID: -24\n",
      "switching -24 -24\n",
      "3 -4\n",
      "Mother index: 348.0, mother PID: 24\n",
      "switching 24 24\n",
      "4 -3\n",
      "Mother index: 359.0, mother PID: -24\n",
      "switching -24 -24\n",
      "-24 22\n",
      "Mother index: 403.0, mother PID: 24\n",
      "switching 24 24\n",
      "4 -3\n",
      "Mother index: 356.0, mother PID: -24\n",
      "switching -24 -24\n",
      "-24 22\n",
      "Mother index: 843.0, mother PID: 24\n",
      "switching 24 24\n",
      "4 -3\n",
      "Mother index: 841.0, mother PID: -24\n",
      "switching 3 -4\n",
      "-4 -4\n",
      "-4 -4\n",
      "-4 -4\n",
      "-4 -4\n",
      "111 111\n",
      "858 -4\n",
      "861 -4\n",
      "873 -4\n",
      "959 -421\n"
     ]
    }
   ],
   "source": [
    "for i in range(0,10):\n",
    "    quark_idx_1[i], quark_idx_2[i], quark_idx_3[i] = quark_finder(particle.dataframelize(i), top_daughter_idx_1[i])\n",
    "    quark_idx_4[i], quark_idx_5[i], quark_idx_6[i] = quark_finder(particle.dataframelize(i), top_bar_daughter_idx_1[i])"
   ]
  },
  {
   "cell_type": "code",
   "execution_count": null,
   "metadata": {},
   "outputs": [],
   "source": [
    "df9 = particle.dataframelize(9)\n",
    "df9.iloc[841,:]"
   ]
  },
  {
   "cell_type": "code",
   "execution_count": 6,
   "metadata": {},
   "outputs": [
    {
     "data": {
      "text/plain": [
       "Index         855.000000\n",
       "Status         23.000000\n",
       "Mother_1      841.000000\n",
       "Mother_2       -1.000000\n",
       "Daughter_1    858.000000\n",
       "Daughter_2    858.000000\n",
       "PID            -4.000000\n",
       "PT             10.439919\n",
       "Eta            -1.188499\n",
       "Phi             1.433495\n",
       "Mass            1.500000\n",
       "Name: 855, dtype: float64"
      ]
     },
     "execution_count": 6,
     "metadata": {},
     "output_type": "execute_result"
    }
   ],
   "source": [
    "df9.iloc[855,:]"
   ]
  },
  {
   "cell_type": "code",
   "execution_count": 34,
   "metadata": {},
   "outputs": [
    {
     "data": {
      "text/plain": [
       "Index         854.000000\n",
       "Status         23.000000\n",
       "Mother_1      841.000000\n",
       "Mother_2       -1.000000\n",
       "Daughter_1    856.000000\n",
       "Daughter_2    857.000000\n",
       "PID             3.000000\n",
       "PT            148.473068\n",
       "Eta            -0.016396\n",
       "Phi            -0.437556\n",
       "Mass            0.000000\n",
       "Name: 854, dtype: float64"
      ]
     },
     "execution_count": 34,
     "metadata": {},
     "output_type": "execute_result"
    }
   ],
   "source": [
    "df9.iloc[854,:]"
   ]
  },
  {
   "cell_type": "code",
   "execution_count": 19,
   "metadata": {},
   "outputs": [
    {
     "data": {
      "text/plain": [
       "Index         856.000000\n",
       "Status         51.000000\n",
       "Mother_1      854.000000\n",
       "Mother_2       -1.000000\n",
       "Daughter_1    966.000000\n",
       "Daughter_2    966.000000\n",
       "PID             3.000000\n",
       "PT             43.345860\n",
       "Eta            -0.065489\n",
       "Phi            -0.440145\n",
       "Mass            0.000000\n",
       "Name: 856, dtype: float64"
      ]
     },
     "execution_count": 19,
     "metadata": {},
     "output_type": "execute_result"
    }
   ],
   "source": [
    "df9.iloc[856,:]"
   ]
  },
  {
   "cell_type": "code",
   "execution_count": 32,
   "metadata": {},
   "outputs": [
    {
     "data": {
      "text/plain": [
       "Index         857.000000\n",
       "Status         51.000000\n",
       "Mother_1      854.000000\n",
       "Mother_2       -1.000000\n",
       "Daughter_1    859.000000\n",
       "Daughter_2    860.000000\n",
       "PID            21.000000\n",
       "PT            105.116669\n",
       "Eta             0.003365\n",
       "Phi            -0.436168\n",
       "Mass            0.000000\n",
       "Name: 857, dtype: float64"
      ]
     },
     "execution_count": 32,
     "metadata": {},
     "output_type": "execute_result"
    }
   ],
   "source": [
    "df9.iloc[857,:]"
   ]
  },
  {
   "cell_type": "code",
   "execution_count": null,
   "metadata": {},
   "outputs": [],
   "source": []
  }
 ],
 "metadata": {
  "kernelspec": {
   "display_name": "Python 3.6.9 64-bit",
   "language": "python",
   "name": "python36964bit5ebe5b9df9a3427692d9ce8fcb5be1de"
  },
  "language_info": {
   "codemirror_mode": {
    "name": "ipython",
    "version": 3
   },
   "file_extension": ".py",
   "mimetype": "text/x-python",
   "name": "python",
   "nbconvert_exporter": "python",
   "pygments_lexer": "ipython3",
   "version": "3.6.9"
  }
 },
 "nbformat": 4,
 "nbformat_minor": 4
}
