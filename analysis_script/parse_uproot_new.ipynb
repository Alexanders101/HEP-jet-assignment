{
 "cells": [
  {
   "source": [
    "# HEP Jet assignment project - Data analysis and particle finding script"
   ],
   "cell_type": "markdown",
   "metadata": {}
  },
  {
   "source": [
    "## Import essential packages.\n",
    "---\n",
    "* We will use [uproot](https://github.com/scikit-hep/uproot) packages to parse our .root file.\n",
    "* The content of function `particle properties` and `jet properties` is defined in `particle_properties.py` and `jet_properties.py`."
   ],
   "cell_type": "markdown",
   "metadata": {}
  },
  {
   "cell_type": "code",
   "execution_count": 1,
   "metadata": {},
   "outputs": [],
   "source": [
    "import uproot\n",
    "import pandas as pd \n",
    "import numpy as np \n",
    "from particle_properties_uproot import particle_properties  #import particle properties helper function from particle_properties.py\n",
    "from jet_properties_uproot import jet_properties  #import jet properties helper function from jet_properties.py\n",
    "import h5py"
   ]
  },
  {
   "source": [
    "## Loading data, determine parameters, and assign variable\n",
    "---"
   ],
   "cell_type": "markdown",
   "metadata": {}
  },
  {
   "cell_type": "code",
   "execution_count": 2,
   "metadata": {
    "tags": [
     "outputPrepend",
     "outputPrepend"
    ]
   },
   "outputs": [],
   "source": [
    "data  = uproot.open('./tag_1_delphes_events.root')['Delphes']\n",
    "#data.show()\n",
    "\n",
    "particle = particle_properties(data)\n",
    "jet = jet_properties(data)\n",
    "\n",
    "Length = len(particle.event)\n",
    "test_length = 10\n",
    "\n",
    "PID_W_plus = 24 \n",
    "PID_W_minus = -24\n",
    "PID_DOWN = 1\n",
    "PID_DOWN_VAR = -1\n",
    "PID_UP = 2\n",
    "PID_UP_BAR = -2\n",
    "PID_STRANGE = 3\n",
    "PID_STRANGE_BAR = -3\n",
    "PID_CHARM = 4\n",
    "PID_CHARM_BAR = -4\n",
    "PID_BOTTOM = 5\n",
    "PID_BOTTOM_BAR = -5\n",
    "PID_TOP = 6\n",
    "PID_TOP_BAR = -6\n",
    "\n",
    "top_idx = np.zeros(len(particle.event))\n",
    "top_daughter_idx_1 = np.zeros(len(particle.event))\n",
    "top_daughter_pid_1 = np.zeros(len(particle.event))\n",
    "top_daughter_idx_2 = np.zeros(len(particle.event))\n",
    "top_daughter_pid_2 = np.zeros(len(particle.event))\n",
    "\n",
    "top_bar_idx = np.zeros(len(particle.event))\n",
    "top_bar_daughter_idx_1 = np.zeros(len(particle.event))\n",
    "top_bar_daughter_pid_1 = np.zeros(len(particle.event))\n",
    "top_bar_daughter_idx_2 = np.zeros(len(particle.event))\n",
    "top_bar_daughter_pid_2 = np.zeros(len(particle.event))\n",
    "\n",
    "parton_array = np.zeros([ len(particle.event) , 6, 7])\n"
   ]
  },
  {
   "source": [
    "## Event selection \n",
    "---\n",
    "1. Must contain:\n",
    "    * At least 2 b tagged jet.\n",
    "    * At least 6 jet exists.\n",
    "    * For each jet, require |$\\eta$| < 2.4 and $P_{T}$ > 20GeV. "
   ],
   "cell_type": "markdown",
   "metadata": {}
  },
  {
   "cell_type": "code",
   "execution_count": 3,
   "metadata": {
    "tags": [
     "outputPrepend",
     "outputPrepend",
     "outputPrepend",
     "outputPrepend",
     "outputPrepend"
    ]
   },
   "outputs": [
    {
     "output_type": "stream",
     "name": "stdout",
     "text": "<class 'numpy.ndarray'> <class 'numpy.ndarray'>\n(10000,) (10000,)\n/usr/local/lib64/python3.6/site-packages/numpy/core/_asarray.py:136: VisibleDeprecationWarning: Creating an ndarray from ragged nested sequences (which is a list-or-tuple of lists-or-tuples-or ndarrays with different lengths or shapes) is deprecated. If you meant to do this, you must specify 'dtype=object' when creating the ndarray\n  return array(a, dtype, copy=False, order=order, subok=True)\n"
    }
   ],
   "source": [
    "#Generate maker for each stage(event selection and jet selection.)\n",
    "marker_event = []\n",
    "marker_jet = []\n",
    "marker_bjet = []\n",
    "\n",
    "for i in range(len(particle.event)):\n",
    "    marker_event.append(0)\n",
    "    marker_jet.append(np.zeros([len(jet.pt[i])]))\n",
    "    marker_bjet.append(np.zeros([len(jet.pt[i])]))\n",
    "\n",
    "\n",
    "marker_event = np.asanyarray(marker_event)\n",
    "marker_jet = np.asanyarray(marker_jet)\n",
    "marker_bjet = np.asanyarray(marker_bjet)\n",
    "\n",
    "print(type(marker_event), type(marker_jet))\n",
    "print(marker_event.shape, marker_jet.shape)"
   ]
  },
  {
   "cell_type": "code",
   "execution_count": 4,
   "metadata": {},
   "outputs": [
    {
     "output_type": "stream",
     "name": "stdout",
     "text": "+-----------------------------------------------------------------------------------------------------+\nStart jet selection.\nJet selection doen.\n+-----------------------------------------------------------------------------------------------------+\n"
    }
   ],
   "source": [
    "#Mark which event pass the selection\n",
    "# print(\"+-----------------------------------------------------------------------------------------------------+\")\n",
    "# print(\"Start event selection.\")\n",
    "# for i in range(len(particle.event)):\n",
    "#     num_of_eta_in_range = np.sum(jet.eta[i] < 2.4 ) \n",
    "#     num_of_jet = len(jet.pt[i])\n",
    "#     num_of_btagged = np.sum(jet.btag[i] == 1)\n",
    "#     if num_of_eta_in_range >= 6 and num_of_jet >=6 and num_of_btagged >= 2: \n",
    "#         marker_event[i] = 1\n",
    "#     else :\n",
    "#         pass\n",
    "# print(\"Event selection doen.\")\n",
    "# print(\"+-----------------------------------------------------------------------------------------------------+\")\n",
    "\n",
    "#Mark which jet in each event pass the selection.\n",
    "print(\"+-----------------------------------------------------------------------------------------------------+\")\n",
    "print(\"Start jet selection.\")\n",
    "for i in range(len(particle.event)):\n",
    "    for j in range(len(jet.pt[i])):\n",
    "        if jet.btag[i][j] == 1 and jet.pt[i][j] > 20 and np.abs(jet.eta[i][j]) < 2.4:\n",
    "            marker_bjet[i][j] = 1 \n",
    "        elif jet.pt[i][j] > 20 and np.abs(jet.eta[i][j]) <= 2.4:\n",
    "            marker_jet[i][j] = 1\n",
    "\n",
    "for i in range(len(particle.event)):\n",
    "    if np.sum(marker_jet[i] == 1) >= 6 and np.sum(marker_bjet[i] == 1) >= 2 :\n",
    "        marker_event[i] = 1 \n",
    "print(\"Jet selection doen.\")\n",
    "print(\"+-----------------------------------------------------------------------------------------------------+\")"
   ]
  },
  {
   "cell_type": "code",
   "execution_count": 5,
   "metadata": {},
   "outputs": [
    {
     "output_type": "execute_result",
     "data": {
      "text/plain": "331"
     },
     "metadata": {},
     "execution_count": 5
    }
   ],
   "source": [
    "np.sum(marker_event == 1)"
   ]
  },
  {
   "cell_type": "code",
   "execution_count": 6,
   "metadata": {},
   "outputs": [],
   "source": [
    "jet_pt = []\n",
    "jet_eta = []\n",
    "jet_phi = []\n",
    "jet_mass = []\n",
    "jet_btag = []"
   ]
  },
  {
   "cell_type": "code",
   "execution_count": 7,
   "metadata": {},
   "outputs": [],
   "source": [
    "for i in range(len(jet.event)):\n",
    "    if marker_event[i] == 1:\n",
    "        jet_pt_tmp = []\n",
    "        jet_eta_tmp = []\n",
    "        jet_phi_tmp = []\n",
    "        jet_mass_tmp = []\n",
    "        jet_btag_tmp = []\n",
    "        for j in range(len(jet.pt[i])):\n",
    "            if marker_jet[i][j] == 1:\n",
    "                jet_pt_tmp.append(jet.pt[i][j])\n",
    "                jet_eta_tmp.append(jet.eta[i][j])\n",
    "                jet_phi_tmp.append(jet.phi[i][j])\n",
    "                jet_mass_tmp.append(jet.mass[i][j])\n",
    "                jet_btag_tmp.append(jet.btag[i][j])\n",
    "                \n",
    "        jet_pt.append(jet_pt_tmp)\n",
    "        jet_eta.append(jet_eta_tmp)\n",
    "        jet_phi.append(jet_phi_tmp)\n",
    "        jet_mass.append(jet_mass_tmp)\n",
    "        jet_btag.append(jet_btag_tmp)"
   ]
  },
  {
   "cell_type": "code",
   "execution_count": 8,
   "metadata": {},
   "outputs": [
    {
     "output_type": "execute_result",
     "data": {
      "text/plain": "331"
     },
     "metadata": {},
     "execution_count": 8
    }
   ],
   "source": [
    "len(jet_eta)"
   ]
  },
  {
   "source": [
    "## Particle tracing and daughter finding section\n",
    "---"
   ],
   "cell_type": "markdown",
   "metadata": {}
  },
  {
   "cell_type": "code",
   "execution_count": 9,
   "metadata": {},
   "outputs": [],
   "source": [
    "def shift_particle_tracing(dataset, PID_d, idx):\n",
    "    if (dataset.iloc[idx,6] == PID_d):\n",
    "        return dataset.iloc[idx,4]\n",
    "\n",
    "def particle_tracing(dataset, PID, STATUS):\n",
    "\n",
    "    for i in range(len(dataset)):\n",
    "        if(dataset.iloc[i,1] == STATUS and dataset.iloc[i,6] == PID ): \n",
    "            daughter_index = int(dataset.iloc[i,0])\n",
    "    if( dataset.iloc[daughter_index,6] == PID ):\n",
    "        shifted_particle_index = dataset.iloc[daughter_index, 4]\n",
    "\n",
    "\n",
    "    while dataset.iloc[shifted_particle_index,6] == PID:\n",
    "            init_shifted_particle_index = shifted_particle_index\n",
    "            shifted_particle_index = shift_particle_tracing(dataset, PID, init_shifted_particle_index)       \n",
    "\n",
    "    dauthter_idx_1 = dataset.iloc[init_shifted_particle_index, 4]\n",
    "    daughter_pid_1 = dataset.iloc[dauthter_idx_1, 6]\n",
    "\n",
    "    dauthter_idx_2 = dataset.iloc[init_shifted_particle_index, 5]\n",
    "    daughter_pid_2 = dataset.iloc[dauthter_idx_2, 6]\n",
    "\n",
    "    return init_shifted_particle_index, dauthter_idx_1, daughter_pid_1, dauthter_idx_2, daughter_pid_2\n"
   ]
  },
  {
   "cell_type": "code",
   "execution_count": 10,
   "metadata": {},
   "outputs": [],
   "source": [
    "for i in range(len(particle.event)):\n",
    "    if marker_event[i] == 1:\n",
    "        #print(\"+------------------------------------------------------------------------------------------------------+\")\n",
    "        #print(\"Start parsing event : {0}\\nStart to trace top quark and find its daughters.\".format(i))\n",
    "        top_idx[i], top_daughter_idx_1[i], top_daughter_pid_1[i], top_daughter_idx_2[i], top_daughter_pid_2[i] = particle_tracing(particle.dataframelize(i), PID_TOP, 22)\n",
    "        #print(\"+------------------------------------------------------~-----------------------------------------------+\")\n",
    "        #print(\"Start to find top_bar quark and its daughters.\")\n",
    "        top_bar_idx[i], top_bar_daughter_idx_1[i], top_bar_daughter_pid_1[i], top_bar_daughter_idx_2[i], top_bar_daughter_pid_2[i] = particle_tracing(particle.dataframelize(i), PID_TOP_BAR, 22)\n",
    "        #print(\"+------------------------------------------------------------------------------------------------------+\")"
   ]
  },
  {
   "source": [
    "### Tracing the daughter "
   ],
   "cell_type": "markdown",
   "metadata": {}
  },
  {
   "cell_type": "code",
   "execution_count": 11,
   "metadata": {},
   "outputs": [],
   "source": [
    "#Input two daughter of top/top_bar and find their daughter\n",
    "def quark_finder(dataset, mother_idx_1, mother_idx_2):\n",
    "    \n",
    "    #Specific two daughter of top\n",
    "    def W_b_specifier(dataset, input_1_idx, input_2_idx):\n",
    "        if dataset.iloc[int(input_1_idx),6] == PID_W_plus or dataset.iloc[int(input_1_idx),6] == PID_W_minus :\n",
    "            return int(input_1_idx), int(dataset.iloc[int(input_1_idx),6]), int(input_2_idx)\n",
    "        elif dataset.iloc[int(input_1_idx),6] == PID_BOTTOM or dataset.iloc[int(input_1_idx),6] == PID_BOTTOM_BAR :\n",
    "            return  int(input_2_idx), int(dataset.iloc[int(input_1_idx),6]), int(input_1_idx)\n",
    "        else :\n",
    "            pass\n",
    "            #print(\"Please check your data.\")\n",
    "    \n",
    "    W_boson_idx, mother_pid, b_quark_idx = W_b_specifier(dataset, mother_idx_1, mother_idx_2)\n",
    "    \n",
    "    #Find the two daughters of boson\n",
    "    \n",
    "    daughter_1_idx = dataset.iloc[W_boson_idx, 4]\n",
    "    daughter_1_pid = dataset.iloc[daughter_1_idx, 6]\n",
    "    daughter_2_idx = dataset.iloc[W_boson_idx, 5]\n",
    "    daughter_2_pid = dataset.iloc[daughter_2_idx, 6]\n",
    "\n",
    "    \n",
    "    if daughter_1_pid == mother_pid or daughter_2_pid == mother_pid:\n",
    "\n",
    "        init_idx = W_boson_idx\n",
    "        daughter_pid = daughter_1_pid\n",
    "        if daughter_2_pid == mother_pid:\n",
    "            daughter_pid = daughter_2_pid\n",
    "        while daughter_pid == mother_pid :\n",
    "            daughter_1_idx = dataset.iloc[int(init_idx), 4]\n",
    "            daughter_2_idx = dataset.iloc[int(init_idx), 5]\n",
    "\n",
    "            daughter_1_pid = dataset.iloc[int(daughter_1_idx), 6]\n",
    "            daughter_2_pid = dataset.iloc[int(daughter_2_idx), 6]\n",
    "\n",
    "            daughter_pid = daughter_1_pid\n",
    "            init_idx = daughter_1_idx\n",
    "            if daughter_2_pid == mother_pid:\n",
    "                daughter_pid = daughter_2_pid\n",
    "                init_idx = daughter_2_idx\n",
    "            \n",
    "            \n",
    "            #print(\"Temporary daughter 1 indxe: {0}, PID: {1}\".format(daughter_1_idx, daughter_1_pid))\n",
    "            #print(\"Temporary daughter 2 indxe: {0}, PID: {1}\".format(daughter_2_idx, daughter_2_pid))\n",
    "\n",
    "    \n",
    "    #print(\"Found daughter 1 index: {0}, PID: {1}.\\nFound daughter 2 index: {2}, PID: {3}\".format(daughter_1_idx, daughter_1_pid, daughter_2_idx, daughter_2_pid))\n",
    "    return  b_quark_idx, daughter_1_idx, daughter_2_idx"
   ]
  },
  {
   "cell_type": "code",
   "execution_count": 12,
   "metadata": {},
   "outputs": [],
   "source": [
    "for i in range(len(particle.event)):\n",
    "    if marker_event[i] == 1 :\n",
    "        #print(\"+------------------------------------------------------------------------------------------------------+\")\n",
    "        #print(\"Start parsing event : {0}\\nStart to find top quark's daughters.\".format(i))\n",
    "        parton_array[i][0][0], parton_array[i][1][0], parton_array[i][2][0] = quark_finder(particle.dataframelize(i), top_daughter_idx_1[i], top_daughter_idx_2[i])\n",
    "        #print(\"+------------------------------------------------------~-----------------------------------------------+\")\n",
    "        #print(\"Start to find top_bar quark's daughters.\")\n",
    "        parton_array[i][3][0], parton_array[i][4][0], parton_array[i][5][0], = quark_finder(particle.dataframelize(i), top_bar_daughter_idx_1[i], top_bar_daughter_idx_2[i])\n",
    "        #print(\"+------------------------------------------------------------------------------------------------------+\")\n",
    "    elif marker_event[i] == 0 :\n",
    "        parton_array[i] = 'Nan'\n",
    "    else: pass"
   ]
  },
  {
   "source": [
    "# ### \n",
    "# t t~ W+ W- b b~ \n",
    "# 0 0  0  0  0 0\n",
    "\n",
    "# i.e.\n",
    "# col 3 = 100010 \n",
    "# col 5 = 101000\n",
    "# col 6 = 101000\n",
    "# col 8 = 010100\n",
    "# col 10= 010001\n",
    "# col 11= 010001"
   ],
   "cell_type": "code",
   "metadata": {},
   "execution_count": 13,
   "outputs": []
  },
  {
   "cell_type": "code",
   "execution_count": 14,
   "metadata": {},
   "outputs": [],
   "source": [
    "parton_pdgid = []\n",
    "parton_barcode = []\n",
    "parton_pt = []\n",
    "parton_eta = []\n",
    "parton_phi = []\n",
    "parton_mass = []"
   ]
  },
  {
   "cell_type": "code",
   "execution_count": 15,
   "metadata": {},
   "outputs": [],
   "source": [
    "barcode = np.array([34, 40, 40, 17, 20, 20])\n",
    "for i in range(len(particle.event)):\n",
    "    if marker_event[i] == 1:\n",
    "        _parton_pdgid = []\n",
    "        _parton_barcode = []\n",
    "        _parton_pt = []\n",
    "        _parton_eta = []\n",
    "        _parton_phi = []\n",
    "        _parton_mass = []\n",
    "        for j in range(0,6):\n",
    "            dataset = particle.dataframelize(i)\n",
    "\n",
    "            _parton_pdgid.append(dataset.iloc[int(parton_array[i][j][0]), 6])\n",
    "            _parton_barcode.append(barcode[j])\n",
    "            _parton_pt.append(dataset.iloc[int(parton_array[i][j][0]), 7])\n",
    "            _parton_eta.append(dataset.iloc[int(parton_array[i][j][0]), 8])\n",
    "            _parton_phi.append(dataset.iloc[int(parton_array[i][j][0]), 9])\n",
    "            _parton_mass.append(dataset.iloc[int(parton_array[i][j][0]), 10])\n",
    "\n",
    "            # parton_array[i][j][1] = dataset.iloc[int(parton_array[i][j][0]), 6]  #PDGID\n",
    "            # parton_array[i][j][2] = barcode[j]\n",
    "            # parton_array[i][j][3] = dataset.iloc[int(parton_array[i][j][0]), 7]  #Pt\n",
    "            # parton_array[i][j][4] = dataset.iloc[int(parton_array[i][j][0]), 8]  #Eta\n",
    "            # parton_array[i][j][5] = dataset.iloc[int(parton_array[i][j][0]), 9]  #Phi\n",
    "            # parton_array[i][j][6] = dataset.iloc[int(parton_array[i][j][0]), 10]  #Mass\n",
    "        parton_pdgid.append(_parton_pdgid)\n",
    "        parton_barcode.append(_parton_barcode)\n",
    "        parton_pt.append(_parton_pt)\n",
    "        parton_eta.append(_parton_eta)\n",
    "        parton_phi.append(_parton_phi)\n",
    "        parton_mass.append(_parton_mass)"
   ]
  },
  {
   "cell_type": "code",
   "execution_count": 16,
   "metadata": {},
   "outputs": [
    {
     "output_type": "execute_result",
     "data": {
      "text/plain": "[50.585606, 49.724102, 65.15139, 113.06482, 26.74305, 47.041145]"
     },
     "metadata": {},
     "execution_count": 16
    }
   ],
   "source": [
    "parton_pt[6]"
   ]
  },
  {
   "cell_type": "code",
   "execution_count": 17,
   "metadata": {},
   "outputs": [
    {
     "output_type": "execute_result",
     "data": {
      "text/plain": "[64.488945, 52.294407, 43.845146, 42.45246, 30.607224, 29.747969]"
     },
     "metadata": {},
     "execution_count": 17
    }
   ],
   "source": [
    "jet_pt[6]"
   ]
  },
  {
   "source": [
    "## Parton-jet matching section\n",
    "---"
   ],
   "cell_type": "markdown",
   "metadata": {}
  },
  {
   "source": [
    "### Define the function for computing delta_R\n"
   ],
   "cell_type": "markdown",
   "metadata": {}
  },
  {
   "cell_type": "code",
   "execution_count": 18,
   "metadata": {},
   "outputs": [],
   "source": [
    "def deltaPhi(phi1,phi2):\n",
    "    phi = phi1-phi2\n",
    "    while phi >= np.pi: phi -= np.pi*2.\n",
    "    while phi < -np.pi: phi += np.pi*2.\n",
    "    return phi\n",
    "\n",
    "def delta_R(eta1, phi1, eta2, phi2):\n",
    "    return np.sqrt(deltaPhi(phi1,phi2)**2+(eta1-eta2)**2)\n",
    "\n",
    "def min_delta_R(target_1, target_2):\n",
    "    pass"
   ]
  },
  {
   "cell_type": "code",
   "execution_count": 19,
   "metadata": {},
   "outputs": [],
   "source": [
    "dR_between_parton_jet = []\n",
    "dR_between_parton_parton = []\n",
    "\n",
    "for i in range(len(parton_pdgid)):\n",
    "    dR_between_parton_jet.append(np.zeros([len(jet_pt[i]) * 6])) # # of connection = num of jet * num of parton\n",
    "    dR_between_parton_parton.append(np.zeros([15])) # C^{6}_{2} = 15\n",
    "\n",
    "dR_between_parton_jet = np.asanyarray(dR_between_parton_jet)\n",
    "dR_between_parton_parton = np.asanyarray(dR_between_parton_parton)\n",
    "\n"
   ]
  },
  {
   "cell_type": "code",
   "execution_count": 20,
   "metadata": {},
   "outputs": [
    {
     "output_type": "stream",
     "name": "stdout",
     "text": "10\n/usr/local/lib/python3.6/site-packages/ipykernel_launcher.py:14: VisibleDeprecationWarning: Creating an ndarray from ragged nested sequences (which is a list-or-tuple of lists-or-tuples-or ndarrays with different lengths or shapes) is deprecated. If you meant to do this, you must specify 'dtype=object' when creating the ndarray\n  \n"
    }
   ],
   "source": [
    "max_num_of_jet_cand = []\n",
    "for i in range(len(parton_pdgid)):\n",
    "    max_num_of_jet_cand.append(len(jet_pt[i]))\n",
    "max_num_of_jet_cand = np.asanyarray(max_num_of_jet_cand)\n",
    "max_num_of_jet = max_num_of_jet_cand.max()\n",
    "print(max_num_of_jet)\n",
    "\n",
    "matching_jet = []\n",
    "matching_parton = []\n",
    "for i in range(len(parton_pdgid)):\n",
    "    matching_jet.append(np.zeros([len(jet_pt[i])]))\n",
    "    matching_parton.append(np.zeros([6]))\n",
    "\n",
    "matching_jet = np.array(matching_jet)\n",
    "matching_parton = np.array(matching_parton)"
   ]
  },
  {
   "source": [
    "### Computing delta_R between each parton and jet"
   ],
   "cell_type": "markdown",
   "metadata": {}
  },
  {
   "cell_type": "code",
   "execution_count": 21,
   "metadata": {},
   "outputs": [
    {
     "output_type": "stream",
     "name": "stdout",
     "text": "(36,)\n(42,)\n(36,)\n(36,)\n(36,)\n(36,)\n(36,)\n(42,)\n(36,)\n(36,)\n(36,)\n(36,)\n(36,)\n(36,)\n(36,)\n(48,)\n(36,)\n(42,)\n(36,)\n(36,)\n(36,)\n(36,)\n(36,)\n(48,)\n(42,)\n(42,)\n(42,)\n(36,)\n(36,)\n(36,)\n(36,)\n(48,)\n(48,)\n(36,)\n(42,)\n(42,)\n(42,)\n(36,)\n(42,)\n(36,)\n(36,)\n(36,)\n(36,)\n(36,)\n(54,)\n(36,)\n(36,)\n(36,)\n(36,)\n(36,)\n(36,)\n(36,)\n(36,)\n(36,)\n(36,)\n(36,)\n(36,)\n(42,)\n(42,)\n(42,)\n(36,)\n(36,)\n(36,)\n(36,)\n(42,)\n(36,)\n(36,)\n(36,)\n(36,)\n(42,)\n(36,)\n(42,)\n(36,)\n(42,)\n(36,)\n(36,)\n(36,)\n(36,)\n(36,)\n(36,)\n(48,)\n(36,)\n(36,)\n(42,)\n(36,)\n(42,)\n(42,)\n(36,)\n(36,)\n(42,)\n(42,)\n(36,)\n(42,)\n(36,)\n(42,)\n(36,)\n(36,)\n(36,)\n(42,)\n(36,)\n(42,)\n(36,)\n(36,)\n(42,)\n(36,)\n(36,)\n(42,)\n(36,)\n(42,)\n(42,)\n(48,)\n(54,)\n(48,)\n(36,)\n(36,)\n(36,)\n(36,)\n(36,)\n(42,)\n(36,)\n(42,)\n(36,)\n(36,)\n(42,)\n(42,)\n(36,)\n(36,)\n(36,)\n(36,)\n(36,)\n(36,)\n(42,)\n(42,)\n(36,)\n(36,)\n(42,)\n(36,)\n(36,)\n(36,)\n(36,)\n(48,)\n(42,)\n(36,)\n(36,)\n(42,)\n(42,)\n(36,)\n(36,)\n(36,)\n(42,)\n(36,)\n(36,)\n(42,)\n(36,)\n(36,)\n(36,)\n(36,)\n(36,)\n(36,)\n(36,)\n(36,)\n(36,)\n(36,)\n(42,)\n(36,)\n(36,)\n(36,)\n(36,)\n(42,)\n(42,)\n(36,)\n(36,)\n(36,)\n(36,)\n(36,)\n(42,)\n(36,)\n(36,)\n(48,)\n(36,)\n(42,)\n(36,)\n(42,)\n(36,)\n(36,)\n(36,)\n(42,)\n(36,)\n(48,)\n(36,)\n(48,)\n(36,)\n(36,)\n(36,)\n(36,)\n(48,)\n(36,)\n(36,)\n(42,)\n(36,)\n(42,)\n(36,)\n(36,)\n(36,)\n(42,)\n(36,)\n(36,)\n(48,)\n(36,)\n(60,)\n(36,)\n(42,)\n(36,)\n(36,)\n(42,)\n(42,)\n(48,)\n(36,)\n(42,)\n(36,)\n(36,)\n(36,)\n(36,)\n(54,)\n(36,)\n(42,)\n(36,)\n(42,)\n(36,)\n(42,)\n(36,)\n(42,)\n(36,)\n(36,)\n(36,)\n(42,)\n(36,)\n(42,)\n(48,)\n(42,)\n(42,)\n(42,)\n(36,)\n(42,)\n(42,)\n(42,)\n(36,)\n(42,)\n(36,)\n(42,)\n(36,)\n(42,)\n(42,)\n(42,)\n(42,)\n(36,)\n(42,)\n(36,)\n(36,)\n(42,)\n(48,)\n(36,)\n(36,)\n(42,)\n(36,)\n(36,)\n(42,)\n(60,)\n(36,)\n(48,)\n(42,)\n(36,)\n(42,)\n(36,)\n(42,)\n(36,)\n(36,)\n(36,)\n(36,)\n(36,)\n(36,)\n(36,)\n(36,)\n(36,)\n(36,)\n(36,)\n(36,)\n(36,)\n(42,)\n(42,)\n(36,)\n(36,)\n(36,)\n(36,)\n(36,)\n(48,)\n(36,)\n(36,)\n(36,)\n(36,)\n(54,)\n(36,)\n(36,)\n(54,)\n(48,)\n(36,)\n(42,)\n(36,)\n(42,)\n(48,)\n(36,)\n(36,)\n(36,)\n(36,)\n(36,)\n(36,)\n(36,)\n(36,)\n(48,)\n(48,)\n(36,)\n(36,)\n(36,)\n(42,)\n(60,)\n(54,)\n(48,)\n(36,)\n(36,)\n(36,)\n(36,)\n"
    }
   ],
   "source": [
    "for i in range(len(dR_between_parton_jet)):\n",
    "    print(dR_between_parton_jet[i].shape)"
   ]
  },
  {
   "cell_type": "code",
   "execution_count": 22,
   "metadata": {},
   "outputs": [
    {
     "output_type": "execute_result",
     "data": {
      "text/plain": "[-0.15873247, 0.6501244, 0.72577214, 0.073509455, 0.19216959, -1.168629]"
     },
     "metadata": {},
     "execution_count": 22
    }
   ],
   "source": [
    "parton_eta[6]"
   ]
  },
  {
   "cell_type": "code",
   "execution_count": 23,
   "metadata": {},
   "outputs": [
    {
     "output_type": "execute_result",
     "data": {
      "text/plain": "[-2.245016, 1.3704467, -0.05532509, -1.5512011, 1.9859097, -2.214733]"
     },
     "metadata": {},
     "execution_count": 23
    }
   ],
   "source": [
    "parton_phi[6]"
   ]
  },
  {
   "cell_type": "code",
   "execution_count": 24,
   "metadata": {},
   "outputs": [
    {
     "output_type": "execute_result",
     "data": {
      "text/plain": "[0.71157384, 0.6531161, -1.136138, -0.30443662, 1.8715075, 0.2948797]"
     },
     "metadata": {},
     "execution_count": 24
    }
   ],
   "source": [
    "jet_eta[6]"
   ]
  },
  {
   "cell_type": "code",
   "execution_count": 25,
   "metadata": {},
   "outputs": [
    {
     "output_type": "execute_result",
     "data": {
      "text/plain": "[-0.09117323, 1.3331826, -2.18164, 2.7710462, 0.31985694, 2.1293974]"
     },
     "metadata": {},
     "execution_count": 25
    }
   ],
   "source": [
    "jet_phi[6]"
   ]
  },
  {
   "cell_type": "code",
   "execution_count": 26,
   "metadata": {},
   "outputs": [
    {
     "output_type": "execute_result",
     "data": {
      "text/plain": "array([0., 0., 0., 0., 0., 0., 0., 0., 0., 0., 0., 0., 0., 0., 0., 0., 0.,\n       0., 0., 0., 0., 0., 0., 0., 0., 0., 0., 0., 0., 0., 0., 0., 0., 0.,\n       0., 0.])"
     },
     "metadata": {},
     "execution_count": 26
    }
   ],
   "source": [
    "dR_between_parton_jet[6]"
   ]
  },
  {
   "cell_type": "code",
   "execution_count": 27,
   "metadata": {
    "tags": [
     "outputPrepend",
     "outputPrepend",
     "outputPrepend",
     "outputPrepend",
     "outputPrepend",
     "outputPrepend",
     "outputPrepend",
     "outputPrepend"
    ]
   },
   "outputs": [
    {
     "output_type": "stream",
     "name": "stdout",
     "text": "6\n256 7\n256 8\n256 9\n256 10\n256 11\n256 12\n256 13\n256 14\n256 15\n256 16\n256 17\n256 18\n256 19\n256 20\n256 21\n256 22\n256 23\n256 24\n256 25\n256 26\n256 27\n256 28\n256 29\n256 30\n256 31\n256 32\n256 33\n256 34\n256 35\n256 36\n256 37\n256 38\n256 39\n256 40\n256 41\n257 0\n257 1\n257 2\n257 3\n257 4\n257 5\n257 6\n257 7\n257 8\n257 9\n257 10\n257 11\n257 12\n257 13\n257 14\n257 15\n257 16\n257 17\n257 18\n257 19\n257 20\n257 21\n257 22\n257 23\n257 24\n257 25\n257 26\n257 27\n257 28\n257 29\n257 30\n257 31\n257 32\n257 33\n257 34\n257 35\n258 0\n258 1\n258 2\n258 3\n258 4\n258 5\n258 6\n258 7\n258 8\n258 9\n258 10\n258 11\n258 12\n258 13\n258 14\n258 15\n258 16\n258 17\n258 18\n258 19\n258 20\n258 21\n258 22\n258 23\n258 24\n258 25\n258 26\n258 27\n258 28\n258 29\n258 30\n258 31\n258 32\n258 33\n258 34\n258 35\n259 0\n259 1\n259 2\n259 3\n259 4\n259 5\n259 6\n259 7\n259 8\n259 9\n259 10\n259 11\n259 12\n259 13\n259 14\n259 15\n259 16\n259 17\n259 18\n259 19\n259 20\n259 21\n259 22\n259 23\n259 24\n259 25\n259 26\n259 27\n259 28\n259 29\n259 30\n259 31\n259 32\n259 33\n259 34\n259 35\n259 36\n259 37\n259 38\n259 39\n259 40\n259 41\n260 0\n260 1\n260 2\n260 3\n260 4\n260 5\n260 6\n260 7\n260 8\n260 9\n260 10\n260 11\n260 12\n260 13\n260 14\n260 15\n260 16\n260 17\n260 18\n260 19\n260 20\n260 21\n260 22\n260 23\n260 24\n260 25\n260 26\n260 27\n260 28\n260 29\n260 30\n260 31\n260 32\n260 33\n260 34\n260 35\n260 36\n260 37\n260 38\n260 39\n260 40\n260 41\n260 42\n260 43\n260 44\n260 45\n260 46\n260 47\n261 0\n261 1\n261 2\n261 3\n261 4\n261 5\n261 6\n261 7\n261 8\n261 9\n261 10\n261 11\n261 12\n261 13\n261 14\n261 15\n261 16\n261 17\n261 18\n261 19\n261 20\n261 21\n261 22\n261 23\n261 24\n261 25\n261 26\n261 27\n261 28\n261 29\n261 30\n261 31\n261 32\n261 33\n261 34\n261 35\n262 0\n262 1\n262 2\n262 3\n262 4\n262 5\n262 6\n262 7\n262 8\n262 9\n262 10\n262 11\n262 12\n262 13\n262 14\n262 15\n262 16\n262 17\n262 18\n262 19\n262 20\n262 21\n262 22\n262 23\n262 24\n262 25\n262 26\n262 27\n262 28\n262 29\n262 30\n262 31\n262 32\n262 33\n262 34\n262 35\n263 0\n263 1\n263 2\n263 3\n263 4\n263 5\n263 6\n263 7\n263 8\n263 9\n263 10\n263 11\n263 12\n263 13\n263 14\n263 15\n263 16\n263 17\n263 18\n263 19\n263 20\n263 21\n263 22\n263 23\n263 24\n263 25\n263 26\n263 27\n263 28\n263 29\n263 30\n263 31\n263 32\n263 33\n263 34\n263 35\n263 36\n263 37\n263 38\n263 39\n263 40\n263 41\n264 0\n264 1\n264 2\n264 3\n264 4\n264 5\n264 6\n264 7\n264 8\n264 9\n264 10\n264 11\n264 12\n264 13\n264 14\n264 15\n264 16\n264 17\n264 18\n264 19\n264 20\n264 21\n264 22\n264 23\n264 24\n264 25\n264 26\n264 27\n264 28\n264 29\n264 30\n264 31\n264 32\n264 33\n264 34\n264 35\n265 0\n265 1\n265 2\n265 3\n265 4\n265 5\n265 6\n265 7\n265 8\n265 9\n265 10\n265 11\n265 12\n265 13\n265 14\n265 15\n265 16\n265 17\n265 18\n265 19\n265 20\n265 21\n265 22\n265 23\n265 24\n265 25\n265 26\n265 27\n265 28\n265 29\n265 30\n265 31\n265 32\n265 33\n265 34\n265 35\n266 0\n266 1\n266 2\n266 3\n266 4\n266 5\n266 6\n266 7\n266 8\n266 9\n266 10\n266 11\n266 12\n266 13\n266 14\n266 15\n266 16\n266 17\n266 18\n266 19\n266 20\n266 21\n266 22\n266 23\n266 24\n266 25\n266 26\n266 27\n266 28\n266 29\n266 30\n266 31\n266 32\n266 33\n266 34\n266 35\n266 36\n266 37\n266 38\n266 39\n266 40\n266 41\n267 0\n267 1\n267 2\n267 3\n267 4\n267 5\n267 6\n267 7\n267 8\n267 9\n267 10\n267 11\n267 12\n267 13\n267 14\n267 15\n267 16\n267 17\n267 18\n267 19\n267 20\n267 21\n267 22\n267 23\n267 24\n267 25\n267 26\n267 27\n267 28\n267 29\n267 30\n267 31\n267 32\n267 33\n267 34\n267 35\n267 36\n267 37\n267 38\n267 39\n267 40\n267 41\n267 42\n267 43\n267 44\n267 45\n267 46\n267 47\n267 48\n267 49\n267 50\n267 51\n267 52\n267 53\n267 54\n267 55\n267 56\n267 57\n267 58\n267 59\n268 0\n268 1\n268 2\n268 3\n268 4\n268 5\n268 6\n268 7\n268 8\n268 9\n268 10\n268 11\n268 12\n268 13\n268 14\n268 15\n268 16\n268 17\n268 18\n268 19\n268 20\n268 21\n268 22\n268 23\n268 24\n268 25\n268 26\n268 27\n268 28\n268 29\n268 30\n268 31\n268 32\n268 33\n268 34\n268 35\n269 0\n269 1\n269 2\n269 3\n269 4\n269 5\n269 6\n269 7\n269 8\n269 9\n269 10\n269 11\n269 12\n269 13\n269 14\n269 15\n269 16\n269 17\n269 18\n269 19\n269 20\n269 21\n269 22\n269 23\n269 24\n269 25\n269 26\n269 27\n269 28\n269 29\n269 30\n269 31\n269 32\n269 33\n269 34\n269 35\n269 36\n269 37\n269 38\n269 39\n269 40\n269 41\n269 42\n269 43\n269 44\n269 45\n269 46\n269 47\n270 0\n270 1\n270 2\n270 3\n270 4\n270 5\n270 6\n270 7\n270 8\n270 9\n270 10\n270 11\n270 12\n270 13\n270 14\n270 15\n270 16\n270 17\n270 18\n270 19\n270 20\n270 21\n270 22\n270 23\n270 24\n270 25\n270 26\n270 27\n270 28\n270 29\n270 30\n270 31\n270 32\n270 33\n270 34\n270 35\n270 36\n270 37\n270 38\n270 39\n270 40\n270 41\n271 0\n271 1\n271 2\n271 3\n271 4\n271 5\n271 6\n271 7\n271 8\n271 9\n271 10\n271 11\n271 12\n271 13\n271 14\n271 15\n271 16\n271 17\n271 18\n271 19\n271 20\n271 21\n271 22\n271 23\n271 24\n271 25\n271 26\n271 27\n271 28\n271 29\n271 30\n271 31\n271 32\n271 33\n271 34\n271 35\n272 0\n272 1\n272 2\n272 3\n272 4\n272 5\n272 6\n272 7\n272 8\n272 9\n272 10\n272 11\n272 12\n272 13\n272 14\n272 15\n272 16\n272 17\n272 18\n272 19\n272 20\n272 21\n272 22\n272 23\n272 24\n272 25\n272 26\n272 27\n272 28\n272 29\n272 30\n272 31\n272 32\n272 33\n272 34\n272 35\n272 36\n272 37\n272 38\n272 39\n272 40\n272 41\n273 0\n273 1\n273 2\n273 3\n273 4\n273 5\n273 6\n273 7\n273 8\n273 9\n273 10\n273 11\n273 12\n273 13\n273 14\n273 15\n273 16\n273 17\n273 18\n273 19\n273 20\n273 21\n273 22\n273 23\n273 24\n273 25\n273 26\n273 27\n273 28\n273 29\n273 30\n273 31\n273 32\n273 33\n273 34\n273 35\n274 0\n274 1\n274 2\n274 3\n274 4\n274 5\n274 6\n274 7\n274 8\n274 9\n274 10\n274 11\n274 12\n274 13\n274 14\n274 15\n274 16\n274 17\n274 18\n274 19\n274 20\n274 21\n274 22\n274 23\n274 24\n274 25\n274 26\n274 27\n274 28\n274 29\n274 30\n274 31\n274 32\n274 33\n274 34\n274 35\n274 36\n274 37\n274 38\n274 39\n274 40\n274 41\n275 0\n275 1\n275 2\n275 3\n275 4\n275 5\n275 6\n275 7\n275 8\n275 9\n275 10\n275 11\n275 12\n275 13\n275 14\n275 15\n275 16\n275 17\n275 18\n275 19\n275 20\n275 21\n275 22\n275 23\n275 24\n275 25\n275 26\n275 27\n275 28\n275 29\n275 30\n275 31\n275 32\n275 33\n275 34\n275 35\n276 0\n276 1\n276 2\n276 3\n276 4\n276 5\n276 6\n276 7\n276 8\n276 9\n276 10\n276 11\n276 12\n276 13\n276 14\n276 15\n276 16\n276 17\n276 18\n276 19\n276 20\n276 21\n276 22\n276 23\n276 24\n276 25\n276 26\n276 27\n276 28\n276 29\n276 30\n276 31\n276 32\n276 33\n276 34\n276 35\n277 0\n277 1\n277 2\n277 3\n277 4\n277 5\n277 6\n277 7\n277 8\n277 9\n277 10\n277 11\n277 12\n277 13\n277 14\n277 15\n277 16\n277 17\n277 18\n277 19\n277 20\n277 21\n277 22\n277 23\n277 24\n277 25\n277 26\n277 27\n277 28\n277 29\n277 30\n277 31\n277 32\n277 33\n277 34\n277 35\n278 0\n278 1\n278 2\n278 3\n278 4\n278 5\n278 6\n278 7\n278 8\n278 9\n278 10\n278 11\n278 12\n278 13\n278 14\n278 15\n278 16\n278 17\n278 18\n278 19\n278 20\n278 21\n278 22\n278 23\n278 24\n278 25\n278 26\n278 27\n278 28\n278 29\n278 30\n278 31\n278 32\n278 33\n278 34\n278 35\n279 0\n279 1\n279 2\n279 3\n279 4\n279 5\n279 6\n279 7\n279 8\n279 9\n279 10\n279 11\n279 12\n279 13\n279 14\n279 15\n279 16\n279 17\n279 18\n279 19\n279 20\n279 21\n279 22\n279 23\n279 24\n279 25\n279 26\n279 27\n279 28\n279 29\n279 30\n279 31\n279 32\n279 33\n279 34\n279 35\n280 0\n280 1\n280 2\n280 3\n280 4\n280 5\n280 6\n280 7\n280 8\n280 9\n280 10\n280 11\n280 12\n280 13\n280 14\n280 15\n280 16\n280 17\n280 18\n280 19\n280 20\n280 21\n280 22\n280 23\n280 24\n280 25\n280 26\n280 27\n280 28\n280 29\n280 30\n280 31\n280 32\n280 33\n280 34\n280 35\n281 0\n281 1\n281 2\n281 3\n281 4\n281 5\n281 6\n281 7\n281 8\n281 9\n281 10\n281 11\n281 12\n281 13\n281 14\n281 15\n281 16\n281 17\n281 18\n281 19\n281 20\n281 21\n281 22\n281 23\n281 24\n281 25\n281 26\n281 27\n281 28\n281 29\n281 30\n281 31\n281 32\n281 33\n281 34\n281 35\n282 0\n282 1\n282 2\n282 3\n282 4\n282 5\n282 6\n282 7\n282 8\n282 9\n282 10\n282 11\n282 12\n282 13\n282 14\n282 15\n282 16\n282 17\n282 18\n282 19\n282 20\n282 21\n282 22\n282 23\n282 24\n282 25\n282 26\n282 27\n282 28\n282 29\n282 30\n282 31\n282 32\n282 33\n282 34\n282 35\n283 0\n283 1\n283 2\n283 3\n283 4\n283 5\n283 6\n283 7\n283 8\n283 9\n283 10\n283 11\n283 12\n283 13\n283 14\n283 15\n283 16\n283 17\n283 18\n283 19\n283 20\n283 21\n283 22\n283 23\n283 24\n283 25\n283 26\n283 27\n283 28\n283 29\n283 30\n283 31\n283 32\n283 33\n283 34\n283 35\n284 0\n284 1\n284 2\n284 3\n284 4\n284 5\n284 6\n284 7\n284 8\n284 9\n284 10\n284 11\n284 12\n284 13\n284 14\n284 15\n284 16\n284 17\n284 18\n284 19\n284 20\n284 21\n284 22\n284 23\n284 24\n284 25\n284 26\n284 27\n284 28\n284 29\n284 30\n284 31\n284 32\n284 33\n284 34\n284 35\n285 0\n285 1\n285 2\n285 3\n285 4\n285 5\n285 6\n285 7\n285 8\n285 9\n285 10\n285 11\n285 12\n285 13\n285 14\n285 15\n285 16\n285 17\n285 18\n285 19\n285 20\n285 21\n285 22\n285 23\n285 24\n285 25\n285 26\n285 27\n285 28\n285 29\n285 30\n285 31\n285 32\n285 33\n285 34\n285 35\n286 0\n286 1\n286 2\n286 3\n286 4\n286 5\n286 6\n286 7\n286 8\n286 9\n286 10\n286 11\n286 12\n286 13\n286 14\n286 15\n286 16\n286 17\n286 18\n286 19\n286 20\n286 21\n286 22\n286 23\n286 24\n286 25\n286 26\n286 27\n286 28\n286 29\n286 30\n286 31\n286 32\n286 33\n286 34\n286 35\n287 0\n287 1\n287 2\n287 3\n287 4\n287 5\n287 6\n287 7\n287 8\n287 9\n287 10\n287 11\n287 12\n287 13\n287 14\n287 15\n287 16\n287 17\n287 18\n287 19\n287 20\n287 21\n287 22\n287 23\n287 24\n287 25\n287 26\n287 27\n287 28\n287 29\n287 30\n287 31\n287 32\n287 33\n287 34\n287 35\n288 0\n288 1\n288 2\n288 3\n288 4\n288 5\n288 6\n288 7\n288 8\n288 9\n288 10\n288 11\n288 12\n288 13\n288 14\n288 15\n288 16\n288 17\n288 18\n288 19\n288 20\n288 21\n288 22\n288 23\n288 24\n288 25\n288 26\n288 27\n288 28\n288 29\n288 30\n288 31\n288 32\n288 33\n288 34\n288 35\n288 36\n288 37\n288 38\n288 39\n288 40\n288 41\n289 0\n289 1\n289 2\n289 3\n289 4\n289 5\n289 6\n289 7\n289 8\n289 9\n289 10\n289 11\n289 12\n289 13\n289 14\n289 15\n289 16\n289 17\n289 18\n289 19\n289 20\n289 21\n289 22\n289 23\n289 24\n289 25\n289 26\n289 27\n289 28\n289 29\n289 30\n289 31\n289 32\n289 33\n289 34\n289 35\n289 36\n289 37\n289 38\n289 39\n289 40\n289 41\n290 0\n290 1\n290 2\n290 3\n290 4\n290 5\n290 6\n290 7\n290 8\n290 9\n290 10\n290 11\n290 12\n290 13\n290 14\n290 15\n290 16\n290 17\n290 18\n290 19\n290 20\n290 21\n290 22\n290 23\n290 24\n290 25\n290 26\n290 27\n290 28\n290 29\n290 30\n290 31\n290 32\n290 33\n290 34\n290 35\n291 0\n291 1\n291 2\n291 3\n291 4\n291 5\n291 6\n291 7\n291 8\n291 9\n291 10\n291 11\n291 12\n291 13\n291 14\n291 15\n291 16\n291 17\n291 18\n291 19\n291 20\n291 21\n291 22\n291 23\n291 24\n291 25\n291 26\n291 27\n291 28\n291 29\n291 30\n291 31\n291 32\n291 33\n291 34\n291 35\n292 0\n292 1\n292 2\n292 3\n292 4\n292 5\n292 6\n292 7\n292 8\n292 9\n292 10\n292 11\n292 12\n292 13\n292 14\n292 15\n292 16\n292 17\n292 18\n292 19\n292 20\n292 21\n292 22\n292 23\n292 24\n292 25\n292 26\n292 27\n292 28\n292 29\n292 30\n292 31\n292 32\n292 33\n292 34\n292 35\n293 0\n293 1\n293 2\n293 3\n293 4\n293 5\n293 6\n293 7\n293 8\n293 9\n293 10\n293 11\n293 12\n293 13\n293 14\n293 15\n293 16\n293 17\n293 18\n293 19\n293 20\n293 21\n293 22\n293 23\n293 24\n293 25\n293 26\n293 27\n293 28\n293 29\n293 30\n293 31\n293 32\n293 33\n293 34\n293 35\n294 0\n294 1\n294 2\n294 3\n294 4\n294 5\n294 6\n294 7\n294 8\n294 9\n294 10\n294 11\n294 12\n294 13\n294 14\n294 15\n294 16\n294 17\n294 18\n294 19\n294 20\n294 21\n294 22\n294 23\n294 24\n294 25\n294 26\n294 27\n294 28\n294 29\n294 30\n294 31\n294 32\n294 33\n294 34\n294 35\n295 0\n295 1\n295 2\n295 3\n295 4\n295 5\n295 6\n295 7\n295 8\n295 9\n295 10\n295 11\n295 12\n295 13\n295 14\n295 15\n295 16\n295 17\n295 18\n295 19\n295 20\n295 21\n295 22\n295 23\n295 24\n295 25\n295 26\n295 27\n295 28\n295 29\n295 30\n295 31\n295 32\n295 33\n295 34\n295 35\n295 36\n295 37\n295 38\n295 39\n295 40\n295 41\n295 42\n295 43\n295 44\n295 45\n295 46\n295 47\n296 0\n296 1\n296 2\n296 3\n296 4\n296 5\n296 6\n296 7\n296 8\n296 9\n296 10\n296 11\n296 12\n296 13\n296 14\n296 15\n296 16\n296 17\n296 18\n296 19\n296 20\n296 21\n296 22\n296 23\n296 24\n296 25\n296 26\n296 27\n296 28\n296 29\n296 30\n296 31\n296 32\n296 33\n296 34\n296 35\n297 0\n297 1\n297 2\n297 3\n297 4\n297 5\n297 6\n297 7\n297 8\n297 9\n297 10\n297 11\n297 12\n297 13\n297 14\n297 15\n297 16\n297 17\n297 18\n297 19\n297 20\n297 21\n297 22\n297 23\n297 24\n297 25\n297 26\n297 27\n297 28\n297 29\n297 30\n297 31\n297 32\n297 33\n297 34\n297 35\n298 0\n298 1\n298 2\n298 3\n298 4\n298 5\n298 6\n298 7\n298 8\n298 9\n298 10\n298 11\n298 12\n298 13\n298 14\n298 15\n298 16\n298 17\n298 18\n298 19\n298 20\n298 21\n298 22\n298 23\n298 24\n298 25\n298 26\n298 27\n298 28\n298 29\n298 30\n298 31\n298 32\n298 33\n298 34\n298 35\n299 0\n299 1\n299 2\n299 3\n299 4\n299 5\n299 6\n299 7\n299 8\n299 9\n299 10\n299 11\n299 12\n299 13\n299 14\n299 15\n299 16\n299 17\n299 18\n299 19\n299 20\n299 21\n299 22\n299 23\n299 24\n299 25\n299 26\n299 27\n299 28\n299 29\n299 30\n299 31\n299 32\n299 33\n299 34\n299 35\n300 0\n300 1\n300 2\n300 3\n300 4\n300 5\n300 6\n300 7\n300 8\n300 9\n300 10\n300 11\n300 12\n300 13\n300 14\n300 15\n300 16\n300 17\n300 18\n300 19\n300 20\n300 21\n300 22\n300 23\n300 24\n300 25\n300 26\n300 27\n300 28\n300 29\n300 30\n300 31\n300 32\n300 33\n300 34\n300 35\n300 36\n300 37\n300 38\n300 39\n300 40\n300 41\n300 42\n300 43\n300 44\n300 45\n300 46\n300 47\n300 48\n300 49\n300 50\n300 51\n300 52\n300 53\n301 0\n301 1\n301 2\n301 3\n301 4\n301 5\n301 6\n301 7\n301 8\n301 9\n301 10\n301 11\n301 12\n301 13\n301 14\n301 15\n301 16\n301 17\n301 18\n301 19\n301 20\n301 21\n301 22\n301 23\n301 24\n301 25\n301 26\n301 27\n301 28\n301 29\n301 30\n301 31\n301 32\n301 33\n301 34\n301 35\n302 0\n302 1\n302 2\n302 3\n302 4\n302 5\n302 6\n302 7\n302 8\n302 9\n302 10\n302 11\n302 12\n302 13\n302 14\n302 15\n302 16\n302 17\n302 18\n302 19\n302 20\n302 21\n302 22\n302 23\n302 24\n302 25\n302 26\n302 27\n302 28\n302 29\n302 30\n302 31\n302 32\n302 33\n302 34\n302 35\n303 0\n303 1\n303 2\n303 3\n303 4\n303 5\n303 6\n303 7\n303 8\n303 9\n303 10\n303 11\n303 12\n303 13\n303 14\n303 15\n303 16\n303 17\n303 18\n303 19\n303 20\n303 21\n303 22\n303 23\n303 24\n303 25\n303 26\n303 27\n303 28\n303 29\n303 30\n303 31\n303 32\n303 33\n303 34\n303 35\n303 36\n303 37\n303 38\n303 39\n303 40\n303 41\n303 42\n303 43\n303 44\n303 45\n303 46\n303 47\n303 48\n303 49\n303 50\n303 51\n303 52\n303 53\n304 0\n304 1\n304 2\n304 3\n304 4\n304 5\n304 6\n304 7\n304 8\n304 9\n304 10\n304 11\n304 12\n304 13\n304 14\n304 15\n304 16\n304 17\n304 18\n304 19\n304 20\n304 21\n304 22\n304 23\n304 24\n304 25\n304 26\n304 27\n304 28\n304 29\n304 30\n304 31\n304 32\n304 33\n304 34\n304 35\n304 36\n304 37\n304 38\n304 39\n304 40\n304 41\n304 42\n304 43\n304 44\n304 45\n304 46\n304 47\n305 0\n305 1\n305 2\n305 3\n305 4\n305 5\n305 6\n305 7\n305 8\n305 9\n305 10\n305 11\n305 12\n305 13\n305 14\n305 15\n305 16\n305 17\n305 18\n305 19\n305 20\n305 21\n305 22\n305 23\n305 24\n305 25\n305 26\n305 27\n305 28\n305 29\n305 30\n305 31\n305 32\n305 33\n305 34\n305 35\n306 0\n306 1\n306 2\n306 3\n306 4\n306 5\n306 6\n306 7\n306 8\n306 9\n306 10\n306 11\n306 12\n306 13\n306 14\n306 15\n306 16\n306 17\n306 18\n306 19\n306 20\n306 21\n306 22\n306 23\n306 24\n306 25\n306 26\n306 27\n306 28\n306 29\n306 30\n306 31\n306 32\n306 33\n306 34\n306 35\n306 36\n306 37\n306 38\n306 39\n306 40\n306 41\n307 0\n307 1\n307 2\n307 3\n307 4\n307 5\n307 6\n307 7\n307 8\n307 9\n307 10\n307 11\n307 12\n307 13\n307 14\n307 15\n307 16\n307 17\n307 18\n307 19\n307 20\n307 21\n307 22\n307 23\n307 24\n307 25\n307 26\n307 27\n307 28\n307 29\n307 30\n307 31\n307 32\n307 33\n307 34\n307 35\n308 0\n308 1\n308 2\n308 3\n308 4\n308 5\n308 6\n308 7\n308 8\n308 9\n308 10\n308 11\n308 12\n308 13\n308 14\n308 15\n308 16\n308 17\n308 18\n308 19\n308 20\n308 21\n308 22\n308 23\n308 24\n308 25\n308 26\n308 27\n308 28\n308 29\n308 30\n308 31\n308 32\n308 33\n308 34\n308 35\n308 36\n308 37\n308 38\n308 39\n308 40\n308 41\n309 0\n309 1\n309 2\n309 3\n309 4\n309 5\n309 6\n309 7\n309 8\n309 9\n309 10\n309 11\n309 12\n309 13\n309 14\n309 15\n309 16\n309 17\n309 18\n309 19\n309 20\n309 21\n309 22\n309 23\n309 24\n309 25\n309 26\n309 27\n309 28\n309 29\n309 30\n309 31\n309 32\n309 33\n309 34\n309 35\n309 36\n309 37\n309 38\n309 39\n309 40\n309 41\n309 42\n309 43\n309 44\n309 45\n309 46\n309 47\n310 0\n310 1\n310 2\n310 3\n310 4\n310 5\n310 6\n310 7\n310 8\n310 9\n310 10\n310 11\n310 12\n310 13\n310 14\n310 15\n310 16\n310 17\n310 18\n310 19\n310 20\n310 21\n310 22\n310 23\n310 24\n310 25\n310 26\n310 27\n310 28\n310 29\n310 30\n310 31\n310 32\n310 33\n310 34\n310 35\n311 0\n311 1\n311 2\n311 3\n311 4\n311 5\n311 6\n311 7\n311 8\n311 9\n311 10\n311 11\n311 12\n311 13\n311 14\n311 15\n311 16\n311 17\n311 18\n311 19\n311 20\n311 21\n311 22\n311 23\n311 24\n311 25\n311 26\n311 27\n311 28\n311 29\n311 30\n311 31\n311 32\n311 33\n311 34\n311 35\n312 0\n312 1\n312 2\n312 3\n312 4\n312 5\n312 6\n312 7\n312 8\n312 9\n312 10\n312 11\n312 12\n312 13\n312 14\n312 15\n312 16\n312 17\n312 18\n312 19\n312 20\n312 21\n312 22\n312 23\n312 24\n312 25\n312 26\n312 27\n312 28\n312 29\n312 30\n312 31\n312 32\n312 33\n312 34\n312 35\n313 0\n313 1\n313 2\n313 3\n313 4\n313 5\n313 6\n313 7\n313 8\n313 9\n313 10\n313 11\n313 12\n313 13\n313 14\n313 15\n313 16\n313 17\n313 18\n313 19\n313 20\n313 21\n313 22\n313 23\n313 24\n313 25\n313 26\n313 27\n313 28\n313 29\n313 30\n313 31\n313 32\n313 33\n313 34\n313 35\n314 0\n314 1\n314 2\n314 3\n314 4\n314 5\n314 6\n314 7\n314 8\n314 9\n314 10\n314 11\n314 12\n314 13\n314 14\n314 15\n314 16\n314 17\n314 18\n314 19\n314 20\n314 21\n314 22\n314 23\n314 24\n314 25\n314 26\n314 27\n314 28\n314 29\n314 30\n314 31\n314 32\n314 33\n314 34\n314 35\n315 0\n315 1\n315 2\n315 3\n315 4\n315 5\n315 6\n315 7\n315 8\n315 9\n315 10\n315 11\n315 12\n315 13\n315 14\n315 15\n315 16\n315 17\n315 18\n315 19\n315 20\n315 21\n315 22\n315 23\n315 24\n315 25\n315 26\n315 27\n315 28\n315 29\n315 30\n315 31\n315 32\n315 33\n315 34\n315 35\n316 0\n316 1\n316 2\n316 3\n316 4\n316 5\n316 6\n316 7\n316 8\n316 9\n316 10\n316 11\n316 12\n316 13\n316 14\n316 15\n316 16\n316 17\n316 18\n316 19\n316 20\n316 21\n316 22\n316 23\n316 24\n316 25\n316 26\n316 27\n316 28\n316 29\n316 30\n316 31\n316 32\n316 33\n316 34\n316 35\n317 0\n317 1\n317 2\n317 3\n317 4\n317 5\n317 6\n317 7\n317 8\n317 9\n317 10\n317 11\n317 12\n317 13\n317 14\n317 15\n317 16\n317 17\n317 18\n317 19\n317 20\n317 21\n317 22\n317 23\n317 24\n317 25\n317 26\n317 27\n317 28\n317 29\n317 30\n317 31\n317 32\n317 33\n317 34\n317 35\n318 0\n318 1\n318 2\n318 3\n318 4\n318 5\n318 6\n318 7\n318 8\n318 9\n318 10\n318 11\n318 12\n318 13\n318 14\n318 15\n318 16\n318 17\n318 18\n318 19\n318 20\n318 21\n318 22\n318 23\n318 24\n318 25\n318 26\n318 27\n318 28\n318 29\n318 30\n318 31\n318 32\n318 33\n318 34\n318 35\n318 36\n318 37\n318 38\n318 39\n318 40\n318 41\n318 42\n318 43\n318 44\n318 45\n318 46\n318 47\n319 0\n319 1\n319 2\n319 3\n319 4\n319 5\n319 6\n319 7\n319 8\n319 9\n319 10\n319 11\n319 12\n319 13\n319 14\n319 15\n319 16\n319 17\n319 18\n319 19\n319 20\n319 21\n319 22\n319 23\n319 24\n319 25\n319 26\n319 27\n319 28\n319 29\n319 30\n319 31\n319 32\n319 33\n319 34\n319 35\n319 36\n319 37\n319 38\n319 39\n319 40\n319 41\n319 42\n319 43\n319 44\n319 45\n319 46\n319 47\n320 0\n320 1\n320 2\n320 3\n320 4\n320 5\n320 6\n320 7\n320 8\n320 9\n320 10\n320 11\n320 12\n320 13\n320 14\n320 15\n320 16\n320 17\n320 18\n320 19\n320 20\n320 21\n320 22\n320 23\n320 24\n320 25\n320 26\n320 27\n320 28\n320 29\n320 30\n320 31\n320 32\n320 33\n320 34\n320 35\n321 0\n321 1\n321 2\n321 3\n321 4\n321 5\n321 6\n321 7\n321 8\n321 9\n321 10\n321 11\n321 12\n321 13\n321 14\n321 15\n321 16\n321 17\n321 18\n321 19\n321 20\n321 21\n321 22\n321 23\n321 24\n321 25\n321 26\n321 27\n321 28\n321 29\n321 30\n321 31\n321 32\n321 33\n321 34\n321 35\n322 0\n322 1\n322 2\n322 3\n322 4\n322 5\n322 6\n322 7\n322 8\n322 9\n322 10\n322 11\n322 12\n322 13\n322 14\n322 15\n322 16\n322 17\n322 18\n322 19\n322 20\n322 21\n322 22\n322 23\n322 24\n322 25\n322 26\n322 27\n322 28\n322 29\n322 30\n322 31\n322 32\n322 33\n322 34\n322 35\n323 0\n323 1\n323 2\n323 3\n323 4\n323 5\n323 6\n323 7\n323 8\n323 9\n323 10\n323 11\n323 12\n323 13\n323 14\n323 15\n323 16\n323 17\n323 18\n323 19\n323 20\n323 21\n323 22\n323 23\n323 24\n323 25\n323 26\n323 27\n323 28\n323 29\n323 30\n323 31\n323 32\n323 33\n323 34\n323 35\n323 36\n323 37\n323 38\n323 39\n323 40\n323 41\n324 0\n324 1\n324 2\n324 3\n324 4\n324 5\n324 6\n324 7\n324 8\n324 9\n324 10\n324 11\n324 12\n324 13\n324 14\n324 15\n324 16\n324 17\n324 18\n324 19\n324 20\n324 21\n324 22\n324 23\n324 24\n324 25\n324 26\n324 27\n324 28\n324 29\n324 30\n324 31\n324 32\n324 33\n324 34\n324 35\n324 36\n324 37\n324 38\n324 39\n324 40\n324 41\n324 42\n324 43\n324 44\n324 45\n324 46\n324 47\n324 48\n324 49\n324 50\n324 51\n324 52\n324 53\n324 54\n324 55\n324 56\n324 57\n324 58\n324 59\n325 0\n325 1\n325 2\n325 3\n325 4\n325 5\n325 6\n325 7\n325 8\n325 9\n325 10\n325 11\n325 12\n325 13\n325 14\n325 15\n325 16\n325 17\n325 18\n325 19\n325 20\n325 21\n325 22\n325 23\n325 24\n325 25\n325 26\n325 27\n325 28\n325 29\n325 30\n325 31\n325 32\n325 33\n325 34\n325 35\n325 36\n325 37\n325 38\n325 39\n325 40\n325 41\n325 42\n325 43\n325 44\n325 45\n325 46\n325 47\n325 48\n325 49\n325 50\n325 51\n325 52\n325 53\n326 0\n326 1\n326 2\n326 3\n326 4\n326 5\n326 6\n326 7\n326 8\n326 9\n326 10\n326 11\n326 12\n326 13\n326 14\n326 15\n326 16\n326 17\n326 18\n326 19\n326 20\n326 21\n326 22\n326 23\n326 24\n326 25\n326 26\n326 27\n326 28\n326 29\n326 30\n326 31\n326 32\n326 33\n326 34\n326 35\n326 36\n326 37\n326 38\n326 39\n326 40\n326 41\n326 42\n326 43\n326 44\n326 45\n326 46\n326 47\n327 0\n327 1\n327 2\n327 3\n327 4\n327 5\n327 6\n327 7\n327 8\n327 9\n327 10\n327 11\n327 12\n327 13\n327 14\n327 15\n327 16\n327 17\n327 18\n327 19\n327 20\n327 21\n327 22\n327 23\n327 24\n327 25\n327 26\n327 27\n327 28\n327 29\n327 30\n327 31\n327 32\n327 33\n327 34\n327 35\n328 0\n328 1\n328 2\n328 3\n328 4\n328 5\n328 6\n328 7\n328 8\n328 9\n328 10\n328 11\n328 12\n328 13\n328 14\n328 15\n328 16\n328 17\n328 18\n328 19\n328 20\n328 21\n328 22\n328 23\n328 24\n328 25\n328 26\n328 27\n328 28\n328 29\n328 30\n328 31\n328 32\n328 33\n328 34\n328 35\n329 0\n329 1\n329 2\n329 3\n329 4\n329 5\n329 6\n329 7\n329 8\n329 9\n329 10\n329 11\n329 12\n329 13\n329 14\n329 15\n329 16\n329 17\n329 18\n329 19\n329 20\n329 21\n329 22\n329 23\n329 24\n329 25\n329 26\n329 27\n329 28\n329 29\n329 30\n329 31\n329 32\n329 33\n329 34\n329 35\n330 0\n330 1\n330 2\n330 3\n330 4\n330 5\n330 6\n330 7\n330 8\n330 9\n330 10\n330 11\n330 12\n330 13\n330 14\n330 15\n330 16\n330 17\n330 18\n330 19\n330 20\n330 21\n330 22\n330 23\n330 24\n330 25\n330 26\n330 27\n330 28\n330 29\n330 30\n330 31\n330 32\n330 33\n330 34\n330 35\n"
    }
   ],
   "source": [
    "for i in range(len(parton_pdgid)):\n",
    "    j = 0\n",
    "    a = 0\n",
    "    b = 0\n",
    "    while a < 6 :\n",
    "        for b in range( len(jet_pt[i]) ):\n",
    "            print(i, j)\n",
    "            #print(i, a, b)\n",
    "            #print(delta_R( parton_array[i][a][4], parton_array[i][a][5], jet.eta[i][b], jet.phi[i][b]))\n",
    "            dR_between_parton_jet[i][j] = delta_R( parton_eta[i][a], parton_phi[i][a], jet_eta[i][b], jet_phi[i][b])\n",
    "            j +=1\n",
    "        a += 1 \n"
   ]
  },
  {
   "source": [
    "### Matching jet and parton by finding the Min(dR(parton, jet))"
   ],
   "cell_type": "markdown",
   "metadata": {}
  },
  {
   "cell_type": "code",
   "execution_count": 28,
   "metadata": {
    "tags": [
     "outputPrepend",
     "outputPrepend",
     "outputPrepend",
     "outputPrepend",
     "outputPrepend",
     "outputPrepend",
     "outputPrepend",
     "outputPrepend",
     "outputPrepend",
     "outputPrepend",
     "outputPrepend",
     "outputPrepend",
     "outputPrepend",
     "outputPrepend",
     "outputPrepend",
     "outputPrepend",
     "outputPrepend",
     "outputPrepend",
     "outputPrepend",
     "outputPrepend",
     "outputPrepend",
     "outputPrepend",
     "outputPrepend",
     "outputPrepend",
     "outputPrepend",
     "outputPrepend",
     "outputPrepend",
     "outputPrepend",
     "outputPrepend",
     "outputPrepend",
     "outputPrepend",
     "outputPrepend",
     "outputPrepend",
     "outputPrepend",
     "outputPrepend",
     "outputPrepend",
     "outputPrepend",
     "outputPrepend",
     "outputPrepend",
     "outputPrepend",
     "outputPrepend",
     "outputPrepend",
     "outputPrepend",
     "outputPrepend",
     "outputPrepend",
     "outputPrepend",
     "outputPrepend",
     "outputPrepend",
     "outputPrepend",
     "outputPrepend",
     "outputPrepend",
     "outputPrepend",
     "outputPrepend",
     "outputPrepend",
     "outputPrepend",
     "outputPrepend",
     "outputPrepend",
     "outputPrepend",
     "outputPrepend",
     "outputPrepend",
     "outputPrepend",
     "outputPrepend",
     "outputPrepend",
     "outputPrepend",
     "outputPrepend",
     "outputPrepend",
     "outputPrepend",
     "outputPrepend",
     "outputPrepend",
     "outputPrepend",
     "outputPrepend",
     "outputPrepend",
     "outputPrepend",
     "outputPrepend",
     "outputPrepend",
     "outputPrepend",
     "outputPrepend",
     "outputPrepend",
     "outputPrepend",
     "outputPrepend",
     "outputPrepend",
     "outputPrepend",
     "outputPrepend",
     "outputPrepend",
     "outputPrepend",
     "outputPrepend",
     "outputPrepend",
     "outputPrepend",
     "outputPrepend",
     "outputPrepend",
     "outputPrepend",
     "outputPrepend",
     "outputPrepend",
     "outputPrepend",
     "outputPrepend",
     "outputPrepend",
     "outputPrepend",
     "outputPrepend",
     "outputPrepend",
     "outputPrepend",
     "outputPrepend",
     "outputPrepend",
     "outputPrepend",
     "outputPrepend",
     "outputPrepend",
     "outputPrepend",
     "outputPrepend",
     "outputPrepend",
     "outputPrepend",
     "outputPrepend",
     "outputPrepend",
     "outputPrepend",
     "outputPrepend",
     "outputPrepend",
     "outputPrepend",
     "outputPrepend",
     "outputPrepend",
     "outputPrepend",
     "outputPrepend",
     "outputPrepend",
     "outputPrepend",
     "outputPrepend",
     "outputPrepend",
     "outputPrepend",
     "outputPrepend",
     "outputPrepend",
     "outputPrepend",
     "outputPrepend",
     "outputPrepend",
     "outputPrepend",
     "outputPrepend",
     "outputPrepend",
     "outputPrepend",
     "outputPrepend",
     "outputPrepend",
     "outputPrepend",
     "outputPrepend",
     "outputPrepend",
     "outputPrepend",
     "outputPrepend",
     "outputPrepend",
     "outputPrepend",
     "outputPrepend",
     "outputPrepend",
     "outputPrepend",
     "outputPrepend",
     "outputPrepend",
     "outputPrepend",
     "outputPrepend",
     "outputPrepend",
     "outputPrepend",
     "outputPrepend",
     "outputPrepend",
     "outputPrepend",
     "outputPrepend",
     "outputPrepend",
     "outputPrepend",
     "outputPrepend",
     "outputPrepend",
     "outputPrepend",
     "outputPrepend",
     "outputPrepend",
     "outputPrepend",
     "outputPrepend",
     "outputPrepend",
     "outputPrepend",
     "outputPrepend",
     "outputPrepend",
     "outputPrepend",
     "outputPrepend",
     "outputPrepend",
     "outputPrepend",
     "outputPrepend",
     "outputPrepend",
     "outputPrepend",
     "outputPrepend",
     "outputPrepend",
     "outputPrepend",
     "outputPrepend",
     "outputPrepend",
     "outputPrepend",
     "outputPrepend",
     "outputPrepend",
     "outputPrepend",
     "outputPrepend",
     "outputPrepend",
     "outputPrepend",
     "outputPrepend",
     "outputPrepend",
     "outputPrepend",
     "outputPrepend",
     "outputPrepend",
     "outputPrepend",
     "outputPrepend",
     "outputPrepend",
     "outputPrepend",
     "outputPrepend",
     "outputPrepend",
     "outputPrepend",
     "outputPrepend",
     "outputPrepend",
     "outputPrepend",
     "outputPrepend",
     "outputPrepend",
     "outputPrepend",
     "outputPrepend",
     "outputPrepend",
     "outputPrepend",
     "outputPrepend",
     "outputPrepend",
     "outputPrepend",
     "outputPrepend",
     "outputPrepend",
     "outputPrepend",
     "outputPrepend",
     "outputPrepend",
     "outputPrepend",
     "outputPrepend",
     "outputPrepend",
     "outputPrepend",
     "outputPrepend",
     "outputPrepend",
     "outputPrepend",
     "outputPrepend",
     "outputPrepend",
     "outputPrepend",
     "outputPrepend",
     "outputPrepend",
     "outputPrepend",
     "outputPrepend",
     "outputPrepend",
     "outputPrepend",
     "outputPrepend",
     "outputPrepend",
     "outputPrepend",
     "outputPrepend",
     "outputPrepend",
     "outputPrepend",
     "outputPrepend",
     "outputPrepend",
     "outputPrepend",
     "outputPrepend",
     "outputPrepend",
     "outputPrepend",
     "outputPrepend",
     "outputPrepend",
     "outputPrepend",
     "outputPrepend",
     "outputPrepend",
     "outputPrepend",
     "outputPrepend",
     "outputPrepend",
     "outputPrepend",
     "outputPrepend",
     "outputPrepend",
     "outputPrepend",
     "outputPrepend",
     "outputPrepend",
     "outputPrepend",
     "outputPrepend",
     "outputPrepend",
     "outputPrepend",
     "outputPrepend",
     "outputPrepend",
     "outputPrepend",
     "outputPrepend",
     "outputPrepend",
     "outputPrepend",
     "outputPrepend",
     "outputPrepend",
     "outputPrepend",
     "outputPrepend",
     "outputPrepend",
     "outputPrepend",
     "outputPrepend",
     "outputPrepend",
     "outputPrepend",
     "outputPrepend",
     "outputPrepend",
     "outputPrepend",
     "outputPrepend",
     "outputPrepend",
     "outputPrepend",
     "outputPrepend",
     "outputPrepend",
     "outputPrepend",
     "outputPrepend",
     "outputPrepend",
     "outputPrepend",
     "outputPrepend",
     "outputPrepend",
     "outputPrepend",
     "outputPrepend",
     "outputPrepend",
     "outputPrepend",
     "outputPrepend",
     "outputPrepend",
     "outputPrepend",
     "outputPrepend",
     "outputPrepend",
     "outputPrepend",
     "outputPrepend",
     "outputPrepend",
     "outputPrepend",
     "outputPrepend",
     "outputPrepend",
     "outputPrepend",
     "outputPrepend",
     "outputPrepend",
     "outputPrepend",
     "outputPrepend",
     "outputPrepend",
     "outputPrepend",
     "outputPrepend",
     "outputPrepend",
     "outputPrepend",
     "outputPrepend",
     "outputPrepend",
     "outputPrepend",
     "outputPrepend",
     "outputPrepend",
     "outputPrepend",
     "outputPrepend",
     "outputPrepend",
     "outputPrepend",
     "outputPrepend",
     "outputPrepend",
     "outputPrepend",
     "outputPrepend",
     "outputPrepend",
     "outputPrepend",
     "outputPrepend",
     "outputPrepend",
     "outputPrepend",
     "outputPrepend",
     "outputPrepend",
     "outputPrepend",
     "outputPrepend",
     "outputPrepend",
     "outputPrepend",
     "outputPrepend",
     "outputPrepend"
    ]
   },
   "outputs": [],
   "source": [
    "\n",
    "for i in range(len(parton_pt)):\n",
    "    \n",
    "    #print(\"+------------------------------------------------------------------------------------------------------+\")\n",
    "    #print(dR_between_parton_jet.shape)\n",
    "    array = np.reshape(dR_between_parton_jet[i], [6, len(jet_pt[i])])\n",
    "    #print(array.shape)\n",
    "        \n",
    "    dataset = pd.DataFrame({'0': array[0,:], \n",
    "                                '1': array[1,:],\n",
    "                                '2': array[2,:],\n",
    "                                '3': array[3,:],\n",
    "                                '4': array[4,:],\n",
    "                                '5': array[5,:],\n",
    "                                })\n",
    "    #print(dataset)\n",
    "\n",
    "    for j in range(0,6):\n",
    "        #print(\"+------------------------------------------------------------------------------------------------------+\")\n",
    "        min_val = dataset.stack().min()\n",
    "        if min_val < 0.4:\n",
    "            #print(\"Min val: {0}\".format(min_val))\n",
    "            min_idx, min_col = dataset.stack().idxmin()\n",
    "            matching_parton[i][j] = int(min_idx)\n",
    "            matching_jet[i][j] = int(min_col)\n",
    "            #print(\"The position of minimun appears. Raw: {0}, Colume: {1}\".format(min_idx, min_col))\n",
    "            dataset = dataset.drop([min_col], axis=1)\n",
    "            dataset = dataset.drop([min_idx], axis=0)\n",
    "            #print(\"The dataset after delete the minimun's raw and colume:\")\n",
    "            #print(dataset)\n",
    "        else:\n",
    "            matching_parton[i][j] = 'Nan'\n",
    "            matching_jet[i][j] = 'Nan'\n",
    "    for k in range(6, len(jet_pt[i])):\n",
    "        matching_jet[i][k] = 'Nan'\n",
    "\n",
    "        "
   ]
  },
  {
   "cell_type": "code",
   "execution_count": 29,
   "metadata": {},
   "outputs": [
    {
     "output_type": "stream",
     "name": "stdout",
     "text": "0\n[ 2.  3.  4. nan nan nan] [ 2.  1.  4. nan nan nan]\n1\n[ 1.  4.  3.  6. nan nan] [ 5.  4.  1.  2. nan nan nan]\n2\n[ 2.  1.  3.  4. nan nan] [ 4.  1.  2.  5. nan nan]\n3\n[ 1.  0.  4.  3. nan nan] [ 4.  1.  2.  0. nan nan]\n4\n[ 3.  2.  1. nan nan nan] [ 2.  4.  1. nan nan nan]\n5\n[ 0.  3.  2. nan nan nan] [ 3.  2.  4. nan nan nan]\n6\n[ 1.  0.  2.  5. nan nan] [ 1.  2.  5.  4. nan nan]\n7\n[ 6.  4.  2.  5.  1. nan] [ 4.  5.  1.  2.  0. nan nan]\n8\n[ 0.  2.  1. nan nan nan] [ 5.  1.  2. nan nan nan]\n9\n[ 2.  3.  1.  4. nan nan] [ 1.  4.  5.  2. nan nan]\n10\n[ 0.  5.  1.  4. nan nan] [ 2.  5.  1.  4. nan nan]\n11\n[ 3.  2.  1.  4. nan nan] [ 2.  1.  5.  4. nan nan]\n12\n[ 0. nan nan nan nan nan] [ 1. nan nan nan nan nan]\n13\n[ 2.  3.  1.  5.  4. nan] [ 5.  2.  0.  1.  4. nan]\n14\n[ 5.  1.  2. nan nan nan] [ 5.  2.  4. nan nan nan]\n15\n[ 1.  2.  3. nan nan nan] [ 3.  2.  5. nan nan nan nan nan]\n16\n[ 1.  2.  3. nan nan nan] [ 5.  2.  4. nan nan nan]\n17\n[ 3.  1. nan nan nan nan] [ 1.  2. nan nan nan nan nan]\n18\n[ 3.  0.  2. nan nan nan] [ 1.  2.  5. nan nan nan]\n19\n[ 0.  2.  3.  1. nan nan] [ 0.  2.  5.  4. nan nan]\n20\n[ 0.  2.  1. nan nan nan] [ 1.  5.  2. nan nan nan]\n21\n[ 1.  3.  5.  0. nan nan] [ 5.  0.  2.  4. nan nan]\n22\n[ 1.  3.  5.  2.  0. nan] [ 2.  5.  1.  4.  3. nan]\n23\n[ 1.  4. nan nan nan nan] [ 5.  1. nan nan nan nan nan nan]\n24\n[ 4.  5.  2.  3. nan nan] [ 4.  5.  2.  1. nan nan nan]\n25\n[ 3.  4.  1.  5. nan nan] [ 2.  5.  4.  1. nan nan nan]\n26\n[ 5.  6.  4.  3. nan nan] [ 2.  5.  4.  1. nan nan nan]\n27\n[ 0.  1.  5.  4. nan nan] [ 4.  5.  1.  2. nan nan]\n28\n[ 0.  5.  2.  4. nan nan] [ 3.  4.  2.  1. nan nan]\n29\n[ 2.  5. nan nan nan nan] [ 5.  0. nan nan nan nan]\n30\n[ 4.  1.  2.  0. nan nan] [ 4.  1.  5.  2. nan nan]\n31\n[ 3.  1.  6.  0.  4. nan] [ 2.  0.  1.  4.  5. nan nan nan]\n32\n[5. 0. 1. 7. 4. 6.] [ 4.  2.  1.  0.  3.  5. nan nan]\n33\n[ 3.  1. nan nan nan nan] [ 2.  5. nan nan nan nan]\n34\n[ 3.  0.  2. nan nan nan] [ 5.  1.  4. nan nan nan nan]\n35\n[ 3.  4.  1. nan nan nan] [ 2.  1.  4. nan nan nan nan]\n36\n[ 1.  4.  0. nan nan nan] [ 5.  4.  2. nan nan nan nan]\n37\n[ 0.  4.  5.  3. nan nan] [ 5.  1.  4.  2. nan nan]\n38\n[ 0.  4.  2.  3. nan nan] [ 1.  3.  2.  4. nan nan nan]\n39\n[ 2.  1.  3. nan nan nan] [ 4.  1.  2. nan nan nan]\n40\n[ 5.  0.  1. nan nan nan] [ 4.  1.  2. nan nan nan]\n41\n[ 2.  4.  5. nan nan nan] [ 2.  5.  1. nan nan nan]\n42\n[ 3.  2.  1. nan nan nan] [ 1.  4.  2. nan nan nan]\n43\n[ 2.  0.  1.  3. nan nan] [ 2.  0.  1.  4. nan nan]\n44\n[ 6.  0.  1.  4. nan nan] [ 2.  5.  4.  1. nan nan nan nan nan]\n45\n[ 0.  4.  1. nan nan nan] [ 2.  4.  5. nan nan nan]\n46\n[ 3.  0.  4. nan nan nan] [ 5.  1.  2. nan nan nan]\n47\n[ 2.  5.  1.  0. nan nan] [ 5.  2.  4.  1. nan nan]\n48\n[ 1.  0.  5. nan nan nan] [ 5.  4.  3. nan nan nan]\n49\n[ 1.  0.  3.  4. nan nan] [ 4.  2.  1.  5. nan nan]\n50\n[ 2.  5.  1. nan nan nan] [ 1.  5.  4. nan nan nan]\n51\n[ 3.  2.  1.  4.  5. nan] [ 0.  4.  1.  5.  2. nan]\n52\n[ 0.  4.  5. nan nan nan] [ 4.  5.  1. nan nan nan]\n53\n[ 2.  0.  5. nan nan nan] [ 3.  5.  2. nan nan nan]\n54\n[ 1.  2.  4. nan nan nan] [ 1.  2.  4. nan nan nan]\n55\n[ 5.  1.  3.  4. nan nan] [ 4.  1.  2.  5. nan nan]\n56\n[ 2.  1.  3.  4. nan nan] [ 2.  5.  4.  1. nan nan]\n57\n[ 2.  5.  1.  6.  4. nan] [ 2.  4.  5.  0.  1. nan nan]\n58\n[ 0.  3.  5. nan nan nan] [ 5.  2.  3. nan nan nan nan]\n59\n[ 5.  3.  0. nan nan nan] [ 3.  4.  1. nan nan nan nan]\n60\n[ 1.  4.  5. nan nan nan] [ 1.  4.  5. nan nan nan]\n61\n[ 1.  0.  4.  3. nan nan] [ 1.  5.  2.  4. nan nan]\n62\n[ 5.  4.  1.  2. nan nan] [ 5.  1.  2.  4. nan nan]\n63\n[ 2.  1.  0.  3. nan nan] [ 0.  4.  1.  5. nan nan]\n64\n[ 1.  0.  6. nan nan nan] [ 1.  5.  2. nan nan nan nan]\n65\n[ 2.  1.  4. nan nan nan] [ 5.  1.  2. nan nan nan]\n66\n[ 0.  2.  5. nan nan nan] [ 4.  5.  2. nan nan nan]\n67\n[ 2.  4.  1. nan nan nan] [ 2.  4.  1. nan nan nan]\n68\n[ 0.  4.  1. nan nan nan] [ 4.  2.  1. nan nan nan]\n69\n[ 1.  3.  2.  5. nan nan] [ 2.  1.  5.  4. nan nan nan]\n70\n[ 2.  4.  0. nan nan nan] [ 5.  4.  2. nan nan nan]\n71\n[ 0.  1.  4.  2. nan nan] [ 5.  2.  1.  0. nan nan nan]\n72\n[ 5.  3.  0.  4. nan nan] [ 1.  5.  4.  2. nan nan]\n73\n[ 6.  0.  4. nan nan nan] [ 4.  1.  2. nan nan nan nan]\n74\n[ 4.  3.  2. nan nan nan] [ 1.  4.  5. nan nan nan]\n75\n[ 1.  0.  3.  5. nan nan] [ 5.  4.  2.  1. nan nan]\n76\n[ 2.  5.  1.  4. nan nan] [ 5.  1.  4.  2. nan nan]\n77\n[ 3.  0.  1. nan nan nan] [ 1.  5.  4. nan nan nan]\n78\n[ 1.  3.  0.  4. nan nan] [ 1.  5.  2.  4. nan nan]\n79\n[ 3.  5.  2.  4. nan nan] [ 5.  1.  2.  4. nan nan]\n80\n[ 4.  2.  5. nan nan nan] [ 1.  4.  2. nan nan nan nan nan]\n81\n[ 5.  4. nan nan nan nan] [ 2.  4. nan nan nan nan]\n82\n[ 2.  1.  3.  4. nan nan] [ 3.  5.  2.  1. nan nan]\n83\n[ 4.  1.  3.  2. nan nan] [ 2.  4.  5.  1. nan nan nan]\n84\n[ 2.  3.  1. nan nan nan] [ 5.  2.  1. nan nan nan]\n85\n[ 0.  4. nan nan nan nan] [ 3.  4. nan nan nan nan nan]\n86\n[ 1.  3.  6.  2. nan nan] [ 4.  2.  5.  1. nan nan nan]\n87\n[ 5.  3.  1.  0. nan nan] [ 5.  4.  2.  1. nan nan]\n88\n[ 3.  5.  1.  4. nan nan] [ 1.  5.  4.  2. nan nan]\n89\n[ 3.  0.  5.  1. nan nan] [ 1.  4.  2.  5. nan nan nan]\n90\n[ 5.  0.  1.  6. nan nan] [ 5.  1.  4.  2. nan nan nan]\n91\n[ 4.  1.  2. nan nan nan] [ 2.  3.  1. nan nan nan]\n92\n[ 5.  2.  3.  4. nan nan] [ 2.  4.  1.  5. nan nan nan]\n93\n[ 3.  1. nan nan nan nan] [ 1.  5. nan nan nan nan]\n94\n[ 1.  2.  3.  4. nan nan] [ 5.  1.  2.  4. nan nan nan]\n95\n[ 0.  4. nan nan nan nan] [ 3.  4. nan nan nan nan]\n96\n[ 3.  1.  2.  0.  5. nan] [ 2.  1.  5.  4.  0. nan]\n97\n[ 2.  0.  1.  5. nan nan] [ 4.  1.  5.  2. nan nan]\n98\n[ 0.  6.  5.  3. nan nan] [ 4.  2.  5.  1. nan nan nan]\n99\n[ 1.  4.  2. nan nan nan] [ 4.  5.  1. nan nan nan]\n100\n[ 4.  2.  5. nan nan nan] [ 1.  2.  4. nan nan nan nan]\n101\n[ 2.  0.  5.  1. nan nan] [ 5.  1.  2.  4. nan nan]\n102\n[ 1.  0.  2. nan nan nan] [ 5.  4.  2. nan nan nan]\n103\n[ 2.  3.  5. nan nan nan] [ 2.  5.  0. nan nan nan nan]\n104\n[ 5.  1.  4.  3. nan nan] [ 2.  4.  1.  5. nan nan]\n105\n[ 3.  1.  2.  4. nan nan] [ 5.  4.  1.  2. nan nan]\n106\n[ 1.  2.  5.  4. nan nan] [ 1.  4.  5.  2. nan nan nan]\n107\n[ 1.  3.  4.  5. nan nan] [ 2.  4.  5.  1. nan nan]\n108\n[ 2.  5.  1.  4. nan nan] [ 1.  2.  4.  5. nan nan nan]\n109\n[ 6.  1.  0. nan nan nan] [ 2.  4.  1. nan nan nan nan]\n110\n[ 5.  1.  2.  4. nan nan] [ 4.  2.  1.  5. nan nan nan nan]\n111\n[ 1.  2.  5.  0. nan nan] [ 4.  1.  5.  2. nan nan nan nan nan]\n112\n[ 1.  0.  3. nan nan nan] [ 2.  5.  4. nan nan nan nan nan]\n113\n[ 4.  1.  3.  0. nan nan] [ 1.  5.  4.  2. nan nan]\n114\n[ 2.  5.  1. nan nan nan] [ 5.  4.  2. nan nan nan]\n115\n[ 0.  4.  2.  5. nan nan] [ 1.  5.  4.  2. nan nan]\n116\n[ 3.  1. nan nan nan nan] [ 4.  2. nan nan nan nan]\n117\n[ 1.  2.  3.  0.  4. nan] [ 5.  2.  1.  4.  0. nan]\n118\n[ 3.  2.  4. nan nan nan] [ 2.  1.  5. nan nan nan nan]\n119\n[ 3.  1.  0.  2. nan nan] [ 2.  4.  1.  5. nan nan]\n120\n[ 0.  2.  3. nan nan nan] [ 2.  5.  4. nan nan nan nan]\n121\n[ 4.  0.  1. nan nan nan] [ 5.  1.  0. nan nan nan]\n122\n[ 3.  2.  1. nan nan nan] [ 2.  5.  1. nan nan nan]\n123\n[ 3.  1.  4.  5. nan nan] [ 2.  4.  5.  1. nan nan nan]\n124\n[ 0.  4.  1.  6. nan nan] [ 4.  1.  0.  2. nan nan nan]\n125\n[ 1.  2.  0.  4. nan nan] [ 1.  2.  5.  4. nan nan]\n126\n[ 4.  3.  1. nan nan nan] [ 2.  5.  4. nan nan nan]\n127\n[ 1.  3.  2. nan nan nan] [ 4.  1.  5. nan nan nan]\n128\n[ 3.  0.  4.  5. nan nan] [ 4.  1.  2.  5. nan nan]\n129\n[ 2.  3.  5.  4. nan nan] [ 0.  1.  2.  4. nan nan]\n130\n[ 4.  2.  1. nan nan nan] [ 5.  4.  2. nan nan nan]\n131\n[ 2.  4.  1. nan nan nan] [ 1.  2.  4. nan nan nan nan]\n132\n[ 2.  3.  5. nan nan nan] [ 1.  5.  4. nan nan nan nan]\n133\n[ 1.  0.  4.  3. nan nan] [ 5.  3.  2.  1. nan nan]\n134\n[ 3.  4.  1. nan nan nan] [ 4.  5.  1. nan nan nan]\n135\n[ 1.  6.  2. nan nan nan] [ 2.  4.  1. nan nan nan nan]\n136\n[ 2.  3.  5. nan nan nan] [ 4.  5.  1. nan nan nan]\n137\n[ 1.  2.  3. nan nan nan] [ 4.  0.  1. nan nan nan]\n138\n[ 3.  1.  0.  4. nan nan] [ 5.  1.  4.  3. nan nan]\n139\n[ 1.  0. nan nan nan nan] [ 4.  5. nan nan nan nan]\n140\n[ 2.  6.  3. nan nan nan] [ 5.  1.  2. nan nan nan nan nan]\n141\n[ 2.  3.  1. nan nan nan] [ 2.  1.  4. nan nan nan nan]\n142\n[ 3.  2.  4.  1. nan nan] [ 4.  2.  5.  1. nan nan]\n143\n[ 2.  4.  1. nan nan nan] [ 1.  4.  5. nan nan nan]\n144\n[ 4.  2.  0. nan nan nan] [ 1.  4.  2. nan nan nan nan]\n145\n[ 3.  0.  2.  5. nan nan] [ 4.  0.  5.  2. nan nan nan]\n146\n[ 4.  1.  2. nan nan nan] [ 1.  4.  2. nan nan nan]\n147\n[ 0.  3.  2. nan nan nan] [ 4.  1.  2. nan nan nan]\n148\n[ 1.  5.  2.  4. nan nan] [ 4.  1.  2.  5. nan nan]\n149\n[ 0.  4.  5. nan nan nan] [ 5.  4.  1. nan nan nan nan]\n150\n[ 3.  1.  4. nan nan nan] [ 1.  4.  5. nan nan nan]\n151\n[ 0.  2.  4.  3.  5. nan] [ 3.  1.  4.  0.  2. nan]\n152\n[ 2.  5.  4.  3. nan nan] [ 2.  0.  4.  5. nan nan nan]\n153\n[ 2.  3.  0.  5. nan nan] [ 4.  1.  5.  2. nan nan]\n154\n[ 4.  0.  1.  5. nan nan] [ 4.  5.  1.  2. nan nan]\n155\n[ 0.  1. nan nan nan nan] [ 1.  4. nan nan nan nan]\n156\n[ 2.  5.  4. nan nan nan] [ 1.  5.  4. nan nan nan]\n157\n[ 4.  1.  3.  5. nan nan] [ 4.  5.  1.  2. nan nan]\n158\n[ 4.  1. nan nan nan nan] [ 2.  5. nan nan nan nan]\n159\n[ 2.  4.  3. nan nan nan] [ 1.  4.  3. nan nan nan]\n160\n[ 0.  4.  2.  1.  3. nan] [ 4.  5.  2.  1.  3. nan]\n161\n[ 0.  2.  3.  4. nan nan] [ 5.  4.  3.  2. nan nan]\n162\n[ 5.  1. nan nan nan nan] [ 4.  5. nan nan nan nan]\n163\n[ 1.  2.  0.  4.  5. nan] [ 0.  2.  1.  5.  4. nan nan]\n164\n[ 0.  2.  1. nan nan nan] [ 5.  4.  1. nan nan nan]\n165\n[ 2.  5.  3.  1. nan nan] [ 2.  0.  4.  1. nan nan]\n166\n[ 2.  5.  0.  4. nan nan] [ 5.  1.  2.  4. nan nan]\n167\n[ 1.  3.  0. nan nan nan] [ 1.  5.  4. nan nan nan]\n168\n[ 3.  5.  6.  4. nan nan] [ 5.  4.  3.  2. nan nan nan]\n169\n[ 2.  5.  6.  4. nan nan] [ 2.  5.  4.  1. nan nan nan]\n170\n[ 5.  1.  2. nan nan nan] [ 2.  1.  5. nan nan nan]\n171\n[ 3.  1.  2. nan nan nan] [ 5.  4.  2. nan nan nan]\n172\n[ 1.  3. nan nan nan nan] [ 5.  4. nan nan nan nan]\n173\n[ 3.  2.  4. nan nan nan] [ 2.  1.  5. nan nan nan]\n174\n[ 0.  1.  3.  4. nan nan] [ 2.  5.  0.  4. nan nan]\n175\n[ 0.  1.  5.  2. nan nan] [ 0.  5.  4.  2. nan nan nan]\n176\n[ 0.  4.  1.  3.  2. nan] [ 5.  2.  1.  4.  0. nan]\n177\n[ 0.  2.  5.  1. nan nan] [ 5.  4.  0.  2. nan nan]\n178\n[ 1.  2.  4. nan nan nan] [ 1.  5.  2. nan nan nan nan nan]\n179\n[ 0.  1.  5. nan nan nan] [ 2.  0.  1. nan nan nan]\n180\n[ 0.  1.  6. nan nan nan] [ 5.  1.  4. nan nan nan nan]\n181\n[ 1.  0. nan nan nan nan] [ 1.  5. nan nan nan nan]\n182\n[ 0.  3.  2.  1. nan nan] [ 2.  4.  1.  5. nan nan nan]\n183\n[ 0.  4.  1.  2. nan nan] [ 2.  1.  4.  5. nan nan]\n184\n[ 5.  2.  0.  3. nan nan] [ 4.  2.  1.  5. nan nan]\n185\n[ 2.  5.  1. nan nan nan] [ 2.  0.  4. nan nan nan]\n186\n[ 3.  1.  5. nan nan nan] [ 5.  2.  1. nan nan nan nan]\n187\n[ 1.  2. nan nan nan nan] [ 1.  5. nan nan nan nan]\n188\n[ 3.  0.  1.  6. nan nan] [ 1.  2.  4.  5. nan nan nan nan]\n189\n[ 2.  1.  4.  0. nan nan] [ 2.  1.  4.  5. nan nan]\n190\n[ 0.  1.  2.  4. nan nan] [ 5.  1.  2.  4. nan nan nan nan]\n191\n[ 3.  1.  5.  4. nan nan] [ 5.  2.  1.  4. nan nan]\n192\n[ 2.  3.  1. nan nan nan] [ 0.  4.  2. nan nan nan]\n193\n[ 3.  4.  2.  1. nan nan] [ 1.  4.  2.  5. nan nan]\n194\n[ 4.  3.  2.  5. nan nan] [ 4.  1.  2.  5. nan nan]\n195\n[ 1.  0.  4.  2. nan nan] [ 5.  2.  4.  1. nan nan nan nan]\n196\n[ 2.  0.  1.  3. nan nan] [ 2.  1.  5.  4. nan nan]\n197\n[ 2.  1.  4.  0. nan nan] [ 5.  1.  2.  4. nan nan]\n198\n[ 6.  3.  0.  5. nan nan] [ 2.  1.  5.  0. nan nan nan]\n199\n[ 3.  0.  4. nan nan nan] [ 4.  5.  1. nan nan nan]\n200\n[ 2.  0.  5.  4. nan nan] [ 1.  4.  5.  2. nan nan nan]\n201\n[ 3.  0.  2.  4. nan nan] [ 5.  2.  3.  1. nan nan]\n202\n[ 1.  4.  2.  0. nan nan] [ 3.  4.  2.  1. nan nan]\n203\n[ 0.  2.  5.  4. nan nan] [ 1.  2.  4.  5. nan nan]\n204\n[ 2.  0.  3. nan nan nan] [ 0.  1.  2. nan nan nan nan]\n205\n[ 1.  3.  5. nan nan nan] [ 0.  2.  5. nan nan nan]\n206\n[ 0.  2.  3. nan nan nan] [ 5.  1.  2. nan nan nan]\n207\n[ 7.  1.  5. nan nan nan] [ 1.  2.  4. nan nan nan nan nan]\n208\n[ 0.  1.  2.  3. nan nan] [ 5.  1.  2.  4. nan nan]\n209\n[ 7.  1.  0. nan nan nan] [ 1.  2.  4. nan nan nan nan nan nan nan]\n210\n[ 1.  0.  2. nan nan nan] [ 2.  4.  1. nan nan nan]\n211\n[ 2.  1.  3. nan nan nan] [ 2.  1.  4. nan nan nan nan]\n212\n[ 5.  2.  0.  3. nan nan] [ 4.  5.  2.  1. nan nan]\n213\n[ 3.  2.  5.  4. nan nan] [ 5.  4.  2.  1. nan nan]\n214\n[ 1.  0.  6.  4. nan nan] [ 5.  1.  4.  2. nan nan nan]\n215\n[ 6.  3.  4.  1. nan nan] [ 2.  1.  4.  5. nan nan nan]\n216\n[ 1.  4.  6.  3. nan nan] [ 1.  4.  5.  2. nan nan nan nan]\n217\n[ 0.  1.  4. nan nan nan] [ 1.  2.  5. nan nan nan]\n218\n[ 1.  2.  5. nan nan nan] [ 0.  5.  2. nan nan nan nan]\n219\n[ 2.  4.  1.  0. nan nan] [ 2.  1.  4.  5. nan nan]\n220\n[ 2.  3. nan nan nan nan] [ 5.  2. nan nan nan nan]\n221\n[ 0.  1.  3.  2. nan nan] [ 4.  2.  3.  5. nan nan]\n222\n[ 3.  2. nan nan nan nan] [ 5.  4. nan nan nan nan]\n223\n[ 1.  6.  2. nan nan nan] [ 2.  4.  0. nan nan nan nan nan nan]\n224\n[ 1.  3.  5.  0. nan nan] [ 5.  1.  2.  4. nan nan]\n225\n[ 1.  2.  3. nan nan nan] [ 4.  1.  2. nan nan nan nan]\n226\n[ 5.  3.  4. nan nan nan] [ 2.  5.  1. nan nan nan]\n227\n[ 0.  3.  5.  1. nan nan] [ 2.  5.  1.  4. nan nan nan]\n228\n[ 2.  1. nan nan nan nan] [ 4.  5. nan nan nan nan]\n229\n[ 1.  5.  0.  2. nan nan] [ 3.  2.  5.  1. nan nan nan]\n230\n[ 1.  0.  2. nan nan nan] [ 4.  1.  5. nan nan nan]\n231\n[ 2.  3.  5.  4. nan nan] [ 2.  1.  0.  5. nan nan nan]\n232\n[ 5.  2. nan nan nan nan] [ 2.  4. nan nan nan nan]\n233\n[ 3.  2.  1. nan nan nan] [ 5.  4.  1. nan nan nan]\n234\n[ 1.  0.  2.  3. nan nan] [ 2.  5.  1.  3. nan nan]\n235\n[ 1.  2.  3.  4. nan nan] [ 4.  2.  1.  5. nan nan nan]\n236\n[ 1.  4. nan nan nan nan] [ 1.  4. nan nan nan nan]\n237\n[ 1.  4.  0. nan nan nan] [ 4.  5.  1. nan nan nan nan]\n238\n[ 3.  2.  1.  6. nan nan] [ 5.  0.  4.  2. nan nan nan nan]\n239\n[ 0.  2. nan nan nan nan] [ 4.  2. nan nan nan nan nan]\n240\n[ 1.  5.  3.  6. nan nan] [ 5.  2.  1.  4. nan nan nan]\n241\n[ 3.  5.  4. nan nan nan] [ 5.  1.  2. nan nan nan nan]\n242\n[ 5.  1.  0. nan nan nan] [ 5.  1.  2. nan nan nan]\n243\n[ 1.  4.  2. nan nan nan] [ 1.  4.  5. nan nan nan nan]\n244\n[ 2.  3.  1.  6. nan nan] [ 2.  4.  1.  5. nan nan nan]\n245\n[ 4.  0.  5.  2. nan nan] [ 1.  2.  4.  5. nan nan nan]\n246\n[ 0.  4. nan nan nan nan] [ 5.  4. nan nan nan nan]\n247\n[ 3.  5.  0.  4. nan nan] [ 1.  4.  5.  2. nan nan nan]\n248\n[ 1.  3.  5. nan nan nan] [ 5.  4.  2. nan nan nan]\n249\n[ 4.  1. nan nan nan nan] [ 4.  1. nan nan nan nan nan]\n250\n[ 1.  0.  3. nan nan nan] [ 2.  5.  4. nan nan nan]\n251\n[ 4.  3.  6.  5. nan nan] [ 4.  2.  5.  1. nan nan nan]\n252\n[ 1.  2.  0.  3. nan nan] [ 4.  1.  5.  2. nan nan nan]\n253\n[ 2.  0.  3.  6. nan nan] [ 2.  4.  1.  5. nan nan nan]\n254\n[ 2.  5.  0.  4.  6. nan] [ 1.  4.  3.  2.  0. nan nan]\n255\n[ 3.  1.  4.  5.  2. nan] [ 4.  0.  2.  5.  1. nan]\n256\n[ 0.  3.  1.  5. nan nan] [ 5.  2.  4.  3. nan nan nan]\n257\n[ 1.  2. nan nan nan nan] [ 2.  1. nan nan nan nan]\n258\n[ 1.  2.  3. nan nan nan] [ 2.  4.  5. nan nan nan]\n259\n[ 6.  4.  2.  5. nan nan] [ 1.  5.  4.  2. nan nan nan]\n260\n[ 0.  3.  1. nan nan nan] [ 2.  5.  4. nan nan nan nan nan]\n261\n[ 3.  1. nan nan nan nan] [ 4.  1. nan nan nan nan]\n262\n[ 2.  0.  3.  1. nan nan] [ 2.  1.  5.  4. nan nan]\n263\n[ 4.  2.  5.  6. nan nan] [ 1.  4.  2.  5. nan nan nan]\n264\n[ 3.  1.  2. nan nan nan] [ 5.  1.  4. nan nan nan]\n265\n[ 1.  3.  2. nan nan nan] [ 4.  2.  1. nan nan nan]\n266\n[ 1.  0.  2. nan nan nan] [ 1.  4.  2. nan nan nan nan]\n267\n[ 6.  3.  5.  8. nan nan] [ 1.  5.  4.  2. nan nan nan nan nan nan]\n268\n[ 3.  0.  4. nan nan nan] [ 5.  1.  2. nan nan nan]\n269\n[ 2.  3.  4. nan nan nan] [ 1.  4.  0. nan nan nan nan nan]\n270\n[ 1.  3.  0. nan nan nan] [ 2.  1.  5. nan nan nan nan]\n271\n[ 5.  3.  0.  4. nan nan] [ 5.  2.  1.  4. nan nan]\n272\n[ 3.  0.  5. nan nan nan] [ 5.  2.  4. nan nan nan nan]\n273\n[ 2.  0.  5. nan nan nan] [ 1.  2.  5. nan nan nan]\n274\n[ 4.  0.  3.  5. nan nan] [ 1.  4.  2.  5. nan nan nan]\n275\n[ 1.  0.  3. nan nan nan] [ 5.  4.  2. nan nan nan]\n276\n[ 5.  3.  4.  1. nan nan] [ 5.  2.  1.  4. nan nan]\n277\n[ 4.  0. nan nan nan nan] [ 2.  1. nan nan nan nan]\n278\n[ 3.  4.  5.  2.  1. nan] [ 4.  2.  5.  0.  1. nan]\n279\n[ 2.  4.  1.  3. nan nan] [ 4.  5.  1.  2. nan nan]\n280\n[ 0.  4.  3.  2. nan nan] [ 1.  5.  2.  0. nan nan]\n281\n[ 4.  3.  2.  5. nan nan] [ 1.  2.  4.  5. nan nan]\n282\n[ 2.  1.  4. nan nan nan] [ 1.  5.  4. nan nan nan]\n283\n[ 0.  2.  1. nan nan nan] [ 1.  2.  4. nan nan nan]\n284\n[ 3.  1.  2.  4. nan nan] [ 2.  5.  1.  4. nan nan]\n285\n[ 2.  3.  1. nan nan nan] [ 2.  1.  4. nan nan nan]\n286\n[ 2. nan nan nan nan nan] [ 3. nan nan nan nan nan]\n287\n[ 0. nan nan nan nan nan] [ 5. nan nan nan nan nan]\n288\n[ 3.  1.  6.  4. nan nan] [ 5.  1.  2.  4. nan nan nan]\n289\n[ 1.  4.  6. nan nan nan] [ 4.  2.  1. nan nan nan nan]\n290\n[ 4.  3.  2. nan nan nan] [ 0.  5.  4. nan nan nan]\n291\n[ 0.  2.  3. nan nan nan] [ 1.  4.  2. nan nan nan]\n292\n[ 5.  0.  1.  2. nan nan] [ 2.  1.  4.  5. nan nan]\n293\n[ 1.  5.  3. nan nan nan] [ 5.  1.  4. nan nan nan]\n294\n[ 5.  0.  4.  2.  1. nan] [ 5.  0.  1.  4.  2. nan]\n295\n[ 0.  4.  1. nan nan nan] [ 5.  2.  1. nan nan nan nan nan]\n296\n[ 5.  4.  0.  3.  1. nan] [ 2.  4.  5.  1.  0. nan]\n297\n[ 0.  2.  1. nan nan nan] [ 1.  2.  4. nan nan nan]\n298\n[ 4.  1.  3. nan nan nan] [ 1.  5.  2. nan nan nan]\n299\n[ 3. nan nan nan nan nan] [ 2. nan nan nan nan nan]\n300\n[ 1.  2.  3.  6. nan nan] [ 0.  5.  4.  2. nan nan nan nan nan]\n301\n[ 5.  1.  3.  2. nan nan] [ 5.  4.  2.  1. nan nan]\n302\n[ 0.  3.  5. nan nan nan] [ 0.  2.  4. nan nan nan]\n303\n[ 2.  3.  5. nan nan nan] [ 1.  2.  5. nan nan nan nan nan nan]\n304\n[ 6.  5.  3. nan nan nan] [ 1.  0.  4. nan nan nan nan nan]\n305\n[ 4.  3.  0. nan nan nan] [ 1.  2.  4. nan nan nan]\n306\n[ 4. nan nan nan nan nan] [ 0. nan nan nan nan nan nan]\n307\n[ 3.  2.  0. nan nan nan] [ 5.  4.  1. nan nan nan]\n308\n[ 0.  2.  6. nan nan nan] [ 1.  5.  2. nan nan nan nan]\n309\n[ 1.  0.  6. nan nan nan] [ 2.  1.  5. nan nan nan nan nan]\n310\n[ 1.  2.  0.  3. nan nan] [ 4.  5.  0.  1. nan nan]\n311\n[ 1.  3.  4.  5. nan nan] [ 5.  1.  2.  4. nan nan]\n312\n[ 1.  4.  0. nan nan nan] [ 0.  1.  2. nan nan nan]\n313\n[ 1.  4. nan nan nan nan] [ 4.  5. nan nan nan nan]\n314\n[ 1.  0.  4.  3. nan nan] [ 5.  4.  2.  1. nan nan]\n315\n[ 2.  0.  3. nan nan nan] [ 4.  5.  2. nan nan nan]\n316\n[ 5.  2.  1. nan nan nan] [ 1.  4.  5. nan nan nan]\n317\n[ 3.  0.  4. nan nan nan] [ 1.  4.  5. nan nan nan]\n318\n[ 1.  2.  6.  4.  3. nan] [ 1.  2.  4.  5.  0. nan nan nan]\n319\n[ 3.  2.  5. nan nan nan] [ 2.  4.  5. nan nan nan nan nan]\n320\n[ 2.  0.  1.  5. nan nan] [ 1.  2.  5.  4. nan nan]\n321\n[ 5.  0.  4. nan nan nan] [ 4.  5.  2. nan nan nan]\n322\n[ 2.  3.  0. nan nan nan] [ 2.  4.  1. nan nan nan]\n323\n[ 5.  0.  2.  3. nan nan] [ 1.  5.  4.  2. nan nan nan]\n324\n[ 2.  4.  0.  3.  9. nan] [ 1.  4.  3.  2.  5. nan nan nan nan nan]\n325\n[ 2.  7.  3. nan nan nan] [ 4.  1.  3. nan nan nan nan nan nan]\n326\n[ 5.  2.  0. nan nan nan] [ 1.  5.  2. nan nan nan nan nan]\n327\n[ 0.  2. nan nan nan nan] [ 2.  1. nan nan nan nan]\n328\n[ 1.  2.  5. nan nan nan] [ 5.  2.  4. nan nan nan]\n329\n[ 3.  2. nan nan nan nan] [ 5.  4. nan nan nan nan]\n330\n[ 1.  0.  4.  5.  2. nan] [ 2.  5.  4.  1.  0. nan]\n"
    }
   ],
   "source": [
    "for i in range(len(parton_pdgid)):\n",
    "    print(i)\n",
    "    array = np.reshape(dR_between_parton_jet[i], [6, len(jet_pt[i])])\n",
    "    print(matching_parton[i], matching_jet[i])"
   ]
  },
  {
   "cell_type": "code",
   "execution_count": 30,
   "metadata": {},
   "outputs": [
    {
     "output_type": "execute_result",
     "data": {
      "text/plain": "array([ 0.,  2.,  1., nan, nan, nan])"
     },
     "metadata": {},
     "execution_count": 30
    }
   ],
   "source": [
    "matching_parton[8]"
   ]
  },
  {
   "cell_type": "code",
   "execution_count": 31,
   "metadata": {},
   "outputs": [
    {
     "output_type": "execute_result",
     "data": {
      "text/plain": "array([ 5.,  1.,  2., nan, nan, nan])"
     },
     "metadata": {},
     "execution_count": 31
    }
   ],
   "source": [
    "matching_jet[8]"
   ]
  },
  {
   "cell_type": "code",
   "execution_count": 32,
   "metadata": {},
   "outputs": [
    {
     "output_type": "stream",
     "name": "stdout",
     "text": "2.8501988986756905\n          0         1         2         3         4         5\n0  2.527664  1.550602  2.080218  1.899760  1.893364  0.046563\n1  1.564013  1.640409  0.180967  2.850199  1.096430  2.198584\n2  2.801638  0.125186  1.368966  2.824661  0.580109  1.437385\n3  1.882490  1.198073  0.273169  2.973053  0.687879  1.875009\n4  3.506713  4.839982  4.298667  4.529254  4.844028  3.544244\n5  1.600575  3.969284  2.907043  2.769274  3.664835  2.463019\n0 5\n3.5442439026860812\n"
    }
   ],
   "source": [
    "array = np.reshape(dR_between_parton_jet[8], [6, len(jet_pt[8])])\n",
    "print(array[3,1])\n",
    "dataset = pd.DataFrame({'0': array[0,:], \n",
    "                                '1': array[1,:],\n",
    "                                '2': array[2,:],\n",
    "                                '3': array[3,:],\n",
    "                                '4': array[4,:],\n",
    "                                '5': array[5,:],\n",
    "                                })\n",
    "print(dataset)\n",
    "min_idx, min_col = dataset.stack().idxmin()\n",
    "print(min_idx, min_col)\n",
    "print(dataset.iloc[4, 5])"
   ]
  },
  {
   "cell_type": "code",
   "execution_count": 33,
   "metadata": {},
   "outputs": [],
   "source": [
    "parton_jet_index = np.zeros([len(parton_pdgid), 6])\n",
    "jet_parton_index = []\n",
    "np.zeros([len(parton_pdgid), 6])\n",
    "for i in range(len(parton_pdgid)):\n",
    "    jet_parton_index.append(np.zeros([len(jet_pt[i])]))\n",
    "\n",
    "\n",
    "for i in range(len(parton_pdgid)):\n",
    "    for j in range(0,6):\n",
    "        parton_jet_index[i][j] = matching_parton[i][j]\n",
    "    for k in range(len(jet_pt[i])):\n",
    "        jet_parton_index[i][k] = matching_jet[i][k]"
   ]
  },
  {
   "cell_type": "code",
   "execution_count": 34,
   "metadata": {},
   "outputs": [
    {
     "output_type": "stream",
     "name": "stderr",
     "text": "/usr/local/lib/python3.6/site-packages/ipykernel_launcher.py:5: VisibleDeprecationWarning: Creating an ndarray from ragged nested sequences (which is a list-or-tuple of lists-or-tuples-or ndarrays with different lengths or shapes) is deprecated. If you meant to do this, you must specify 'dtype=object' when creating the ndarray\n  \"\"\"\n"
    }
   ],
   "source": [
    "jet_barcode = []\n",
    "for i in range(len(parton_pdgid)):\n",
    "    jet_barcode.append(np.zeros([len(jet_pt[i])]))\n",
    "\n",
    "jet_barcode = np.array(jet_barcode)\n",
    "\n",
    "for i in range(len(parton_pdgid)):\n",
    "    for j in range(len(jet_parton_index[i])):\n",
    "        if jet_parton_index[i][j] == 0:\n",
    "            jet_barcode[i][j] = barcode[0]\n",
    "        elif jet_parton_index[i][j] == 1: \n",
    "            jet_barcode[i][j] = barcode[1]\n",
    "        elif jet_parton_index[i][j] == 2: \n",
    "            jet_barcode[i][j] = barcode[2]\n",
    "        elif jet_parton_index[i][j] == 3: \n",
    "            jet_barcode[i][j] = barcode[3]\n",
    "        elif jet_parton_index[i][j] == 4: \n",
    "            jet_barcode[i][j] = barcode[4]\n",
    "        elif jet_parton_index[i][j] == 5: \n",
    "            jet_barcode[i][j] = barcode[5]\n",
    "        else :\n",
    "            jet_barcode[i][j] = 'Nan'\n"
   ]
  },
  {
   "cell_type": "code",
   "execution_count": 35,
   "metadata": {},
   "outputs": [
    {
     "output_type": "execute_result",
     "data": {
      "text/plain": "array([20., 40., 40., nan, nan, nan])"
     },
     "metadata": {},
     "execution_count": 35
    }
   ],
   "source": [
    "jet_barcode[8]"
   ]
  },
  {
   "source": [
    "## Saved selected events\n",
    "---"
   ],
   "cell_type": "markdown",
   "metadata": {}
  },
  {
   "cell_type": "code",
   "execution_count": 36,
   "metadata": {},
   "outputs": [],
   "source": [
    "lene = len(parton_pdgid)\n",
    "#Save the event which pass the selection\n",
    "with h5py.File(\"./event_record_pptt_10k_new.h5\",'w') as f:\n",
    "    dt = h5py.vlen_dtype(np.dtype('int32'))\n",
    "\n",
    "    hdf5_jet_parton_index = f.create_dataset('jet_parton_index', (lene, ), dtype=dt)\n",
    "    hdf5_jet_barcode = f.create_dataset('jet_barcode', (lene, ), dtype=dt)\n",
    "    hdf5_jet_pt = f.create_dataset('jet_pt', (lene, ), dtype=dt)\n",
    "    hdf5_jet_eta = f.create_dataset('jet_eta', (lene, ), dtype=dt)\n",
    "    hdf5_jet_phi = f.create_dataset('jet_phi', (lene, ), dtype=dt)\n",
    "    hdf5_jet_mass = f.create_dataset('jet_mass', (lene, ), dtype=dt)\n",
    "    hdf5_jet_btag = f.create_dataset('jet_btag', (lene, ), dtype=dt)\n",
    "\n",
    "    for i in range(lene):\n",
    "        hdf5_jet_parton_index[i] = jet_parton_index[i]\n",
    "        hdf5_jet_barcode[i] = jet_barcode[i]\n",
    "        hdf5_jet_pt[i] = jet_pt[i]\n",
    "        hdf5_jet_eta[i] = jet_eta[i]\n",
    "        hdf5_jet_phi[i] = jet_phi[i]\n",
    "        hdf5_jet_mass[i] = jet_mass[i]\n",
    "        hdf5_jet_btag[i] = jet_btag[i]\n",
    "\n",
    "    hdf5_parton_jet_index = f.create_dataset('parton_jet_index', (lene, ), dtype=dt)\n",
    "    hdf5_parton_pdgid = f.create_dataset('parton_pdgid', (lene, ), dtype=dt)\n",
    "    hdf5_parton_barcode = f.create_dataset('parton_barcode', (lene, ), dtype=dt)\n",
    "    hdf5_parton_pt = f.create_dataset('parton_pt', (lene, ), dtype=dt)\n",
    "    hdf5_parton_eta = f.create_dataset('parton_eta', (lene, ), dtype=dt)\n",
    "    hdf5_parton_phi = f.create_dataset('parton_phi', (lene, ), dtype=dt)\n",
    "    hdf5_parton_mass = f.create_dataset('parton_mass', (lene, ), dtype=dt)\n",
    "\n",
    "    for i in range(lene):\n",
    "        hdf5_parton_jet_index[i] = parton_jet_index[i]\n",
    "        hdf5_parton_pdgid[i] = parton_pdgid[i]\n",
    "        hdf5_parton_barcode[i] = parton_barcode[i]\n",
    "        hdf5_parton_pt[i] = parton_pt[i]\n",
    "        hdf5_parton_eta[i] = parton_eta[i]\n",
    "        hdf5_parton_phi[i] = parton_phi[i]\n",
    "        hdf5_parton_mass[i] = parton_mass[i]\n",
    "    "
   ]
  }
 ],
 "metadata": {
  "kernelspec": {
   "display_name": "Python 3.6.8 64-bit",
   "language": "python",
   "name": "python36864bit4c80ea5ac4e54d55aebdc14f7f73d90c"
  },
  "language_info": {
   "codemirror_mode": {
    "name": "ipython",
    "version": 3
   },
   "file_extension": ".py",
   "mimetype": "text/x-python",
   "name": "python",
   "nbconvert_exporter": "python",
   "pygments_lexer": "ipython3",
   "version": "3.6.8-final"
  }
 },
 "nbformat": 4,
 "nbformat_minor": 4
}