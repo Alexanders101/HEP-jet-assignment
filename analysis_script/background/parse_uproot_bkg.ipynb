{
 "cells": [
  {
   "cell_type": "code",
   "execution_count": 5,
   "metadata": {},
   "outputs": [],
   "source": [
    "from particle_properties_uproot import particle_properties\n",
    "from jet_properties_uproot import jet_properties\n",
    "import uproot, h5py, sys, tqdm, time\n",
    "import numpy as np \n",
    "import pandas as pd  "
   ]
  },
  {
   "cell_type": "code",
   "execution_count": 10,
   "metadata": {
    "tags": [
     "outputPrepend",
     "outputPrepend"
    ]
   },
   "outputs": [
    {
     "output_type": "stream",
     "name": "stderr",
     "text": "            TStreamerBasicType         asjagged(asdtype('>u4'))\nTower.fBits                TStreamerBasicType         asjagged(asdtype('>u4'))\nTower.ET                   TStreamerBasicType         asjagged(asdtype('>f4'))\nTower.Eta                  TStreamerBasicType         asjagged(asdtype('>f4'))\nTower.Phi                  TStreamerBasicType         asjagged(asdtype('>f4'))\nTower.E                    TStreamerBasicType         asjagged(asdtype('>f4'))\nTower.T                    TStreamerBasicType         asjagged(asdtype('>f4'))\nTower.NTimeHits            TStreamerBasicType         asjagged(asdtype('>i4'))\nTower.Eem                  TStreamerBasicType         asjagged(asdtype('>f4'))\nTower.Ehad                 TStreamerBasicType         asjagged(asdtype('>f4'))\nTower.Edges[4]             TStreamerBasicType         asjagged(asdtype(\"('>f4', (4,))\"))\nTower.Particles            TStreamerInfo              asgenobj(SimpleArray(TRefArray))\n\nTower_size                 (no streamer)              asdtype('>i4')\nEFlowTrack                 TStreamerInfo              asdtype('>i4')\nEFlowTrack.fUniqueID       TStreamerBasicType         asjagged(asdtype('>u4'))\nEFlowTrack.fBits           TStreamerBasicType         asjagged(asdtype('>u4'))\nEFlowTrack.PID             TStreamerBasicType         asjagged(asdtype('>i4'))\nEFlowTrack.Charge          TStreamerBasicType         asjagged(asdtype('>i4'))\nEFlowTrack.P               TStreamerBasicType         asjagged(asdtype('>f4'))\nEFlowTrack.PT              TStreamerBasicType         asjagged(asdtype('>f4'))\nEFlowTrack.Eta             TStreamerBasicType         asjagged(asdtype('>f4'))\nEFlowTrack.Phi             TStreamerBasicType         asjagged(asdtype('>f4'))\nEFlowTrack.CtgTheta        TStreamerBasicType         asjagged(asdtype('>f4'))\nEFlowTrack.EtaOuter        TStreamerBasicType         asjagged(asdtype('>f4'))\nEFlowTrack.PhiOuter        TStreamerBasicType         asjagged(asdtype('>f4'))\nEFlowTrack.T               TStreamerBasicType         asjagged(asdtype('>f4'))\nEFlowTrack.X               TStreamerBasicType         asjagged(asdtype('>f4'))\nEFlowTrack.Y               TStreamerBasicType         asjagged(asdtype('>f4'))\nEFlowTrack.Z               TStreamerBasicType         asjagged(asdtype('>f4'))\nEFlowTrack.TOuter          TStreamerBasicType         asjagged(asdtype('>f4'))\nEFlowTrack.XOuter          TStreamerBasicType         asjagged(asdtype('>f4'))\nEFlowTrack.YOuter          TStreamerBasicType         asjagged(asdtype('>f4'))\nEFlowTrack.ZOuter          TStreamerBasicType         asjagged(asdtype('>f4'))\nEFlowTrack.Xd              TStreamerBasicType         asjagged(asdtype('>f4'))\nEFlowTrack.Yd              TStreamerBasicType         asjagged(asdtype('>f4'))\nEFlowTrack.Zd              TStreamerBasicType         asjagged(asdtype('>f4'))\nEFlowTrack.L               TStreamerBasicType         asjagged(asdtype('>f4'))\nEFlowTrack.D0              TStreamerBasicType         asjagged(asdtype('>f4'))\nEFlowTrack.DZ              TStreamerBasicType         asjagged(asdtype('>f4'))\nEFlowTrack.ErrorP          TStreamerBasicType         asjagged(asdtype('>f4'))\nEFlowTrack.ErrorPT         TStreamerBasicType         asjagged(asdtype('>f4'))\nEFlowTrack.ErrorPhi        TStreamerBasicType         asjagged(asdtype('>f4'))\nEFlowTrack.ErrorCtgTheta   TStreamerBasicType         asjagged(asdtype('>f4'))\nEFlowTrack.ErrorT          TStreamerBasicType         asjagged(asdtype('>f4'))\nEFlowTrack.ErrorD0         TStreamerBasicType         asjagged(asdtype('>f4'))\nEFlowTrack.ErrorDZ         TStreamerBasicType         asjagged(asdtype('>f4'))\nEFlowTrack.Particle        TStreamerInfo              asjagged(asobj(<uproot.rootio.TRef>))\nEFlowTrack.VertexIndex     TStreamerBasicType         asjagged(asdtype('>i4'))\n\nEFlowTrack_size            (no streamer)              asdtype('>i4')\nEFlowPhoton                TStreamerInfo              asdtype('>i4')\nEFlowPhoton.fUniqueID      TStreamerBasicType         asjagged(asdtype('>u4'))\nEFlowPhoton.fBits          TStreamerBasicType         asjagged(asdtype('>u4'))\nEFlowPhoton.ET             TStreamerBasicType         asjagged(asdtype('>f4'))\nEFlowPhoton.Eta            TStreamerBasicType         asjagged(asdtype('>f4'))\nEFlowPhoton.Phi            TStreamerBasicType         asjagged(asdtype('>f4'))\nEFlowPhoton.E              TStreamerBasicType         asjagged(asdtype('>f4'))\nEFlowPhoton.T              TStreamerBasicType         asjagged(asdtype('>f4'))\nEFlowPhoton.NTimeHits      TStreamerBasicType         asjagged(asdtype('>i4'))\nEFlowPhoton.Eem            TStreamerBasicType         asjagged(asdtype('>f4'))\nEFlowPhoton.Ehad           TStreamerBasicType         asjagged(asdtype('>f4'))\nEFlowPhoton.Edges[4]       TStreamerBasicType         asjagged(asdtype(\"('>f4', (4,))\"))\nEFlowPhoton.Particles      TStreamerInfo              asgenobj(SimpleArray(TRefArray))\n\nEFlowPhoton_size           (no streamer)              asdtype('>i4')\nEFlowNeutralHadron         TStreamerInfo              asdtype('>i4')\nEFlowNeutralHadron.fUniqueID\n                           TStreamerBasicType         asjagged(asdtype('>u4'))\nEFlowNeutralHadron.fBits   TStreamerBasicType         asjagged(asdtype('>u4'))\nEFlowNeutralHadron.ET      TStreamerBasicType         asjagged(asdtype('>f4'))\nEFlowNeutralHadron.Eta     TStreamerBasicType         asjagged(asdtype('>f4'))\nEFlowNeutralHadron.Phi     TStreamerBasicType         asjagged(asdtype('>f4'))\nEFlowNeutralHadron.E       TStreamerBasicType         asjagged(asdtype('>f4'))\nEFlowNeutralHadron.T       TStreamerBasicType         asjagged(asdtype('>f4'))\nEFlowNeutralHadron.NTimeHits\n                           TStreamerBasicType         asjagged(asdtype('>i4'))\nEFlowNeutralHadron.Eem     TStreamerBasicType         asjagged(asdtype('>f4'))\nEFlowNeutralHadron.Ehad    TStreamerBasicType         asjagged(asdtype('>f4'))\nEFlowNeutralHadron.Edges[4]\n                           TStreamerBasicType         asjagged(asdtype(\"('>f4', (4,))\"))\nEFlowNeutralHadron.Particles\n                           TStreamerInfo              asgenobj(SimpleArray(TRefArray))\n\nEFlowNeutralHadron_size    (no streamer)              asdtype('>i4')\nGenJet                     TStreamerInfo              asdtype('>i4')\nGenJet.fUniqueID           TStreamerBasicType         asjagged(asdtype('>u4'))\nGenJet.fBits               TStreamerBasicType         asjagged(asdtype('>u4'))\nGenJet.PT                  TStreamerBasicType         asjagged(asdtype('>f4'))\nGenJet.Eta                 TStreamerBasicType         asjagged(asdtype('>f4'))\nGenJet.Phi                 TStreamerBasicType         asjagged(asdtype('>f4'))\nGenJet.T                   TStreamerBasicType         asjagged(asdtype('>f4'))\nGenJet.Mass                TStreamerBasicType         asjagged(asdtype('>f4'))\nGenJet.DeltaEta            TStreamerBasicType         asjagged(asdtype('>f4'))\nGenJet.DeltaPhi            TStreamerBasicType         asjagged(asdtype('>f4'))\nGenJet.Flavor              TStreamerBasicType         asjagged(asdtype('>u4'))\nGenJet.FlavorAlgo          TStreamerBasicType         asjagged(asdtype('>u4'))\nGenJet.FlavorPhys          TStreamerBasicType         asjagged(asdtype('>u4'))\nGenJet.BTag                TStreamerBasicType         asjagged(asdtype('>u4'))\nGenJet.BTagAlgo            TStreamerBasicType         asjagged(asdtype('>u4'))\nGenJet.BTagPhys            TStreamerBasicType         asjagged(asdtype('>u4'))\nGenJet.TauTag              TStreamerBasicType         asjagged(asdtype('>u4'))\nGenJet.TauWeight           TStreamerBasicType         asjagged(asdtype('>f4'))\nGenJet.Charge              TStreamerBasicType         asjagged(asdtype('>i4'))\nGenJet.EhadOverEem         TStreamerBasicType         asjagged(asdtype('>f4'))\nGenJet.NCharged            TStreamerBasicType         asjagged(asdtype('>i4'))\nGenJet.NNeutrals           TStreamerBasicType         asjagged(asdtype('>i4'))\nGenJet.Beta                TStreamerBasicType         asjagged(asdtype('>f4'))\nGenJet.BetaStar            TStreamerBasicType         asjagged(asdtype('>f4'))\nGenJet.MeanSqDeltaR        TStreamerBasicType         asjagged(asdtype('>f4'))\nGenJet.PTD                 TStreamerBasicType         asjagged(asdtype('>f4'))\nGenJet.FracPt[5]           TStreamerBasicType         asjagged(asdtype(\"('>f4', (5,))\"))\nGenJet.Tau[5]              TStreamerBasicType         asjagged(asdtype(\"('>f4', (5,))\"))\nGenJet.SoftDroppedJet      TStreamerInfo              asjagged(asobj(<uproot_methods.classes.TLorentzVector.Methods>))\nGenJet.SoftDroppedSubJet1  TStreamerInfo              asjagged(asobj(<uproot_methods.classes.TLorentzVector.Methods>))\nGenJet.SoftDroppedSubJet2  TStreamerInfo              asjagged(asobj(<uproot_methods.classes.TLorentzVector.Methods>))\nGenJet.TrimmedP4[5]        TStreamerInfo              asjagged(asobj(<uproot_methods.classes.TLorentzVector.Methods>))\nGenJet.PrunedP4[5]         TStreamerInfo              asjagged(asobj(<uproot_methods.classes.TLorentzVector.Methods>))\nGenJet.SoftDroppedP4[5]    TStreamerInfo              asjagged(asobj(<uproot_methods.classes.TLorentzVector.Methods>))\nGenJet.NSubJetsTrimmed     TStreamerBasicType         asjagged(asdtype('>i4'))\nGenJet.NSubJetsPruned      TStreamerBasicType         asjagged(asdtype('>i4'))\nGenJet.NSubJetsSoftDropped TStreamerBasicType         asjagged(asdtype('>i4'))\nGenJet.ExclYmerge23        TStreamerBasicType         asjagged(asdtype('>f8'))\nGenJet.ExclYmerge34        TStreamerBasicType         asjagged(asdtype('>f8'))\nGenJet.ExclYmerge45        TStreamerBasicType         asjagged(asdtype('>f8'))\nGenJet.ExclYmerge56        TStreamerBasicType         asjagged(asdtype('>f8'))\nGenJet.Constituents        TStreamerInfo              asgenobj(SimpleArray(TRefArray))\nGenJet.Particles           TStreamerInfo              asgenobj(SimpleArray(TRefArray))\nGenJet.Area                TStreamerInfo              asjagged(asobj(<uproot_methods.classes.TLorentzVector.Methods>))\n\nGenJet_size                (no streamer)              asdtype('>i4')\nGenMissingET               TStreamerInfo              asdtype('>i4')\nGenMissingET.fUniqueID     TStreamerBasicType         asjagged(asdtype('>u4'))\nGenMissingET.fBits         TStreamerBasicType         asjagged(asdtype('>u4'))\nGenMissingET.MET           TStreamerBasicType         asjagged(asdtype('>f4'))\nGenMissingET.Eta           TStreamerBasicType         asjagged(asdtype('>f4'))\nGenMissingET.Phi           TStreamerBasicType         asjagged(asdtype('>f4'))\n\nGenMissingET_size          (no streamer)              asdtype('>i4')\nJet                        TStreamerInfo              asdtype('>i4')\nJet.fUniqueID              TStreamerBasicType         asjagged(asdtype('>u4'))\nJet.fBits                  TStreamerBasicType         asjagged(asdtype('>u4'))\nJet.PT                     TStreamerBasicType         asjagged(asdtype('>f4'))\nJet.Eta                    TStreamerBasicType         asjagged(asdtype('>f4'))\nJet.Phi                    TStreamerBasicType         asjagged(asdtype('>f4'))\nJet.T                      TStreamerBasicType         asjagged(asdtype('>f4'))\nJet.Mass                   TStreamerBasicType         asjagged(asdtype('>f4'))\nJet.DeltaEta               TStreamerBasicType         asjagged(asdtype('>f4'))\nJet.DeltaPhi               TStreamerBasicType         asjagged(asdtype('>f4'))\nJet.Flavor                 TStreamerBasicType         asjagged(asdtype('>u4'))\nJet.FlavorAlgo             TStreamerBasicType         asjagged(asdtype('>u4'))\nJet.FlavorPhys             TStreamerBasicType         asjagged(asdtype('>u4'))\nJet.BTag                   TStreamerBasicType         asjagged(asdtype('>u4'))\nJet.BTagAlgo               TStreamerBasicType         asjagged(asdtype('>u4'))\nJet.BTagPhys               TStreamerBasicType         asjagged(asdtype('>u4'))\nJet.TauTag                 TStreamerBasicType         asjagged(asdtype('>u4'))\nJet.TauWeight              TStreamerBasicType         asjagged(asdtype('>f4'))\nJet.Charge                 TStreamerBasicType         asjagged(asdtype('>i4'))\nJet.EhadOverEem            TStreamerBasicType         asjagged(asdtype('>f4'))\nJet.NCharged               TStreamerBasicType         asjagged(asdtype('>i4'))\nJet.NNeutrals              TStreamerBasicType         asjagged(asdtype('>i4'))\nJet.Beta                   TStreamerBasicType         asjagged(asdtype('>f4'))\nJet.BetaStar               TStreamerBasicType         asjagged(asdtype('>f4'))\nJet.MeanSqDeltaR           TStreamerBasicType         asjagged(asdtype('>f4'))\nJet.PTD                    TStreamerBasicType         asjagged(asdtype('>f4'))\nJet.FracPt[5]              TStreamerBasicType         asjagged(asdtype(\"('>f4', (5,))\"))\nJet.Tau[5]                 TStreamerBasicType         asjagged(asdtype(\"('>f4', (5,))\"))\nJet.SoftDroppedJet         TStreamerInfo              asjagged(asobj(<uproot_methods.classes.TLorentzVector.Methods>))\nJet.SoftDroppedSubJet1     TStreamerInfo              asjagged(asobj(<uproot_methods.classes.TLorentzVector.Methods>))\nJet.SoftDroppedSubJet2     TStreamerInfo              asjagged(asobj(<uproot_methods.classes.TLorentzVector.Methods>))\nJet.TrimmedP4[5]           TStreamerInfo              asjagged(asobj(<uproot_methods.classes.TLorentzVector.Methods>))\nJet.PrunedP4[5]            TStreamerInfo              asjagged(asobj(<uproot_methods.classes.TLorentzVector.Methods>))\nJet.SoftDroppedP4[5]       TStreamerInfo              asjagged(asobj(<uproot_methods.classes.TLorentzVector.Methods>))\nJet.NSubJetsTrimmed        TStreamerBasicType         asjagged(asdtype('>i4'))\nJet.NSubJetsPruned         TStreamerBasicType         asjagged(asdtype('>i4'))\nJet.NSubJetsSoftDropped    TStreamerBasicType         asjagged(asdtype('>i4'))\nJet.ExclYmerge23           TStreamerBasicType         asjagged(asdtype('>f8'))\nJet.ExclYmerge34           TStreamerBasicType         asjagged(asdtype('>f8'))\nJet.ExclYmerge45           TStreamerBasicType         asjagged(asdtype('>f8'))\nJet.ExclYmerge56           TStreamerBasicType         asjagged(asdtype('>f8'))\nJet.Constituents           TStreamerInfo              asgenobj(SimpleArray(TRefArray))\nJet.Particles              TStreamerInfo              asgenobj(SimpleArray(TRefArray))\nJet.Area                   TStreamerInfo              asjagged(asobj(<uproot_methods.classes.TLorentzVector.Methods>))\n\nJet_size                   (no streamer)              asdtype('>i4')\nElectron                   TStreamerInfo              asdtype('>i4')\nElectron.fUniqueID         TStreamerBasicType         asjagged(asdtype('>u4'))\nElectron.fBits             TStreamerBasicType         asjagged(asdtype('>u4'))\nElectron.PT                TStreamerBasicType         asjagged(asdtype('>f4'))\nElectron.Eta               TStreamerBasicType         asjagged(asdtype('>f4'))\nElectron.Phi               TStreamerBasicType         asjagged(asdtype('>f4'))\nElectron.T                 TStreamerBasicType         asjagged(asdtype('>f4'))\nElectron.Charge            TStreamerBasicType         asjagged(asdtype('>i4'))\nElectron.EhadOverEem       TStreamerBasicType         asjagged(asdtype('>f4'))\nElectron.Particle          TStreamerInfo              asjagged(asobj(<uproot.rootio.TRef>))\nElectron.IsolationVar      TStreamerBasicType         asjagged(asdtype('>f4'))\nElectron.IsolationVarRhoCorr\n                           TStreamerBasicType         asjagged(asdtype('>f4'))\nElectron.SumPtCharged      TStreamerBasicType         asjagged(asdtype('>f4'))\nElectron.SumPtNeutral      TStreamerBasicType         asjagged(asdtype('>f4'))\nElectron.SumPtChargedPU    TStreamerBasicType         asjagged(asdtype('>f4'))\nElectron.SumPt             TStreamerBasicType         asjagged(asdtype('>f4'))\nElectron.D0                TStreamerBasicType         asjagged(asdtype('>f4'))\nElectron.DZ                TStreamerBasicType         asjagged(asdtype('>f4'))\nElectron.ErrorD0           TStreamerBasicType         asjagged(asdtype('>f4'))\nElectron.ErrorDZ           TStreamerBasicType         asjagged(asdtype('>f4'))\n\nElectron_size              (no streamer)              asdtype('>i4')\nPhoton                     TStreamerInfo              asdtype('>i4')\nPhoton.fUniqueID           TStreamerBasicType         asjagged(asdtype('>u4'))\nPhoton.fBits               TStreamerBasicType         asjagged(asdtype('>u4'))\nPhoton.PT                  TStreamerBasicType         asjagged(asdtype('>f4'))\nPhoton.Eta                 TStreamerBasicType         asjagged(asdtype('>f4'))\nPhoton.Phi                 TStreamerBasicType         asjagged(asdtype('>f4'))\nPhoton.E                   TStreamerBasicType         asjagged(asdtype('>f4'))\nPhoton.T                   TStreamerBasicType         asjagged(asdtype('>f4'))\nPhoton.EhadOverEem         TStreamerBasicType         asjagged(asdtype('>f4'))\nPhoton.Particles           TStreamerInfo              asgenobj(SimpleArray(TRefArray))\nPhoton.IsolationVar        TStreamerBasicType         asjagged(asdtype('>f4'))\nPhoton.IsolationVarRhoCorr TStreamerBasicType         asjagged(asdtype('>f4'))\nPhoton.SumPtCharged        TStreamerBasicType         asjagged(asdtype('>f4'))\nPhoton.SumPtNeutral        TStreamerBasicType         asjagged(asdtype('>f4'))\nPhoton.SumPtChargedPU      TStreamerBasicType         asjagged(asdtype('>f4'))\nPhoton.SumPt               TStreamerBasicType         asjagged(asdtype('>f4'))\nPhoton.Status              TStreamerBasicType         asjagged(asdtype('>i4'))\n\nPhoton_size                (no streamer)              asdtype('>i4')\nMuon                       TStreamerInfo              asdtype('>i4')\nMuon.fUniqueID             TStreamerBasicType         asjagged(asdtype('>u4'))\nMuon.fBits                 TStreamerBasicType         asjagged(asdtype('>u4'))\nMuon.PT                    TStreamerBasicType         asjagged(asdtype('>f4'))\nMuon.Eta                   TStreamerBasicType         asjagged(asdtype('>f4'))\nMuon.Phi                   TStreamerBasicType         asjagged(asdtype('>f4'))\nMuon.T                     TStreamerBasicType         asjagged(asdtype('>f4'))\nMuon.Charge                TStreamerBasicType         asjagged(asdtype('>i4'))\nMuon.Particle              TStreamerInfo              asjagged(asobj(<uproot.rootio.TRef>))\nMuon.IsolationVar          TStreamerBasicType         asjagged(asdtype('>f4'))\nMuon.IsolationVarRhoCorr   TStreamerBasicType         asjagged(asdtype('>f4'))\nMuon.SumPtCharged          TStreamerBasicType         asjagged(asdtype('>f4'))\nMuon.SumPtNeutral          TStreamerBasicType         asjagged(asdtype('>f4'))\nMuon.SumPtChargedPU        TStreamerBasicType         asjagged(asdtype('>f4'))\nMuon.SumPt                 TStreamerBasicType         asjagged(asdtype('>f4'))\nMuon.D0                    TStreamerBasicType         asjagged(asdtype('>f4'))\nMuon.DZ                    TStreamerBasicType         asjagged(asdtype('>f4'))\nMuon.ErrorD0               TStreamerBasicType         asjagged(asdtype('>f4'))\nMuon.ErrorDZ               TStreamerBasicType         asjagged(asdtype('>f4'))\n\nMuon_size                  (no streamer)              asdtype('>i4')\nMissingET                  TStreamerInfo              asdtype('>i4')\nMissingET.fUniqueID        TStreamerBasicType         asjagged(asdtype('>u4'))\nMissingET.fBits            TStreamerBasicType         asjagged(asdtype('>u4'))\nMissingET.MET              TStreamerBasicType         asjagged(asdtype('>f4'))\nMissingET.Eta              TStreamerBasicType         asjagged(asdtype('>f4'))\nMissingET.Phi              TStreamerBasicType         asjagged(asdtype('>f4'))\n\nMissingET_size             (no streamer)              asdtype('>i4')\nScalarHT                   TStreamerInfo              asdtype('>i4')\nScalarHT.fUniqueID         TStreamerBasicType         asjagged(asdtype('>u4'))\nScalarHT.fBits             TStreamerBasicType         asjagged(asdtype('>u4'))\nScalarHT.HT                TStreamerBasicType         asjagged(asdtype('>f4'))\n\nScalarHT_size              (no streamer)              asdtype('>i4')\n\n"
    }
   ],
   "source": [
    "PREFIX = \"/home/david/bkg/Events/\"\n",
    "FILENAME = \"\"\n",
    "for i in tqdm.trange(1,2):\n",
    "    if i < 10:\n",
    "        seq = (PREFIX, \"run_0\", str(i), \"/\", \"tag_1_delphes_events.root\")\n",
    "        INPUT_FILE = FILENAME.join(seq)\n",
    "        tmp_data = uproot.open(INPUT_FILE)['Delphes']\n",
    "        tmp_jet = jet_properties(tmp_data)\n",
    "        tmp_data.show()\n",
    "    else: \n",
    "        seq = (PREFIX, \"run_\", str(i), \"/\", \"tag_1_delphes_events.root\")\n",
    "        INPUT_FILE = FILENAME.join(seq)\n",
    "        tmp_data = uproot.open(INPUT_FILE)['Delphes']\n",
    "        tmp_jet = jet_properties(tmp_data)"
   ]
  },
  {
   "cell_type": "code",
   "execution_count": 13,
   "metadata": {},
   "outputs": [
    {
     "output_type": "stream",
     "name": "stderr",
     "text": "100%|██████████| 10000/10000 [00:00<00:00, 96044.77it/s]\n"
    }
   ],
   "source": [
    "marker_event = []\n",
    "marker_jet = []\n",
    "marker_bjet = []\n",
    "\n",
    "for i in tqdm.trange(len(tmp_jet.event)):\n",
    "    marker_event.append(0)\n",
    "    marker_jet.append(np.zeros([len(tmp_jet.pt[i])]))\n",
    "    marker_bjet.append(np.zeros([len(tmp_jet.pt[i])]))\n",
    "\n",
    "marker_event = np.asanyarray(marker_event, dtype=object)\n",
    "marker_jet = np.asanyarray(marker_jet, dtype=object)\n",
    "marker_bjet = np.asanyarray(marker_bjet, dtype=object)"
   ]
  },
  {
   "cell_type": "code",
   "execution_count": 15,
   "metadata": {},
   "outputs": [
    {
     "output_type": "stream",
     "name": "stderr",
     "text": "29%|██▉       | 2889/10000 [00:00<00:00, 14436.33it/s]+------------------------------------------------------------------------------------------------------+\nStart jet selection.\n+------------------------------------------------------------------------------------------------------+\n100%|██████████| 10000/10000 [00:00<00:00, 14756.78it/s]\n100%|██████████| 10000/10000 [00:00<00:00, 169605.25it/s]+------------------------------------------------------------------------------------------------------+\nJet selection doen. 7 events has been selected.\n+------------------------------------------------------------------------------------------------------+\n\n"
    }
   ],
   "source": [
    "#Mark which jet in each event pass the selection.\n",
    "print(\"+------------------------------------------------------------------------------------------------------+\")\n",
    "print(\"Start jet selection.\")\n",
    "print(\"+------------------------------------------------------------------------------------------------------+\")\n",
    "for i in tqdm.trange(len(tmp_jet.event)):\n",
    "    for j in range(len(tmp_jet.pt[i])):\n",
    "        if tmp_jet.btag[i][j] == 1 and tmp_jet.pt[i][j] > 25 and np.abs(tmp_jet.eta[i][j]) < 2.5:\n",
    "            marker_bjet[i][j] = 1 \n",
    "        else: pass \n",
    "    \n",
    "        if tmp_jet.pt[i][j] > 25 and np.abs(tmp_jet.eta[i][j]) <= 2.5:\n",
    "            marker_jet[i][j] = 1\n",
    "        else: pass \n",
    "\n",
    "for i in tqdm.trange(len(tmp_jet.event)):\n",
    "    if np.sum(marker_jet[i] == 1) >= 6 and np.sum(marker_bjet[i] == 1) >= 2 :\n",
    "        marker_event[i] = 1 \n",
    "print(\"+------------------------------------------------------------------------------------------------------+\")\n",
    "print(\"Jet selection doen. {0} events has been selected.\".format(np.sum(marker_event == 1)))\n",
    "print(\"+------------------------------------------------------------------------------------------------------+\")"
   ]
  },
  {
   "cell_type": "code",
   "execution_count": null,
   "metadata": {},
   "outputs": [],
   "source": []
  }
 ],
 "metadata": {
  "language_info": {
   "codemirror_mode": {
    "name": "ipython",
    "version": 3
   },
   "file_extension": ".py",
   "mimetype": "text/x-python",
   "name": "python",
   "nbconvert_exporter": "python",
   "pygments_lexer": "ipython3",
   "version": "3.6.8-final"
  },
  "orig_nbformat": 2,
  "kernelspec": {
   "name": "python36864bitf54877ccf3954d4d97f1fbd7722e6177",
   "display_name": "Python 3.6.8 64-bit"
  }
 },
 "nbformat": 4,
 "nbformat_minor": 2
}